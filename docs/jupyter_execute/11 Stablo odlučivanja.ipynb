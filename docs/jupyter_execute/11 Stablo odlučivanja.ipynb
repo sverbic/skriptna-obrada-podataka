{
 "cells": [
  {
   "cell_type": "markdown",
   "id": "ae9af0d6",
   "metadata": {},
   "source": [
    "# Stablo odlučivanja"
   ]
  },
  {
   "cell_type": "markdown",
   "id": "b8853006",
   "metadata": {},
   "source": [
    ">U ovoj svesci je prikazan primer korišćenja stabla odlučivanja, modela mašinskog učenja pod nadzorom koji se obučava sa cijem da verodostojno proceni binarni ishod procesa na osnovu niza kategorijalnih parametara."
   ]
  },
  {
   "cell_type": "markdown",
   "id": "ba091248",
   "metadata": {},
   "source": [
    "Kod mašinskog učenja sa višedimenzionalnim podacima gde je bitno na procenimo \"koliko\" će nečega biti na izlazu, najčešće primenjujemo linearnu regresiju. Sa druge strane, kod mašinskog učenja sa istim takvim podacima gde je bitno da procenimo \"da li\" će nečega biti ili neće, često se koristi stablo odlučivanja. Postoje različite varijante i nadogradnje stabla odlučivanja (npr. _random forest_), ali se sve svode na jednostavnu ideju – da postavljamo prava da/ne pitanja i da svakim pitanjem podelimo posmatranu grupu na dve homogenije grupe, približno iste veličine koje imaje različite vrednosti na izlazu."
   ]
  },
  {
   "cell_type": "markdown",
   "id": "0b6fb44d",
   "metadata": {},
   "source": [
    "U ovoj svesci ćemo analizirati skup podataka koji se često koristi kao primer za stablo odlučivanja – \"titanik\". U tom skupu podataka se nalaze osnovne karakteristike putnika, npr. pol, godine, mesto gde su se ukracali itd., dok je binarni podatak koji pokušavamo da procenimo da li su preživeli brodolom ili ne. Ono što znamo o brodolomu Titanika bez gledanja u tabelu jeste da se približno 60% od oko 1300 putnika utopilo. Koje biste vi pitanje postavili o karakteristikama putnika pa da bitno poboljšate procenu da li su preživeli ili ne? Ispostavlja se da je najbolji prediktor pol putnika. Ako je muškog pola verovatno nije preživeo (19%), ako je ženskog pola verovatno jeste (73%). Sada ćemo da analiziramo skup podataka i utvrdimo koja su to prava pitanja."
   ]
  },
  {
   "cell_type": "code",
   "execution_count": 1,
   "id": "cf6229b4",
   "metadata": {},
   "outputs": [],
   "source": [
    "import numpy as np\n",
    "import matplotlib.pyplot as plt \n",
    "import pandas as pd"
   ]
  },
  {
   "cell_type": "markdown",
   "id": "3b7d576c",
   "metadata": {},
   "source": [
    "Osim standardnih biblioteka koje su nam potrebne za rad u Pajtonu, ovde ćemo uvesti i neke potrebne funkcije iz biblioteke __sklearn__ za mašinsko učenje.  "
   ]
  },
  {
   "cell_type": "code",
   "execution_count": 2,
   "id": "2d6be9ca",
   "metadata": {},
   "outputs": [],
   "source": [
    "from sklearn.tree import DecisionTreeClassifier\n",
    "from sklearn.metrics import accuracy_score\n",
    "from sklearn import metrics\n",
    "from sklearn import tree"
   ]
  },
  {
   "cell_type": "code",
   "execution_count": 3,
   "id": "74be1b87",
   "metadata": {},
   "outputs": [
    {
     "data": {
      "text/html": [
       "<div>\n",
       "<style scoped>\n",
       "    .dataframe tbody tr th:only-of-type {\n",
       "        vertical-align: middle;\n",
       "    }\n",
       "\n",
       "    .dataframe tbody tr th {\n",
       "        vertical-align: top;\n",
       "    }\n",
       "\n",
       "    .dataframe thead th {\n",
       "        text-align: right;\n",
       "    }\n",
       "</style>\n",
       "<table border=\"1\" class=\"dataframe\">\n",
       "  <thead>\n",
       "    <tr style=\"text-align: right;\">\n",
       "      <th></th>\n",
       "      <th>pclass</th>\n",
       "      <th>survived</th>\n",
       "      <th>name</th>\n",
       "      <th>sex</th>\n",
       "      <th>age</th>\n",
       "      <th>sibsp</th>\n",
       "      <th>parch</th>\n",
       "      <th>ticket</th>\n",
       "      <th>fare</th>\n",
       "      <th>cabin</th>\n",
       "      <th>embarked</th>\n",
       "      <th>boat</th>\n",
       "      <th>body</th>\n",
       "      <th>home.dest</th>\n",
       "    </tr>\n",
       "  </thead>\n",
       "  <tbody>\n",
       "    <tr>\n",
       "      <th>0</th>\n",
       "      <td>1.0</td>\n",
       "      <td>1.0</td>\n",
       "      <td>Allen, Miss. Elisabeth Walton</td>\n",
       "      <td>female</td>\n",
       "      <td>29.0000</td>\n",
       "      <td>0.0</td>\n",
       "      <td>0.0</td>\n",
       "      <td>24160</td>\n",
       "      <td>211.3375</td>\n",
       "      <td>B5</td>\n",
       "      <td>S</td>\n",
       "      <td>2</td>\n",
       "      <td>NaN</td>\n",
       "      <td>St Louis, MO</td>\n",
       "    </tr>\n",
       "    <tr>\n",
       "      <th>1</th>\n",
       "      <td>1.0</td>\n",
       "      <td>1.0</td>\n",
       "      <td>Allison, Master. Hudson Trevor</td>\n",
       "      <td>male</td>\n",
       "      <td>0.9167</td>\n",
       "      <td>1.0</td>\n",
       "      <td>2.0</td>\n",
       "      <td>113781</td>\n",
       "      <td>151.5500</td>\n",
       "      <td>C22 C26</td>\n",
       "      <td>S</td>\n",
       "      <td>11</td>\n",
       "      <td>NaN</td>\n",
       "      <td>Montreal, PQ / Chesterville, ON</td>\n",
       "    </tr>\n",
       "    <tr>\n",
       "      <th>2</th>\n",
       "      <td>1.0</td>\n",
       "      <td>0.0</td>\n",
       "      <td>Allison, Miss. Helen Loraine</td>\n",
       "      <td>female</td>\n",
       "      <td>2.0000</td>\n",
       "      <td>1.0</td>\n",
       "      <td>2.0</td>\n",
       "      <td>113781</td>\n",
       "      <td>151.5500</td>\n",
       "      <td>C22 C26</td>\n",
       "      <td>S</td>\n",
       "      <td>NaN</td>\n",
       "      <td>NaN</td>\n",
       "      <td>Montreal, PQ / Chesterville, ON</td>\n",
       "    </tr>\n",
       "    <tr>\n",
       "      <th>3</th>\n",
       "      <td>1.0</td>\n",
       "      <td>0.0</td>\n",
       "      <td>Allison, Mr. Hudson Joshua Creighton</td>\n",
       "      <td>male</td>\n",
       "      <td>30.0000</td>\n",
       "      <td>1.0</td>\n",
       "      <td>2.0</td>\n",
       "      <td>113781</td>\n",
       "      <td>151.5500</td>\n",
       "      <td>C22 C26</td>\n",
       "      <td>S</td>\n",
       "      <td>NaN</td>\n",
       "      <td>135.0</td>\n",
       "      <td>Montreal, PQ / Chesterville, ON</td>\n",
       "    </tr>\n",
       "    <tr>\n",
       "      <th>4</th>\n",
       "      <td>1.0</td>\n",
       "      <td>0.0</td>\n",
       "      <td>Allison, Mrs. Hudson J C (Bessie Waldo Daniels)</td>\n",
       "      <td>female</td>\n",
       "      <td>25.0000</td>\n",
       "      <td>1.0</td>\n",
       "      <td>2.0</td>\n",
       "      <td>113781</td>\n",
       "      <td>151.5500</td>\n",
       "      <td>C22 C26</td>\n",
       "      <td>S</td>\n",
       "      <td>NaN</td>\n",
       "      <td>NaN</td>\n",
       "      <td>Montreal, PQ / Chesterville, ON</td>\n",
       "    </tr>\n",
       "    <tr>\n",
       "      <th>...</th>\n",
       "      <td>...</td>\n",
       "      <td>...</td>\n",
       "      <td>...</td>\n",
       "      <td>...</td>\n",
       "      <td>...</td>\n",
       "      <td>...</td>\n",
       "      <td>...</td>\n",
       "      <td>...</td>\n",
       "      <td>...</td>\n",
       "      <td>...</td>\n",
       "      <td>...</td>\n",
       "      <td>...</td>\n",
       "      <td>...</td>\n",
       "      <td>...</td>\n",
       "    </tr>\n",
       "    <tr>\n",
       "      <th>1305</th>\n",
       "      <td>3.0</td>\n",
       "      <td>0.0</td>\n",
       "      <td>Zabour, Miss. Thamine</td>\n",
       "      <td>female</td>\n",
       "      <td>NaN</td>\n",
       "      <td>1.0</td>\n",
       "      <td>0.0</td>\n",
       "      <td>2665</td>\n",
       "      <td>14.4542</td>\n",
       "      <td>NaN</td>\n",
       "      <td>C</td>\n",
       "      <td>NaN</td>\n",
       "      <td>NaN</td>\n",
       "      <td>NaN</td>\n",
       "    </tr>\n",
       "    <tr>\n",
       "      <th>1306</th>\n",
       "      <td>3.0</td>\n",
       "      <td>0.0</td>\n",
       "      <td>Zakarian, Mr. Mapriededer</td>\n",
       "      <td>male</td>\n",
       "      <td>26.5000</td>\n",
       "      <td>0.0</td>\n",
       "      <td>0.0</td>\n",
       "      <td>2656</td>\n",
       "      <td>7.2250</td>\n",
       "      <td>NaN</td>\n",
       "      <td>C</td>\n",
       "      <td>NaN</td>\n",
       "      <td>304.0</td>\n",
       "      <td>NaN</td>\n",
       "    </tr>\n",
       "    <tr>\n",
       "      <th>1307</th>\n",
       "      <td>3.0</td>\n",
       "      <td>0.0</td>\n",
       "      <td>Zakarian, Mr. Ortin</td>\n",
       "      <td>male</td>\n",
       "      <td>27.0000</td>\n",
       "      <td>0.0</td>\n",
       "      <td>0.0</td>\n",
       "      <td>2670</td>\n",
       "      <td>7.2250</td>\n",
       "      <td>NaN</td>\n",
       "      <td>C</td>\n",
       "      <td>NaN</td>\n",
       "      <td>NaN</td>\n",
       "      <td>NaN</td>\n",
       "    </tr>\n",
       "    <tr>\n",
       "      <th>1308</th>\n",
       "      <td>3.0</td>\n",
       "      <td>0.0</td>\n",
       "      <td>Zimmerman, Mr. Leo</td>\n",
       "      <td>male</td>\n",
       "      <td>29.0000</td>\n",
       "      <td>0.0</td>\n",
       "      <td>0.0</td>\n",
       "      <td>315082</td>\n",
       "      <td>7.8750</td>\n",
       "      <td>NaN</td>\n",
       "      <td>S</td>\n",
       "      <td>NaN</td>\n",
       "      <td>NaN</td>\n",
       "      <td>NaN</td>\n",
       "    </tr>\n",
       "    <tr>\n",
       "      <th>1309</th>\n",
       "      <td>NaN</td>\n",
       "      <td>NaN</td>\n",
       "      <td>NaN</td>\n",
       "      <td>NaN</td>\n",
       "      <td>NaN</td>\n",
       "      <td>NaN</td>\n",
       "      <td>NaN</td>\n",
       "      <td>NaN</td>\n",
       "      <td>NaN</td>\n",
       "      <td>NaN</td>\n",
       "      <td>NaN</td>\n",
       "      <td>NaN</td>\n",
       "      <td>NaN</td>\n",
       "      <td>NaN</td>\n",
       "    </tr>\n",
       "  </tbody>\n",
       "</table>\n",
       "<p>1310 rows × 14 columns</p>\n",
       "</div>"
      ],
      "text/plain": [
       "      pclass  survived                                             name  \\\n",
       "0        1.0       1.0                    Allen, Miss. Elisabeth Walton   \n",
       "1        1.0       1.0                   Allison, Master. Hudson Trevor   \n",
       "2        1.0       0.0                     Allison, Miss. Helen Loraine   \n",
       "3        1.0       0.0             Allison, Mr. Hudson Joshua Creighton   \n",
       "4        1.0       0.0  Allison, Mrs. Hudson J C (Bessie Waldo Daniels)   \n",
       "...      ...       ...                                              ...   \n",
       "1305     3.0       0.0                            Zabour, Miss. Thamine   \n",
       "1306     3.0       0.0                        Zakarian, Mr. Mapriededer   \n",
       "1307     3.0       0.0                              Zakarian, Mr. Ortin   \n",
       "1308     3.0       0.0                               Zimmerman, Mr. Leo   \n",
       "1309     NaN       NaN                                              NaN   \n",
       "\n",
       "         sex      age  sibsp  parch  ticket      fare    cabin embarked boat  \\\n",
       "0     female  29.0000    0.0    0.0   24160  211.3375       B5        S    2   \n",
       "1       male   0.9167    1.0    2.0  113781  151.5500  C22 C26        S   11   \n",
       "2     female   2.0000    1.0    2.0  113781  151.5500  C22 C26        S  NaN   \n",
       "3       male  30.0000    1.0    2.0  113781  151.5500  C22 C26        S  NaN   \n",
       "4     female  25.0000    1.0    2.0  113781  151.5500  C22 C26        S  NaN   \n",
       "...      ...      ...    ...    ...     ...       ...      ...      ...  ...   \n",
       "1305  female      NaN    1.0    0.0    2665   14.4542      NaN        C  NaN   \n",
       "1306    male  26.5000    0.0    0.0    2656    7.2250      NaN        C  NaN   \n",
       "1307    male  27.0000    0.0    0.0    2670    7.2250      NaN        C  NaN   \n",
       "1308    male  29.0000    0.0    0.0  315082    7.8750      NaN        S  NaN   \n",
       "1309     NaN      NaN    NaN    NaN     NaN       NaN      NaN      NaN  NaN   \n",
       "\n",
       "       body                        home.dest  \n",
       "0       NaN                     St Louis, MO  \n",
       "1       NaN  Montreal, PQ / Chesterville, ON  \n",
       "2       NaN  Montreal, PQ / Chesterville, ON  \n",
       "3     135.0  Montreal, PQ / Chesterville, ON  \n",
       "4       NaN  Montreal, PQ / Chesterville, ON  \n",
       "...     ...                              ...  \n",
       "1305    NaN                              NaN  \n",
       "1306  304.0                              NaN  \n",
       "1307    NaN                              NaN  \n",
       "1308    NaN                              NaN  \n",
       "1309    NaN                              NaN  \n",
       "\n",
       "[1310 rows x 14 columns]"
      ]
     },
     "execution_count": 3,
     "metadata": {},
     "output_type": "execute_result"
    }
   ],
   "source": [
    "data = pd.read_csv('data/titanic.csv')\n",
    "data"
   ]
  },
  {
   "cell_type": "markdown",
   "id": "f25b9e32",
   "metadata": {},
   "source": [
    "Za početak, vidimo da je na Titaniku bilo 1310 putnika, ali da za jednog, poslednjeg na listi, ništa ne znamo. Razumno je isključiti taj red tabele jer sa njim ništa ne možemo da uradimo."
   ]
  },
  {
   "cell_type": "code",
   "execution_count": 4,
   "id": "6e339a16",
   "metadata": {},
   "outputs": [],
   "source": [
    "data.drop(1309,axis=0,inplace=True)"
   ]
  },
  {
   "cell_type": "markdown",
   "id": "e534098b",
   "metadata": {},
   "source": [
    "Sada da vidimo šta su nam podaci po kolonama."
   ]
  },
  {
   "cell_type": "markdown",
   "id": "9e5a909a",
   "metadata": {},
   "source": [
    "Opis promenljivih, odnosno kolona u tabeli __data__:\n",
    "\n",
    "    - pclass (putnička klasa, odnosno paluba)\n",
    "    - survived (da li je putnik preživeo ili ne): 0 = ne, 1 = da\n",
    "    - name (ime)\n",
    "    - sex (pol)\n",
    "    - age (godine)\n",
    "    - sibsp (broj članova porodice na brodu ne računajući roditelje ili decu)\n",
    "    - parch (broj rotelja ili dece na brodu)\n",
    "    - ticket (broj karte)\n",
    "    - fare (cena karte)\n",
    "    - cabin (broj kabine)\n",
    "    - embarked (mesto ukrcavanja): C = Cherbourg, Q = Queenstown, S = Southampton\n",
    "    - boat (čamac za spasavanje)\n",
    "    - body (broj identifikovanog tela)\n",
    "    - home.dest (odredište)\n",
    "\n",
    "Nisu sve ove promenljive neophodne ili smislene za procenu da li je putnik preživeo. Npr. ako je bio u određenom čamcu za spasavanje, onda je preživeo. Svejedno, cilj ove vežbe je da napravimo jednostavan model. Zato ćemo isključiti većinu kolona sa nepotrebnim podacima. Pre toga ćemo napraviti brzu eksplorativnu analizu kako bismo znali šta od kolona treba da zadržimo."
   ]
  },
  {
   "cell_type": "markdown",
   "id": "361834b4",
   "metadata": {},
   "source": [
    "Otprilike polovina kolona sadrži tekstualne podatke, a polovina numeričke."
   ]
  },
  {
   "cell_type": "markdown",
   "id": "f8e51250",
   "metadata": {},
   "source": [
    "## Brza eksplorativna analiza"
   ]
  },
  {
   "cell_type": "markdown",
   "id": "1fd66385",
   "metadata": {},
   "source": [
    "Postoji li veza između palube na kojoj su bili putnici i uspešnosti preživaljavanja? Verovatno da. Pomoću funkcije `crosstab()` ćemo ukrstiti podatke o preživelima i palubama na kojima su bili."
   ]
  },
  {
   "cell_type": "code",
   "execution_count": 5,
   "id": "70ad9040",
   "metadata": {
    "scrolled": true
   },
   "outputs": [
    {
     "data": {
      "text/html": [
       "<div>\n",
       "<style scoped>\n",
       "    .dataframe tbody tr th:only-of-type {\n",
       "        vertical-align: middle;\n",
       "    }\n",
       "\n",
       "    .dataframe tbody tr th {\n",
       "        vertical-align: top;\n",
       "    }\n",
       "\n",
       "    .dataframe thead th {\n",
       "        text-align: right;\n",
       "    }\n",
       "</style>\n",
       "<table border=\"1\" class=\"dataframe\">\n",
       "  <thead>\n",
       "    <tr style=\"text-align: right;\">\n",
       "      <th>pclass</th>\n",
       "      <th>1.0</th>\n",
       "      <th>2.0</th>\n",
       "      <th>3.0</th>\n",
       "    </tr>\n",
       "    <tr>\n",
       "      <th>survived</th>\n",
       "      <th></th>\n",
       "      <th></th>\n",
       "      <th></th>\n",
       "    </tr>\n",
       "  </thead>\n",
       "  <tbody>\n",
       "    <tr>\n",
       "      <th>0.0</th>\n",
       "      <td>123</td>\n",
       "      <td>158</td>\n",
       "      <td>528</td>\n",
       "    </tr>\n",
       "    <tr>\n",
       "      <th>1.0</th>\n",
       "      <td>200</td>\n",
       "      <td>119</td>\n",
       "      <td>181</td>\n",
       "    </tr>\n",
       "  </tbody>\n",
       "</table>\n",
       "</div>"
      ],
      "text/plain": [
       "pclass    1.0  2.0  3.0\n",
       "survived               \n",
       "0.0       123  158  528\n",
       "1.0       200  119  181"
      ]
     },
     "execution_count": 5,
     "metadata": {},
     "output_type": "execute_result"
    }
   ],
   "source": [
    "pd.crosstab(data['survived'],data['pclass'])"
   ]
  },
  {
   "cell_type": "markdown",
   "id": "e5edb0ce",
   "metadata": {},
   "source": [
    "Vidimo da je većina sa prve palube preživela dok sa druge i posebno treće palube nisu. Ovu kolonu ćemo sačuvati. Pitanje \"Da li je putnik bio na prvoj palubi?\" sigurno je jedno od onih koja mogu da povećaju uspešnost procene preživljavanja. "
   ]
  },
  {
   "cell_type": "markdown",
   "id": "2b1aed85",
   "metadata": {},
   "source": [
    "Za pol smo još u uvodu rekli da je dobar prediktor. Da vidimo kolika je ta razlika."
   ]
  },
  {
   "cell_type": "code",
   "execution_count": 6,
   "id": "ea3cf7f0",
   "metadata": {},
   "outputs": [
    {
     "data": {
      "text/html": [
       "<div>\n",
       "<style scoped>\n",
       "    .dataframe tbody tr th:only-of-type {\n",
       "        vertical-align: middle;\n",
       "    }\n",
       "\n",
       "    .dataframe tbody tr th {\n",
       "        vertical-align: top;\n",
       "    }\n",
       "\n",
       "    .dataframe thead th {\n",
       "        text-align: right;\n",
       "    }\n",
       "</style>\n",
       "<table border=\"1\" class=\"dataframe\">\n",
       "  <thead>\n",
       "    <tr style=\"text-align: right;\">\n",
       "      <th>sex</th>\n",
       "      <th>female</th>\n",
       "      <th>male</th>\n",
       "    </tr>\n",
       "    <tr>\n",
       "      <th>survived</th>\n",
       "      <th></th>\n",
       "      <th></th>\n",
       "    </tr>\n",
       "  </thead>\n",
       "  <tbody>\n",
       "    <tr>\n",
       "      <th>0.0</th>\n",
       "      <td>127</td>\n",
       "      <td>682</td>\n",
       "    </tr>\n",
       "    <tr>\n",
       "      <th>1.0</th>\n",
       "      <td>339</td>\n",
       "      <td>161</td>\n",
       "    </tr>\n",
       "  </tbody>\n",
       "</table>\n",
       "</div>"
      ],
      "text/plain": [
       "sex       female  male\n",
       "survived              \n",
       "0.0          127   682\n",
       "1.0          339   161"
      ]
     },
     "execution_count": 6,
     "metadata": {},
     "output_type": "execute_result"
    }
   ],
   "source": [
    "pd.crosstab(data['survived'],data['sex'])"
   ]
  },
  {
   "cell_type": "markdown",
   "id": "a3fb5be5",
   "metadata": {},
   "source": [
    "Nema sumnje da ovu kolonu treba zadržati. Imamo samo mali tehnički problem. Drvo odlučivanja u biblioteci __sklearn__ zahteva da podaci budu brojevi. Zato ćemo morati da mapiramo podatke tako da umesto \"male\" stavimo 0, a umesto \"female\" 1. Za to ćemo koristi funkciju `map()` čiji je argument _dictionary_ sa nizom parova koji određuju šta se u šta mapira."
   ]
  },
  {
   "cell_type": "code",
   "execution_count": 7,
   "id": "eb5a2496",
   "metadata": {
    "scrolled": true
   },
   "outputs": [],
   "source": [
    "sex_mapping = {\"male\": 0, \"female\": 1}\n",
    "data['sex'] = data['sex'].map(sex_mapping)"
   ]
  },
  {
   "cell_type": "code",
   "execution_count": 8,
   "id": "c51068f1",
   "metadata": {},
   "outputs": [
    {
     "data": {
      "text/html": [
       "<div>\n",
       "<style scoped>\n",
       "    .dataframe tbody tr th:only-of-type {\n",
       "        vertical-align: middle;\n",
       "    }\n",
       "\n",
       "    .dataframe tbody tr th {\n",
       "        vertical-align: top;\n",
       "    }\n",
       "\n",
       "    .dataframe thead th {\n",
       "        text-align: right;\n",
       "    }\n",
       "</style>\n",
       "<table border=\"1\" class=\"dataframe\">\n",
       "  <thead>\n",
       "    <tr style=\"text-align: right;\">\n",
       "      <th></th>\n",
       "      <th>pclass</th>\n",
       "      <th>survived</th>\n",
       "      <th>name</th>\n",
       "      <th>sex</th>\n",
       "      <th>age</th>\n",
       "      <th>sibsp</th>\n",
       "      <th>parch</th>\n",
       "      <th>ticket</th>\n",
       "      <th>fare</th>\n",
       "      <th>cabin</th>\n",
       "      <th>embarked</th>\n",
       "      <th>boat</th>\n",
       "      <th>body</th>\n",
       "      <th>home.dest</th>\n",
       "    </tr>\n",
       "  </thead>\n",
       "  <tbody>\n",
       "    <tr>\n",
       "      <th>0</th>\n",
       "      <td>1.0</td>\n",
       "      <td>1.0</td>\n",
       "      <td>Allen, Miss. Elisabeth Walton</td>\n",
       "      <td>1</td>\n",
       "      <td>29.0000</td>\n",
       "      <td>0.0</td>\n",
       "      <td>0.0</td>\n",
       "      <td>24160</td>\n",
       "      <td>211.3375</td>\n",
       "      <td>B5</td>\n",
       "      <td>S</td>\n",
       "      <td>2</td>\n",
       "      <td>NaN</td>\n",
       "      <td>St Louis, MO</td>\n",
       "    </tr>\n",
       "    <tr>\n",
       "      <th>1</th>\n",
       "      <td>1.0</td>\n",
       "      <td>1.0</td>\n",
       "      <td>Allison, Master. Hudson Trevor</td>\n",
       "      <td>0</td>\n",
       "      <td>0.9167</td>\n",
       "      <td>1.0</td>\n",
       "      <td>2.0</td>\n",
       "      <td>113781</td>\n",
       "      <td>151.5500</td>\n",
       "      <td>C22 C26</td>\n",
       "      <td>S</td>\n",
       "      <td>11</td>\n",
       "      <td>NaN</td>\n",
       "      <td>Montreal, PQ / Chesterville, ON</td>\n",
       "    </tr>\n",
       "    <tr>\n",
       "      <th>2</th>\n",
       "      <td>1.0</td>\n",
       "      <td>0.0</td>\n",
       "      <td>Allison, Miss. Helen Loraine</td>\n",
       "      <td>1</td>\n",
       "      <td>2.0000</td>\n",
       "      <td>1.0</td>\n",
       "      <td>2.0</td>\n",
       "      <td>113781</td>\n",
       "      <td>151.5500</td>\n",
       "      <td>C22 C26</td>\n",
       "      <td>S</td>\n",
       "      <td>NaN</td>\n",
       "      <td>NaN</td>\n",
       "      <td>Montreal, PQ / Chesterville, ON</td>\n",
       "    </tr>\n",
       "    <tr>\n",
       "      <th>3</th>\n",
       "      <td>1.0</td>\n",
       "      <td>0.0</td>\n",
       "      <td>Allison, Mr. Hudson Joshua Creighton</td>\n",
       "      <td>0</td>\n",
       "      <td>30.0000</td>\n",
       "      <td>1.0</td>\n",
       "      <td>2.0</td>\n",
       "      <td>113781</td>\n",
       "      <td>151.5500</td>\n",
       "      <td>C22 C26</td>\n",
       "      <td>S</td>\n",
       "      <td>NaN</td>\n",
       "      <td>135.0</td>\n",
       "      <td>Montreal, PQ / Chesterville, ON</td>\n",
       "    </tr>\n",
       "    <tr>\n",
       "      <th>4</th>\n",
       "      <td>1.0</td>\n",
       "      <td>0.0</td>\n",
       "      <td>Allison, Mrs. Hudson J C (Bessie Waldo Daniels)</td>\n",
       "      <td>1</td>\n",
       "      <td>25.0000</td>\n",
       "      <td>1.0</td>\n",
       "      <td>2.0</td>\n",
       "      <td>113781</td>\n",
       "      <td>151.5500</td>\n",
       "      <td>C22 C26</td>\n",
       "      <td>S</td>\n",
       "      <td>NaN</td>\n",
       "      <td>NaN</td>\n",
       "      <td>Montreal, PQ / Chesterville, ON</td>\n",
       "    </tr>\n",
       "  </tbody>\n",
       "</table>\n",
       "</div>"
      ],
      "text/plain": [
       "   pclass  survived                                             name  sex  \\\n",
       "0     1.0       1.0                    Allen, Miss. Elisabeth Walton    1   \n",
       "1     1.0       1.0                   Allison, Master. Hudson Trevor    0   \n",
       "2     1.0       0.0                     Allison, Miss. Helen Loraine    1   \n",
       "3     1.0       0.0             Allison, Mr. Hudson Joshua Creighton    0   \n",
       "4     1.0       0.0  Allison, Mrs. Hudson J C (Bessie Waldo Daniels)    1   \n",
       "\n",
       "       age  sibsp  parch  ticket      fare    cabin embarked boat   body  \\\n",
       "0  29.0000    0.0    0.0   24160  211.3375       B5        S    2    NaN   \n",
       "1   0.9167    1.0    2.0  113781  151.5500  C22 C26        S   11    NaN   \n",
       "2   2.0000    1.0    2.0  113781  151.5500  C22 C26        S  NaN    NaN   \n",
       "3  30.0000    1.0    2.0  113781  151.5500  C22 C26        S  NaN  135.0   \n",
       "4  25.0000    1.0    2.0  113781  151.5500  C22 C26        S  NaN    NaN   \n",
       "\n",
       "                         home.dest  \n",
       "0                     St Louis, MO  \n",
       "1  Montreal, PQ / Chesterville, ON  \n",
       "2  Montreal, PQ / Chesterville, ON  \n",
       "3  Montreal, PQ / Chesterville, ON  \n",
       "4  Montreal, PQ / Chesterville, ON  "
      ]
     },
     "execution_count": 8,
     "metadata": {},
     "output_type": "execute_result"
    }
   ],
   "source": [
    "data.head()"
   ]
  },
  {
   "cell_type": "markdown",
   "id": "d197c0f7",
   "metadata": {},
   "source": [
    "Sledeća promenljiva koja sigurno ima veze sa verovatnoćom preživljavanja je starost putnika. U principu, mogli bismo da ostavimo tu kolonu takvu kakva jeste, ali rezulat ne bi bio naročito smislen. Stabla odlučivanja pretpostavljaju da su numerički podaci ordinalni, odnosno da postoji neka monotona veza između broja i uticaja na traženu procenu. Logično, prvo su decu spašavali i tu je stopa preživljavanja najveća, ali verovatnoća spašavanja ne opada monotono sa godinama. Zato ovo nije dobar primer ordinalne promenljive."
   ]
  },
  {
   "cell_type": "code",
   "execution_count": 9,
   "id": "34ddbc78",
   "metadata": {},
   "outputs": [
    {
     "data": {
      "text/html": [
       "<div>\n",
       "<style scoped>\n",
       "    .dataframe tbody tr th:only-of-type {\n",
       "        vertical-align: middle;\n",
       "    }\n",
       "\n",
       "    .dataframe tbody tr th {\n",
       "        vertical-align: top;\n",
       "    }\n",
       "\n",
       "    .dataframe thead th {\n",
       "        text-align: right;\n",
       "    }\n",
       "</style>\n",
       "<table border=\"1\" class=\"dataframe\">\n",
       "  <thead>\n",
       "    <tr style=\"text-align: right;\">\n",
       "      <th>age</th>\n",
       "      <th>0-14</th>\n",
       "      <th>15-29</th>\n",
       "      <th>30-44</th>\n",
       "      <th>45-59</th>\n",
       "      <th>60+</th>\n",
       "    </tr>\n",
       "    <tr>\n",
       "      <th>survived</th>\n",
       "      <th></th>\n",
       "      <th></th>\n",
       "      <th></th>\n",
       "      <th></th>\n",
       "      <th></th>\n",
       "    </tr>\n",
       "  </thead>\n",
       "  <tbody>\n",
       "    <tr>\n",
       "      <th>0.0</th>\n",
       "      <td>49</td>\n",
       "      <td>312</td>\n",
       "      <td>165</td>\n",
       "      <td>68</td>\n",
       "      <td>25</td>\n",
       "    </tr>\n",
       "    <tr>\n",
       "      <th>1.0</th>\n",
       "      <td>66</td>\n",
       "      <td>182</td>\n",
       "      <td>117</td>\n",
       "      <td>54</td>\n",
       "      <td>8</td>\n",
       "    </tr>\n",
       "  </tbody>\n",
       "</table>\n",
       "</div>"
      ],
      "text/plain": [
       "age       0-14  15-29  30-44  45-59  60+\n",
       "survived                                \n",
       "0.0         49    312    165     68   25\n",
       "1.0         66    182    117     54    8"
      ]
     },
     "execution_count": 9,
     "metadata": {},
     "output_type": "execute_result"
    }
   ],
   "source": [
    "bins = [0, 15, 30, 45, 60, np.inf]\n",
    "names = ['0-14', '15-29', '30-44', '45-59', '60+']\n",
    "godine = pd.cut(data['age'], bins, labels=names)\n",
    "pd.crosstab(data['survived'],godine)"
   ]
  },
  {
   "cell_type": "markdown",
   "id": "6bbbe486",
   "metadata": {},
   "source": [
    "Umesto ordinalne skale možda je bolje da uzmemo samo jedan podatak za koji imamo nekakvo objašnjenje, npr. da uvedemo dodatnu promenljivu __child__ koja bi bila binarna. Ako je dete onda je vrednost 1, ako nije onda je 0."
   ]
  },
  {
   "cell_type": "code",
   "execution_count": 10,
   "id": "958e4c1f",
   "metadata": {},
   "outputs": [],
   "source": [
    "child=np.where(data.age<15,1,0)"
   ]
  },
  {
   "cell_type": "code",
   "execution_count": 11,
   "id": "92cd9e83",
   "metadata": {},
   "outputs": [],
   "source": [
    "data['child']=child"
   ]
  },
  {
   "cell_type": "markdown",
   "id": "185cf263",
   "metadata": {},
   "source": [
    "Veza između broja rođaka i preživljavanja opet nije linearna."
   ]
  },
  {
   "cell_type": "code",
   "execution_count": 12,
   "id": "a28d8d8d",
   "metadata": {
    "scrolled": false
   },
   "outputs": [
    {
     "data": {
      "text/html": [
       "<div>\n",
       "<style scoped>\n",
       "    .dataframe tbody tr th:only-of-type {\n",
       "        vertical-align: middle;\n",
       "    }\n",
       "\n",
       "    .dataframe tbody tr th {\n",
       "        vertical-align: top;\n",
       "    }\n",
       "\n",
       "    .dataframe thead th {\n",
       "        text-align: right;\n",
       "    }\n",
       "</style>\n",
       "<table border=\"1\" class=\"dataframe\">\n",
       "  <thead>\n",
       "    <tr style=\"text-align: right;\">\n",
       "      <th>sibsp</th>\n",
       "      <th>0.0</th>\n",
       "      <th>1.0</th>\n",
       "      <th>2.0</th>\n",
       "      <th>3.0</th>\n",
       "      <th>4.0</th>\n",
       "      <th>5.0</th>\n",
       "      <th>8.0</th>\n",
       "    </tr>\n",
       "    <tr>\n",
       "      <th>survived</th>\n",
       "      <th></th>\n",
       "      <th></th>\n",
       "      <th></th>\n",
       "      <th></th>\n",
       "      <th></th>\n",
       "      <th></th>\n",
       "      <th></th>\n",
       "    </tr>\n",
       "  </thead>\n",
       "  <tbody>\n",
       "    <tr>\n",
       "      <th>0.0</th>\n",
       "      <td>582</td>\n",
       "      <td>156</td>\n",
       "      <td>23</td>\n",
       "      <td>14</td>\n",
       "      <td>19</td>\n",
       "      <td>6</td>\n",
       "      <td>9</td>\n",
       "    </tr>\n",
       "    <tr>\n",
       "      <th>1.0</th>\n",
       "      <td>309</td>\n",
       "      <td>163</td>\n",
       "      <td>19</td>\n",
       "      <td>6</td>\n",
       "      <td>3</td>\n",
       "      <td>0</td>\n",
       "      <td>0</td>\n",
       "    </tr>\n",
       "  </tbody>\n",
       "</table>\n",
       "</div>"
      ],
      "text/plain": [
       "sibsp     0.0  1.0  2.0  3.0  4.0  5.0  8.0\n",
       "survived                                   \n",
       "0.0       582  156   23   14   19    6    9\n",
       "1.0       309  163   19    6    3    0    0"
      ]
     },
     "execution_count": 12,
     "metadata": {},
     "output_type": "execute_result"
    }
   ],
   "source": [
    "pd.crosstab(data['survived'],data['sibsp'])"
   ]
  },
  {
   "cell_type": "code",
   "execution_count": 13,
   "id": "14ab1d3e",
   "metadata": {},
   "outputs": [
    {
     "data": {
      "text/html": [
       "<div>\n",
       "<style scoped>\n",
       "    .dataframe tbody tr th:only-of-type {\n",
       "        vertical-align: middle;\n",
       "    }\n",
       "\n",
       "    .dataframe tbody tr th {\n",
       "        vertical-align: top;\n",
       "    }\n",
       "\n",
       "    .dataframe thead th {\n",
       "        text-align: right;\n",
       "    }\n",
       "</style>\n",
       "<table border=\"1\" class=\"dataframe\">\n",
       "  <thead>\n",
       "    <tr style=\"text-align: right;\">\n",
       "      <th>parch</th>\n",
       "      <th>0.0</th>\n",
       "      <th>1.0</th>\n",
       "      <th>2.0</th>\n",
       "      <th>3.0</th>\n",
       "      <th>4.0</th>\n",
       "      <th>5.0</th>\n",
       "      <th>6.0</th>\n",
       "      <th>9.0</th>\n",
       "    </tr>\n",
       "    <tr>\n",
       "      <th>survived</th>\n",
       "      <th></th>\n",
       "      <th></th>\n",
       "      <th></th>\n",
       "      <th></th>\n",
       "      <th></th>\n",
       "      <th></th>\n",
       "      <th></th>\n",
       "      <th></th>\n",
       "    </tr>\n",
       "  </thead>\n",
       "  <tbody>\n",
       "    <tr>\n",
       "      <th>0.0</th>\n",
       "      <td>666</td>\n",
       "      <td>70</td>\n",
       "      <td>56</td>\n",
       "      <td>3</td>\n",
       "      <td>5</td>\n",
       "      <td>5</td>\n",
       "      <td>2</td>\n",
       "      <td>2</td>\n",
       "    </tr>\n",
       "    <tr>\n",
       "      <th>1.0</th>\n",
       "      <td>336</td>\n",
       "      <td>100</td>\n",
       "      <td>57</td>\n",
       "      <td>5</td>\n",
       "      <td>1</td>\n",
       "      <td>1</td>\n",
       "      <td>0</td>\n",
       "      <td>0</td>\n",
       "    </tr>\n",
       "  </tbody>\n",
       "</table>\n",
       "</div>"
      ],
      "text/plain": [
       "parch     0.0  1.0  2.0  3.0  4.0  5.0  6.0  9.0\n",
       "survived                                        \n",
       "0.0       666   70   56    3    5    5    2    2\n",
       "1.0       336  100   57    5    1    1    0    0"
      ]
     },
     "execution_count": 13,
     "metadata": {},
     "output_type": "execute_result"
    }
   ],
   "source": [
    "pd.crosstab(data['survived'],data['parch'])"
   ]
  },
  {
   "cell_type": "markdown",
   "id": "e619b210",
   "metadata": {},
   "source": [
    "Primećuje je se da su oni koji imaju nula rođaka najugroženiji. Čini se logično. Oni koji nemaju nikog bliskog u kriznim trenucima sigurno imaju manje šanse da prežive. Možemo da objednimo promenljive __sibsp__ i __parch__ i da vidimo ko je sam na brodu. Drugim rečima, da uvedemo novu binarnu promeljivu __alone__ za one koji su sami."
   ]
  },
  {
   "cell_type": "code",
   "execution_count": 14,
   "id": "287dde51",
   "metadata": {},
   "outputs": [],
   "source": [
    "alone=np.where(data.sibsp + data.parch==0,1,0)"
   ]
  },
  {
   "cell_type": "code",
   "execution_count": 15,
   "id": "d1574997",
   "metadata": {},
   "outputs": [],
   "source": [
    "data['alone']=alone"
   ]
  },
  {
   "cell_type": "markdown",
   "id": "1febc701",
   "metadata": {},
   "source": [
    "Ostale promenljive kao što su ime, odredište ili oznaka kabine verovatno imaju još manje efekta pa ih nećemo uzimati za dalju analizu."
   ]
  },
  {
   "cell_type": "code",
   "execution_count": 16,
   "id": "3e40ae3b",
   "metadata": {},
   "outputs": [],
   "source": [
    "data=data[['survived','pclass','sex','child','alone']]"
   ]
  },
  {
   "cell_type": "code",
   "execution_count": 17,
   "id": "50f0bb59",
   "metadata": {},
   "outputs": [
    {
     "data": {
      "text/html": [
       "<div>\n",
       "<style scoped>\n",
       "    .dataframe tbody tr th:only-of-type {\n",
       "        vertical-align: middle;\n",
       "    }\n",
       "\n",
       "    .dataframe tbody tr th {\n",
       "        vertical-align: top;\n",
       "    }\n",
       "\n",
       "    .dataframe thead th {\n",
       "        text-align: right;\n",
       "    }\n",
       "</style>\n",
       "<table border=\"1\" class=\"dataframe\">\n",
       "  <thead>\n",
       "    <tr style=\"text-align: right;\">\n",
       "      <th></th>\n",
       "      <th>survived</th>\n",
       "      <th>pclass</th>\n",
       "      <th>sex</th>\n",
       "      <th>child</th>\n",
       "      <th>alone</th>\n",
       "    </tr>\n",
       "  </thead>\n",
       "  <tbody>\n",
       "    <tr>\n",
       "      <th>0</th>\n",
       "      <td>1.0</td>\n",
       "      <td>1.0</td>\n",
       "      <td>1</td>\n",
       "      <td>0</td>\n",
       "      <td>1</td>\n",
       "    </tr>\n",
       "    <tr>\n",
       "      <th>1</th>\n",
       "      <td>1.0</td>\n",
       "      <td>1.0</td>\n",
       "      <td>0</td>\n",
       "      <td>1</td>\n",
       "      <td>0</td>\n",
       "    </tr>\n",
       "    <tr>\n",
       "      <th>2</th>\n",
       "      <td>0.0</td>\n",
       "      <td>1.0</td>\n",
       "      <td>1</td>\n",
       "      <td>1</td>\n",
       "      <td>0</td>\n",
       "    </tr>\n",
       "    <tr>\n",
       "      <th>3</th>\n",
       "      <td>0.0</td>\n",
       "      <td>1.0</td>\n",
       "      <td>0</td>\n",
       "      <td>0</td>\n",
       "      <td>0</td>\n",
       "    </tr>\n",
       "    <tr>\n",
       "      <th>4</th>\n",
       "      <td>0.0</td>\n",
       "      <td>1.0</td>\n",
       "      <td>1</td>\n",
       "      <td>0</td>\n",
       "      <td>0</td>\n",
       "    </tr>\n",
       "    <tr>\n",
       "      <th>...</th>\n",
       "      <td>...</td>\n",
       "      <td>...</td>\n",
       "      <td>...</td>\n",
       "      <td>...</td>\n",
       "      <td>...</td>\n",
       "    </tr>\n",
       "    <tr>\n",
       "      <th>1304</th>\n",
       "      <td>0.0</td>\n",
       "      <td>3.0</td>\n",
       "      <td>1</td>\n",
       "      <td>1</td>\n",
       "      <td>0</td>\n",
       "    </tr>\n",
       "    <tr>\n",
       "      <th>1305</th>\n",
       "      <td>0.0</td>\n",
       "      <td>3.0</td>\n",
       "      <td>1</td>\n",
       "      <td>0</td>\n",
       "      <td>0</td>\n",
       "    </tr>\n",
       "    <tr>\n",
       "      <th>1306</th>\n",
       "      <td>0.0</td>\n",
       "      <td>3.0</td>\n",
       "      <td>0</td>\n",
       "      <td>0</td>\n",
       "      <td>1</td>\n",
       "    </tr>\n",
       "    <tr>\n",
       "      <th>1307</th>\n",
       "      <td>0.0</td>\n",
       "      <td>3.0</td>\n",
       "      <td>0</td>\n",
       "      <td>0</td>\n",
       "      <td>1</td>\n",
       "    </tr>\n",
       "    <tr>\n",
       "      <th>1308</th>\n",
       "      <td>0.0</td>\n",
       "      <td>3.0</td>\n",
       "      <td>0</td>\n",
       "      <td>0</td>\n",
       "      <td>1</td>\n",
       "    </tr>\n",
       "  </tbody>\n",
       "</table>\n",
       "<p>1309 rows × 5 columns</p>\n",
       "</div>"
      ],
      "text/plain": [
       "      survived  pclass  sex  child  alone\n",
       "0          1.0     1.0    1      0      1\n",
       "1          1.0     1.0    0      1      0\n",
       "2          0.0     1.0    1      1      0\n",
       "3          0.0     1.0    0      0      0\n",
       "4          0.0     1.0    1      0      0\n",
       "...        ...     ...  ...    ...    ...\n",
       "1304       0.0     3.0    1      1      0\n",
       "1305       0.0     3.0    1      0      0\n",
       "1306       0.0     3.0    0      0      1\n",
       "1307       0.0     3.0    0      0      1\n",
       "1308       0.0     3.0    0      0      1\n",
       "\n",
       "[1309 rows x 5 columns]"
      ]
     },
     "execution_count": 17,
     "metadata": {},
     "output_type": "execute_result"
    }
   ],
   "source": [
    "data"
   ]
  },
  {
   "cell_type": "markdown",
   "id": "c0c08750",
   "metadata": {},
   "source": [
    "Primetite da su neke vrednosti memorisane kao celobrojne, a neke kao decimalne. To je za stablo odlučivanja svejedno jer će ih sve tretirati kao decimalne."
   ]
  },
  {
   "cell_type": "code",
   "execution_count": 18,
   "id": "0b22973b",
   "metadata": {},
   "outputs": [
    {
     "data": {
      "text/html": [
       "<div>\n",
       "<style scoped>\n",
       "    .dataframe tbody tr th:only-of-type {\n",
       "        vertical-align: middle;\n",
       "    }\n",
       "\n",
       "    .dataframe tbody tr th {\n",
       "        vertical-align: top;\n",
       "    }\n",
       "\n",
       "    .dataframe thead th {\n",
       "        text-align: right;\n",
       "    }\n",
       "</style>\n",
       "<table border=\"1\" class=\"dataframe\">\n",
       "  <thead>\n",
       "    <tr style=\"text-align: right;\">\n",
       "      <th></th>\n",
       "      <th>survived</th>\n",
       "      <th>pclass</th>\n",
       "      <th>sex</th>\n",
       "      <th>child</th>\n",
       "      <th>alone</th>\n",
       "    </tr>\n",
       "  </thead>\n",
       "  <tbody>\n",
       "    <tr>\n",
       "      <th>survived</th>\n",
       "      <td>1.000000</td>\n",
       "      <td>-0.312469</td>\n",
       "      <td>0.528693</td>\n",
       "      <td>0.110204</td>\n",
       "      <td>-0.201719</td>\n",
       "    </tr>\n",
       "    <tr>\n",
       "      <th>pclass</th>\n",
       "      <td>-0.312469</td>\n",
       "      <td>1.000000</td>\n",
       "      <td>-0.124617</td>\n",
       "      <td>0.118383</td>\n",
       "      <td>0.147393</td>\n",
       "    </tr>\n",
       "    <tr>\n",
       "      <th>sex</th>\n",
       "      <td>0.528693</td>\n",
       "      <td>-0.124617</td>\n",
       "      <td>1.000000</td>\n",
       "      <td>0.070430</td>\n",
       "      <td>-0.284537</td>\n",
       "    </tr>\n",
       "    <tr>\n",
       "      <th>child</th>\n",
       "      <td>0.110204</td>\n",
       "      <td>0.118383</td>\n",
       "      <td>0.070430</td>\n",
       "      <td>1.000000</td>\n",
       "      <td>-0.332270</td>\n",
       "    </tr>\n",
       "    <tr>\n",
       "      <th>alone</th>\n",
       "      <td>-0.201719</td>\n",
       "      <td>0.147393</td>\n",
       "      <td>-0.284537</td>\n",
       "      <td>-0.332270</td>\n",
       "      <td>1.000000</td>\n",
       "    </tr>\n",
       "  </tbody>\n",
       "</table>\n",
       "</div>"
      ],
      "text/plain": [
       "          survived    pclass       sex     child     alone\n",
       "survived  1.000000 -0.312469  0.528693  0.110204 -0.201719\n",
       "pclass   -0.312469  1.000000 -0.124617  0.118383  0.147393\n",
       "sex       0.528693 -0.124617  1.000000  0.070430 -0.284537\n",
       "child     0.110204  0.118383  0.070430  1.000000 -0.332270\n",
       "alone    -0.201719  0.147393 -0.284537 -0.332270  1.000000"
      ]
     },
     "execution_count": 18,
     "metadata": {},
     "output_type": "execute_result"
    }
   ],
   "source": [
    "data.corr()"
   ]
  },
  {
   "cell_type": "markdown",
   "id": "9fdaf779",
   "metadata": {},
   "source": [
    "Koeficijent korelacije između pojedinih promenljivih govori o tome koliko su dobri prediktori za preživljavanje, ali i tome u kakvoj su međusobnoj vezi. Npr. postoji primetna veza između promeljivih __child__ i __alone__ i onda ima negativnu korelaciju. Zvuči logično. Deca ne bi trebalo da su na brodu sama bez ikog svog. Za naš model predikcije to govori nešto drugo, odnosno da prejaka veza između dve promenljive kvari model i da bi možda jednu od njih trebalo isključiti."
   ]
  },
  {
   "cell_type": "markdown",
   "id": "b7a9b830",
   "metadata": {},
   "source": [
    "Konačno, možemo da izaberemo karakteristike koje hoćemo kao nezavisno promenljive u modelu. __X__ će biti tabela samo sa tim kolonama, a __y__ kolona u kojoj su podaci o tome da li su preživeli."
   ]
  },
  {
   "cell_type": "markdown",
   "id": "ff9d5fd2",
   "metadata": {},
   "source": [
    "## Obučavanje modela"
   ]
  },
  {
   "cell_type": "code",
   "execution_count": 19,
   "id": "bf33f40b",
   "metadata": {},
   "outputs": [],
   "source": [
    "features = ['pclass','sex','child','alone']\n",
    "X = data.loc[:,features]\n",
    "y = data.loc[:,'survived']"
   ]
  },
  {
   "cell_type": "markdown",
   "id": "2fec1c12",
   "metadata": {},
   "source": [
    "Pomoću funkcije `train_test_split()` iz biblioteka __sklearn.model__ ćemo podeliti __X__ i __y__ na deo za obučavanje i deo za testiranje u odnosu 75:25."
   ]
  },
  {
   "cell_type": "code",
   "execution_count": 20,
   "id": "196119b4",
   "metadata": {},
   "outputs": [],
   "source": [
    "from sklearn.model_selection import train_test_split\n",
    "X_train, X_test, y_train, y_test =  train_test_split(X,y,test_size = 0.25)"
   ]
  },
  {
   "cell_type": "markdown",
   "id": "d39ea5e6",
   "metadata": {},
   "source": [
    "Osnovni stabla odlučivanja je klasifikator. Ovde prvo kreiramo jedan takav objekat pod imenom __clf__, a onda ga obučavamo na pripremljenim podacima za obuku. Kriterijumi za klasifikaciju i načini realizacije mogu biti razni. Podrazumevani kriterijum je \"gini\". Njegove vrednosti će kasnije biti prikazivane na dijagramu. Za sada je važno samo da ograničimo maksimalni broj deljenja stabla (_max_depth_) ili minimalni uzorak koji može da se deli (_min_samples_split_). Ovo je važno da bismo izbegli _over-fitting_ efekat. Model koji previše dobro fituje na podacima za obuku, pravi velike greške na podacima za testiranje."
   ]
  },
  {
   "cell_type": "code",
   "execution_count": 21,
   "id": "902c00ab",
   "metadata": {},
   "outputs": [],
   "source": [
    "clf = DecisionTreeClassifier(min_samples_split=100, max_depth=3)#\n",
    "clf = clf.fit(X_train,y_train)"
   ]
  },
  {
   "cell_type": "markdown",
   "id": "cbdab823",
   "metadata": {},
   "source": [
    "## Testiranje modela"
   ]
  },
  {
   "cell_type": "markdown",
   "id": "50757092",
   "metadata": {},
   "source": [
    "Sada kada imamo obučen (ili istreniran) model možemo da ga primenimo na podacima koje smo ostavili za testiranje (__X_test__), dobijemo procene __y_pred__ i da ih onda uporedimo sa stvarnim vrednostima (__y_test__). U oba niza su nule i jedinice. Kako da izmerimo koliko je dobro preklapanje između njih?"
   ]
  },
  {
   "cell_type": "code",
   "execution_count": 22,
   "id": "9b285d98",
   "metadata": {},
   "outputs": [],
   "source": [
    "y_pred = clf.predict(X_test)"
   ]
  },
  {
   "cell_type": "markdown",
   "id": "cdaabc1f",
   "metadata": {},
   "source": [
    "Za uspešnost predikcije postoje različite metrike: tačnost, preciznost itd. Ipak, uspešnost predikcije, u opštem slučaju, ne može da se prikaže samo jednim brojem. Nas bi trebalo da interesuje koliko su zastupljene sve četiri kombinacije: \n",
    "1. da je putnik preživeo i da je predikcija bila da je preživeo (_true positive_, TP),\n",
    "2. da je putnik preživeo i da je predikcija bila da nije preživeo (_false negative_, FN),\n",
    "3. da putnik nije preživeo i da je predikcija bila da nije preživeo (_true negative_, TN) i\n",
    "4. da putnik nije preživeo i da je predikcija bila da je preživeo (_false positive_, FP).\n",
    "\n",
    "Samo jedan od ovih brojeva može da nas dovede u zabludu. Npr. model koji kaže da su svi preživeli bi imao 100% uspešnost u proceni kod onih koji su preživeli, ali 0% kod onih koji nisu. To ne bi bio posebno dobar model. \n",
    "\n",
    "Umesto jednog broja za opisivanje uspešnosti predikcije, obično se koristi koristi matrica konfuzije (_confusion matrix_). U matrici su frekvencije sve četiri gore pomenute kombinacije.\n",
    "\n",
    "| |0|1|\n",
    "|---|---|---|\n",
    "|__nije preživeo__|TN|FP|\n",
    "|__preživeo__|FN|TP|\n",
    "\n",
    "Idealan model bi trebalo da ima vrednosti samo po glavnoj dijagonali, tj. TP i FN. To bi značilo da se predikcija 0 uvek poklapa sa \"nije preživeo\", a 1 sa \"preživeo\"."
   ]
  },
  {
   "cell_type": "code",
   "execution_count": 23,
   "id": "928dd0d9",
   "metadata": {},
   "outputs": [
    {
     "data": {
      "text/plain": [
       "array([[185,  26],\n",
       "       [ 45,  72]])"
      ]
     },
     "execution_count": 23,
     "metadata": {},
     "output_type": "execute_result"
    }
   ],
   "source": [
    "from sklearn.metrics import confusion_matrix\n",
    "cm = confusion_matrix(y_test, y_pred)\n",
    "cm"
   ]
  },
  {
   "cell_type": "markdown",
   "id": "ab67c9f2",
   "metadata": {},
   "source": [
    "Kada bismo ovo malo lepše formatirali, imali bismo _DataFrame_ sa odgovarajućim vrednostima."
   ]
  },
  {
   "cell_type": "code",
   "execution_count": 24,
   "id": "3acaaf5b",
   "metadata": {
    "scrolled": false
   },
   "outputs": [
    {
     "data": {
      "text/html": [
       "<div>\n",
       "<style scoped>\n",
       "    .dataframe tbody tr th:only-of-type {\n",
       "        vertical-align: middle;\n",
       "    }\n",
       "\n",
       "    .dataframe tbody tr th {\n",
       "        vertical-align: top;\n",
       "    }\n",
       "\n",
       "    .dataframe thead th {\n",
       "        text-align: right;\n",
       "    }\n",
       "</style>\n",
       "<table border=\"1\" class=\"dataframe\">\n",
       "  <thead>\n",
       "    <tr style=\"text-align: right;\">\n",
       "      <th></th>\n",
       "      <th>0</th>\n",
       "      <th>1</th>\n",
       "    </tr>\n",
       "  </thead>\n",
       "  <tbody>\n",
       "    <tr>\n",
       "      <th>nije preživeo</th>\n",
       "      <td>185</td>\n",
       "      <td>26</td>\n",
       "    </tr>\n",
       "    <tr>\n",
       "      <th>preživeo</th>\n",
       "      <td>45</td>\n",
       "      <td>72</td>\n",
       "    </tr>\n",
       "  </tbody>\n",
       "</table>\n",
       "</div>"
      ],
      "text/plain": [
       "                 0   1\n",
       "nije preživeo  185  26\n",
       "preživeo        45  72"
      ]
     },
     "execution_count": 24,
     "metadata": {},
     "output_type": "execute_result"
    }
   ],
   "source": [
    "pd.DataFrame(cm,index=['nije preživeo','preživeo'])"
   ]
  },
  {
   "cell_type": "markdown",
   "id": "11e4e06a",
   "metadata": {},
   "source": [
    "Idealni model bi imao samo _true positive_ i _true negative_ vrednosti. Takav model bi imao tačnost 100%.\n",
    "Tačnost (_accuracy_) se definiše kao zbir vrednosti po glavnoj dijagonali podeljen sa zbirom svih vrednosti u matrici konfuzije, tj. $accuracy=\\frac{TP+TN}{TP+TN+FP+FN}$.\n"
   ]
  },
  {
   "cell_type": "code",
   "execution_count": 25,
   "id": "94ce48e3",
   "metadata": {},
   "outputs": [
    {
     "name": "stdout",
     "output_type": "stream",
     "text": [
      "Tačnost: 0.784\n"
     ]
    }
   ],
   "source": [
    "acc=metrics.accuracy_score(y_test, y_pred)\n",
    "print(f\"Tačnost: {acc:.3f}\") # formatiran ispis sa tri decimale"
   ]
  },
  {
   "cell_type": "markdown",
   "id": "2291807f",
   "metadata": {},
   "source": [
    "Poređenja radi, kada bismo samo na osnovu frekvencije preživljavanja u skupu podataka za obuku, bez ikakvog kriterijuma, slučajno dodeljivali vrednost __1__ sa verovatnoćom $p=\\frac{broj\\hspace{.1cm}preživelih}{ukupan\\hspace{.1cm}broj\\hspace{.1cm}putnika}$ tačnost bi trebalo da bude oko 0.53. Mala odstupanja od ove vrednosti su moguća zbog malog uzorka i stohastičnosti izbora."
   ]
  },
  {
   "cell_type": "code",
   "execution_count": 26,
   "id": "dd0ad4fc",
   "metadata": {},
   "outputs": [
    {
     "name": "stdout",
     "output_type": "stream",
     "text": [
      "Tačnost (bez kriterijuma): 0.518\n"
     ]
    }
   ],
   "source": [
    "y_dummy=np.where(np.random.random_sample(size=len(y_test))<sum(y_train)/len(y_train),1,0)\n",
    "acc0=metrics.accuracy_score(y_test, y_dummy)\n",
    "print(f\"Tačnost (bez kriterijuma): {acc0:.3f}\")"
   ]
  },
  {
   "cell_type": "markdown",
   "id": "0a38fe0e",
   "metadata": {},
   "source": [
    "## Vizuelizacija stabla odlučivanja"
   ]
  },
  {
   "cell_type": "markdown",
   "id": "4c07409d",
   "metadata": {},
   "source": [
    "Uprkos tome što smo obučili i testirali stablo odlučivanja, mi i dalje ne znamo kako ono izgleda. Teorijski uvek postoji čvor koji se deli na dve grane, pa te dve na četiri, četiri na osam itd. Nas svakako interesuje koje je promenljive i koje kriterijume algoritam koristio da izvrši grananje i koliko dobra podela u svakom od tih čvorova u kojima se odvija grananje. Detalje stabla odlučivanja kao što su promenljive po kojim delimo uzorak, koji je bio kriterijum za deljenje, kolika je veličina uzorka i kakva raspodela unutar uzorka prema izlaznoj vrednosti možemo da vidimo kao tekstualni zapis za svaki čvor pomoću funkcije `export_text()`."
   ]
  },
  {
   "cell_type": "code",
   "execution_count": 27,
   "id": "73cc3f10",
   "metadata": {},
   "outputs": [
    {
     "name": "stdout",
     "output_type": "stream",
     "text": [
      "|--- feature_1 <= 0.50\n",
      "|   |--- feature_2 <= 0.50\n",
      "|   |   |--- feature_0 <= 1.50\n",
      "|   |   |   |--- class: 0.0\n",
      "|   |   |--- feature_0 >  1.50\n",
      "|   |   |   |--- class: 0.0\n",
      "|   |--- feature_2 >  0.50\n",
      "|   |   |--- class: 1.0\n",
      "|--- feature_1 >  0.50\n",
      "|   |--- feature_0 <= 2.50\n",
      "|   |   |--- feature_0 <= 1.50\n",
      "|   |   |   |--- class: 1.0\n",
      "|   |   |--- feature_0 >  1.50\n",
      "|   |   |   |--- class: 1.0\n",
      "|   |--- feature_0 >  2.50\n",
      "|   |   |--- feature_3 <= 0.50\n",
      "|   |   |   |--- class: 0.0\n",
      "|   |   |--- feature_3 >  0.50\n",
      "|   |   |   |--- class: 1.0\n",
      "\n"
     ]
    }
   ],
   "source": [
    "text_representation = tree.export_text(clf)\n",
    "print(text_representation)"
   ]
  },
  {
   "cell_type": "markdown",
   "id": "14796371",
   "metadata": {},
   "source": [
    "Složićemo se lako da ovaj način prikazivanja nije najpregledniji. Kako je napravljeno ovo naše stablo odlučivanja, najbolje ćemo videti ako ga prikažemo grafički pomoću funkcije `plot_tree()`."
   ]
  },
  {
   "cell_type": "markdown",
   "id": "708a6545",
   "metadata": {},
   "source": [
    "Prvi čvor, odakle sve kreće, uzima ceo uzorak za učenje. Tu algoritam bira promenljive i njihove vrednosti koje su najbolje deljenje podatka po izabranom kriterijumu. U našem primeru je to podela prema polu putnika. Za predikciju da li je putnik preživeo ili ne, prvo najvažnije pitanje je kog je pola putnik. To piše u prvom čvoru grafičke reprezentacije mada je to zapisano na malo čudan način (sex<=0.5). Iako ovaj uslov izgleda neobično, nije ga teško protumačiti. Pošto je numerička oznaka za muški pol 0, a za ženski 1, onda manje od 0.5 znači da se stablo grana tako da na levo ide uzorak sa muškarcima, a na desno sa ženama. Uslovi za dalje grananje su da li je dete (leva grana) i da li je na trećoj palubi (desna strana). Za ostale to takođe možete da vidite."
   ]
  },
  {
   "cell_type": "code",
   "execution_count": 28,
   "id": "1d067e68",
   "metadata": {},
   "outputs": [
    {
     "data": {
      "image/png": "[encoded data removed]",
      "text/plain": [
       "<Figure size 1440x1080 with 1 Axes>"
      ]
     },
     "metadata": {
      "filenames": {
       "image/png": "/Users/srdanverbic/OneDrive - fefa.edu.rs/praktikum/_build/jupyter_execute/11 Stablo odlučivanja_62_0.png"
      },
      "needs_background": "light"
     },
     "output_type": "display_data"
    }
   ],
   "source": [
    "fig = plt.figure(figsize=(20,15))\n",
    "tp = tree.plot_tree(clf, \n",
    "                   feature_names=features,\n",
    "                   impurity=True, # entropy\n",
    "                   label='root', \n",
    "                   class_names=['Died', 'Survived'],\n",
    "                   #precision=2,\n",
    "                   rounded=True,\n",
    "                   filled=True)\n"
   ]
  },
  {
   "cell_type": "markdown",
   "id": "6c646a74",
   "metadata": {},
   "source": [
    "Boje pravougaonika kojima su opisani čvorovi odgovaraju čistoći uzorka, odnosno raspodeli ishoda za taj konretan uzorak. Ako niko nije preživeo, pravougaonik će biti crven. Ako su svi preživeli, biće plav. Beo je ako jednih i drugih ima podjednako. U idealnom slučaju, stablo odlučivanja vodi do niza crvenih i plavih pravougaonika koje nema smisla dalje deliti. "
   ]
  },
  {
   "cell_type": "markdown",
   "id": "7cd37594",
   "metadata": {},
   "source": [
    "Najbolji izbor promenljivih za mašinsko učenje ne mora da bude isti za različite modele. Štaviše, ne mora da budu isti ni za jedan model ako je uzorak drugačiji ili ako se primene različiti kriterijumi. Svejedno, najznačajniji faktori će uvek biti prepoznati. Stablo odlučivanja, odnosno funkcija `feature_importances_` prikazuje koliki je udeo koje promenljive u proceni ishoda."
   ]
  },
  {
   "cell_type": "code",
   "execution_count": 29,
   "id": "a05bb4fe",
   "metadata": {},
   "outputs": [
    {
     "data": {
      "text/plain": [
       "array([0.2233198 , 0.68712497, 0.07779763, 0.0117576 ])"
      ]
     },
     "execution_count": 29,
     "metadata": {},
     "output_type": "execute_result"
    }
   ],
   "source": [
    "clf.feature_importances_"
   ]
  },
  {
   "cell_type": "markdown",
   "id": "c5776d71",
   "metadata": {},
   "source": [
    "Grafički to možemo ovako da prikažemo."
   ]
  },
  {
   "cell_type": "code",
   "execution_count": 30,
   "id": "b93812f5",
   "metadata": {},
   "outputs": [
    {
     "data": {
      "text/plain": [
       "<BarContainer object of 4 artists>"
      ]
     },
     "execution_count": 30,
     "metadata": {},
     "output_type": "execute_result"
    },
    {
     "data": {
      "image/png": "[encoded data removed]",
      "text/plain": [
       "<Figure size 432x288 with 1 Axes>"
      ]
     },
     "metadata": {
      "filenames": {
       "image/png": "/Users/srdanverbic/OneDrive - fefa.edu.rs/praktikum/_build/jupyter_execute/11 Stablo odlučivanja_67_1.png"
      },
      "needs_background": "light"
     },
     "output_type": "display_data"
    }
   ],
   "source": [
    "plt.barh(features,clf.feature_importances_)"
   ]
  },
  {
   "cell_type": "markdown",
   "id": "41e4d973",
   "metadata": {},
   "source": [
    "Iako bi bilo logično da je važan faktor u predikciji preživljavanja to da li je putnik dete ili ne, on je važan samo kod male grupe putnika. 91% putnika na Titaniku nisu bili deca ispod 15 godina. Zato je značaj ovog faktora relativno mali."
   ]
  }
 ],
 "metadata": {
  "kernelspec": {
   "display_name": "Python 3",
   "language": "python",
   "name": "python3"
  },
  "language_info": {
   "codemirror_mode": {
    "name": "ipython",
    "version": 3
   },
   "file_extension": ".py",
   "mimetype": "text/x-python",
   "name": "python",
   "nbconvert_exporter": "python",
   "pygments_lexer": "ipython3",
   "version": "3.9.7"
  }
 },
 "nbformat": 4,
 "nbformat_minor": 5
}
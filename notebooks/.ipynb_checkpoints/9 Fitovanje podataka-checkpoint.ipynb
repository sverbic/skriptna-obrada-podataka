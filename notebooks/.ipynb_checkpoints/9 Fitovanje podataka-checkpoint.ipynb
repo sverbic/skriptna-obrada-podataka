{
 "cells": [
  {
   "cell_type": "markdown",
   "metadata": {},
   "source": [
    "# Fitovanje podataka"
   ]
  },
  {
   "cell_type": "markdown",
   "metadata": {},
   "source": [
    "> U ovoj svesci ćemo demostrirati fitovanje podataka, pokazati smisao srednjeg kvadratnog odstupanja kao mere kvaliteta fita i pokazati šta znači da model premalo ili previše dobro fituje (_under-_ i _over-fitting_).  "
   ]
  },
  {
   "cell_type": "markdown",
   "metadata": {},
   "source": [
    "Ukoliko za empirijske podatke postoji teorijski model, onda sigurno znamo i jednačinu koja povezuje zavisno i nezavisno promenljivu. To je tipičan slučaj kada u istraživanju imamo sve elemente naučnog metoda uključujući posmatranje, postavljanje hipoteze i dizajniranje eksperimenta. Međutim, nauka o podacima i mašinsko učenje su primene analize podataka na podacima za koje ne moramo da znamo teorijski okvir. Najbolji model mašinskog učenja ne pretenduje da bude naučno objašnjenje pojave već samo model koji u konkretnom slučaju daje dobru predikciju rezultata.\n",
    "\n",
    "Fitovanje podataka u slučajevima kada znamo jednačinu koja povezuje zavisno i nezavisno promeljivu je jednoznačno određeno. Bez teorijskog modela, odnosno poznavanja te veze za fitovanje podatka možemo da koristimo različite modele i vidimo koji je najverodostojniji. Svakako prvo počinjemo od najjednostavnijeg modela, linearnog."
   ]
  },
  {
   "cell_type": "markdown",
   "metadata": {},
   "source": [
    "## Linearni model"
   ]
  },
  {
   "cell_type": "markdown",
   "metadata": {},
   "source": [
    "Linearni model je najčešće korišćen model predikcije, ne samo u mašinskom učenju već u nauci uopšte. Pomoću ovog modela se određuju parametri linearne funkcije koja opisuje zavisnost jedne kontinualne promenljive od druge. Ovaj model se često naziva i linearna regresija. Postoji nekoliko načina za pravljenje linearnih modela. Mi ćemo ovde pokušati da prikažemo najjednostavniji, tj. onaj koji ne učitava biblioteku za mašinsko učenje samo zato da bi uradio linearan fit. Biblioteka __numpy__ ima funkcije koje mogu da nam pomognu."
   ]
  },
  {
   "cell_type": "code",
   "execution_count": 1,
   "metadata": {},
   "outputs": [],
   "source": [
    "import numpy as np\n",
    "import matplotlib.pyplot as plt"
   ]
  },
  {
   "cell_type": "markdown",
   "metadata": {},
   "source": [
    "Za potrebe ove vežbe koristićemo prvo veštački generisane, odnosno simulirane podatke. Uzećemo tačno određenu vezu između nezavisne (x) i zavisno promenljive (y). Da bi zadatak bio malo realniji dodaćemo i malo šuma. U toj situaciji znamo šta treba da dobijemo pa ćemo tačno znati koliko pri fitovanju grešimo. Potom ćemo fitovanje uraditi za empirijske podatke gde ne znamo funkciju zavisnosti između promenljivih."
   ]
  },
  {
   "cell_type": "markdown",
   "metadata": {},
   "source": [
    "### Simulacija "
   ]
  },
  {
   "cell_type": "markdown",
   "metadata": {},
   "source": [
    "Za potrebe simulacije bazirane na pseudo-slučajnim brojevima potreban nam je modul __random__ iz biblioteke __numpy__."
   ]
  },
  {
   "cell_type": "code",
   "execution_count": 2,
   "metadata": {},
   "outputs": [],
   "source": [
    "from numpy import random"
   ]
  },
  {
   "cell_type": "markdown",
   "metadata": {},
   "source": [
    "Da bi podaci sa kojima radimo u ovoj svesci bili isti bez obzira gde i kada pokrenemo kôd, potrebno je da generator slučajnih brojeva uvek počne od iste vrednosti. To ćemo obezbediti tako što na početku zadamo uvek istu vrednost \"klice\" random generatora pomoću funkcije `random.seed()`. Vrednost u zagradama može biti bilo koji nenegativan ceo broj. Važno je da ga ne menjamo kako bi rezultati bili ponovljivi."
   ]
  },
  {
   "cell_type": "code",
   "execution_count": 3,
   "metadata": {},
   "outputs": [],
   "source": [
    "random.seed(100)"
   ]
  },
  {
   "cell_type": "markdown",
   "metadata": {},
   "source": [
    "Pomoću funkcije `random.random()` ovog modula ćemo generisati niz od `n=12` slučajnih _float_ brojeva između 0 i 3. Primetite da ovaj niz nije lista nego niz tipa _array_ jer takve generiše __numpy__. "
   ]
  },
  {
   "cell_type": "code",
   "execution_count": 4,
   "metadata": {},
   "outputs": [],
   "source": [
    "n=12\n",
    "x=random.random(n)*3"
   ]
  },
  {
   "cell_type": "code",
   "execution_count": 5,
   "metadata": {},
   "outputs": [
    {
     "data": {
      "text/plain": [
       "array([1.63021483, 0.83510816, 1.27355277, 2.5343284 , 0.01415657,\n",
       "       0.36470736, 2.01224725, 2.47755827, 0.41011977, 1.72527999,\n",
       "       2.67396586, 0.62760637])"
      ]
     },
     "execution_count": 5,
     "metadata": {},
     "output_type": "execute_result"
    }
   ],
   "source": [
    "x"
   ]
  },
  {
   "cell_type": "markdown",
   "metadata": {},
   "source": [
    "Za dalji rad će nam biti potrebno da ovaj niz bude uređen, odnosno sortiran od najmanje vrednosti. Funkcija `sort()` sortira niz i modifikuje ga. Dovoljno je da aktiviramo `x.sort()` pa da niz __x__ bude sortiran."
   ]
  },
  {
   "cell_type": "code",
   "execution_count": 6,
   "metadata": {},
   "outputs": [],
   "source": [
    "x.sort()"
   ]
  },
  {
   "cell_type": "markdown",
   "metadata": {},
   "source": [
    "Uzećemo da kvadratna funkcija povezuje x i y, tj. da je $y=2x^2-2x+5$. Da zavisnost ne bi bila sasvim očigledna generisaćemo šum, odnosno niz __noise__ kao niz slučajnih brojeva između 0 i 1,5. Vrednost tog šuma ćemo dodati na vrednost dobijenu kvadratnom funkcijom."
   ]
  },
  {
   "cell_type": "code",
   "execution_count": 7,
   "metadata": {},
   "outputs": [],
   "source": [
    "noise=np.random.rand(n)*1.5\n",
    "y = 2*(x**2) - 2*x - 5 + noise"
   ]
  },
  {
   "cell_type": "markdown",
   "metadata": {},
   "source": [
    "Sada pošto imamo i __x__ i __y__ možemo da fitujemo podatke linearnom funkcijom. To ćemo uraditi pomoću funkcije `polyfit()` koja služi za fitovanje polinomom bilo kog reda. Ako stavimo kao argument broj 1, taj polinom će biti prvog reda, odnosno linearna funkcija. Koeficijenti linearne funkcije će biti sačuvani u objektu koji smo nazvali __model1__. Sa tim koeficijentima možemo da, pomoću funkcije `poly1d()` koja od koeficijenata polinoma pravi polinom, da definišemo pomoćnu funkciju `model1_fn()` koja će nam biti potrebna kasnije. Ta funkcija će za svaku vrednost promenljive __x__ davati predikciju vrednosti promenljive __y__. "
   ]
  },
  {
   "cell_type": "code",
   "execution_count": 8,
   "metadata": {},
   "outputs": [],
   "source": [
    "model1=np.polyfit(x,y,1)\n",
    "model1_fn=np.poly1d(model1)"
   ]
  },
  {
   "cell_type": "markdown",
   "metadata": {},
   "source": [
    "Biće potrebno da nacrtamo i tačke (__x__,__y__) i krivu __model1_fn__ da bismo videli kako traženi model fituje podatke. Da bi bilo lakše da ocenimo kvalitet fita, ovom grafiku ćemo dodati i reziduale, odnosno razlike između stvarnih vrednosti za __y__ i vrednosti koje smo prognozirali pomoću modela."
   ]
  },
  {
   "cell_type": "markdown",
   "metadata": {},
   "source": [
    "Pomoćne promenljive __xfit__ i __yfit__ su uvedene da bi se funkcija prikazala kao linija, odnosno da bi rezolucija pri crtanju krive bila bolja. Interval od 0 do 3 smo podelili na 100 intervala pomoću funkcije `linspace()`."
   ]
  },
  {
   "cell_type": "code",
   "execution_count": 9,
   "metadata": {},
   "outputs": [
    {
     "data": {
      "image/png": "[encoded data removed]",
      "text/plain": [
       "<Figure size 432x288 with 1 Axes>"
      ]
     },
     "metadata": {
      "needs_background": "light"
     },
     "output_type": "display_data"
    }
   ],
   "source": [
    "plt.scatter(x, y)\n",
    "plt.xlabel(\"x\")\n",
    "plt.ylabel(\"y\")\n",
    "\n",
    "xfit = np.linspace(0, 3, 100)\n",
    "yfit = model1_fn(xfit)\n",
    "plt.plot(xfit,yfit,color=\"gray\")\n",
    "\n",
    "plt.vlines(x=x, ymin=y, ymax=model1_fn(x), colors='red');"
   ]
  },
  {
   "cell_type": "markdown",
   "metadata": {},
   "source": [
    "Kvalitet fita možemo da opišemo na mnogo načina. Često se za to koristi koeficijent korelacije. Ovde nam je zgodnije da koristimo srednji kvadrat odstupanja (MSE od eng. _mean square error_) kao meru koja može lepo da se vizuelizuje. Što je vrednost MSE manja, to je fit bolji. Vidimo na grafiku kolike su vrednosti odstupanja za svaku tačku (crvene linije). Sve te vrednosti treba kvadrirati, sabrati i podeliti sa n. Konkretno za ovaj linearni fit, srednje kvadratno odstupanje je:"
   ]
  },
  {
   "cell_type": "code",
   "execution_count": 10,
   "metadata": {},
   "outputs": [
    {
     "data": {
      "text/plain": [
       "1.5325787013593561"
      ]
     },
     "execution_count": 10,
     "metadata": {},
     "output_type": "execute_result"
    }
   ],
   "source": [
    "rez=np.poly1d(model1)(x)-y\n",
    "sum(rez**2)/n"
   ]
  },
  {
   "cell_type": "markdown",
   "metadata": {},
   "source": [
    "### Kvadratna funkcija"
   ]
  },
  {
   "cell_type": "markdown",
   "metadata": {},
   "source": [
    "Pošto znamo kako smo generisali podatke, znamo i da postoji boji fit od linearnog modela. Kvadratna funkcija će sigurno imati manja odstupanja stvarne i prognozirane vrednosti __y__. Za to ćemo koristiti istu funkciju `polyfit()` samo što će sada argument koji se odnosi na red polinoma biti 2. Na sledećem grafiku ćemo nacrtati krivu dobijenu ovakvim fitom."
   ]
  },
  {
   "cell_type": "code",
   "execution_count": 11,
   "metadata": {},
   "outputs": [
    {
     "data": {
      "image/png": "[encoded data removed]",
      "text/plain": [
       "<Figure size 432x288 with 1 Axes>"
      ]
     },
     "metadata": {
      "needs_background": "light"
     },
     "output_type": "display_data"
    }
   ],
   "source": [
    "plt.scatter(x, y)\n",
    "\n",
    "model2=np.polyfit(x,y,2)\n",
    "model2_fn=np.poly1d(model2)\n",
    "\n",
    "xfit = np.linspace(0, 3, 100)\n",
    "yfit = model2_fn(xfit)\n",
    "plt.plot(xfit,yfit,color=\"gray\")\n",
    "\n",
    "plt.vlines(x=x, ymin=y, ymax=model2_fn(x), colors='red');"
   ]
  },
  {
   "cell_type": "markdown",
   "metadata": {},
   "source": [
    "Očekivano, ovde su reziduali mnogo manji tako da se crvene linije jedva primećuju. Srednje kvadratno odstupanje je ovde sigurno manje:"
   ]
  },
  {
   "cell_type": "code",
   "execution_count": 12,
   "metadata": {},
   "outputs": [
    {
     "data": {
      "text/plain": [
       "0.19921483320048403"
      ]
     },
     "execution_count": 12,
     "metadata": {},
     "output_type": "execute_result"
    }
   ],
   "source": [
    "rez=np.poly1d(model2)(x)-y\n",
    "sum(rez**2)/n"
   ]
  },
  {
   "cell_type": "markdown",
   "metadata": {},
   "source": [
    "Nije teško zaključiti da je kvadratna funkcija odličan model za podatke koje smo prvobitno generisali koristeći kvadratnu funkciju. U realnom slučaju, to naravno nije tako. Mi ne znamo kakva je prava zavisnost i možemo samo da je pretpostavimo na osnovu fitovanja različitim modelima."
   ]
  },
  {
   "cell_type": "markdown",
   "metadata": {},
   "source": [
    "## Testiranje modela"
   ]
  },
  {
   "cell_type": "markdown",
   "metadata": {},
   "source": [
    "U realnom slučaju fitovanje radimo na poznatom uzorku, a predikcije radimo za nepoznate tačke. To je poenta korišćenja modela. Greška koju načinimo predviđajući vrednosti zavisno promenljive u situacijama gde ne možemo da ih izmerimo ili koje se još nisu dogodile je prava mera uspešnosti modela. Ovde ćemo simulirati upravo takvu situaciju za četiri različita modela. Uporedićemo srednje kvadratne greške kako bismo utvrdili koji je model najbolji."
   ]
  },
  {
   "cell_type": "markdown",
   "metadata": {},
   "source": [
    "Za početak, podelićemo ceo skup tačaka (__x__,__y__) na dva dela: na uzorak na kom fitujemo funkciju (__learn__) i ostatak skupa koji koristimo za testiranje modela (__test__). Konkretno, koristićemo funkciju `random.choice()` iz biblioteke __numpy__ da dobijemo slučajan uzorak koji čine dve trećine početnog skupa, odnosno 8 od 12 elemenata. Sama funkcija nam daje slučajno izabran skup indeksa od 0 do n-1. Nakon toga biramo podatke iz __x__ i __y__ koji odgovaraju tim indeksima. Parametar `replace=False` predstavlja zahtev da se izabrane vrednosti ne ponavljaju."
   ]
  },
  {
   "cell_type": "code",
   "execution_count": 13,
   "metadata": {},
   "outputs": [],
   "source": [
    "learn=np.random.choice(12, 8, replace=False)\n",
    "test=list(set(range(n))-set(learn))"
   ]
  },
  {
   "cell_type": "code",
   "execution_count": 14,
   "metadata": {},
   "outputs": [
    {
     "name": "stdout",
     "output_type": "stream",
     "text": [
      "[ 9  4  6  5  8  3 10  1]\n"
     ]
    }
   ],
   "source": [
    "print(learn)"
   ]
  },
  {
   "cell_type": "markdown",
   "metadata": {},
   "source": [
    "Vrednosti __x__ i __y__ za učenje su __xl__ i __yl__, dok su vrednosti za testiranje __xt__ i __yt__."
   ]
  },
  {
   "cell_type": "code",
   "execution_count": 15,
   "metadata": {},
   "outputs": [],
   "source": [
    "xl=x[learn]\n",
    "xt=x[test]\n",
    "\n",
    "yl=y[learn]\n",
    "yt=y[test]"
   ]
  },
  {
   "cell_type": "markdown",
   "metadata": {},
   "source": [
    "Za deo skupa koji smo označili sa __learn__ fitovaćemo četiri polinomijalne funkcije prvog, drugog, trećeg i četvrtog reda i tako odrediti koeficijente ovih modela. Potom ćemo za svaki od tih modela konstruisati funkciju koja daje predikciju promenljive __y__."
   ]
  },
  {
   "cell_type": "code",
   "execution_count": 16,
   "metadata": {},
   "outputs": [],
   "source": [
    "m1=np.polyfit(xl,yl,1)\n",
    "m2=np.polyfit(xl,yl,2)\n",
    "m3=np.polyfit(xl,yl,3)\n",
    "m4=np.polyfit(xl,yl,4)"
   ]
  },
  {
   "cell_type": "code",
   "execution_count": 17,
   "metadata": {},
   "outputs": [],
   "source": [
    "m1_fn=np.poly1d(m1)\n",
    "m2_fn=np.poly1d(m2)\n",
    "m3_fn=np.poly1d(m3)\n",
    "m4_fn=np.poly1d(m4)"
   ]
  },
  {
   "cell_type": "markdown",
   "metadata": {},
   "source": [
    "Zbog jednostavnosti prikaza ovih funkcija uzimamo isti uređen niz vrednosti nezavisno promenljive (__xfit__) i za svaku njenu vrednost izračunavamo vrednost zavisno promenljive po različitim modelima. "
   ]
  },
  {
   "cell_type": "code",
   "execution_count": 18,
   "metadata": {},
   "outputs": [],
   "source": [
    "xfit = np.linspace(0, 3, 100)\n",
    "y1fit = m1_fn(xfit)\n",
    "y2fit = m2_fn(xfit)\n",
    "y3fit = m3_fn(xfit)\n",
    "y4fit = m4_fn(xfit)"
   ]
  },
  {
   "cell_type": "markdown",
   "metadata": {},
   "source": [
    "Reziduale i srednja kvadratna odstupanja računamo samo za tačke iz skupa __test__. Njih želimo da uporedimo."
   ]
  },
  {
   "cell_type": "code",
   "execution_count": 19,
   "metadata": {},
   "outputs": [],
   "source": [
    "rez1=np.poly1d(m1)(xt)-yt\n",
    "r1=sum(rez1**2)/len(xt)\n",
    "rez2=np.poly1d(m2)(xt)-yt\n",
    "r2=sum(rez2**2)/len(xt)\n",
    "rez3=np.poly1d(m3)(xt)-yt\n",
    "r3=sum(rez3**2)/len(xt)\n",
    "rez4=np.poly1d(m4)(xt)-yt\n",
    "r4=sum(rez4**2)/len(xt)"
   ]
  },
  {
   "cell_type": "markdown",
   "metadata": {},
   "source": [
    "Na sledećoj slici ćemo prikazati grafike za sva četiri modela, redom od polinoma prvog do polinoma četvrtog stepena. Plave tačke prikadaju skupu __learn__, a narandžaste skupu __test__. Iznad grafika je prikazana odgovarajuća vrednost srednjeg kvadratnog odstupanja, __MSE__."
   ]
  },
  {
   "cell_type": "code",
   "execution_count": 20,
   "metadata": {},
   "outputs": [
    {
     "data": {
      "text/plain": [
       "Text(0.5, 1.0, 'MSE=4.35')"
      ]
     },
     "execution_count": 20,
     "metadata": {},
     "output_type": "execute_result"
    },
    {
     "data": {
      "image/png": "[encoded data removed]",
      "text/plain": [
       "<Figure size 1296x360 with 4 Axes>"
      ]
     },
     "metadata": {
      "needs_background": "light"
     },
     "output_type": "display_data"
    }
   ],
   "source": [
    "fig, ax = plt.subplots(nrows=1, ncols=4, figsize=(18, 5))\n",
    "ax[0].scatter(xl, yl)\n",
    "ax[0].plot(xfit,y1fit,color=\"gray\")\n",
    "ax[0].scatter(xt,yt,color=\"orange\")\n",
    "ax[0].set_title(f\"MSE={r1:.3}\")\n",
    "\n",
    "ax[1].scatter(xl, yl)\n",
    "ax[1].plot(xfit,y2fit,color=\"gray\")\n",
    "ax[1].scatter(xt,yt,color=\"orange\")\n",
    "ax[1].set_title(f\"MSE={r2:.3}\")\n",
    "\n",
    "ax[2].scatter(xl, yl)\n",
    "ax[2].plot(xfit,y3fit,color=\"gray\")\n",
    "ax[2].scatter(xt,yt,color=\"orange\")\n",
    "ax[2].set_title(f\"MSE={r3:.3}\")\n",
    "\n",
    "ax[3].scatter(xl, yl)\n",
    "ax[3].plot(xfit,y4fit,color=\"gray\")\n",
    "ax[3].scatter(xt,yt,color=\"orange\")\n",
    "ax[3].set_title(f\"MSE={r4:.3}\")\n"
   ]
  },
  {
   "cell_type": "markdown",
   "metadata": {},
   "source": [
    "Ako pažljivo pogledamo grafike, videćemo da polinom prvog reda, odnosno linearna funkcija, ima najveća odstupanja od tačaka iz skupa __learn__. Najbolje je slaganje za polinom najvišeg reda gde sve plave tačke leže baš na krivoj kojom smo fitovali podatke. Ovde je odstupanje tačaka iz __learn__ uzorka od polinoma četvrtog reda jednaka nuli. Međutim, nas više interesuje koliko će tačke odstupati od funkcije za skup kojim testiramo modele. Narandžaste tačke najmanje odstupaju za polinom drugog reda. \n",
    "\n",
    "Pojava da funkcija ne prati dovoljno dobro trend tačaka iz uzorka zbog čega su odstupanja za testni skup velika naziva se _under-fitting_. To svakako nije dobro, ali ni druga krajnost nije dobra. Kada funkcija previše dobro prati tačke iz uzorka, greške za testni skup opet postaju velike. Ta pojava se naziva _over-fitting_. Mi unapred, bez poznavanja vrednosti za testni skup, ne možemo da znamo koji je model najbolji, ali je očekivano da to najjednostavniji model koji prati trend tačaka. Treba se čuvati obe krajnosti.\n",
    "\n",
    "Složenost modela ne zavisi samo od složenosti funkcije već i od broja nezavisno promenljivih. Mi smo ovde radili samo sa jednom nezavisno promenljivom, __x__, ali kod mašinskog učenja taj broj može biti mnogo veći. U takvim slučajevima moramo da uradimo odabir promenljivih koje uključujemo u model (_feature selection_). Premalo nije dobro, ali nije dobro ni previše. _Under-fitting_ i _over-fitting_ su standarni izazovi za mašinsko učenje. Uvek treba tražiti modele koji uključuju samo zaista važne promenljive i gde su funkcije koje ih povezuju što jednostavnije."
   ]
  },
  {
   "cell_type": "markdown",
   "metadata": {},
   "source": [
    "## Primer na empirijskim podacima"
   ]
  },
  {
   "cell_type": "markdown",
   "metadata": {},
   "source": [
    "Isti postupak koji smo uradili sa simuliranim podacima možemo da ponovimo i sa empirijskim. Za tu svrhu ćemo koristiti stari, poznati skup podataka [cars](https://stat.ethz.ch/R-manual/R-devel/library/datasets/html/cars.html). On sadrži podatke o 50 merenja dužine kočenja u zavisnosti od brzine automobila. "
   ]
  },
  {
   "cell_type": "code",
   "execution_count": 21,
   "metadata": {},
   "outputs": [],
   "source": [
    "import pandas as pd"
   ]
  },
  {
   "cell_type": "code",
   "execution_count": 22,
   "metadata": {},
   "outputs": [],
   "source": [
    "cars=pd.read_csv(\"data/cars.csv\")"
   ]
  },
  {
   "cell_type": "code",
   "execution_count": 23,
   "metadata": {},
   "outputs": [
    {
     "name": "stdout",
     "output_type": "stream",
     "text": [
      "<class 'pandas.core.frame.DataFrame'>\n",
      "RangeIndex: 50 entries, 0 to 49\n",
      "Data columns (total 2 columns):\n",
      " #   Column  Non-Null Count  Dtype\n",
      "---  ------  --------------  -----\n",
      " 0   speed   50 non-null     int64\n",
      " 1   dist    50 non-null     int64\n",
      "dtypes: int64(2)\n",
      "memory usage: 928.0 bytes\n"
     ]
    }
   ],
   "source": [
    "cars.info()"
   ]
  },
  {
   "cell_type": "code",
   "execution_count": 24,
   "metadata": {},
   "outputs": [
    {
     "data": {
      "image/png": "[encoded data removed]",
      "text/plain": [
       "<Figure size 432x288 with 1 Axes>"
      ]
     },
     "metadata": {
      "needs_background": "light"
     },
     "output_type": "display_data"
    }
   ],
   "source": [
    "plt.scatter(cars.speed,cars.dist)\n",
    "plt.xlabel(\"Brzina automobila [mph]\")\n",
    "plt.ylabel(\"Dužina kočenja [ft]\");"
   ]
  },
  {
   "cell_type": "markdown",
   "metadata": {},
   "source": [
    "Za analizu možemo da iskoristimo iste linije koda koje smo već koristili za simulirane podatke. Samo Treba izmeniti parametre kod `random.choice()` funkcije (sada imamo 50 elemenata niza i biramo 35 za obučavanje) i kod funkcije `linspace()` gde treba izračunati podatke na intervalu od 0 do 25."
   ]
  },
  {
   "cell_type": "code",
   "execution_count": 25,
   "metadata": {},
   "outputs": [],
   "source": [
    "learn=np.random.choice(50, 35, replace=False)\n",
    "test=list(set(range(50))-set(learn))\n",
    "\n",
    "xl=cars.speed[learn]\n",
    "xt=cars.speed[test]\n",
    "\n",
    "yl=cars.dist[learn]\n",
    "yt=cars.dist[test]"
   ]
  },
  {
   "cell_type": "code",
   "execution_count": 26,
   "metadata": {},
   "outputs": [
    {
     "data": {
      "text/plain": [
       "[0, 34, 38, 39, 8, 10, 13, 45, 46, 47, 17, 18, 48, 49, 30]"
      ]
     },
     "execution_count": 26,
     "metadata": {},
     "output_type": "execute_result"
    }
   ],
   "source": [
    "test"
   ]
  },
  {
   "cell_type": "code",
   "execution_count": 27,
   "metadata": {},
   "outputs": [
    {
     "data": {
      "text/plain": [
       "<matplotlib.collections.PathCollection at 0x1c4bb5f4310>"
      ]
     },
     "execution_count": 27,
     "metadata": {},
     "output_type": "execute_result"
    },
    {
     "data": {
      "image/png": "[encoded data removed]",
      "text/plain": [
       "<Figure size 432x288 with 1 Axes>"
      ]
     },
     "metadata": {
      "needs_background": "light"
     },
     "output_type": "display_data"
    }
   ],
   "source": [
    "plt.scatter(cars.speed,cars.dist)\n",
    "plt.scatter(xt,yt,color=\"orange\")"
   ]
  },
  {
   "cell_type": "code",
   "execution_count": 28,
   "metadata": {},
   "outputs": [],
   "source": [
    "m1=np.polyfit(xl,yl,1)\n",
    "m2=np.polyfit(xl,yl,2)\n",
    "m3=np.polyfit(xl,yl,3)\n",
    "m4=np.polyfit(xl,yl,4)"
   ]
  },
  {
   "cell_type": "code",
   "execution_count": 29,
   "metadata": {},
   "outputs": [],
   "source": [
    "m1_fn=np.poly1d(m1)\n",
    "m2_fn=np.poly1d(m2)\n",
    "m3_fn=np.poly1d(m3)\n",
    "m4_fn=np.poly1d(m4)"
   ]
  },
  {
   "cell_type": "code",
   "execution_count": 30,
   "metadata": {},
   "outputs": [],
   "source": [
    "xfit = np.linspace(0, 25, 100)\n",
    "y1fit = m1_fn(xfit)\n",
    "y2fit = m2_fn(xfit)\n",
    "y3fit = m3_fn(xfit)\n",
    "y4fit = m4_fn(xfit)"
   ]
  },
  {
   "cell_type": "code",
   "execution_count": 31,
   "metadata": {},
   "outputs": [],
   "source": [
    "rez1=np.poly1d(m1)(xt)-yt\n",
    "r1=sum(rez1**2)/len(xt)\n",
    "rez2=np.poly1d(m2)(xt)-yt\n",
    "r2=sum(rez2**2)/len(xt)\n",
    "rez3=np.poly1d(m3)(xt)-yt\n",
    "r3=sum(rez3**2)/len(xt)\n",
    "rez4=np.poly1d(m4)(xt)-yt\n",
    "r4=sum(rez4**2)/len(xt)"
   ]
  },
  {
   "cell_type": "code",
   "execution_count": 32,
   "metadata": {},
   "outputs": [
    {
     "data": {
      "text/plain": [
       "Text(0.5, 1.0, 'MSE=6.14e+02')"
      ]
     },
     "execution_count": 32,
     "metadata": {},
     "output_type": "execute_result"
    },
    {
     "data": {
      "image/png": "[encoded data removed]",
      "text/plain": [
       "<Figure size 1296x360 with 4 Axes>"
      ]
     },
     "metadata": {
      "needs_background": "light"
     },
     "output_type": "display_data"
    }
   ],
   "source": [
    "fig, ax = plt.subplots(nrows=1, ncols=4, figsize=(18, 5))\n",
    "ax[0].scatter(xl, yl)\n",
    "ax[0].plot(xfit,y1fit,color=\"gray\")\n",
    "ax[0].scatter(xt,yt,color=\"orange\")\n",
    "ax[0].set_title(f\"MSE={r1:.3}\")\n",
    "\n",
    "ax[1].scatter(xl, yl)\n",
    "ax[1].plot(xfit,y2fit,color=\"gray\")\n",
    "ax[1].scatter(xt,yt,color=\"orange\")\n",
    "ax[1].set_title(f\"MSE={r2:.3}\")\n",
    "\n",
    "ax[2].scatter(xl, yl)\n",
    "ax[2].plot(xfit,y3fit,color=\"gray\")\n",
    "ax[2].scatter(xt,yt,color=\"orange\")\n",
    "ax[2].set_title(f\"MSE={r3:.3}\")\n",
    "\n",
    "ax[3].scatter(xl, yl)\n",
    "ax[3].plot(xfit,y4fit,color=\"gray\")\n",
    "ax[3].scatter(xt,yt,color=\"orange\")\n",
    "ax[3].set_title(f\"MSE={r4:.3}\")\n"
   ]
  },
  {
   "cell_type": "markdown",
   "metadata": {},
   "source": [
    "Izbor podataka za učenje može mnogo da utiče na kvalitet fita. U ovom konkretnom slučaju, generator slučajnih brojeva je odlučio da u skupu za učenje ne bude ni jedna od pet tačaka sa najvećim brzinama (narandžaste tačke sa desne strane). Iako nam izgleda da bi idealni fit trebalo da \"skreće na gore\" za velike brzine, to se ovde nije desilo jer kod plavih tačaka tog trenda nama. Zbog toga nema značajne razlike između fita linearnom i kvadratnom funkcijom dok krive trećeg i četvrtog stepena pronalaze trend u kontra smeru. Izgleda da su sva četiri modela upotrebljiva i da razlika u vrednosti MSE nije velika. Ipak, treba primetiti da predikcije na krajevima intervala za funkcije višeg reda prilično divergiraju.\n",
    "\n",
    "Da li bi srednje kvadratno odstupanje za kvadratnu funkciju bilo najmanje i u slučaju da je izbor tačaka za učenje bio drugačiji možemo lako da proverimo. Ponovo izvršite sve ćelije počevši od `learn=np.random.choice(50, 35, replace=False)` do iscrtavanja grafika pa ćete videti hoće li rezultati biti drugači i koliko će velika biti razlika među modelima. Ovo možete, naravno, da ponovite više puta. Na taj način možete da proverite pouzdanost svog izbora modela."
   ]
  }
 ],
 "metadata": {
  "kernelspec": {
   "display_name": "Python 3 (ipykernel)",
   "language": "python",
   "name": "python3"
  },
  "language_info": {
   "codemirror_mode": {
    "name": "ipython",
    "version": 3
   },
   "file_extension": ".py",
   "mimetype": "text/x-python",
   "name": "python",
   "nbconvert_exporter": "python",
   "pygments_lexer": "ipython3",
   "version": "3.8.8"
  }
 },
 "nbformat": 4,
 "nbformat_minor": 2
}

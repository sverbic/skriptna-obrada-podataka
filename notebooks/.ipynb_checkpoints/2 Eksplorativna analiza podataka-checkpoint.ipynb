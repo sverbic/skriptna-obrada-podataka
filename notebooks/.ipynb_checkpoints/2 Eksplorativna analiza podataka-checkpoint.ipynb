{
 "cells": [
  {
   "cell_type": "markdown",
   "metadata": {},
   "source": [
    "# Eksplorativna analiza podataka"
   ]
  },
  {
   "cell_type": "markdown",
   "metadata": {},
   "source": [
    "> U ovoj svesci ćemo prikazati kako radimo preliminarnu, eksplorativnu analizu podataka sa kojima se prvi put srećemo. Teško je postaviti granice dokle se analiza smatra eksplorativnom, a kad postaje neka druga. Sigurno je da bez nje ne možemo mnogo da uradimo kasnije. EDA je korak koji ne može da se preskoči."
   ]
  },
  {
   "cell_type": "markdown",
   "metadata": {},
   "source": [
    "Eksplorativna analiza podataka (EDA od eng. _Exploratory Data Analysis_) je preliminarna faza analize podataka. Ona je veoma važna za podatke sa kojima se prvi put susrećemo. Tokom ove faze ispitujemo opšte karakteristike skupa podataka: koji su to podaci, koliko ih ima, kog su tipa, kakva im je struktura itd. EDA daje uvid u podatke numerički i grafički. Idealno, ova dva načina se kombinuju po potrebi. "
   ]
  },
  {
   "cell_type": "markdown",
   "metadata": {},
   "source": [
    "Ekplorativna analiza zahteva dosta vremena. Iako bi trebalo da prethodni fazi čišćenja podataka, često ih nije moguće razdvojiti pa se rade istovremeno. EDA može da sadrži različite tipove kratkih analize, ali se oni svode na svega nekoliko glavnih zadataka. Od EDA se očekuje da:\n",
    "* istraži strukturu podataka (koliko ima podataka, kog, tipa, šta su atributi),\n",
    "* uoči nedostajuće podatke i očigledne greške,\n",
    "* uoči raspodele podataka i proceni njene parametre,\n",
    "* omogući skiciranje modela odnosa među varijablama i da\n",
    "* omogući identifikovanje ključnih varijabli. "
   ]
  },
  {
   "cell_type": "markdown",
   "metadata": {},
   "source": [
    "Za veće i heterogene skupove podataka nije dovoljno dati sumarni prikaz sveden na nekoliko brojeva. Često je neophodno da \"vidimo\" podatke, njihove raspodele i neočekivana odstupanja. Grafici u EDA su obično histogrami, kutijasti dijagrami (_boxplots_) i tačkasti dijagrami (_scetter plots_). Svrha ovih dijagrama nije komunikacija rezultata već pre svega vizuelno ispitivanje skupa podataka."
   ]
  },
  {
   "cell_type": "markdown",
   "metadata": {},
   "source": [
    "Ovde ćemo prikazati kako bi eksplorativna analiza mogla da izgleda za istorijske podatke o rang-listama Fortune 500. Fajl sa ovim podacima je dostupan na https://s3.amazonaws.com/dq-blog-files/fortune500.csv. Nemamo meta-podatke o podacima u ovom fajlu tako da ćemo morati sami da otkrijemo šta je unutra."
   ]
  },
  {
   "cell_type": "code",
   "execution_count": 1,
   "metadata": {},
   "outputs": [],
   "source": [
    "import pandas as pd\n",
    "import numpy as np\n",
    "import matplotlib.pyplot as plt"
   ]
  },
  {
   "cell_type": "markdown",
   "metadata": {},
   "source": [
    "Prvo, da učitamo __fortune500.csv__ fajl direktno sa veba. Sadržaj fajla smeštamo u *data frame* koji ćemo kreativno nazvati **df**.\n",
    "\n",
    "(Ako se ispostavi da link više ne radi, koristite istoimeni fajl iz foldera __/data__.)"
   ]
  },
  {
   "cell_type": "code",
   "execution_count": 2,
   "metadata": {},
   "outputs": [],
   "source": [
    "df=pd.read_csv(\"https://s3.amazonaws.com/dq-blog-files/fortune500.csv\")"
   ]
  },
  {
   "cell_type": "markdown",
   "metadata": {},
   "source": [
    "## Struktura skupa podataka"
   ]
  },
  {
   "cell_type": "markdown",
   "metadata": {},
   "source": [
    "Učitali smo podatke u tabelu. Sada treba da vidimo šta je u tabeli. Kako prvo, da vidimo koje su dimenzije tabele?"
   ]
  },
  {
   "cell_type": "code",
   "execution_count": 3,
   "metadata": {
    "scrolled": true
   },
   "outputs": [
    {
     "data": {
      "text/plain": [
       "(25500, 5)"
      ]
     },
     "execution_count": 3,
     "metadata": {},
     "output_type": "execute_result"
    }
   ],
   "source": [
    "df.shape"
   ]
  },
  {
   "cell_type": "markdown",
   "metadata": {},
   "source": [
    "Tabela ima 25500 vrsta i 5 kolona. Šta se nalazi po kolonama?"
   ]
  },
  {
   "cell_type": "code",
   "execution_count": 4,
   "metadata": {},
   "outputs": [
    {
     "name": "stdout",
     "output_type": "stream",
     "text": [
      "<class 'pandas.core.frame.DataFrame'>\n",
      "RangeIndex: 25500 entries, 0 to 25499\n",
      "Data columns (total 5 columns):\n",
      " #   Column                 Non-Null Count  Dtype  \n",
      "---  ------                 --------------  -----  \n",
      " 0   Year                   25500 non-null  int64  \n",
      " 1   Rank                   25500 non-null  int64  \n",
      " 2   Company                25500 non-null  object \n",
      " 3   Revenue (in millions)  25500 non-null  float64\n",
      " 4   Profit (in millions)   25500 non-null  object \n",
      "dtypes: float64(1), int64(2), object(2)\n",
      "memory usage: 996.2+ KB\n"
     ]
    }
   ],
   "source": [
    "df.info()"
   ]
  },
  {
   "cell_type": "markdown",
   "metadata": {},
   "source": [
    "Vidimo da _data frame_ ima 5 atributa. Prve dve (__Year__ i __Rank__) su celobrojni numerički vektori, treća (__Company__) je objekat, verovatno samo niz stringova, četvrto (__Revenue..in.millions__) je numerički vektor (niz decimalnih brojeva) dok je poslednji atribut __Profit (in millions)__ ponovo objekat. Ovo je malo iznenađenje jer smo očekivali još jedan numerički vektor. Izgleda da u toj koloni ima još nečega sem brojeva."
   ]
  },
  {
   "cell_type": "markdown",
   "metadata": {},
   "source": [
    "Izgleda kao da sve kolone imaju isti broj \"non-null\" podataka. Ipak, u nepostojeće podatke (\"null\") se ne računaju podaci koji nisu dostupni (\"not avalibale\" ili kratko NA). Dobra je praksa proveriti na početku da li ima NA podataka u tabeli i u kojim su kolonama. Funkcija `is.na()` će za svaki element tabele proveriti da li je NA ili ne, dok će funkcija `sum()` sabrati koliko ih ima po kolonama."
   ]
  },
  {
   "cell_type": "code",
   "execution_count": 5,
   "metadata": {},
   "outputs": [
    {
     "name": "stdout",
     "output_type": "stream",
     "text": [
      "Year                     0\n",
      "Rank                     0\n",
      "Company                  0\n",
      "Revenue (in millions)    0\n",
      "Profit (in millions)     0\n",
      "dtype: int64\n"
     ]
    }
   ],
   "source": [
    "print(df.isna().sum())"
   ]
  },
  {
   "cell_type": "markdown",
   "metadata": {},
   "source": [
    "Ni u jednoj koloni nema NA podatka. Ipak, u koloni __Profit (in millions)__ mora da ima i nečega što nisu brojevi. Probajte da izračunate srednju vrednost za profit. Ako su sve brojevi, dobićete broj, ali ako nisu, dobićete grešku."
   ]
  },
  {
   "cell_type": "code",
   "execution_count": 6,
   "metadata": {},
   "outputs": [],
   "source": [
    "# df['Profit (in millions)'].mean()"
   ]
  },
  {
   "cell_type": "markdown",
   "metadata": {},
   "source": [
    "Pošto su nazivi poslednje dve kolone dugački i nepraktični, bilo bi dobro da ih skratimo pre nego što nastavimo analizu. Funkcija `rename()` upravo tome služi. Argument ove funkcije je struktura tipa rečnik gde u vitičastim `{}` zagradama imamo niz parova stringova razdvojenih sa dve tečke `:`. Svaki par ukazuje na to šta se u šta mapira, odnosno šta čime treba zameniti."
   ]
  },
  {
   "cell_type": "code",
   "execution_count": 7,
   "metadata": {},
   "outputs": [],
   "source": [
    "df=df.rename(columns={'Revenue (in millions)':'Revenue','Profit (in millions)':'Profit'})"
   ]
  },
  {
   "cell_type": "code",
   "execution_count": 8,
   "metadata": {},
   "outputs": [
    {
     "data": {
      "text/html": [
       "<div>\n",
       "<style scoped>\n",
       "    .dataframe tbody tr th:only-of-type {\n",
       "        vertical-align: middle;\n",
       "    }\n",
       "\n",
       "    .dataframe tbody tr th {\n",
       "        vertical-align: top;\n",
       "    }\n",
       "\n",
       "    .dataframe thead th {\n",
       "        text-align: right;\n",
       "    }\n",
       "</style>\n",
       "<table border=\"1\" class=\"dataframe\">\n",
       "  <thead>\n",
       "    <tr style=\"text-align: right;\">\n",
       "      <th></th>\n",
       "      <th>Year</th>\n",
       "      <th>Rank</th>\n",
       "      <th>Company</th>\n",
       "      <th>Revenue</th>\n",
       "      <th>Profit</th>\n",
       "    </tr>\n",
       "  </thead>\n",
       "  <tbody>\n",
       "    <tr>\n",
       "      <th>0</th>\n",
       "      <td>1955</td>\n",
       "      <td>1</td>\n",
       "      <td>General Motors</td>\n",
       "      <td>9823.5</td>\n",
       "      <td>806</td>\n",
       "    </tr>\n",
       "    <tr>\n",
       "      <th>1</th>\n",
       "      <td>1955</td>\n",
       "      <td>2</td>\n",
       "      <td>Exxon Mobil</td>\n",
       "      <td>5661.4</td>\n",
       "      <td>584.8</td>\n",
       "    </tr>\n",
       "    <tr>\n",
       "      <th>2</th>\n",
       "      <td>1955</td>\n",
       "      <td>3</td>\n",
       "      <td>U.S. Steel</td>\n",
       "      <td>3250.4</td>\n",
       "      <td>195.4</td>\n",
       "    </tr>\n",
       "    <tr>\n",
       "      <th>3</th>\n",
       "      <td>1955</td>\n",
       "      <td>4</td>\n",
       "      <td>General Electric</td>\n",
       "      <td>2959.1</td>\n",
       "      <td>212.6</td>\n",
       "    </tr>\n",
       "    <tr>\n",
       "      <th>4</th>\n",
       "      <td>1955</td>\n",
       "      <td>5</td>\n",
       "      <td>Esmark</td>\n",
       "      <td>2510.8</td>\n",
       "      <td>19.1</td>\n",
       "    </tr>\n",
       "  </tbody>\n",
       "</table>\n",
       "</div>"
      ],
      "text/plain": [
       "   Year  Rank           Company  Revenue Profit\n",
       "0  1955     1    General Motors   9823.5    806\n",
       "1  1955     2       Exxon Mobil   5661.4  584.8\n",
       "2  1955     3        U.S. Steel   3250.4  195.4\n",
       "3  1955     4  General Electric   2959.1  212.6\n",
       "4  1955     5            Esmark   2510.8   19.1"
      ]
     },
     "execution_count": 8,
     "metadata": {},
     "output_type": "execute_result"
    }
   ],
   "source": [
    "df.head()"
   ]
  },
  {
   "cell_type": "markdown",
   "metadata": {},
   "source": [
    "Sada možemo detaljnije da pogledamo šta se nalazi u koloni __Profit__. Ukoliko ima vrednosti koje se često ponavljaju, one bi trebalo da se vide kad uradimo tabluaciju, odnosno prikažemo koja se vrednost koliko puta ponavalja. To radimo pomoću funkcije`value_counts()`. Ukoliko ne kažemo drugačije, ova funkcija će sortirati vrednosti od najveće do najmanje. To znači da će najfrekventnija vrednost biti na samom početku."
   ]
  },
  {
   "cell_type": "code",
   "execution_count": 9,
   "metadata": {},
   "outputs": [
    {
     "data": {
      "text/plain": [
       "N.A.     369\n",
       "4         73\n",
       "3         71\n",
       "5.7       67\n",
       "6         67\n",
       "        ... \n",
       "294.9      1\n",
       "1898       1\n",
       "-384       1\n",
       "851        1\n",
       "770.4      1\n",
       "Name: Profit, Length: 6977, dtype: int64"
      ]
     },
     "execution_count": 9,
     "metadata": {},
     "output_type": "execute_result"
    }
   ],
   "source": [
    "df.Profit.value_counts()"
   ]
  },
  {
   "cell_type": "markdown",
   "metadata": {},
   "source": [
    "Izgleda da sem brojeva u koloni __Profit__ imamo i tekst \"N.A.\" 369 puta. To je string u kom se nalazi teks \"N.A.\" i to nije isto što i Pajtonova oznaka za NA. Zato je funkcija `is.na()` nije prepoznala. Pokušaćemo da ove vrednosti pretvorimo u numeričke pomoću funkcije `to_numeric()` iz biblioteke __pandas__ tako što će sve što nisu brojevi postati __NaN__ (Pajtonova oznaka za _not-a-number_)."
   ]
  },
  {
   "cell_type": "code",
   "execution_count": 10,
   "metadata": {},
   "outputs": [],
   "source": [
    "df.Profit = pd.to_numeric(df.Profit, errors='coerce')"
   ]
  },
  {
   "cell_type": "code",
   "execution_count": 11,
   "metadata": {},
   "outputs": [
    {
     "name": "stdout",
     "output_type": "stream",
     "text": [
      "Year         0\n",
      "Rank         0\n",
      "Company      0\n",
      "Revenue      0\n",
      "Profit     369\n",
      "dtype: int64\n"
     ]
    }
   ],
   "source": [
    "print(df.isna().sum())"
   ]
  },
  {
   "cell_type": "markdown",
   "metadata": {},
   "source": [
    "Sada možemo ponovo da uradimo tabulaciju. Važno je samo da naglasimo da funkcija ne preskače vrednosti koje nisu brojevi pomoću `dropna=False`."
   ]
  },
  {
   "cell_type": "code",
   "execution_count": 12,
   "metadata": {},
   "outputs": [
    {
     "data": {
      "text/plain": [
       "NaN       369\n",
       "4.0        73\n",
       "3.0        71\n",
       "5.7        67\n",
       "6.0        67\n",
       "         ... \n",
       "1224.4      1\n",
       "185.9       1\n",
       "306.9       1\n",
       "834.0       1\n",
       "1360.2      1\n",
       "Name: Profit, Length: 6977, dtype: int64"
      ]
     },
     "execution_count": 12,
     "metadata": {},
     "output_type": "execute_result"
    }
   ],
   "source": [
    "df.Profit.value_counts(dropna=False)"
   ]
  },
  {
   "cell_type": "markdown",
   "metadata": {},
   "source": [
    "Vidimo da su sve nenumeričke vrednosti postale NaN. Pajton će sada znati da računa sa vrednostima u ovoj koloni."
   ]
  },
  {
   "cell_type": "code",
   "execution_count": 13,
   "metadata": {},
   "outputs": [
    {
     "data": {
      "text/plain": [
       "207.9036767339139"
      ]
     },
     "execution_count": 13,
     "metadata": {},
     "output_type": "execute_result"
    }
   ],
   "source": [
    "df.Profit.mean()"
   ]
  },
  {
   "cell_type": "markdown",
   "metadata": {},
   "source": [
    "Pošto su nam sad sve kolone sem naziva kompanije numeričke možemo da pogledamo koje vrednosti imaju."
   ]
  },
  {
   "cell_type": "markdown",
   "metadata": {},
   "source": [
    "Podaci su dati po godinama. Koje godine imamo u ovoj tabeli?"
   ]
  },
  {
   "cell_type": "code",
   "execution_count": 14,
   "metadata": {},
   "outputs": [
    {
     "data": {
      "text/plain": [
       "array([1955, 1956, 1957, 1958, 1959, 1960, 1961, 1962, 1963, 1964, 1965,\n",
       "       1966, 1967, 1968, 1969, 1970, 1971, 1972, 1973, 1974, 1975, 1976,\n",
       "       1977, 1978, 1979, 1980, 1981, 1982, 1983, 1984, 1985, 1986, 1987,\n",
       "       1988, 1989, 1990, 1991, 1992, 1993, 1994, 1995, 1996, 1997, 1998,\n",
       "       1999, 2000, 2001, 2002, 2003, 2004, 2005], dtype=int64)"
      ]
     },
     "execution_count": 14,
     "metadata": {},
     "output_type": "execute_result"
    }
   ],
   "source": [
    "df.Year.unique() # unique nam daje samo jedinstvene vrenosti, bez ponavljanja"
   ]
  },
  {
   "cell_type": "markdown",
   "metadata": {},
   "source": [
    "Imamo, dakle, 51 godinu. Koliko je to vrsta podataka po godini?"
   ]
  },
  {
   "cell_type": "code",
   "execution_count": 15,
   "metadata": {},
   "outputs": [
    {
     "data": {
      "text/plain": [
       "1968    500\n",
       "1995    500\n",
       "1976    500\n",
       "1992    500\n",
       "1961    500\n",
       "Name: Year, dtype: int64"
      ]
     },
     "execution_count": 15,
     "metadata": {},
     "output_type": "execute_result"
    }
   ],
   "source": [
    "df.Year.value_counts().head()"
   ]
  },
  {
   "cell_type": "markdown",
   "metadata": {},
   "source": [
    "Za svaku godinu po 500 redova, verovatno 500 različitih kompanija. Onih 25500 redova je baš 51·500."
   ]
  },
  {
   "cell_type": "markdown",
   "metadata": {},
   "source": [
    "Pošto podaci nisu anotirani, nije sasvim jasno šta znači \"rank\". Ili su pojedinačni unosi rangirani ili su kompanije, ali ne znamo po čemu? Po profitu ili prihodima?\n",
    "Da vidimo u kom intervalu imamo vrednosti za **rank**."
   ]
  },
  {
   "cell_type": "code",
   "execution_count": 16,
   "metadata": {},
   "outputs": [
    {
     "data": {
      "text/plain": [
       "(1, 500)"
      ]
     },
     "execution_count": 16,
     "metadata": {},
     "output_type": "execute_result"
    }
   ],
   "source": [
    "min(df.Rank), max(df.Rank)"
   ]
  },
  {
   "cell_type": "markdown",
   "metadata": {},
   "source": [
    "Verovatno je rangirano 500 kompanija svake godine. Koliko imamo ukupno različitih kompanija?"
   ]
  },
  {
   "cell_type": "code",
   "execution_count": 17,
   "metadata": {},
   "outputs": [
    {
     "data": {
      "text/plain": [
       "1887"
      ]
     },
     "execution_count": 17,
     "metadata": {},
     "output_type": "execute_result"
    }
   ],
   "source": [
    "len(df.Company.unique())"
   ]
  },
  {
   "cell_type": "markdown",
   "metadata": {},
   "source": [
    "Više ih je od 500. Izgleda da za svaku godinu imamo listu 500 kompanija koje nisu nužno iste. "
   ]
  },
  {
   "cell_type": "markdown",
   "metadata": {},
   "source": [
    "Koliko ima kompanija po godinama?"
   ]
  },
  {
   "cell_type": "markdown",
   "metadata": {},
   "source": [
    "Da vidimo koje se kompanije najčešće pojavljuju u tabeli. Funkcija `table()` će nam dati sve kompanije. Bolje je da ih sortiramo (funkcijom `sort()`) pa da onda prikažemo samo nekoliko prvih uz pomoć `head()` funkcije."
   ]
  },
  {
   "cell_type": "code",
   "execution_count": 18,
   "metadata": {},
   "outputs": [
    {
     "data": {
      "text/plain": [
       "CBS                               57\n",
       "OfficeMax                         55\n",
       "Kimberly-Clark                    51\n",
       "United Technologies               51\n",
       "Gillette                          51\n",
       "                                  ..\n",
       "Henley Manufacturing               1\n",
       "E.T. Barwick Industries            1\n",
       "Du Pont Merck Pharmaceutical       1\n",
       "Truax-Traer Coal                   1\n",
       "Marquette Cement Manufacturing     1\n",
       "Name: Company, Length: 1887, dtype: int64"
      ]
     },
     "execution_count": 18,
     "metadata": {},
     "output_type": "execute_result"
    }
   ],
   "source": [
    "df.Company.value_counts()"
   ]
  },
  {
   "cell_type": "markdown",
   "metadata": {},
   "source": [
    "Kompanija \"CBS\" se pojavljuje 57 puta u 51 godini. Da li to znači da ista firma može da se pojavi više puta u istoj godini? Proverićemo."
   ]
  },
  {
   "cell_type": "code",
   "execution_count": 19,
   "metadata": {},
   "outputs": [
    {
     "data": {
      "text/plain": [
       "1995    2\n",
       "1981    2\n",
       "1980    2\n",
       "1979    2\n",
       "1978    2\n",
       "1977    2\n",
       "1976    2\n",
       "1975    2\n",
       "1974    2\n",
       "1973    2\n",
       "1972    2\n",
       "1968    1\n",
       "1964    1\n",
       "1965    1\n",
       "1966    1\n",
       "1967    1\n",
       "1984    1\n",
       "1969    1\n",
       "1970    1\n",
       "1971    1\n",
       "1962    1\n",
       "1982    1\n",
       "1963    1\n",
       "1961    1\n",
       "1985    1\n",
       "1960    1\n",
       "1986    1\n",
       "1987    1\n",
       "1988    1\n",
       "1989    1\n",
       "1990    1\n",
       "1991    1\n",
       "1992    1\n",
       "1993    1\n",
       "1994    1\n",
       "1996    1\n",
       "1997    1\n",
       "1998    1\n",
       "1999    1\n",
       "2000    1\n",
       "1955    1\n",
       "1956    1\n",
       "1957    1\n",
       "1958    1\n",
       "1959    1\n",
       "1983    1\n",
       "Name: Year, dtype: int64"
      ]
     },
     "execution_count": 19,
     "metadata": {},
     "output_type": "execute_result"
    }
   ],
   "source": [
    "df.Year[df.Company==\"CBS\"].value_counts()"
   ]
  },
  {
   "cell_type": "markdown",
   "metadata": {},
   "source": [
    "Na sličan način možemo da proverimo koje se vrednosti načaze u ostalim kolonama. Možda je bolje da podatke prikažemo grafički. Tako će biti preglednije."
   ]
  },
  {
   "cell_type": "markdown",
   "metadata": {},
   "source": [
    "Eksplorativna analiza podrazumeva vizuelizaciju podataka. Vizuelizacija je pomoć u analizi. Često je lakše razumeti podatke ako ih vidimo nego ako gledamo samo statistike. Te vizuelizacije ne moraju da budu posebno lepe je nisu namenjene nikome drugom do vama koji radite analizu. Zbog toga nećemo trošiti previše vremena na estetiku grafikona."
   ]
  },
  {
   "cell_type": "markdown",
   "metadata": {},
   "source": [
    "## Univarijatna analiza"
   ]
  },
  {
   "cell_type": "markdown",
   "metadata": {},
   "source": [
    "Ako radimo analizu samo jedne promenljive, onda je ta analiza univarijatna. Nema mnogo toga što možemo da uradimo sa jednom promenljivom, odnosno nizom njenih vrednosti. Možemo da nađemo mere centralne tendencije (srednja vrednost, medijana i slični), da nađemo meru rastura (varijansa, standardna devijacija ili slično) ili da nacrtamo raspodelu ovih vrednosti (npr. pomoću histograma ili kutijastih dijagrama)."
   ]
  },
  {
   "cell_type": "markdown",
   "metadata": {},
   "source": [
    "U ovom konkretnom slučaju ćemo histogramom prikazati broj kompanija koje se zovu \"CBS\" po godinama. Ono što vidimo je da se \"CBS\" uglavnom pojavljuje jednom na Fortune500 listi svake godine, da ima desetak godina kada se pojavljuje dvaput i da ga od 2002. ili 2003. (ne vidi se najbolje na grafikonu) nema na listi. "
   ]
  },
  {
   "cell_type": "code",
   "execution_count": 20,
   "metadata": {},
   "outputs": [
    {
     "data": {
      "image/png": "[encoded data removed]",
      "text/plain": [
       "<Figure size 432x288 with 1 Axes>"
      ]
     },
     "metadata": {
      "needs_background": "light"
     },
     "output_type": "display_data"
    }
   ],
   "source": [
    "plt.hist(df.Year[df.Company==\"CBS\"],bins=range(1955,2005));"
   ]
  },
  {
   "cell_type": "markdown",
   "metadata": {},
   "source": [
    "Zaista, u godinama 1972-1981. i kasnije 1995. imamo po dva CBS-a. Očigledno to sme. Nije zabranjeno da postoje dve kompanije sa istim imenom, pogotovo ako je to skraćenica. Šteta što ne postoje metapodaci da vidimo koje su to firme i odakle su. Svejedno, zaključujemo da **naziv kompanije nije jedinstven**."
   ]
  },
  {
   "cell_type": "markdown",
   "metadata": {},
   "source": [
    "Imamo previše varijabli da sve podatke odjednom prikažemo. Možemo da prikažemo npr. raspodelu prihode kompanija za sve ove godine."
   ]
  },
  {
   "cell_type": "code",
   "execution_count": 21,
   "metadata": {},
   "outputs": [
    {
     "data": {
      "image/png": "[encoded data removed]",
      "text/plain": [
       "<Figure size 432x288 with 1 Axes>"
      ]
     },
     "metadata": {
      "needs_background": "light"
     },
     "output_type": "display_data"
    }
   ],
   "source": [
    "plt.hist(df.Revenue,bins=50);"
   ]
  },
  {
   "cell_type": "markdown",
   "metadata": {},
   "source": [
    "Ovaj histogram nije mnogo informativan. Vidimo da ima mnogo kompanija koje su u mnogim godinama imale relativno mali prihod, dok je mali broj onih koji imaju 10000 (miliona dolara). Ovo bi se mnogo bolje videlo na logaritamskoj skali prihoda. Pajton nema jednostavan način da logaritmujemo x-osu kod histograma pa ćemo napraviti nejednake intervale koji bi izgledali jednaki kad ih logaritmujemo. Zato uniformnu podelu koristimo kao eksponent broja 10. Podelićemo _bins_ na intervale od 10^1 do 10^6 sa korakom 0.2 pomoću funkcije `arrange()`. Takođe ćemo objasniti Pajtonu da logaritmuje x-osu pomoću funkcije `xscale()`."
   ]
  },
  {
   "cell_type": "code",
   "execution_count": 22,
   "metadata": {},
   "outputs": [
    {
     "data": {
      "image/png": "[encoded data removed]",
      "text/plain": [
       "<Figure size 432x288 with 1 Axes>"
      ]
     },
     "metadata": {
      "needs_background": "light"
     },
     "output_type": "display_data"
    }
   ],
   "source": [
    "bins = 10**(np.arange(1,6,.2)) # 10**x je \"10 na x\" u Pajtonu\n",
    "plt.xscale('log')\n",
    "plt.hist(df.Revenue,bins=bins);"
   ]
  },
  {
   "cell_type": "markdown",
   "metadata": {},
   "source": [
    "Sada se raspodela vidi mnogo bolje. Vidimo da je ima dva pika. Možda je slučajno, ali verovatno za to postoji dobar razlog."
   ]
  },
  {
   "cell_type": "markdown",
   "metadata": {},
   "source": [
    "Da vidimo kako izgleda raspodela profita."
   ]
  },
  {
   "cell_type": "code",
   "execution_count": 23,
   "metadata": {},
   "outputs": [
    {
     "data": {
      "image/png": "[encoded data removed]",
      "text/plain": [
       "<Figure size 432x288 with 1 Axes>"
      ]
     },
     "metadata": {
      "needs_background": "light"
     },
     "output_type": "display_data"
    }
   ],
   "source": [
    "plt.hist(df.Profit,bins=50);"
   ]
  },
  {
   "cell_type": "markdown",
   "metadata": {},
   "source": [
    "Imamo samo jedan uzan pik i vrlo širok raspon vrednosti. Ovde logaritmovanje x-ose ne bi pomoglo jer imamo i negativne vrednosti profita. Možda će grafikon biti informativniji ako samo logaritmujemo y-osu. Tada će se umesto vetikalne linije pojaviti raspodela."
   ]
  },
  {
   "cell_type": "code",
   "execution_count": 24,
   "metadata": {},
   "outputs": [
    {
     "data": {
      "image/png": "[encoded data removed]",
      "text/plain": [
       "<Figure size 432x288 with 1 Axes>"
      ]
     },
     "metadata": {
      "needs_background": "light"
     },
     "output_type": "display_data"
    }
   ],
   "source": [
    "plt.hist(df.Profit,bins=50,log=True);"
   ]
  },
  {
   "cell_type": "markdown",
   "metadata": {},
   "source": [
    "Očigledno, postoji mali broj slučajeva kada je profit prikazan kao veliki gubitak. Sem njih, većina kompanija ima profit oko nule s tim da je raspodela \"deblja\" na pozitivnom delu ose."
   ]
  },
  {
   "cell_type": "markdown",
   "metadata": {},
   "source": [
    "## Bivarijatna analiza"
   ]
  },
  {
   "cell_type": "markdown",
   "metadata": {},
   "source": [
    "Kada poredimo vrednosti dve promenljive, onda imamo bivarijatnu analizu. To najčešće znači da posmatramo kako različite vrednosti jedne (nezavisne) promenljive imaju različite vrednosti druge (zavisno) promenljive. Da li zaista postoji uzročno-posledična veza to nije mnogo bitno za eksploratornu analizu. Važno je da vidimo da li promenljive na bilo koji način zavise jedna od druge. Numerički pokazatelji te zavisnosti (kojima se sad nećemo baviti) su uglavnom ograničeni na linearnu vezu. Zato je suštinski važno da nacrtamo tačkasti dijagram i da vidimo tu zavisnost. \n",
    "\n",
    "Grafičko predstavljanje zavisnosti dve promenljive, takođe, može da ukaže i na postojanje šuma u podacima. Ispitivanje prirode tog šuma, odnosno njegog uzroka svakako zahteva neku dodatnu analizu."
   ]
  },
  {
   "cell_type": "markdown",
   "metadata": {},
   "source": [
    "Ovde ćemo prikazati zavisnost profita kompanija od njihovog prihoda u određenoj godini."
   ]
  },
  {
   "cell_type": "code",
   "execution_count": 25,
   "metadata": {},
   "outputs": [
    {
     "data": {
      "image/png": "[encoded data removed]",
      "text/plain": [
       "<Figure size 432x288 with 1 Axes>"
      ]
     },
     "metadata": {
      "needs_background": "light"
     },
     "output_type": "display_data"
    }
   ],
   "source": [
    "plt.scatter(df.Revenue,df.Profit);"
   ]
  },
  {
   "cell_type": "markdown",
   "metadata": {},
   "source": [
    "Evidentno, onaj mali broj slučajeva kada profit ima ekstremno velike negativne vrednosti kvari celu sliku i ne možemo jasno da vidimo postoji li zavisnost ove prihoda i profita. U tom cilju ćemo prikazati samo one tačke gde je profit veći od -10000. Pošto znamo kakva je rapodela prihoda, možemo odmah da logaritmujemo x-osu. Tako će uvid u podatke biti bolji. "
   ]
  },
  {
   "cell_type": "code",
   "execution_count": 26,
   "metadata": {},
   "outputs": [
    {
     "data": {
      "image/png": "[encoded data removed]",
      "text/plain": [
       "<Figure size 432x288 with 1 Axes>"
      ]
     },
     "metadata": {
      "needs_background": "light"
     },
     "output_type": "display_data"
    }
   ],
   "source": [
    "plt.xscale('log')\n",
    "plt.scatter(df.Revenue[df.Profit>-1e4],df.Profit[df.Profit>-1e4],alpha=0.5);"
   ]
  },
  {
   "cell_type": "markdown",
   "metadata": {},
   "source": [
    "Izgleda da zavisnost ove dve promenljive nije linearna. Za one kompanije sa malim prihodom (u proseku) nema profita, dok za one sa velikim eksponencijalno raste. To je __trend__ koji uočavamo. Naravno, ova zavisnost nije glatka. Ima mnogo tačaka koje odstupaju. To je __šum__."
   ]
  },
  {
   "cell_type": "markdown",
   "metadata": {},
   "source": [
    "## Uvid u deo skupa podataka"
   ]
  },
  {
   "cell_type": "markdown",
   "metadata": {},
   "source": [
    "Do sada smo posmatrali sve podatke odjednom bez obzira što se ekomonomska situacija bitno menjala sa godinama. Za detaljniju analizu, možemo da izdvojimo podatke samo za jednu godinu. Ovde ćemo to uraditi za 2005."
   ]
  },
  {
   "cell_type": "code",
   "execution_count": 27,
   "metadata": {},
   "outputs": [],
   "source": [
    "df2005=df[df.Year==2005]"
   ]
  },
  {
   "cell_type": "markdown",
   "metadata": {},
   "source": [
    "Dimenzije ovog manjeg skupa su naravno 500 puta 5."
   ]
  },
  {
   "cell_type": "code",
   "execution_count": 28,
   "metadata": {},
   "outputs": [
    {
     "data": {
      "text/plain": [
       "(500, 5)"
      ]
     },
     "execution_count": 28,
     "metadata": {},
     "output_type": "execute_result"
    }
   ],
   "source": [
    "df2005.shape"
   ]
  },
  {
   "cell_type": "markdown",
   "metadata": {},
   "source": [
    "Da li je u ovoj godini lista kompanija imala duplikate, odnosno ponavljanje imena možemo da utvrdimo pomoću funkcije `is_unique()`."
   ]
  },
  {
   "cell_type": "code",
   "execution_count": 29,
   "metadata": {},
   "outputs": [
    {
     "data": {
      "text/plain": [
       "True"
      ]
     },
     "execution_count": 29,
     "metadata": {},
     "output_type": "execute_result"
    }
   ],
   "source": [
    "df2005.Company.is_unique"
   ]
  },
  {
   "cell_type": "markdown",
   "metadata": {},
   "source": [
    "Sad možemo da prikažemo prihod po kompanijama. Koristimo trakasti dijagram, tj. _horizontal bar chart_."
   ]
  },
  {
   "cell_type": "markdown",
   "metadata": {},
   "source": [
    "Da bi imena kompanija bila prikazana na y-osi, potrebno je da tabeli df2005 definišemo indeksnu kolonu i da ona bude upravo kolona sa imenima kompanija."
   ]
  },
  {
   "cell_type": "code",
   "execution_count": 30,
   "metadata": {},
   "outputs": [],
   "source": [
    "df2005.index=df2005.Company"
   ]
  },
  {
   "cell_type": "markdown",
   "metadata": {},
   "source": [
    "U narednih nekoliko linija koda stoji da otvaramo grafikon __fig__ sa osama __ax__, da će veličina grafikona biti 12 puta 6 inča, da uzimamo samo 15 najvećih kompanija, crtamo grafikon tipa `'barh'`, ispisujemo naslov i, konačno, obrćemo y-osu tako da prvi podaci budu na vrhu, a ne na dnu grafikona."
   ]
  },
  {
   "cell_type": "code",
   "execution_count": 31,
   "metadata": {},
   "outputs": [
    {
     "data": {
      "image/png": "[encoded data removed]",
      "text/plain": [
       "<Figure size 864x432 with 1 Axes>"
      ]
     },
     "metadata": {
      "needs_background": "light"
     },
     "output_type": "display_data"
    }
   ],
   "source": [
    "fig, ax = plt.subplots(figsize=(12, 6))\n",
    "df2005.Revenue.nlargest(15).plot(kind='barh')\n",
    "plt.title('Kompanije sa najvećim prihodom u 2005. godini')\n",
    "ax.invert_yaxis()"
   ]
  },
  {
   "cell_type": "markdown",
   "metadata": {},
   "source": [
    "Na ovaj način ne možemo da prikažemo svih 500 kompanija, ali možemo da poredimo kompanije iz izabranog uzorka, npr. 15 sa najvećim prihodom.\n",
    "\n",
    "Primetite da mi ne znamo u kojim su jedinicama dati prihod i profit. To nije dobro za zaključke koji se tiču apsolutnih vrednosti, ali nam ostavlja mogućnost da poredimo kompanije međusobno."
   ]
  },
  {
   "cell_type": "markdown",
   "metadata": {},
   "source": [
    "Na prethodnom grafikonu je prikazana zavisnost numeričke promenljive (prihod) od kategorijalne (ime kompanije). Slično možemo da prikažemo zabisnost dve numeričke promenjive, npr. kako su se menjali prihodi kompanija po godinama."
   ]
  },
  {
   "cell_type": "markdown",
   "metadata": {},
   "source": [
    "Jednostavnosti radi, izabraćemo jednu kompaniju i prikazati kako su se menjali prihodi od 1955. do 2005. godine. Pokušaćemo na isti grafikon da stavimo i zavisnost profita od vremena. To će Pajton onda prikazati drugom bojom (naranžastom).\n",
    "\n",
    "Za primer ćemo uzeti prvu kompaniju iz tabele, tj. onu koja je 1955. imala naveći prihod -- General Motors. To onda izgleda ovako:"
   ]
  },
  {
   "cell_type": "code",
   "execution_count": 32,
   "metadata": {},
   "outputs": [
    {
     "data": {
      "image/png": "[encoded data removed]",
      "text/plain": [
       "<Figure size 432x288 with 1 Axes>"
      ]
     },
     "metadata": {
      "needs_background": "light"
     },
     "output_type": "display_data"
    }
   ],
   "source": [
    "dfGM=df[df.Company=='General Motors']\n",
    "plt.scatter(dfGM.Year,dfGM.Revenue);\n",
    "plt.scatter(dfGM.Year,dfGM.Profit);"
   ]
  },
  {
   "cell_type": "markdown",
   "metadata": {},
   "source": [
    "Za male diskretne vrednosti, kakve su pozicije na rang-listi, možemo podatke da prikažemo i malo drugačije. U nastavku je kôd koji prikazuje kretanja na rang-listi po godinama. Izabrali smo sami prvih deset kompanija po prihodu u 1955. godini pa pratimo njihove pozicije. Istina, malo ćemo odstupiti od pravila da EDA grafici treba da budu jednostavni i da se estetici ne pridaje mnogo pažnje."
   ]
  },
  {
   "cell_type": "markdown",
   "metadata": {},
   "source": [
    "Sam kôd nećemo posebno objašnjavati. Komentari postoje u samom programu. Ako vam nije sasvim jasno iz čitanja šta radi ovaj program, probajte ga. Varirajte parametre i gledajte šta se dešava. To je glavna prednost Džupiter svezaka. Ne moramo da znamo da napišemo program, ali bi uz malo truda trebalo da znamo da ga modifikujemo i primenimo u sličnoj situaciji."
   ]
  },
  {
   "cell_type": "code",
   "execution_count": 33,
   "metadata": {},
   "outputs": [],
   "source": [
    "companies = df[\"Company\"].unique()[:10] # uzimamo samo prvih deset iz 1955.\n",
    "glavna = companies[3] # treću sa liste ćemo tretirati posebno"
   ]
  },
  {
   "cell_type": "code",
   "execution_count": 34,
   "metadata": {},
   "outputs": [
    {
     "data": {
      "image/png": "[encoded data removed]",
      "text/plain": [
       "<Figure size 1440x576 with 1 Axes>"
      ]
     },
     "metadata": {
      "needs_background": "light"
     },
     "output_type": "display_data"
    }
   ],
   "source": [
    "# otvaramo dijagram i zadajemo dimenzije\n",
    "fig, ax = plt.subplots(figsize=(20, 8))\n",
    "# invertujemo y-osu da bi gore bile kompanije koje su prve na rang-listi\n",
    "ax.invert_yaxis()\n",
    "# podešavamo gornju i donju granicu y-ose\n",
    "ax.set_ylim(top=0,bottom=18)\n",
    "# isključujemo pravougaoni okvir oko dijagrama\n",
    "ax.set_frame_on(False)\n",
    "# definišemo šta ide u naslov\n",
    "naslov='Pozicija kompanije \\\"'+glavna+'\\\" na rang-listi od 1995. do 2005.'\n",
    "ax.set_title(naslov, fontsize=24, fontweight=400);\n",
    "\n",
    "# pravimo petlju i posebno crtamo grafik za svaku od deset kompanija\n",
    "for i in companies:\n",
    "    d = df[df[\"Company\"] == i] \n",
    "    x = d[\"Year\"].values\n",
    "    y = d[\"Rank\"].values\n",
    "\n",
    "    # ako je kompanija ona koju hoćemo da naglasimo onda koristimo markere i deblju liniju\n",
    "    if i == glavna:\n",
    "        ax.plot(x, y, color=\"darkblue\", lw=2.4, zorder=10)\n",
    "        ax.scatter(x, y, fc=\"w\", ec=\"darkblue\", s=60, lw=2.4, zorder=12)      \n",
    "    # ako ne onda tanje linije bez markera\n",
    "    else:\n",
    "        ax.plot(x, y, lw=.8)\n"
   ]
  },
  {
   "cell_type": "markdown",
   "metadata": {},
   "source": [
    "Ovaj grafik nam prikazuje kretanja na rang-listi za svih deset prvoplasiranih iz 1955. godine. Vidimo da nije mnogo njih opstalo u vrhu - samo tri. Neke čak nisu pale na listi. Prestale su da postoje."
   ]
  },
  {
   "cell_type": "markdown",
   "metadata": {},
   "source": [
    "## Zaključak"
   ]
  },
  {
   "cell_type": "markdown",
   "metadata": {},
   "source": [
    "Eksplorativna analiza podataka bi trebalo samo da pruži uvid u dostupne podatke. Najbolje je kad se radi istovremeno i numerički i grafički. Ponekad to ne može bez čišćenja podataka. Bilo bi dobro da znamo kontekst i meta-podatke, ali ponekad moramo da se snađemo i bez toga.  "
   ]
  }
 ],
 "metadata": {
  "kernelspec": {
   "display_name": "Python 3",
   "language": "python",
   "name": "python3"
  },
  "language_info": {
   "codemirror_mode": {
    "name": "ipython",
    "version": 3
   },
   "file_extension": ".py",
   "mimetype": "text/x-python",
   "name": "python",
   "nbconvert_exporter": "python",
   "pygments_lexer": "ipython3",
   "version": "3.8.8"
  }
 },
 "nbformat": 4,
 "nbformat_minor": 2
}

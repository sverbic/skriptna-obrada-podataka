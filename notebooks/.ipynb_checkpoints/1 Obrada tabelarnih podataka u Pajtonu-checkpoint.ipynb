{
 "cells": [
  {
   "cell_type": "markdown",
   "id": "b604c775",
   "metadata": {},
   "source": [
    "# Obrada tabelarnih podataka u Pajtonu"
   ]
  },
  {
   "cell_type": "markdown",
   "id": "6357c299",
   "metadata": {},
   "source": [
    "__U ovoj svesci je prikazano kako upravljamo tabelama, odnosno kako raspodeljujemo, filtriramo, sortiramo ili na neki drugi način obrađujemo podatke koji su organizovani u tabele. Uvedena je osnovna struktura za rad sa podacima u Pajtonu (_DataFrame_) i dati su primeri korišćenja najvažnijih Pajton funkcija za rad sa tabelama.__"
   ]
  },
  {
   "cell_type": "markdown",
   "id": "58fccc2d",
   "metadata": {},
   "source": [
    "Obrada podataka podrazumeva tehnički deo rada sa podacima: prikupljanje, organizaciju, transformisanje, filtriranje i formatiranje podataka zaključno sa čišćenjem podataka. Obrada podataka prethodi fazi analize podataka za koju je specijalističko znanje neophodno."
   ]
  },
  {
   "cell_type": "markdown",
   "id": "41beca13",
   "metadata": {},
   "source": [
    "## Nizovi i tabele"
   ]
  },
  {
   "cell_type": "markdown",
   "id": "6dc82bf1",
   "metadata": {},
   "source": [
    "Struktura podataka sa kojom najčešće radimo je tabela. Kad otvorimo Eksel, na primer, ispred nas je tabela sa vrstama i kolonama. Kad pogledamo u neku bazu podataka, opet vidimo da su tamo podaci raspoređeni u tabele. Tako je i kod skriptne obrade podatka: njavažnija struktura je tabela."
   ]
  },
  {
   "cell_type": "markdown",
   "id": "4a2309f4",
   "metadata": {},
   "source": [
    "Pre nego što počnemo da radimo sa tabelama, važno je da razumemo da se dvodimenzionalne strukture (tabele) sastoje od jednodimenzionalnih struktura (nizova) koje smo ukrstili. Svako polje u tabeli pripada jednoj vrsti i jednoj koloni. Tabele se prave od nizova koje slažemo po jednoj ili drugoj dimenziji. "
   ]
  },
  {
   "cell_type": "markdown",
   "id": "684ba9d3",
   "metadata": {},
   "source": [
    "Jednodimenzionalne strukture podataka koje se u Pajtonu najčešće koriste su __liste__. To su najopštiji nizovi podataka gde svi podaci ne moraju da budu istog tipa. Liste se formiraju tako što se između uglastih zagrada navedu svi elementi liste pri čemu ih odvajamo zarezom. Naravno, stringovi moraju da budu pod znacima navoda."
   ]
  },
  {
   "cell_type": "code",
   "execution_count": 1,
   "id": "070bb9f0",
   "metadata": {},
   "outputs": [],
   "source": [
    "lista=['kafa',3,200.00]"
   ]
  },
  {
   "cell_type": "markdown",
   "id": "1da16ac6",
   "metadata": {},
   "source": [
    "Elementima liste se pristupa preko indeksa elementa. Pošto Pajton elemente numeriše počevši od nultog, prvi element liste ima indeks 0, drugi ima indeks 1 itd."
   ]
  },
  {
   "cell_type": "code",
   "execution_count": 2,
   "id": "c2707277",
   "metadata": {
    "scrolled": false
   },
   "outputs": [
    {
     "data": {
      "text/plain": [
       "'kafa'"
      ]
     },
     "execution_count": 2,
     "metadata": {},
     "output_type": "execute_result"
    }
   ],
   "source": [
    "lista[0]"
   ]
  },
  {
   "cell_type": "markdown",
   "id": "1dffb43f",
   "metadata": {},
   "source": [
    "Druga važna jednodimenzionalna struktura je __rečnik__ (eng. _dictionary_). To je zapravo niz parova podataka koji se navode unutar vitičastih zagrada pri čemu su parovi povezani znakom `:`, a odvojeni zarezima. Prvi deo para se naziva ključ, a drugi vrednost."
   ]
  },
  {
   "cell_type": "code",
   "execution_count": 3,
   "id": "4a0ae6c0",
   "metadata": {},
   "outputs": [],
   "source": [
    "rečnik={'Piće':'kafa','Cena':200.00}"
   ]
  },
  {
   "cell_type": "markdown",
   "id": "d9133c31",
   "metadata": {},
   "source": [
    "Za razliku od lista, kod rečnika nema numeričkih indeksa. Element rečnika pozivamo koristeći ključ."
   ]
  },
  {
   "cell_type": "code",
   "execution_count": 4,
   "id": "202472a8",
   "metadata": {},
   "outputs": [
    {
     "data": {
      "text/plain": [
       "200.0"
      ]
     },
     "execution_count": 4,
     "metadata": {},
     "output_type": "execute_result"
    }
   ],
   "source": [
    "rečnik['Cena']"
   ]
  },
  {
   "cell_type": "markdown",
   "id": "c47dc9b7",
   "metadata": {},
   "source": [
    "Obe pomenute strukture, i liste i rečnici, koriste se za formiranje tabela u Pajtonu."
   ]
  },
  {
   "cell_type": "markdown",
   "id": "b001e57f",
   "metadata": {},
   "source": [
    "## Tabela tipa _DataFrame_"
   ]
  },
  {
   "cell_type": "markdown",
   "id": "16b84c1f",
   "metadata": {},
   "source": [
    "Za dvodimenzionalne strukture podataka (tabele) u Pajtonu najčešće koristimo strukturu _DataFrame_. Osnovno okruženje Pajtona nema funkcije za rad sa ovom strukturom. Neophodno je da učitamo biblioteku __pandas__ koja sadrži sve potrebne funkcije za rad sa _DataFrame_ strukturom."
   ]
  },
  {
   "cell_type": "code",
   "execution_count": 5,
   "id": "ff5d7628",
   "metadata": {},
   "outputs": [],
   "source": [
    "import pandas as pd"
   ]
  },
  {
   "cell_type": "markdown",
   "id": "d88c4161",
   "metadata": {},
   "source": [
    "Primetite da smo učitali __pandas__ biblioteku i nazvali je __pd__. Ovo smo učinili da bismo kasnije manje kucali pri pozivanju funkcija ove biblioteke. Svaka funkcija iz biblioteke __Pandas__ se poziva sa `pd.<naziv funkcije>`. Videćete kasnije na primerima kako to funkcioniše."
   ]
  },
  {
   "cell_type": "markdown",
   "id": "3a7d6b82",
   "metadata": {},
   "source": [
    "Sada ćemo jednu jednostavnu tabelu formirati na dva načina: kao niz vrsta i kao niz kolona, tačnije kao listu vrsta i rečnik kolona. Za to će nam biti potrebna i funkcija `DataFrame()`."
   ]
  },
  {
   "cell_type": "markdown",
   "id": "d32a0124",
   "metadata": {},
   "source": [
    "### Tabela kao lista vrsta"
   ]
  },
  {
   "cell_type": "markdown",
   "id": "b13395f6",
   "metadata": {},
   "source": [
    "Svaku vrstu tabele možemo da odredimo kao listu. Važno je samo da sve te vrste imaju isti broj elemenata i da redosled elemenata (prema kategoriji na koju se odnose) bude isti. "
   ]
  },
  {
   "cell_type": "code",
   "execution_count": 6,
   "id": "c7c74a0b",
   "metadata": {},
   "outputs": [],
   "source": [
    "v1=['kafa',3,150.0]\n",
    "v2=['limunada',2,200.0]\n",
    "v3=['tonik',1,180.0]"
   ]
  },
  {
   "cell_type": "markdown",
   "id": "066594a3",
   "metadata": {},
   "source": [
    "Sada možemo da napravimo listu lista i da je stavimo kao argument funkcije `DataFrame()`. Rezultat će biti nova struktura tipa _DataFrame_."
   ]
  },
  {
   "cell_type": "code",
   "execution_count": 7,
   "id": "b17802fa",
   "metadata": {},
   "outputs": [],
   "source": [
    "vrste=[v1,v2,v3]"
   ]
  },
  {
   "cell_type": "code",
   "execution_count": 8,
   "id": "0b1f9dea",
   "metadata": {},
   "outputs": [],
   "source": [
    "df=pd.DataFrame(vrste)"
   ]
  },
  {
   "cell_type": "code",
   "execution_count": 9,
   "id": "5e95f5d1",
   "metadata": {},
   "outputs": [
    {
     "data": {
      "text/html": [
       "<div>\n",
       "<style scoped>\n",
       "    .dataframe tbody tr th:only-of-type {\n",
       "        vertical-align: middle;\n",
       "    }\n",
       "\n",
       "    .dataframe tbody tr th {\n",
       "        vertical-align: top;\n",
       "    }\n",
       "\n",
       "    .dataframe thead th {\n",
       "        text-align: right;\n",
       "    }\n",
       "</style>\n",
       "<table border=\"1\" class=\"dataframe\">\n",
       "  <thead>\n",
       "    <tr style=\"text-align: right;\">\n",
       "      <th></th>\n",
       "      <th>0</th>\n",
       "      <th>1</th>\n",
       "      <th>2</th>\n",
       "    </tr>\n",
       "  </thead>\n",
       "  <tbody>\n",
       "    <tr>\n",
       "      <th>0</th>\n",
       "      <td>kafa</td>\n",
       "      <td>3</td>\n",
       "      <td>150.0</td>\n",
       "    </tr>\n",
       "    <tr>\n",
       "      <th>1</th>\n",
       "      <td>limunada</td>\n",
       "      <td>2</td>\n",
       "      <td>200.0</td>\n",
       "    </tr>\n",
       "    <tr>\n",
       "      <th>2</th>\n",
       "      <td>tonik</td>\n",
       "      <td>1</td>\n",
       "      <td>180.0</td>\n",
       "    </tr>\n",
       "  </tbody>\n",
       "</table>\n",
       "</div>"
      ],
      "text/plain": [
       "          0  1      2\n",
       "0      kafa  3  150.0\n",
       "1  limunada  2  200.0\n",
       "2     tonik  1  180.0"
      ]
     },
     "execution_count": 9,
     "metadata": {},
     "output_type": "execute_result"
    }
   ],
   "source": [
    "df"
   ]
  },
  {
   "cell_type": "markdown",
   "id": "cc874a64",
   "metadata": {},
   "source": [
    "Polja u različitim kolonama ove tabele mogu sadržati različite tipove promenljivih. U našem primeru prva kolona sadrži stringove, druga cele brojeve, a treća decimalne. "
   ]
  },
  {
   "cell_type": "markdown",
   "id": "35e25ab7",
   "metadata": {},
   "source": [
    "Vidimo da Pajton automatski stavlja oznake za kolone i vrste (0, 1, 2...) iako to nismo tražili. Ako nam se ove oznake ne sviđaju, bolje je da navedemo nazive kolona pri kreiranju strukture __df__ dodeljujući listu vrednosti parametru `columns`. Slično možemo da uradimo i za nazive vrsta. Tu listu naziva dodeljujemo parametru `index`. "
   ]
  },
  {
   "cell_type": "code",
   "execution_count": 10,
   "id": "4536cf56",
   "metadata": {},
   "outputs": [],
   "source": [
    "df=pd.DataFrame(vrste,columns=['Piće','Broj','Cena'])"
   ]
  },
  {
   "cell_type": "code",
   "execution_count": 11,
   "id": "f944725e",
   "metadata": {},
   "outputs": [
    {
     "data": {
      "text/html": [
       "<div>\n",
       "<style scoped>\n",
       "    .dataframe tbody tr th:only-of-type {\n",
       "        vertical-align: middle;\n",
       "    }\n",
       "\n",
       "    .dataframe tbody tr th {\n",
       "        vertical-align: top;\n",
       "    }\n",
       "\n",
       "    .dataframe thead th {\n",
       "        text-align: right;\n",
       "    }\n",
       "</style>\n",
       "<table border=\"1\" class=\"dataframe\">\n",
       "  <thead>\n",
       "    <tr style=\"text-align: right;\">\n",
       "      <th></th>\n",
       "      <th>Piće</th>\n",
       "      <th>Broj</th>\n",
       "      <th>Cena</th>\n",
       "    </tr>\n",
       "  </thead>\n",
       "  <tbody>\n",
       "    <tr>\n",
       "      <th>0</th>\n",
       "      <td>kafa</td>\n",
       "      <td>3</td>\n",
       "      <td>150.0</td>\n",
       "    </tr>\n",
       "    <tr>\n",
       "      <th>1</th>\n",
       "      <td>limunada</td>\n",
       "      <td>2</td>\n",
       "      <td>200.0</td>\n",
       "    </tr>\n",
       "    <tr>\n",
       "      <th>2</th>\n",
       "      <td>tonik</td>\n",
       "      <td>1</td>\n",
       "      <td>180.0</td>\n",
       "    </tr>\n",
       "  </tbody>\n",
       "</table>\n",
       "</div>"
      ],
      "text/plain": [
       "       Piće  Broj   Cena\n",
       "0      kafa     3  150.0\n",
       "1  limunada     2  200.0\n",
       "2     tonik     1  180.0"
      ]
     },
     "execution_count": 11,
     "metadata": {},
     "output_type": "execute_result"
    }
   ],
   "source": [
    "df"
   ]
  },
  {
   "cell_type": "markdown",
   "id": "5fd37d31",
   "metadata": {},
   "source": [
    "Naziv kolone u tabeli može da bude bilo koji tekst, ali to nije preporučljivo. Iz praktičnih razloga dobro je da nazivi kolona budu kratki, po mogućstvu da to bude samo jedna reč. Ima funkcija koje čak ne rade kako treba ako naziv kolone nije jedna reč. Zato je nekad dobro preimenovati kolone pre obrade podataka."
   ]
  },
  {
   "cell_type": "markdown",
   "id": "6e184709",
   "metadata": {},
   "source": [
    "### Tabela kao rečnik kolona"
   ]
  },
  {
   "cell_type": "markdown",
   "id": "1ff8cb1e",
   "metadata": {},
   "source": [
    "Ako tabelu formiramo kao niz kolona, onda nam je potreban rečnik gde će ključevi biti nazivi kolona, a vrednosti upravo vrednosti kolona. Prvo treba da napravimo liste u kojima će biti vrednosti po kolonama. Sada je važno da liste imaju elemente istog tipa."
   ]
  },
  {
   "cell_type": "code",
   "execution_count": 12,
   "id": "bd0bca44",
   "metadata": {},
   "outputs": [],
   "source": [
    "k1=['kafa','limunada','tonik']\n",
    "k2=[3,2,1]\n",
    "k3=[150.0,200.0,180.0]"
   ]
  },
  {
   "cell_type": "markdown",
   "id": "d5237e95",
   "metadata": {},
   "source": [
    "Pošto imamo vrednosti po kolonama možemo da ih pridružimo odgovarajućim ključevima (Piće, Broj, Cena) u okviru rečnika koji ćemo nazvati __kolone__."
   ]
  },
  {
   "cell_type": "code",
   "execution_count": 13,
   "id": "6a377edf",
   "metadata": {},
   "outputs": [],
   "source": [
    "kolone={'Piće':k1,'Broj':k2,'Cena':k3}"
   ]
  },
  {
   "cell_type": "markdown",
   "id": "07f7970c",
   "metadata": {},
   "source": [
    "Ovaj rečnik sada treba staviti kao argumet funkcije `DataFrame()` da bismo dobili odgovarajuću tabelu."
   ]
  },
  {
   "cell_type": "code",
   "execution_count": 14,
   "id": "8b47b5e3",
   "metadata": {},
   "outputs": [],
   "source": [
    "df=pd.DataFrame(kolone)"
   ]
  },
  {
   "cell_type": "code",
   "execution_count": 15,
   "id": "476bad1f",
   "metadata": {},
   "outputs": [
    {
     "data": {
      "text/html": [
       "<div>\n",
       "<style scoped>\n",
       "    .dataframe tbody tr th:only-of-type {\n",
       "        vertical-align: middle;\n",
       "    }\n",
       "\n",
       "    .dataframe tbody tr th {\n",
       "        vertical-align: top;\n",
       "    }\n",
       "\n",
       "    .dataframe thead th {\n",
       "        text-align: right;\n",
       "    }\n",
       "</style>\n",
       "<table border=\"1\" class=\"dataframe\">\n",
       "  <thead>\n",
       "    <tr style=\"text-align: right;\">\n",
       "      <th></th>\n",
       "      <th>Piće</th>\n",
       "      <th>Broj</th>\n",
       "      <th>Cena</th>\n",
       "    </tr>\n",
       "  </thead>\n",
       "  <tbody>\n",
       "    <tr>\n",
       "      <th>0</th>\n",
       "      <td>kafa</td>\n",
       "      <td>3</td>\n",
       "      <td>150.0</td>\n",
       "    </tr>\n",
       "    <tr>\n",
       "      <th>1</th>\n",
       "      <td>limunada</td>\n",
       "      <td>2</td>\n",
       "      <td>200.0</td>\n",
       "    </tr>\n",
       "    <tr>\n",
       "      <th>2</th>\n",
       "      <td>tonik</td>\n",
       "      <td>1</td>\n",
       "      <td>180.0</td>\n",
       "    </tr>\n",
       "  </tbody>\n",
       "</table>\n",
       "</div>"
      ],
      "text/plain": [
       "       Piće  Broj   Cena\n",
       "0      kafa     3  150.0\n",
       "1  limunada     2  200.0\n",
       "2     tonik     1  180.0"
      ]
     },
     "execution_count": 15,
     "metadata": {},
     "output_type": "execute_result"
    }
   ],
   "source": [
    "df"
   ]
  },
  {
   "cell_type": "markdown",
   "id": "20de4a79",
   "metadata": {},
   "source": [
    "### Pristupanje elementima tabele"
   ]
  },
  {
   "cell_type": "markdown",
   "id": "ba7f4269",
   "metadata": {},
   "source": [
    "Ako hoćemo da izdvojimo jednu kolonu, dovoljno je da uz ime tabele stavimo tačku i navedemo njen naziv (pod uslovom da je naziv kolone jedna reč)."
   ]
  },
  {
   "cell_type": "code",
   "execution_count": 16,
   "id": "b2879312",
   "metadata": {},
   "outputs": [
    {
     "data": {
      "text/plain": [
       "0        kafa\n",
       "1    limunada\n",
       "2       tonik\n",
       "Name: Piće, dtype: object"
      ]
     },
     "execution_count": 16,
     "metadata": {},
     "output_type": "execute_result"
    }
   ],
   "source": [
    "df.Piće"
   ]
  },
  {
   "cell_type": "markdown",
   "id": "56504a2d",
   "metadata": {},
   "source": [
    "Alternativno, možemo da navedemo naziv kolone kao indeks u uglastim zagradama."
   ]
  },
  {
   "cell_type": "code",
   "execution_count": 17,
   "id": "d5ee0362",
   "metadata": {},
   "outputs": [
    {
     "data": {
      "text/plain": [
       "0        kafa\n",
       "1    limunada\n",
       "2       tonik\n",
       "Name: Piće, dtype: object"
      ]
     },
     "execution_count": 17,
     "metadata": {},
     "output_type": "execute_result"
    }
   ],
   "source": [
    "df['Piće']"
   ]
  },
  {
   "cell_type": "markdown",
   "id": "85e70db4",
   "metadata": {},
   "source": [
    "Primetite da kolone i redovi uvek imaju svoje oznake, makar bile i brojevi 0, 1, 2... To nam olakšava da pristupimo podacima u tabeli."
   ]
  },
  {
   "cell_type": "markdown",
   "id": "52adafd8",
   "metadata": {},
   "source": [
    "Postoji nekoliko načina kako da pristupimo pojedinačnim elementima tabele. Navodimo ovde dva primera koja bi trebalo da budu razumljivi i bez posebnog objašnjenja. Jednostavno, prvo kolonu predstavimo kao listu, a onda uzmemo element liste sa određenim indeksom."
   ]
  },
  {
   "cell_type": "code",
   "execution_count": 18,
   "id": "d030bb86",
   "metadata": {},
   "outputs": [
    {
     "data": {
      "text/plain": [
       "'tonik'"
      ]
     },
     "execution_count": 18,
     "metadata": {},
     "output_type": "execute_result"
    }
   ],
   "source": [
    "df.Piće[2]"
   ]
  },
  {
   "cell_type": "code",
   "execution_count": 19,
   "id": "dd0996e2",
   "metadata": {},
   "outputs": [
    {
     "data": {
      "text/plain": [
       "'tonik'"
      ]
     },
     "execution_count": 19,
     "metadata": {},
     "output_type": "execute_result"
    }
   ],
   "source": [
    "df['Piće'][2]"
   ]
  },
  {
   "cell_type": "markdown",
   "id": "7894862e",
   "metadata": {},
   "source": [
    "### Pristupnici (eng. _accessors_)"
   ]
  },
  {
   "cell_type": "markdown",
   "id": "4d47068e",
   "metadata": {},
   "source": [
    "Pristupnik `iloc[]` je posebna vrsta funkcije koja nam omogućava da elementima tabele pristupimo na još jedan način. Njeni argumenti su indeksi redova i kolona."
   ]
  },
  {
   "cell_type": "code",
   "execution_count": 20,
   "id": "7b82dc89",
   "metadata": {},
   "outputs": [
    {
     "data": {
      "text/plain": [
       "'tonik'"
      ]
     },
     "execution_count": 20,
     "metadata": {},
     "output_type": "execute_result"
    }
   ],
   "source": [
    "df.iloc[2,0]"
   ]
  },
  {
   "cell_type": "markdown",
   "id": "cb2360bf",
   "metadata": {},
   "source": [
    "Postoji još jedan pristupnik: `loc[]`. Njegovi argumenti nisu indeksi već nazivi redova i kolona, ukoliko su određeni. Mi jesmo odredili nazive kolona, ali nazive vrsta nismo pa tu još uvek imamo 0, 1, 2 kao privremene nazive. Dok god se to ne promeni brojevi 0, 1 i 2 će biti i indeksi i nazivi vrsta. "
   ]
  },
  {
   "cell_type": "code",
   "execution_count": 21,
   "id": "77b98a10",
   "metadata": {},
   "outputs": [
    {
     "data": {
      "text/plain": [
       "'limunada'"
      ]
     },
     "execution_count": 21,
     "metadata": {},
     "output_type": "execute_result"
    }
   ],
   "source": [
    "df.loc[1,'Piće']"
   ]
  },
  {
   "cell_type": "markdown",
   "id": "9f538e6e",
   "metadata": {},
   "source": [
    "Pošto znamo kako se formiraju tabele i kako se pristupa njihovim elementima, možemo da pređemo na obradu velike tabele koju ćemo učitati iz fajla."
   ]
  },
  {
   "cell_type": "markdown",
   "id": "b2add8ab",
   "metadata": {},
   "source": [
    "## Učitavanje velike tabele sa podacima"
   ]
  },
  {
   "cell_type": "markdown",
   "id": "53f12540",
   "metadata": {},
   "source": [
    "Podatke najčešće čuvamo u formatima koji nisu jednostavni za učitavanje. Formati kao što su DOCX, XLSX, PDF ili HTML odgovaraju čoveku koji čita podatke, ali ne i mašini. Za skriptnu obradu podataka su mnogo pogodniji jednostavni, dobro dokumentovani i otvoreni formati za koje ne moramo da koristimo bilo kakav poseban komercijalni softver. Čak i kada se podaci učitavaju iz vrlo složenih formata oni se transformišu u tabele koje se čuvaju u svega nekoliko osnovnih formata. Najčešće se za tabelarne podatke koristi _Comma Separated Value_ (CSV) format gde se vrednosti odvojene zarezom zapisane u tekstualnom formatu."
   ]
  },
  {
   "cell_type": "markdown",
   "id": "ce5f3276",
   "metadata": {},
   "source": [
    "Za potrebe rada u ovoj svesci koristićemo fajl sa podacima koji se odnose na sva veća postrojenja za proizvodnju električne energije u svetu. Njih možete sami da preuzmete sa interneta sa [Global Power Plant Database](https://datasets.wri.org/dataset/globalpowerplantdatabase), ali smo ih zbog jednostavnosti postavili u poddirekterijum __/data__ našeg radnog direktorijuma. Tu se nalaze i svi ostali fajlovi sa podacima koji će nam biti potrebni u ovom kursu. Za početak, učitavamo fajl koji sadrži spisak svih velikih elektrana u svetu."
   ]
  },
  {
   "cell_type": "code",
   "execution_count": 22,
   "id": "2a732b42",
   "metadata": {},
   "outputs": [
    {
     "name": "stderr",
     "output_type": "stream",
     "text": [
      "C:\\Users\\srdjan\\anaconda3\\lib\\site-packages\\IPython\\core\\interactiveshell.py:3165: DtypeWarning: Columns (10) have mixed types.Specify dtype option on import or set low_memory=False.\n",
      "  has_raised = await self.run_ast_nodes(code_ast.body, cell_name,\n"
     ]
    }
   ],
   "source": [
    "elektrane=pd.read_csv(\"data/global_power_plant_database.csv\")"
   ]
  },
  {
   "cell_type": "markdown",
   "id": "337af1d2",
   "metadata": {},
   "source": [
    "Pošto je fajl prilično veliki, verovatno ćete dobiti upozorenje da u tabeli imamo različite tipove podataka i ovakvo učitavanje fajla bez specifikacije koji tip podataka imamo u kojoj koloni nije efikasan. S obzirom da ćemo ovaj fajl učitavati samo jednom, najbolje je da ignorišete ovo upozorenje. Ako baš ne možete, objasnite računaru da ne mora da se plaši da će ostati bez slobodne memorije i učitajte podatke sa `elektrane=pd.read_csv(\"data/global_power_plant_database.csv\", low_memory=False)`. U tom slučaju neće prikazivati upozorenje."
   ]
  },
  {
   "cell_type": "markdown",
   "id": "4b500f56",
   "metadata": {},
   "source": [
    "U svakom slučaju, poželjno je da pomoću funkcije `info()` pogledamo šta se nalazi u fajlu, koje su to kolone i koji je tip podataka u njim sadržan."
   ]
  },
  {
   "cell_type": "code",
   "execution_count": 23,
   "id": "068d84ce",
   "metadata": {},
   "outputs": [
    {
     "name": "stdout",
     "output_type": "stream",
     "text": [
      "<class 'pandas.core.frame.DataFrame'>\n",
      "RangeIndex: 34936 entries, 0 to 34935\n",
      "Data columns (total 36 columns):\n",
      " #   Column                          Non-Null Count  Dtype  \n",
      "---  ------                          --------------  -----  \n",
      " 0   country                         34936 non-null  object \n",
      " 1   country_long                    34936 non-null  object \n",
      " 2   name                            34936 non-null  object \n",
      " 3   gppd_idnr                       34936 non-null  object \n",
      " 4   capacity_mw                     34936 non-null  float64\n",
      " 5   latitude                        34936 non-null  float64\n",
      " 6   longitude                       34936 non-null  float64\n",
      " 7   primary_fuel                    34936 non-null  object \n",
      " 8   other_fuel1                     1944 non-null   object \n",
      " 9   other_fuel2                     276 non-null    object \n",
      " 10  other_fuel3                     92 non-null     object \n",
      " 11  commissioning_year              17447 non-null  float64\n",
      " 12  owner                           20868 non-null  object \n",
      " 13  source                          34921 non-null  object \n",
      " 14  url                             34918 non-null  object \n",
      " 15  geolocation_source              34517 non-null  object \n",
      " 16  wepp_id                         16234 non-null  object \n",
      " 17  year_of_capacity_data           14887 non-null  float64\n",
      " 18  generation_gwh_2013             6417 non-null   float64\n",
      " 19  generation_gwh_2014             7226 non-null   float64\n",
      " 20  generation_gwh_2015             8203 non-null   float64\n",
      " 21  generation_gwh_2016             9144 non-null   float64\n",
      " 22  generation_gwh_2017             9500 non-null   float64\n",
      " 23  generation_gwh_2018             9637 non-null   float64\n",
      " 24  generation_gwh_2019             9659 non-null   float64\n",
      " 25  generation_data_source          11400 non-null  object \n",
      " 26  estimated_generation_gwh_2013   16120 non-null  float64\n",
      " 27  estimated_generation_gwh_2014   16503 non-null  float64\n",
      " 28  estimated_generation_gwh_2015   17050 non-null  float64\n",
      " 29  estimated_generation_gwh_2016   17570 non-null  float64\n",
      " 30  estimated_generation_gwh_2017   33138 non-null  float64\n",
      " 31  estimated_generation_note_2013  34936 non-null  object \n",
      " 32  estimated_generation_note_2014  34936 non-null  object \n",
      " 33  estimated_generation_note_2015  34936 non-null  object \n",
      " 34  estimated_generation_note_2016  34936 non-null  object \n",
      " 35  estimated_generation_note_2017  34936 non-null  object \n",
      "dtypes: float64(17), object(19)\n",
      "memory usage: 9.6+ MB\n"
     ]
    }
   ],
   "source": [
    "elektrane.info()"
   ]
  },
  {
   "cell_type": "markdown",
   "id": "813eb90d",
   "metadata": {},
   "source": [
    "Odavde vidimo, na primer, da _DataFrame_ __elektrane__ ima 34936 redova i 36 kolona. Za svaku kolonu navedeno je kakve podatke sadrži i koliko takvih podataka ima. Iako sve kolone sadrže isti broj elemenata, moguće je da su neki od njih __null__, odnosno da ti podaci nedostaju. Zato za svaku kolonu imamo broj elemenata koji nisu __null__, odnosno onih podataka koji su ubeleženi. "
   ]
  },
  {
   "cell_type": "markdown",
   "id": "7eb29a5f",
   "metadata": {},
   "source": [
    "Pajton često koristi opštije tipove podataka da se pri učitavanju ne bi nešto izgubilo. Tako su celobrojne vrednosti memorisane kao 64-orobitni decimalni brojevi (_float64_), a tekst kao objekat (_object_). To nije najbolje sa aspekta korišćenja memorije, ali sada ne moramo time da se bavimo. Ako zatreba, moći ćete kasnije da promenite tip promenljive u koloni."
   ]
  },
  {
   "cell_type": "markdown",
   "id": "0ac7185b",
   "metadata": {},
   "source": [
    "Drugi način da vidimo šta se nalazi u tabeli je da pomoću funkcije `head()` pogledamo zaglavlje, tj. nazive kolona sa prvih nekoliko redova. Slično, možemo da pogledamo i \"začelje\" tabele pomoću funkcije `tail()`."
   ]
  },
  {
   "cell_type": "code",
   "execution_count": 24,
   "id": "50de4298",
   "metadata": {},
   "outputs": [
    {
     "data": {
      "text/html": [
       "<div>\n",
       "<style scoped>\n",
       "    .dataframe tbody tr th:only-of-type {\n",
       "        vertical-align: middle;\n",
       "    }\n",
       "\n",
       "    .dataframe tbody tr th {\n",
       "        vertical-align: top;\n",
       "    }\n",
       "\n",
       "    .dataframe thead th {\n",
       "        text-align: right;\n",
       "    }\n",
       "</style>\n",
       "<table border=\"1\" class=\"dataframe\">\n",
       "  <thead>\n",
       "    <tr style=\"text-align: right;\">\n",
       "      <th></th>\n",
       "      <th>country</th>\n",
       "      <th>country_long</th>\n",
       "      <th>name</th>\n",
       "      <th>gppd_idnr</th>\n",
       "      <th>capacity_mw</th>\n",
       "      <th>latitude</th>\n",
       "      <th>longitude</th>\n",
       "      <th>primary_fuel</th>\n",
       "      <th>other_fuel1</th>\n",
       "      <th>other_fuel2</th>\n",
       "      <th>...</th>\n",
       "      <th>estimated_generation_gwh_2013</th>\n",
       "      <th>estimated_generation_gwh_2014</th>\n",
       "      <th>estimated_generation_gwh_2015</th>\n",
       "      <th>estimated_generation_gwh_2016</th>\n",
       "      <th>estimated_generation_gwh_2017</th>\n",
       "      <th>estimated_generation_note_2013</th>\n",
       "      <th>estimated_generation_note_2014</th>\n",
       "      <th>estimated_generation_note_2015</th>\n",
       "      <th>estimated_generation_note_2016</th>\n",
       "      <th>estimated_generation_note_2017</th>\n",
       "    </tr>\n",
       "  </thead>\n",
       "  <tbody>\n",
       "    <tr>\n",
       "      <th>0</th>\n",
       "      <td>AFG</td>\n",
       "      <td>Afghanistan</td>\n",
       "      <td>Kajaki Hydroelectric Power Plant Afghanistan</td>\n",
       "      <td>GEODB0040538</td>\n",
       "      <td>33.0</td>\n",
       "      <td>32.322</td>\n",
       "      <td>65.1190</td>\n",
       "      <td>Hydro</td>\n",
       "      <td>NaN</td>\n",
       "      <td>NaN</td>\n",
       "      <td>...</td>\n",
       "      <td>123.77</td>\n",
       "      <td>162.90</td>\n",
       "      <td>97.39</td>\n",
       "      <td>137.76</td>\n",
       "      <td>119.50</td>\n",
       "      <td>HYDRO-V1</td>\n",
       "      <td>HYDRO-V1</td>\n",
       "      <td>HYDRO-V1</td>\n",
       "      <td>HYDRO-V1</td>\n",
       "      <td>HYDRO-V1</td>\n",
       "    </tr>\n",
       "    <tr>\n",
       "      <th>1</th>\n",
       "      <td>AFG</td>\n",
       "      <td>Afghanistan</td>\n",
       "      <td>Kandahar DOG</td>\n",
       "      <td>WKS0070144</td>\n",
       "      <td>10.0</td>\n",
       "      <td>31.670</td>\n",
       "      <td>65.7950</td>\n",
       "      <td>Solar</td>\n",
       "      <td>NaN</td>\n",
       "      <td>NaN</td>\n",
       "      <td>...</td>\n",
       "      <td>18.43</td>\n",
       "      <td>17.48</td>\n",
       "      <td>18.25</td>\n",
       "      <td>17.70</td>\n",
       "      <td>18.29</td>\n",
       "      <td>SOLAR-V1-NO-AGE</td>\n",
       "      <td>SOLAR-V1-NO-AGE</td>\n",
       "      <td>SOLAR-V1-NO-AGE</td>\n",
       "      <td>SOLAR-V1-NO-AGE</td>\n",
       "      <td>SOLAR-V1-NO-AGE</td>\n",
       "    </tr>\n",
       "    <tr>\n",
       "      <th>2</th>\n",
       "      <td>AFG</td>\n",
       "      <td>Afghanistan</td>\n",
       "      <td>Kandahar JOL</td>\n",
       "      <td>WKS0071196</td>\n",
       "      <td>10.0</td>\n",
       "      <td>31.623</td>\n",
       "      <td>65.7920</td>\n",
       "      <td>Solar</td>\n",
       "      <td>NaN</td>\n",
       "      <td>NaN</td>\n",
       "      <td>...</td>\n",
       "      <td>18.64</td>\n",
       "      <td>17.58</td>\n",
       "      <td>19.10</td>\n",
       "      <td>17.62</td>\n",
       "      <td>18.72</td>\n",
       "      <td>SOLAR-V1-NO-AGE</td>\n",
       "      <td>SOLAR-V1-NO-AGE</td>\n",
       "      <td>SOLAR-V1-NO-AGE</td>\n",
       "      <td>SOLAR-V1-NO-AGE</td>\n",
       "      <td>SOLAR-V1-NO-AGE</td>\n",
       "    </tr>\n",
       "    <tr>\n",
       "      <th>3</th>\n",
       "      <td>AFG</td>\n",
       "      <td>Afghanistan</td>\n",
       "      <td>Mahipar Hydroelectric Power Plant Afghanistan</td>\n",
       "      <td>GEODB0040541</td>\n",
       "      <td>66.0</td>\n",
       "      <td>34.556</td>\n",
       "      <td>69.4787</td>\n",
       "      <td>Hydro</td>\n",
       "      <td>NaN</td>\n",
       "      <td>NaN</td>\n",
       "      <td>...</td>\n",
       "      <td>225.06</td>\n",
       "      <td>203.55</td>\n",
       "      <td>146.90</td>\n",
       "      <td>230.18</td>\n",
       "      <td>174.91</td>\n",
       "      <td>HYDRO-V1</td>\n",
       "      <td>HYDRO-V1</td>\n",
       "      <td>HYDRO-V1</td>\n",
       "      <td>HYDRO-V1</td>\n",
       "      <td>HYDRO-V1</td>\n",
       "    </tr>\n",
       "    <tr>\n",
       "      <th>4</th>\n",
       "      <td>AFG</td>\n",
       "      <td>Afghanistan</td>\n",
       "      <td>Naghlu Dam Hydroelectric Power Plant Afghanistan</td>\n",
       "      <td>GEODB0040534</td>\n",
       "      <td>100.0</td>\n",
       "      <td>34.641</td>\n",
       "      <td>69.7170</td>\n",
       "      <td>Hydro</td>\n",
       "      <td>NaN</td>\n",
       "      <td>NaN</td>\n",
       "      <td>...</td>\n",
       "      <td>406.16</td>\n",
       "      <td>357.22</td>\n",
       "      <td>270.99</td>\n",
       "      <td>395.38</td>\n",
       "      <td>350.80</td>\n",
       "      <td>HYDRO-V1</td>\n",
       "      <td>HYDRO-V1</td>\n",
       "      <td>HYDRO-V1</td>\n",
       "      <td>HYDRO-V1</td>\n",
       "      <td>HYDRO-V1</td>\n",
       "    </tr>\n",
       "  </tbody>\n",
       "</table>\n",
       "<p>5 rows × 36 columns</p>\n",
       "</div>"
      ],
      "text/plain": [
       "  country country_long                                              name  \\\n",
       "0     AFG  Afghanistan      Kajaki Hydroelectric Power Plant Afghanistan   \n",
       "1     AFG  Afghanistan                                      Kandahar DOG   \n",
       "2     AFG  Afghanistan                                      Kandahar JOL   \n",
       "3     AFG  Afghanistan     Mahipar Hydroelectric Power Plant Afghanistan   \n",
       "4     AFG  Afghanistan  Naghlu Dam Hydroelectric Power Plant Afghanistan   \n",
       "\n",
       "      gppd_idnr  capacity_mw  latitude  longitude primary_fuel other_fuel1  \\\n",
       "0  GEODB0040538         33.0    32.322    65.1190        Hydro         NaN   \n",
       "1    WKS0070144         10.0    31.670    65.7950        Solar         NaN   \n",
       "2    WKS0071196         10.0    31.623    65.7920        Solar         NaN   \n",
       "3  GEODB0040541         66.0    34.556    69.4787        Hydro         NaN   \n",
       "4  GEODB0040534        100.0    34.641    69.7170        Hydro         NaN   \n",
       "\n",
       "  other_fuel2  ... estimated_generation_gwh_2013  \\\n",
       "0         NaN  ...                        123.77   \n",
       "1         NaN  ...                         18.43   \n",
       "2         NaN  ...                         18.64   \n",
       "3         NaN  ...                        225.06   \n",
       "4         NaN  ...                        406.16   \n",
       "\n",
       "   estimated_generation_gwh_2014 estimated_generation_gwh_2015  \\\n",
       "0                         162.90                         97.39   \n",
       "1                          17.48                         18.25   \n",
       "2                          17.58                         19.10   \n",
       "3                         203.55                        146.90   \n",
       "4                         357.22                        270.99   \n",
       "\n",
       "  estimated_generation_gwh_2016 estimated_generation_gwh_2017  \\\n",
       "0                        137.76                        119.50   \n",
       "1                         17.70                         18.29   \n",
       "2                         17.62                         18.72   \n",
       "3                        230.18                        174.91   \n",
       "4                        395.38                        350.80   \n",
       "\n",
       "  estimated_generation_note_2013 estimated_generation_note_2014  \\\n",
       "0                       HYDRO-V1                       HYDRO-V1   \n",
       "1                SOLAR-V1-NO-AGE                SOLAR-V1-NO-AGE   \n",
       "2                SOLAR-V1-NO-AGE                SOLAR-V1-NO-AGE   \n",
       "3                       HYDRO-V1                       HYDRO-V1   \n",
       "4                       HYDRO-V1                       HYDRO-V1   \n",
       "\n",
       "   estimated_generation_note_2015  estimated_generation_note_2016  \\\n",
       "0                        HYDRO-V1                        HYDRO-V1   \n",
       "1                 SOLAR-V1-NO-AGE                 SOLAR-V1-NO-AGE   \n",
       "2                 SOLAR-V1-NO-AGE                 SOLAR-V1-NO-AGE   \n",
       "3                        HYDRO-V1                        HYDRO-V1   \n",
       "4                        HYDRO-V1                        HYDRO-V1   \n",
       "\n",
       "   estimated_generation_note_2017  \n",
       "0                        HYDRO-V1  \n",
       "1                 SOLAR-V1-NO-AGE  \n",
       "2                 SOLAR-V1-NO-AGE  \n",
       "3                        HYDRO-V1  \n",
       "4                        HYDRO-V1  \n",
       "\n",
       "[5 rows x 36 columns]"
      ]
     },
     "execution_count": 24,
     "metadata": {},
     "output_type": "execute_result"
    }
   ],
   "source": [
    "elektrane.head()"
   ]
  },
  {
   "cell_type": "markdown",
   "id": "7bfafea2",
   "metadata": {},
   "source": [
    "## Izbor kolona"
   ]
  },
  {
   "cell_type": "markdown",
   "id": "6570ff05",
   "metadata": {},
   "source": [
    "Za rad sa tabelama nije neophodno da imamo baš sve kolone u memoriji. Ako izaberemo samo ono što nas interesuje, tabela će biti preglednija. "
   ]
  },
  {
   "cell_type": "markdown",
   "id": "5ffbfa6e",
   "metadata": {},
   "source": [
    "Za potrebe ove demonstracije uzećemo samo prvih osam kolona, zaključno sa kolonom u kojoj je primarni tip goriva. Za to ćemo koristiti indekse redova i kolona pomoću `iloc[:,0:8]`. Ovo prvo `:` znači da uzimamo sve redove, a `0:8` da uzimamo 8 kolona počevši od indeksa 0 (prva kolona). Imajte u vidu da se prva kolona (za nas ljude koji gledamo ispis na ekranu) i ne računa u kolone. To su samo oznake redova. Za Pajton, prva kolona je __country__ i ona ima indeks 0."
   ]
  },
  {
   "cell_type": "code",
   "execution_count": 25,
   "id": "d0ba11dc",
   "metadata": {},
   "outputs": [],
   "source": [
    "elektrane=elektrane.iloc[:,0:8]"
   ]
  },
  {
   "cell_type": "code",
   "execution_count": 26,
   "id": "1c7acb6b",
   "metadata": {
    "scrolled": true
   },
   "outputs": [
    {
     "data": {
      "text/html": [
       "<div>\n",
       "<style scoped>\n",
       "    .dataframe tbody tr th:only-of-type {\n",
       "        vertical-align: middle;\n",
       "    }\n",
       "\n",
       "    .dataframe tbody tr th {\n",
       "        vertical-align: top;\n",
       "    }\n",
       "\n",
       "    .dataframe thead th {\n",
       "        text-align: right;\n",
       "    }\n",
       "</style>\n",
       "<table border=\"1\" class=\"dataframe\">\n",
       "  <thead>\n",
       "    <tr style=\"text-align: right;\">\n",
       "      <th></th>\n",
       "      <th>country</th>\n",
       "      <th>country_long</th>\n",
       "      <th>name</th>\n",
       "      <th>gppd_idnr</th>\n",
       "      <th>capacity_mw</th>\n",
       "      <th>latitude</th>\n",
       "      <th>longitude</th>\n",
       "      <th>primary_fuel</th>\n",
       "    </tr>\n",
       "  </thead>\n",
       "  <tbody>\n",
       "    <tr>\n",
       "      <th>0</th>\n",
       "      <td>AFG</td>\n",
       "      <td>Afghanistan</td>\n",
       "      <td>Kajaki Hydroelectric Power Plant Afghanistan</td>\n",
       "      <td>GEODB0040538</td>\n",
       "      <td>33.0</td>\n",
       "      <td>32.322</td>\n",
       "      <td>65.1190</td>\n",
       "      <td>Hydro</td>\n",
       "    </tr>\n",
       "    <tr>\n",
       "      <th>1</th>\n",
       "      <td>AFG</td>\n",
       "      <td>Afghanistan</td>\n",
       "      <td>Kandahar DOG</td>\n",
       "      <td>WKS0070144</td>\n",
       "      <td>10.0</td>\n",
       "      <td>31.670</td>\n",
       "      <td>65.7950</td>\n",
       "      <td>Solar</td>\n",
       "    </tr>\n",
       "    <tr>\n",
       "      <th>2</th>\n",
       "      <td>AFG</td>\n",
       "      <td>Afghanistan</td>\n",
       "      <td>Kandahar JOL</td>\n",
       "      <td>WKS0071196</td>\n",
       "      <td>10.0</td>\n",
       "      <td>31.623</td>\n",
       "      <td>65.7920</td>\n",
       "      <td>Solar</td>\n",
       "    </tr>\n",
       "    <tr>\n",
       "      <th>3</th>\n",
       "      <td>AFG</td>\n",
       "      <td>Afghanistan</td>\n",
       "      <td>Mahipar Hydroelectric Power Plant Afghanistan</td>\n",
       "      <td>GEODB0040541</td>\n",
       "      <td>66.0</td>\n",
       "      <td>34.556</td>\n",
       "      <td>69.4787</td>\n",
       "      <td>Hydro</td>\n",
       "    </tr>\n",
       "    <tr>\n",
       "      <th>4</th>\n",
       "      <td>AFG</td>\n",
       "      <td>Afghanistan</td>\n",
       "      <td>Naghlu Dam Hydroelectric Power Plant Afghanistan</td>\n",
       "      <td>GEODB0040534</td>\n",
       "      <td>100.0</td>\n",
       "      <td>34.641</td>\n",
       "      <td>69.7170</td>\n",
       "      <td>Hydro</td>\n",
       "    </tr>\n",
       "  </tbody>\n",
       "</table>\n",
       "</div>"
      ],
      "text/plain": [
       "  country country_long                                              name  \\\n",
       "0     AFG  Afghanistan      Kajaki Hydroelectric Power Plant Afghanistan   \n",
       "1     AFG  Afghanistan                                      Kandahar DOG   \n",
       "2     AFG  Afghanistan                                      Kandahar JOL   \n",
       "3     AFG  Afghanistan     Mahipar Hydroelectric Power Plant Afghanistan   \n",
       "4     AFG  Afghanistan  Naghlu Dam Hydroelectric Power Plant Afghanistan   \n",
       "\n",
       "      gppd_idnr  capacity_mw  latitude  longitude primary_fuel  \n",
       "0  GEODB0040538         33.0    32.322    65.1190        Hydro  \n",
       "1    WKS0070144         10.0    31.670    65.7950        Solar  \n",
       "2    WKS0071196         10.0    31.623    65.7920        Solar  \n",
       "3  GEODB0040541         66.0    34.556    69.4787        Hydro  \n",
       "4  GEODB0040534        100.0    34.641    69.7170        Hydro  "
      ]
     },
     "execution_count": 26,
     "metadata": {},
     "output_type": "execute_result"
    }
   ],
   "source": [
    "elektrane.head()"
   ]
  },
  {
   "cell_type": "markdown",
   "id": "4900528b",
   "metadata": {},
   "source": [
    "Na ovaj način smo izabrali koje kolone želimo da koristimo i sačuvali samo to u tabeli __elektrane__. Slično smo mogli da umesto 0:8 stavimo listu gde tačno navedemo koje kolone hoćemo, npr. `[0,4,7]`. Probajte."
   ]
  },
  {
   "cell_type": "code",
   "execution_count": 27,
   "id": "295c2174",
   "metadata": {},
   "outputs": [
    {
     "data": {
      "text/html": [
       "<div>\n",
       "<style scoped>\n",
       "    .dataframe tbody tr th:only-of-type {\n",
       "        vertical-align: middle;\n",
       "    }\n",
       "\n",
       "    .dataframe tbody tr th {\n",
       "        vertical-align: top;\n",
       "    }\n",
       "\n",
       "    .dataframe thead th {\n",
       "        text-align: right;\n",
       "    }\n",
       "</style>\n",
       "<table border=\"1\" class=\"dataframe\">\n",
       "  <thead>\n",
       "    <tr style=\"text-align: right;\">\n",
       "      <th></th>\n",
       "      <th>country</th>\n",
       "      <th>capacity_mw</th>\n",
       "      <th>primary_fuel</th>\n",
       "    </tr>\n",
       "  </thead>\n",
       "  <tbody>\n",
       "    <tr>\n",
       "      <th>0</th>\n",
       "      <td>AFG</td>\n",
       "      <td>33.0</td>\n",
       "      <td>Hydro</td>\n",
       "    </tr>\n",
       "    <tr>\n",
       "      <th>1</th>\n",
       "      <td>AFG</td>\n",
       "      <td>10.0</td>\n",
       "      <td>Solar</td>\n",
       "    </tr>\n",
       "    <tr>\n",
       "      <th>2</th>\n",
       "      <td>AFG</td>\n",
       "      <td>10.0</td>\n",
       "      <td>Solar</td>\n",
       "    </tr>\n",
       "    <tr>\n",
       "      <th>3</th>\n",
       "      <td>AFG</td>\n",
       "      <td>66.0</td>\n",
       "      <td>Hydro</td>\n",
       "    </tr>\n",
       "    <tr>\n",
       "      <th>4</th>\n",
       "      <td>AFG</td>\n",
       "      <td>100.0</td>\n",
       "      <td>Hydro</td>\n",
       "    </tr>\n",
       "    <tr>\n",
       "      <th>...</th>\n",
       "      <td>...</td>\n",
       "      <td>...</td>\n",
       "      <td>...</td>\n",
       "    </tr>\n",
       "    <tr>\n",
       "      <th>34931</th>\n",
       "      <td>ZMB</td>\n",
       "      <td>50.0</td>\n",
       "      <td>Oil</td>\n",
       "    </tr>\n",
       "    <tr>\n",
       "      <th>34932</th>\n",
       "      <td>ZMB</td>\n",
       "      <td>20.0</td>\n",
       "      <td>Oil</td>\n",
       "    </tr>\n",
       "    <tr>\n",
       "      <th>34933</th>\n",
       "      <td>ZMB</td>\n",
       "      <td>108.0</td>\n",
       "      <td>Hydro</td>\n",
       "    </tr>\n",
       "    <tr>\n",
       "      <th>34934</th>\n",
       "      <td>ZWE</td>\n",
       "      <td>920.0</td>\n",
       "      <td>Coal</td>\n",
       "    </tr>\n",
       "    <tr>\n",
       "      <th>34935</th>\n",
       "      <td>ZWE</td>\n",
       "      <td>750.0</td>\n",
       "      <td>Hydro</td>\n",
       "    </tr>\n",
       "  </tbody>\n",
       "</table>\n",
       "<p>34936 rows × 3 columns</p>\n",
       "</div>"
      ],
      "text/plain": [
       "      country  capacity_mw primary_fuel\n",
       "0         AFG         33.0        Hydro\n",
       "1         AFG         10.0        Solar\n",
       "2         AFG         10.0        Solar\n",
       "3         AFG         66.0        Hydro\n",
       "4         AFG        100.0        Hydro\n",
       "...       ...          ...          ...\n",
       "34931     ZMB         50.0          Oil\n",
       "34932     ZMB         20.0          Oil\n",
       "34933     ZMB        108.0        Hydro\n",
       "34934     ZWE        920.0         Coal\n",
       "34935     ZWE        750.0        Hydro\n",
       "\n",
       "[34936 rows x 3 columns]"
      ]
     },
     "execution_count": 27,
     "metadata": {},
     "output_type": "execute_result"
    }
   ],
   "source": [
    "elektrane.iloc[:,[0,4,7]]"
   ]
  },
  {
   "cell_type": "markdown",
   "id": "e7be04ee",
   "metadata": {},
   "source": [
    "## Tabulacija"
   ]
  },
  {
   "cell_type": "markdown",
   "id": "a6154411",
   "metadata": {},
   "source": [
    "Jedan od prvih koraka u \"eksplorativnoj analizi podataka\", odnosno utvrđivanju šta sve imamo u tabeli jeste da prebrojimo koliko čega ima. Ono što se stručno zove tabulacija, kros-tabulacija ili _contingency table_ je zapravo obično prebrojavanje elemenata po kategorijama. Za početak, uzećemo kolonu sa oznakama zemalja u kojima se nalaze elektrane u prebrojati ih pomoću funkcije `value_counts()`. To će nam reći koliko ima elektrana u kojoj zemlji. Pri tome će funkcija koja prebrojava elemente sortirati niz od najvećeg ka najmanjem pa će na prvom mestu biti zemlja sa najvećim brojem elektrana u ovoj tabeli. "
   ]
  },
  {
   "cell_type": "code",
   "execution_count": 28,
   "id": "149ad57b",
   "metadata": {
    "scrolled": true
   },
   "outputs": [
    {
     "data": {
      "text/plain": [
       "country\n",
       "USA    9833\n",
       "CHN    4235\n",
       "GBR    2751\n",
       "BRA    2360\n",
       "FRA    2155\n",
       "       ... \n",
       "PSE       1\n",
       "DJI       1\n",
       "SUR       1\n",
       "ESH       1\n",
       "GNB       1\n",
       "Length: 167, dtype: int64"
      ]
     },
     "execution_count": 28,
     "metadata": {},
     "output_type": "execute_result"
    }
   ],
   "source": [
    "elektrane.value_counts('country')"
   ]
  },
  {
   "cell_type": "markdown",
   "id": "1f3a6d18",
   "metadata": {},
   "source": [
    "### Kros-tabulacija"
   ]
  },
  {
   "cell_type": "markdown",
   "id": "c3642a7b",
   "metadata": {},
   "source": [
    "Kros-tabulacija je prebrojavanje elemenata po dve odvojene kategorije. Ovde ćemo, na primer, prebrojati koliko se puta pominje koja zemlja za svaki tip primarnih goriva. Tako ćemo videti ko ima koliko elektrana na vetar, koliko nuklearnih elektrana itd. Da bismo to uradili nije dovoljna funkcija `value_counts()` već moramo da razdvojimo kolone koje ćemo tretirati kao posebne kategorijalne promenljive. Funkcija `crosstab()` zahteva dva argumenta tog tipa. To su upravo dve kolone naše tabele."
   ]
  },
  {
   "cell_type": "code",
   "execution_count": 29,
   "id": "906f21a4",
   "metadata": {},
   "outputs": [],
   "source": [
    "zemljа=elektrane['country']\n",
    "gorivo=elektrane['primary_fuel']"
   ]
  },
  {
   "cell_type": "code",
   "execution_count": 30,
   "id": "1b16b597",
   "metadata": {},
   "outputs": [
    {
     "data": {
      "text/plain": [
       "0        AFG\n",
       "1        AFG\n",
       "2        AFG\n",
       "3        AFG\n",
       "4        AFG\n",
       "        ... \n",
       "34931    ZMB\n",
       "34932    ZMB\n",
       "34933    ZMB\n",
       "34934    ZWE\n",
       "34935    ZWE\n",
       "Name: country, Length: 34936, dtype: object"
      ]
     },
     "execution_count": 30,
     "metadata": {},
     "output_type": "execute_result"
    }
   ],
   "source": [
    "zemljа"
   ]
  },
  {
   "cell_type": "code",
   "execution_count": 31,
   "id": "0bc7cfa1",
   "metadata": {},
   "outputs": [
    {
     "data": {
      "text/html": [
       "<div>\n",
       "<style scoped>\n",
       "    .dataframe tbody tr th:only-of-type {\n",
       "        vertical-align: middle;\n",
       "    }\n",
       "\n",
       "    .dataframe tbody tr th {\n",
       "        vertical-align: top;\n",
       "    }\n",
       "\n",
       "    .dataframe thead th {\n",
       "        text-align: right;\n",
       "    }\n",
       "</style>\n",
       "<table border=\"1\" class=\"dataframe\">\n",
       "  <thead>\n",
       "    <tr style=\"text-align: right;\">\n",
       "      <th>primary_fuel</th>\n",
       "      <th>Biomass</th>\n",
       "      <th>Coal</th>\n",
       "      <th>Cogeneration</th>\n",
       "      <th>Gas</th>\n",
       "      <th>Geothermal</th>\n",
       "      <th>Hydro</th>\n",
       "      <th>Nuclear</th>\n",
       "      <th>Oil</th>\n",
       "      <th>Other</th>\n",
       "      <th>Petcoke</th>\n",
       "      <th>Solar</th>\n",
       "      <th>Storage</th>\n",
       "      <th>Waste</th>\n",
       "      <th>Wave and Tidal</th>\n",
       "      <th>Wind</th>\n",
       "    </tr>\n",
       "    <tr>\n",
       "      <th>country</th>\n",
       "      <th></th>\n",
       "      <th></th>\n",
       "      <th></th>\n",
       "      <th></th>\n",
       "      <th></th>\n",
       "      <th></th>\n",
       "      <th></th>\n",
       "      <th></th>\n",
       "      <th></th>\n",
       "      <th></th>\n",
       "      <th></th>\n",
       "      <th></th>\n",
       "      <th></th>\n",
       "      <th></th>\n",
       "      <th></th>\n",
       "    </tr>\n",
       "  </thead>\n",
       "  <tbody>\n",
       "    <tr>\n",
       "      <th>AFG</th>\n",
       "      <td>0</td>\n",
       "      <td>0</td>\n",
       "      <td>0</td>\n",
       "      <td>1</td>\n",
       "      <td>0</td>\n",
       "      <td>6</td>\n",
       "      <td>0</td>\n",
       "      <td>0</td>\n",
       "      <td>0</td>\n",
       "      <td>0</td>\n",
       "      <td>2</td>\n",
       "      <td>0</td>\n",
       "      <td>0</td>\n",
       "      <td>0</td>\n",
       "      <td>0</td>\n",
       "    </tr>\n",
       "    <tr>\n",
       "      <th>AGO</th>\n",
       "      <td>0</td>\n",
       "      <td>0</td>\n",
       "      <td>0</td>\n",
       "      <td>3</td>\n",
       "      <td>0</td>\n",
       "      <td>5</td>\n",
       "      <td>0</td>\n",
       "      <td>6</td>\n",
       "      <td>0</td>\n",
       "      <td>0</td>\n",
       "      <td>0</td>\n",
       "      <td>0</td>\n",
       "      <td>0</td>\n",
       "      <td>0</td>\n",
       "      <td>0</td>\n",
       "    </tr>\n",
       "    <tr>\n",
       "      <th>ALB</th>\n",
       "      <td>0</td>\n",
       "      <td>0</td>\n",
       "      <td>0</td>\n",
       "      <td>0</td>\n",
       "      <td>0</td>\n",
       "      <td>7</td>\n",
       "      <td>0</td>\n",
       "      <td>0</td>\n",
       "      <td>1</td>\n",
       "      <td>0</td>\n",
       "      <td>0</td>\n",
       "      <td>0</td>\n",
       "      <td>0</td>\n",
       "      <td>0</td>\n",
       "      <td>0</td>\n",
       "    </tr>\n",
       "    <tr>\n",
       "      <th>ARE</th>\n",
       "      <td>0</td>\n",
       "      <td>0</td>\n",
       "      <td>0</td>\n",
       "      <td>24</td>\n",
       "      <td>0</td>\n",
       "      <td>0</td>\n",
       "      <td>0</td>\n",
       "      <td>0</td>\n",
       "      <td>0</td>\n",
       "      <td>0</td>\n",
       "      <td>6</td>\n",
       "      <td>0</td>\n",
       "      <td>0</td>\n",
       "      <td>0</td>\n",
       "      <td>0</td>\n",
       "    </tr>\n",
       "    <tr>\n",
       "      <th>ARG</th>\n",
       "      <td>0</td>\n",
       "      <td>9</td>\n",
       "      <td>0</td>\n",
       "      <td>57</td>\n",
       "      <td>0</td>\n",
       "      <td>50</td>\n",
       "      <td>3</td>\n",
       "      <td>96</td>\n",
       "      <td>2</td>\n",
       "      <td>0</td>\n",
       "      <td>7</td>\n",
       "      <td>0</td>\n",
       "      <td>0</td>\n",
       "      <td>0</td>\n",
       "      <td>12</td>\n",
       "    </tr>\n",
       "    <tr>\n",
       "      <th>...</th>\n",
       "      <td>...</td>\n",
       "      <td>...</td>\n",
       "      <td>...</td>\n",
       "      <td>...</td>\n",
       "      <td>...</td>\n",
       "      <td>...</td>\n",
       "      <td>...</td>\n",
       "      <td>...</td>\n",
       "      <td>...</td>\n",
       "      <td>...</td>\n",
       "      <td>...</td>\n",
       "      <td>...</td>\n",
       "      <td>...</td>\n",
       "      <td>...</td>\n",
       "      <td>...</td>\n",
       "    </tr>\n",
       "    <tr>\n",
       "      <th>VNM</th>\n",
       "      <td>2</td>\n",
       "      <td>24</td>\n",
       "      <td>0</td>\n",
       "      <td>9</td>\n",
       "      <td>0</td>\n",
       "      <td>174</td>\n",
       "      <td>0</td>\n",
       "      <td>6</td>\n",
       "      <td>0</td>\n",
       "      <td>0</td>\n",
       "      <td>16</td>\n",
       "      <td>0</td>\n",
       "      <td>0</td>\n",
       "      <td>0</td>\n",
       "      <td>5</td>\n",
       "    </tr>\n",
       "    <tr>\n",
       "      <th>YEM</th>\n",
       "      <td>0</td>\n",
       "      <td>0</td>\n",
       "      <td>0</td>\n",
       "      <td>1</td>\n",
       "      <td>0</td>\n",
       "      <td>0</td>\n",
       "      <td>0</td>\n",
       "      <td>6</td>\n",
       "      <td>0</td>\n",
       "      <td>0</td>\n",
       "      <td>0</td>\n",
       "      <td>0</td>\n",
       "      <td>0</td>\n",
       "      <td>0</td>\n",
       "      <td>0</td>\n",
       "    </tr>\n",
       "    <tr>\n",
       "      <th>ZAF</th>\n",
       "      <td>2</td>\n",
       "      <td>17</td>\n",
       "      <td>0</td>\n",
       "      <td>2</td>\n",
       "      <td>0</td>\n",
       "      <td>6</td>\n",
       "      <td>1</td>\n",
       "      <td>2</td>\n",
       "      <td>0</td>\n",
       "      <td>0</td>\n",
       "      <td>44</td>\n",
       "      <td>0</td>\n",
       "      <td>6</td>\n",
       "      <td>0</td>\n",
       "      <td>24</td>\n",
       "    </tr>\n",
       "    <tr>\n",
       "      <th>ZMB</th>\n",
       "      <td>1</td>\n",
       "      <td>1</td>\n",
       "      <td>0</td>\n",
       "      <td>0</td>\n",
       "      <td>0</td>\n",
       "      <td>5</td>\n",
       "      <td>0</td>\n",
       "      <td>7</td>\n",
       "      <td>0</td>\n",
       "      <td>0</td>\n",
       "      <td>1</td>\n",
       "      <td>0</td>\n",
       "      <td>0</td>\n",
       "      <td>0</td>\n",
       "      <td>0</td>\n",
       "    </tr>\n",
       "    <tr>\n",
       "      <th>ZWE</th>\n",
       "      <td>0</td>\n",
       "      <td>1</td>\n",
       "      <td>0</td>\n",
       "      <td>0</td>\n",
       "      <td>0</td>\n",
       "      <td>1</td>\n",
       "      <td>0</td>\n",
       "      <td>0</td>\n",
       "      <td>0</td>\n",
       "      <td>0</td>\n",
       "      <td>0</td>\n",
       "      <td>0</td>\n",
       "      <td>0</td>\n",
       "      <td>0</td>\n",
       "      <td>0</td>\n",
       "    </tr>\n",
       "  </tbody>\n",
       "</table>\n",
       "<p>167 rows × 15 columns</p>\n",
       "</div>"
      ],
      "text/plain": [
       "primary_fuel  Biomass  Coal  Cogeneration  Gas  Geothermal  Hydro  Nuclear  \\\n",
       "country                                                                      \n",
       "AFG                 0     0             0    1           0      6        0   \n",
       "AGO                 0     0             0    3           0      5        0   \n",
       "ALB                 0     0             0    0           0      7        0   \n",
       "ARE                 0     0             0   24           0      0        0   \n",
       "ARG                 0     9             0   57           0     50        3   \n",
       "...               ...   ...           ...  ...         ...    ...      ...   \n",
       "VNM                 2    24             0    9           0    174        0   \n",
       "YEM                 0     0             0    1           0      0        0   \n",
       "ZAF                 2    17             0    2           0      6        1   \n",
       "ZMB                 1     1             0    0           0      5        0   \n",
       "ZWE                 0     1             0    0           0      1        0   \n",
       "\n",
       "primary_fuel  Oil  Other  Petcoke  Solar  Storage  Waste  Wave and Tidal  Wind  \n",
       "country                                                                         \n",
       "AFG             0      0        0      2        0      0               0     0  \n",
       "AGO             6      0        0      0        0      0               0     0  \n",
       "ALB             0      1        0      0        0      0               0     0  \n",
       "ARE             0      0        0      6        0      0               0     0  \n",
       "ARG            96      2        0      7        0      0               0    12  \n",
       "...           ...    ...      ...    ...      ...    ...             ...   ...  \n",
       "VNM             6      0        0     16        0      0               0     5  \n",
       "YEM             6      0        0      0        0      0               0     0  \n",
       "ZAF             2      0        0     44        0      6               0    24  \n",
       "ZMB             7      0        0      1        0      0               0     0  \n",
       "ZWE             0      0        0      0        0      0               0     0  \n",
       "\n",
       "[167 rows x 15 columns]"
      ]
     },
     "execution_count": 31,
     "metadata": {},
     "output_type": "execute_result"
    }
   ],
   "source": [
    "pd.crosstab(zemljа,gorivo)"
   ]
  },
  {
   "cell_type": "markdown",
   "id": "212023b5",
   "metadata": {},
   "source": [
    "Izgleda da ovih tipova goriva ima više nego što smo očekivali (15). Svejedno, odavde možemo da vidimo ko ima koliko elektrana kog tipa. Kako se koji tip goriva zove mogli smo da dobijemo sa `elektrane.value_counts('primary_fuel')`. Alternativno, možemo da iskoristimo funkciju `columns` koja će nam iste podatke dati za kategorijalnu tabelu."
   ]
  },
  {
   "cell_type": "code",
   "execution_count": 32,
   "id": "71f390a2",
   "metadata": {},
   "outputs": [
    {
     "data": {
      "text/plain": [
       "Index(['Biomass', 'Coal', 'Cogeneration', 'Gas', 'Geothermal', 'Hydro',\n",
       "       'Nuclear', 'Oil', 'Other', 'Petcoke', 'Solar', 'Storage', 'Waste',\n",
       "       'Wave and Tidal', 'Wind'],\n",
       "      dtype='object', name='primary_fuel')"
      ]
     },
     "execution_count": 32,
     "metadata": {},
     "output_type": "execute_result"
    }
   ],
   "source": [
    "pd.crosstab(zemljа,gorivo).columns"
   ]
  },
  {
   "cell_type": "markdown",
   "id": "b62e9529",
   "metadata": {},
   "source": [
    "## Sortiranje"
   ]
  },
  {
   "cell_type": "markdown",
   "id": "d961797c",
   "metadata": {},
   "source": [
    "Menjajući redosled redova i kolona u tabeli možemo da uredimo tabelu kako nama odgovara, a da pritom ništa ne izgubimo od podataka. Najčešće se redosled menja tako što sortiramo podatke po azbučnom/abecednom redu ako su tekstualni ili po veličini ako su numerički. Svako sortiranje može da se vrši i hijerarhijski. Setite se fudbalskih tabela: klubovi su sortirani po broju bodova, ali ako imaju isti broj bodova onda ih sortiramo po gol-razlici. Tu onda imamo dva kriterijuma sortiranja. Važan je i smer sortiranja. Numerički podaci, na primer, mogu da se sortiraju po rastućem ili opadajućem redosledu.\n",
    "\n",
    "Mi ćemo sada podatke o svetskim elektranama da sortiramo po snazi izraženoj u megavatima (kolona __capacity_mw__) počevši od elektrane koja ima najveću snagu (tj. po redu koji nije rastući -- __ascending=False__)."
   ]
  },
  {
   "cell_type": "code",
   "execution_count": 33,
   "id": "942fb12c",
   "metadata": {},
   "outputs": [
    {
     "data": {
      "text/html": [
       "<div>\n",
       "<style scoped>\n",
       "    .dataframe tbody tr th:only-of-type {\n",
       "        vertical-align: middle;\n",
       "    }\n",
       "\n",
       "    .dataframe tbody tr th {\n",
       "        vertical-align: top;\n",
       "    }\n",
       "\n",
       "    .dataframe thead th {\n",
       "        text-align: right;\n",
       "    }\n",
       "</style>\n",
       "<table border=\"1\" class=\"dataframe\">\n",
       "  <thead>\n",
       "    <tr style=\"text-align: right;\">\n",
       "      <th></th>\n",
       "      <th>country</th>\n",
       "      <th>country_long</th>\n",
       "      <th>name</th>\n",
       "      <th>gppd_idnr</th>\n",
       "      <th>capacity_mw</th>\n",
       "      <th>latitude</th>\n",
       "      <th>longitude</th>\n",
       "      <th>primary_fuel</th>\n",
       "    </tr>\n",
       "  </thead>\n",
       "  <tbody>\n",
       "    <tr>\n",
       "      <th>8453</th>\n",
       "      <td>CHN</td>\n",
       "      <td>China</td>\n",
       "      <td>Three Gorges Dam</td>\n",
       "      <td>WRI1000452</td>\n",
       "      <td>22500.0</td>\n",
       "      <td>30.8235</td>\n",
       "      <td>111.0032</td>\n",
       "      <td>Hydro</td>\n",
       "    </tr>\n",
       "    <tr>\n",
       "      <th>5137</th>\n",
       "      <td>CHN</td>\n",
       "      <td>China</td>\n",
       "      <td>Baihetan Dam</td>\n",
       "      <td>WRI1070877</td>\n",
       "      <td>13050.0</td>\n",
       "      <td>28.2606</td>\n",
       "      <td>103.6484</td>\n",
       "      <td>Hydro</td>\n",
       "    </tr>\n",
       "    <tr>\n",
       "      <th>8755</th>\n",
       "      <td>CHN</td>\n",
       "      <td>China</td>\n",
       "      <td>Xiluodu</td>\n",
       "      <td>WRI1000453</td>\n",
       "      <td>12600.0</td>\n",
       "      <td>28.2600</td>\n",
       "      <td>103.6500</td>\n",
       "      <td>Hydro</td>\n",
       "    </tr>\n",
       "    <tr>\n",
       "      <th>19603</th>\n",
       "      <td>RUS</td>\n",
       "      <td>Russia</td>\n",
       "      <td>Surgutskaya GRES-2</td>\n",
       "      <td>WRI1003821</td>\n",
       "      <td>8865.0</td>\n",
       "      <td>61.2794</td>\n",
       "      <td>73.4889</td>\n",
       "      <td>Gas</td>\n",
       "    </tr>\n",
       "    <tr>\n",
       "      <th>34668</th>\n",
       "      <td>VEN</td>\n",
       "      <td>Venezuela</td>\n",
       "      <td>Simon Bolivar (Guri)</td>\n",
       "      <td>WRI1018677</td>\n",
       "      <td>8851.0</td>\n",
       "      <td>7.7659</td>\n",
       "      <td>-62.9982</td>\n",
       "      <td>Hydro</td>\n",
       "    </tr>\n",
       "    <tr>\n",
       "      <th>...</th>\n",
       "      <td>...</td>\n",
       "      <td>...</td>\n",
       "      <td>...</td>\n",
       "      <td>...</td>\n",
       "      <td>...</td>\n",
       "      <td>...</td>\n",
       "      <td>...</td>\n",
       "      <td>...</td>\n",
       "    </tr>\n",
       "    <tr>\n",
       "      <th>33625</th>\n",
       "      <td>USA</td>\n",
       "      <td>United States of America</td>\n",
       "      <td>USS Solar Dawn CSG</td>\n",
       "      <td>USA0062044</td>\n",
       "      <td>1.0</td>\n",
       "      <td>45.4918</td>\n",
       "      <td>-92.8417</td>\n",
       "      <td>Solar</td>\n",
       "    </tr>\n",
       "    <tr>\n",
       "      <th>15796</th>\n",
       "      <td>IDN</td>\n",
       "      <td>Indonesia</td>\n",
       "      <td>Sempor/Mrica</td>\n",
       "      <td>WRI1001009</td>\n",
       "      <td>1.0</td>\n",
       "      <td>-7.4733</td>\n",
       "      <td>109.3331</td>\n",
       "      <td>Hydro</td>\n",
       "    </tr>\n",
       "    <tr>\n",
       "      <th>33624</th>\n",
       "      <td>USA</td>\n",
       "      <td>United States of America</td>\n",
       "      <td>USS Rockpoint Solar CSG</td>\n",
       "      <td>USA0062000</td>\n",
       "      <td>1.0</td>\n",
       "      <td>45.4396</td>\n",
       "      <td>-92.9221</td>\n",
       "      <td>Solar</td>\n",
       "    </tr>\n",
       "    <tr>\n",
       "      <th>23239</th>\n",
       "      <td>GBR</td>\n",
       "      <td>United Kingdom</td>\n",
       "      <td>Innerwick Hydro</td>\n",
       "      <td>GBR0000472</td>\n",
       "      <td>1.0</td>\n",
       "      <td>56.6003</td>\n",
       "      <td>-4.3052</td>\n",
       "      <td>Hydro</td>\n",
       "    </tr>\n",
       "    <tr>\n",
       "      <th>33111</th>\n",
       "      <td>USA</td>\n",
       "      <td>United States of America</td>\n",
       "      <td>SunEdison Anheuser Busch Fairfield</td>\n",
       "      <td>USA0057010</td>\n",
       "      <td>1.0</td>\n",
       "      <td>38.2321</td>\n",
       "      <td>-122.0927</td>\n",
       "      <td>Solar</td>\n",
       "    </tr>\n",
       "  </tbody>\n",
       "</table>\n",
       "<p>34936 rows × 8 columns</p>\n",
       "</div>"
      ],
      "text/plain": [
       "      country              country_long                                name  \\\n",
       "8453      CHN                     China                    Three Gorges Dam   \n",
       "5137      CHN                     China                        Baihetan Dam   \n",
       "8755      CHN                     China                             Xiluodu   \n",
       "19603     RUS                    Russia                  Surgutskaya GRES-2   \n",
       "34668     VEN                 Venezuela                Simon Bolivar (Guri)   \n",
       "...       ...                       ...                                 ...   \n",
       "33625     USA  United States of America                  USS Solar Dawn CSG   \n",
       "15796     IDN                 Indonesia                        Sempor/Mrica   \n",
       "33624     USA  United States of America             USS Rockpoint Solar CSG   \n",
       "23239     GBR            United Kingdom                     Innerwick Hydro   \n",
       "33111     USA  United States of America  SunEdison Anheuser Busch Fairfield   \n",
       "\n",
       "        gppd_idnr  capacity_mw  latitude  longitude primary_fuel  \n",
       "8453   WRI1000452      22500.0   30.8235   111.0032        Hydro  \n",
       "5137   WRI1070877      13050.0   28.2606   103.6484        Hydro  \n",
       "8755   WRI1000453      12600.0   28.2600   103.6500        Hydro  \n",
       "19603  WRI1003821       8865.0   61.2794    73.4889          Gas  \n",
       "34668  WRI1018677       8851.0    7.7659   -62.9982        Hydro  \n",
       "...           ...          ...       ...        ...          ...  \n",
       "33625  USA0062044          1.0   45.4918   -92.8417        Solar  \n",
       "15796  WRI1001009          1.0   -7.4733   109.3331        Hydro  \n",
       "33624  USA0062000          1.0   45.4396   -92.9221        Solar  \n",
       "23239  GBR0000472          1.0   56.6003    -4.3052        Hydro  \n",
       "33111  USA0057010          1.0   38.2321  -122.0927        Solar  \n",
       "\n",
       "[34936 rows x 8 columns]"
      ]
     },
     "execution_count": 33,
     "metadata": {},
     "output_type": "execute_result"
    }
   ],
   "source": [
    "elektrane.sort_values('capacity_mw', ascending=False)"
   ]
  },
  {
   "cell_type": "markdown",
   "id": "da5d62b1",
   "metadata": {},
   "source": [
    "Tabela nam pokazuje da hidroelektrana \"Tri klisure\" u Kini ima najveći kapacitet: 22,5 gigavata. Neki od nas su u školi učili da Huverova elektrana na reci Kolorado proizvodi najviše struje. Davno je to bilo. Izgleda da se nešto promenilo. Da bismo utvrdili koja je po redu Huverova elektrana danas potrebno je da elektranama pridružimo poziciju na rang-listi. Najbolje je da celoj tabeli dodamo kolonu u kojoj će biti rang elektrane od najveće do najmanje. Tu kolonu ćemo nazvati __rank__. (I ostali nazivi kolona su nam na engleskom, zar ne?)"
   ]
  },
  {
   "cell_type": "code",
   "execution_count": 34,
   "id": "3338964b",
   "metadata": {},
   "outputs": [],
   "source": [
    "elektrane['rank']=elektrane['capacity_mw'].rank(ascending=False)"
   ]
  },
  {
   "cell_type": "markdown",
   "id": "23145ef9",
   "metadata": {},
   "source": [
    "Primetite da smo u prethodnom slučaju samo prikazali sortiranu tabelu, a da smo potom originalnoj tabeli __elektrane__ pridružili kolonu sa rang-listom. To je samo drugi način sortiranja. Da vidimo kako sad izgleda zaglavlje tabele. Prva na tabeli je avganistanska elektrana koja je 13036. na rang-listi. Vidimo da negde ima i necelobrojnih vrednosti za rang. To je zato što ih ima više sa istom snagom. "
   ]
  },
  {
   "cell_type": "code",
   "execution_count": 35,
   "id": "635b434c",
   "metadata": {},
   "outputs": [
    {
     "data": {
      "text/html": [
       "<div>\n",
       "<style scoped>\n",
       "    .dataframe tbody tr th:only-of-type {\n",
       "        vertical-align: middle;\n",
       "    }\n",
       "\n",
       "    .dataframe tbody tr th {\n",
       "        vertical-align: top;\n",
       "    }\n",
       "\n",
       "    .dataframe thead th {\n",
       "        text-align: right;\n",
       "    }\n",
       "</style>\n",
       "<table border=\"1\" class=\"dataframe\">\n",
       "  <thead>\n",
       "    <tr style=\"text-align: right;\">\n",
       "      <th></th>\n",
       "      <th>country</th>\n",
       "      <th>country_long</th>\n",
       "      <th>name</th>\n",
       "      <th>gppd_idnr</th>\n",
       "      <th>capacity_mw</th>\n",
       "      <th>latitude</th>\n",
       "      <th>longitude</th>\n",
       "      <th>primary_fuel</th>\n",
       "      <th>rank</th>\n",
       "    </tr>\n",
       "  </thead>\n",
       "  <tbody>\n",
       "    <tr>\n",
       "      <th>0</th>\n",
       "      <td>AFG</td>\n",
       "      <td>Afghanistan</td>\n",
       "      <td>Kajaki Hydroelectric Power Plant Afghanistan</td>\n",
       "      <td>GEODB0040538</td>\n",
       "      <td>33.0</td>\n",
       "      <td>32.322</td>\n",
       "      <td>65.1190</td>\n",
       "      <td>Hydro</td>\n",
       "      <td>13036.0</td>\n",
       "    </tr>\n",
       "    <tr>\n",
       "      <th>1</th>\n",
       "      <td>AFG</td>\n",
       "      <td>Afghanistan</td>\n",
       "      <td>Kandahar DOG</td>\n",
       "      <td>WKS0070144</td>\n",
       "      <td>10.0</td>\n",
       "      <td>31.670</td>\n",
       "      <td>65.7950</td>\n",
       "      <td>Solar</td>\n",
       "      <td>20851.5</td>\n",
       "    </tr>\n",
       "    <tr>\n",
       "      <th>2</th>\n",
       "      <td>AFG</td>\n",
       "      <td>Afghanistan</td>\n",
       "      <td>Kandahar JOL</td>\n",
       "      <td>WKS0071196</td>\n",
       "      <td>10.0</td>\n",
       "      <td>31.623</td>\n",
       "      <td>65.7920</td>\n",
       "      <td>Solar</td>\n",
       "      <td>20851.5</td>\n",
       "    </tr>\n",
       "    <tr>\n",
       "      <th>3</th>\n",
       "      <td>AFG</td>\n",
       "      <td>Afghanistan</td>\n",
       "      <td>Mahipar Hydroelectric Power Plant Afghanistan</td>\n",
       "      <td>GEODB0040541</td>\n",
       "      <td>66.0</td>\n",
       "      <td>34.556</td>\n",
       "      <td>69.4787</td>\n",
       "      <td>Hydro</td>\n",
       "      <td>9260.0</td>\n",
       "    </tr>\n",
       "    <tr>\n",
       "      <th>4</th>\n",
       "      <td>AFG</td>\n",
       "      <td>Afghanistan</td>\n",
       "      <td>Naghlu Dam Hydroelectric Power Plant Afghanistan</td>\n",
       "      <td>GEODB0040534</td>\n",
       "      <td>100.0</td>\n",
       "      <td>34.641</td>\n",
       "      <td>69.7170</td>\n",
       "      <td>Hydro</td>\n",
       "      <td>7690.5</td>\n",
       "    </tr>\n",
       "  </tbody>\n",
       "</table>\n",
       "</div>"
      ],
      "text/plain": [
       "  country country_long                                              name  \\\n",
       "0     AFG  Afghanistan      Kajaki Hydroelectric Power Plant Afghanistan   \n",
       "1     AFG  Afghanistan                                      Kandahar DOG   \n",
       "2     AFG  Afghanistan                                      Kandahar JOL   \n",
       "3     AFG  Afghanistan     Mahipar Hydroelectric Power Plant Afghanistan   \n",
       "4     AFG  Afghanistan  Naghlu Dam Hydroelectric Power Plant Afghanistan   \n",
       "\n",
       "      gppd_idnr  capacity_mw  latitude  longitude primary_fuel     rank  \n",
       "0  GEODB0040538         33.0    32.322    65.1190        Hydro  13036.0  \n",
       "1    WKS0070144         10.0    31.670    65.7950        Solar  20851.5  \n",
       "2    WKS0071196         10.0    31.623    65.7920        Solar  20851.5  \n",
       "3  GEODB0040541         66.0    34.556    69.4787        Hydro   9260.0  \n",
       "4  GEODB0040534        100.0    34.641    69.7170        Hydro   7690.5  "
      ]
     },
     "execution_count": 35,
     "metadata": {},
     "output_type": "execute_result"
    }
   ],
   "source": [
    "elektrane.head()"
   ]
  },
  {
   "cell_type": "markdown",
   "id": "1845d9c7",
   "metadata": {},
   "source": [
    "Da bismo sada u nazivu našli \"Hoover\", \"Djerdap\" ili \"Gorges\" moramo da promenimo tip podataka u koloni __name__ tako da bude tekst, odnosno str. Za Pajton je to i dalje kolona u kojoj su podaci tipa object. To ćemo uraditi pomoću funkcije `astype()` i argumenta __\"str\"__."
   ]
  },
  {
   "cell_type": "code",
   "execution_count": 36,
   "id": "eee96983",
   "metadata": {},
   "outputs": [],
   "source": [
    "elektrane['name']= elektrane['name'].astype(\"str\")"
   ]
  },
  {
   "cell_type": "markdown",
   "id": "76a2e1f0",
   "metadata": {},
   "source": [
    "Sada kad u koloni __name__ imamo podatke tipa __str__ možemo da pitamo gde se na rang-listi nalaze elektrane koje nas interesuju. To ćemo uraditi pomoću funkcije `str.contains()` koja proverava da li se neki tekst nalazi u nekoj tekstualnoj promenljivoj."
   ]
  },
  {
   "cell_type": "code",
   "execution_count": 37,
   "id": "d85c1736",
   "metadata": {},
   "outputs": [
    {
     "data": {
      "text/html": [
       "<div>\n",
       "<style scoped>\n",
       "    .dataframe tbody tr th:only-of-type {\n",
       "        vertical-align: middle;\n",
       "    }\n",
       "\n",
       "    .dataframe tbody tr th {\n",
       "        vertical-align: top;\n",
       "    }\n",
       "\n",
       "    .dataframe thead th {\n",
       "        text-align: right;\n",
       "    }\n",
       "</style>\n",
       "<table border=\"1\" class=\"dataframe\">\n",
       "  <thead>\n",
       "    <tr style=\"text-align: right;\">\n",
       "      <th></th>\n",
       "      <th>country</th>\n",
       "      <th>country_long</th>\n",
       "      <th>name</th>\n",
       "      <th>gppd_idnr</th>\n",
       "      <th>capacity_mw</th>\n",
       "      <th>latitude</th>\n",
       "      <th>longitude</th>\n",
       "      <th>primary_fuel</th>\n",
       "      <th>rank</th>\n",
       "    </tr>\n",
       "  </thead>\n",
       "  <tbody>\n",
       "    <tr>\n",
       "      <th>28706</th>\n",
       "      <td>USA</td>\n",
       "      <td>United States of America</td>\n",
       "      <td>Hoover Dam (AZ)</td>\n",
       "      <td>USA0008902</td>\n",
       "      <td>1039.4</td>\n",
       "      <td>36.0155</td>\n",
       "      <td>-114.738</td>\n",
       "      <td>Hydro</td>\n",
       "      <td>1525.5</td>\n",
       "    </tr>\n",
       "    <tr>\n",
       "      <th>28707</th>\n",
       "      <td>USA</td>\n",
       "      <td>United States of America</td>\n",
       "      <td>Hoover Dam (NV)</td>\n",
       "      <td>USA0000154</td>\n",
       "      <td>1039.4</td>\n",
       "      <td>36.0155</td>\n",
       "      <td>-114.738</td>\n",
       "      <td>Hydro</td>\n",
       "      <td>1525.5</td>\n",
       "    </tr>\n",
       "  </tbody>\n",
       "</table>\n",
       "</div>"
      ],
      "text/plain": [
       "      country              country_long             name   gppd_idnr  \\\n",
       "28706     USA  United States of America  Hoover Dam (AZ)  USA0008902   \n",
       "28707     USA  United States of America  Hoover Dam (NV)  USA0000154   \n",
       "\n",
       "       capacity_mw  latitude  longitude primary_fuel    rank  \n",
       "28706       1039.4   36.0155   -114.738        Hydro  1525.5  \n",
       "28707       1039.4   36.0155   -114.738        Hydro  1525.5  "
      ]
     },
     "execution_count": 37,
     "metadata": {},
     "output_type": "execute_result"
    }
   ],
   "source": [
    "elektrane[elektrane['name'].str.contains('Hoover')]"
   ]
  },
  {
   "cell_type": "markdown",
   "id": "44572437",
   "metadata": {},
   "source": [
    "Izgleda da se Huverova elektrana vodi dva puta u listi. Jednom kao Huverova brana (Arizona), a drugi put kao Huverova brana (Nevada). U svakom slučaju, nije baš najbolje plasirana danas. Rang je 1525."
   ]
  },
  {
   "cell_type": "markdown",
   "id": "7f20a321",
   "metadata": {},
   "source": [
    "Da vidimo gde je naš Đerdap. "
   ]
  },
  {
   "cell_type": "code",
   "execution_count": 38,
   "id": "97a7e987",
   "metadata": {},
   "outputs": [
    {
     "data": {
      "text/html": [
       "<div>\n",
       "<style scoped>\n",
       "    .dataframe tbody tr th:only-of-type {\n",
       "        vertical-align: middle;\n",
       "    }\n",
       "\n",
       "    .dataframe tbody tr th {\n",
       "        vertical-align: top;\n",
       "    }\n",
       "\n",
       "    .dataframe thead th {\n",
       "        text-align: right;\n",
       "    }\n",
       "</style>\n",
       "<table border=\"1\" class=\"dataframe\">\n",
       "  <thead>\n",
       "    <tr style=\"text-align: right;\">\n",
       "      <th></th>\n",
       "      <th>country</th>\n",
       "      <th>country_long</th>\n",
       "      <th>name</th>\n",
       "      <th>gppd_idnr</th>\n",
       "      <th>capacity_mw</th>\n",
       "      <th>latitude</th>\n",
       "      <th>longitude</th>\n",
       "      <th>primary_fuel</th>\n",
       "      <th>rank</th>\n",
       "    </tr>\n",
       "  </thead>\n",
       "  <tbody>\n",
       "  </tbody>\n",
       "</table>\n",
       "</div>"
      ],
      "text/plain": [
       "Empty DataFrame\n",
       "Columns: [country, country_long, name, gppd_idnr, capacity_mw, latitude, longitude, primary_fuel, rank]\n",
       "Index: []"
      ]
     },
     "execution_count": 38,
     "metadata": {},
     "output_type": "execute_result"
    }
   ],
   "source": [
    "elektrane[elektrane['name'].str.contains('Djerdap')]"
   ]
  },
  {
   "cell_type": "markdown",
   "id": "aca8681f",
   "metadata": {},
   "source": [
    "Izgleda da ga nema na listi. Barem ne pod ovim imenom. Moraćemo da pokušamo drugačije."
   ]
  },
  {
   "cell_type": "markdown",
   "id": "73c1127f",
   "metadata": {},
   "source": [
    "## Filtriranje redova i selekcija kolona"
   ]
  },
  {
   "cell_type": "markdown",
   "id": "bb2ca5bc",
   "metadata": {},
   "source": [
    "Mi možemo da filtriramo podatke i pogledamo samo ono što nas interesuje. 34936 redova je svakako previše za pregledanje red po red. Izabraćemo sada samo onaj deo tabele u kom je Srbija zemlja u kojoj se nalazi elektrana. U uglaste zagrade iza imena tabele ćemo staviti logički iskaz `elektrane['country']=='SRB'`. Onda će nam od tabele ostati samo oni redovi u kojima je taj iskaz tačan, odnosno gde je zemlja Srbija."
   ]
  },
  {
   "cell_type": "code",
   "execution_count": 39,
   "id": "3c824936",
   "metadata": {},
   "outputs": [
    {
     "data": {
      "text/html": [
       "<div>\n",
       "<style scoped>\n",
       "    .dataframe tbody tr th:only-of-type {\n",
       "        vertical-align: middle;\n",
       "    }\n",
       "\n",
       "    .dataframe tbody tr th {\n",
       "        vertical-align: top;\n",
       "    }\n",
       "\n",
       "    .dataframe thead th {\n",
       "        text-align: right;\n",
       "    }\n",
       "</style>\n",
       "<table border=\"1\" class=\"dataframe\">\n",
       "  <thead>\n",
       "    <tr style=\"text-align: right;\">\n",
       "      <th></th>\n",
       "      <th>country</th>\n",
       "      <th>country_long</th>\n",
       "      <th>name</th>\n",
       "      <th>gppd_idnr</th>\n",
       "      <th>capacity_mw</th>\n",
       "      <th>latitude</th>\n",
       "      <th>longitude</th>\n",
       "      <th>primary_fuel</th>\n",
       "      <th>rank</th>\n",
       "    </tr>\n",
       "  </thead>\n",
       "  <tbody>\n",
       "    <tr>\n",
       "      <th>19832</th>\n",
       "      <td>SRB</td>\n",
       "      <td>Serbia</td>\n",
       "      <td>HE BAJINA BASTA</td>\n",
       "      <td>WRI1020282</td>\n",
       "      <td>420.0</td>\n",
       "      <td>43.9645</td>\n",
       "      <td>19.4102</td>\n",
       "      <td>Hydro</td>\n",
       "      <td>3555.0</td>\n",
       "    </tr>\n",
       "    <tr>\n",
       "      <th>19833</th>\n",
       "      <td>SRB</td>\n",
       "      <td>Serbia</td>\n",
       "      <td>HE DJERDAP I</td>\n",
       "      <td>WRI1020277</td>\n",
       "      <td>1086.0</td>\n",
       "      <td>44.6684</td>\n",
       "      <td>22.5268</td>\n",
       "      <td>Hydro</td>\n",
       "      <td>1452.0</td>\n",
       "    </tr>\n",
       "    <tr>\n",
       "      <th>19834</th>\n",
       "      <td>SRB</td>\n",
       "      <td>Serbia</td>\n",
       "      <td>HE DJERDAP II</td>\n",
       "      <td>WRI1020284</td>\n",
       "      <td>270.0</td>\n",
       "      <td>44.3065</td>\n",
       "      <td>22.5667</td>\n",
       "      <td>Hydro</td>\n",
       "      <td>4577.5</td>\n",
       "    </tr>\n",
       "    <tr>\n",
       "      <th>19835</th>\n",
       "      <td>SRB</td>\n",
       "      <td>Serbia</td>\n",
       "      <td>RHE BAJINA BASTA</td>\n",
       "      <td>WRI1020281</td>\n",
       "      <td>614.0</td>\n",
       "      <td>43.9645</td>\n",
       "      <td>19.4102</td>\n",
       "      <td>Hydro</td>\n",
       "      <td>2681.0</td>\n",
       "    </tr>\n",
       "    <tr>\n",
       "      <th>19836</th>\n",
       "      <td>SRB</td>\n",
       "      <td>Serbia</td>\n",
       "      <td>TE KOLUBARA</td>\n",
       "      <td>WRI1020285</td>\n",
       "      <td>245.0</td>\n",
       "      <td>44.4806</td>\n",
       "      <td>20.2934</td>\n",
       "      <td>Coal</td>\n",
       "      <td>4825.0</td>\n",
       "    </tr>\n",
       "    <tr>\n",
       "      <th>19837</th>\n",
       "      <td>SRB</td>\n",
       "      <td>Serbia</td>\n",
       "      <td>TE KOSOVO A</td>\n",
       "      <td>WRI1020280</td>\n",
       "      <td>617.0</td>\n",
       "      <td>42.6773</td>\n",
       "      <td>21.0886</td>\n",
       "      <td>Coal</td>\n",
       "      <td>2674.0</td>\n",
       "    </tr>\n",
       "    <tr>\n",
       "      <th>19838</th>\n",
       "      <td>SRB</td>\n",
       "      <td>Serbia</td>\n",
       "      <td>TE KOSOVO B</td>\n",
       "      <td>WRI1020279</td>\n",
       "      <td>618.0</td>\n",
       "      <td>42.6945</td>\n",
       "      <td>21.0590</td>\n",
       "      <td>Coal</td>\n",
       "      <td>2670.5</td>\n",
       "    </tr>\n",
       "    <tr>\n",
       "      <th>19839</th>\n",
       "      <td>SRB</td>\n",
       "      <td>Serbia</td>\n",
       "      <td>TE KOSTOLAC A</td>\n",
       "      <td>WRI1020283</td>\n",
       "      <td>281.0</td>\n",
       "      <td>44.7229</td>\n",
       "      <td>21.1717</td>\n",
       "      <td>Coal</td>\n",
       "      <td>4477.5</td>\n",
       "    </tr>\n",
       "    <tr>\n",
       "      <th>19840</th>\n",
       "      <td>SRB</td>\n",
       "      <td>Serbia</td>\n",
       "      <td>TE KOSTOLAC B</td>\n",
       "      <td>WRI1020278</td>\n",
       "      <td>697.0</td>\n",
       "      <td>44.7307</td>\n",
       "      <td>21.2104</td>\n",
       "      <td>Coal</td>\n",
       "      <td>2348.0</td>\n",
       "    </tr>\n",
       "    <tr>\n",
       "      <th>19841</th>\n",
       "      <td>SRB</td>\n",
       "      <td>Serbia</td>\n",
       "      <td>TE MORAVA</td>\n",
       "      <td>WRI1020288</td>\n",
       "      <td>110.0</td>\n",
       "      <td>44.2248</td>\n",
       "      <td>21.1627</td>\n",
       "      <td>Coal</td>\n",
       "      <td>7202.0</td>\n",
       "    </tr>\n",
       "    <tr>\n",
       "      <th>19842</th>\n",
       "      <td>SRB</td>\n",
       "      <td>Serbia</td>\n",
       "      <td>TENT A</td>\n",
       "      <td>WRI1020275</td>\n",
       "      <td>1730.0</td>\n",
       "      <td>44.6711</td>\n",
       "      <td>20.1593</td>\n",
       "      <td>Coal</td>\n",
       "      <td>653.5</td>\n",
       "    </tr>\n",
       "    <tr>\n",
       "      <th>19843</th>\n",
       "      <td>SRB</td>\n",
       "      <td>Serbia</td>\n",
       "      <td>TENT B</td>\n",
       "      <td>WRI1020276</td>\n",
       "      <td>1270.0</td>\n",
       "      <td>44.6551</td>\n",
       "      <td>20.0053</td>\n",
       "      <td>Coal</td>\n",
       "      <td>1082.0</td>\n",
       "    </tr>\n",
       "  </tbody>\n",
       "</table>\n",
       "</div>"
      ],
      "text/plain": [
       "      country country_long              name   gppd_idnr  capacity_mw  \\\n",
       "19832     SRB       Serbia   HE BAJINA BASTA  WRI1020282        420.0   \n",
       "19833     SRB       Serbia      HE DJERDAP I  WRI1020277       1086.0   \n",
       "19834     SRB       Serbia     HE DJERDAP II  WRI1020284        270.0   \n",
       "19835     SRB       Serbia  RHE BAJINA BASTA  WRI1020281        614.0   \n",
       "19836     SRB       Serbia       TE KOLUBARA  WRI1020285        245.0   \n",
       "19837     SRB       Serbia       TE KOSOVO A  WRI1020280        617.0   \n",
       "19838     SRB       Serbia       TE KOSOVO B  WRI1020279        618.0   \n",
       "19839     SRB       Serbia     TE KOSTOLAC A  WRI1020283        281.0   \n",
       "19840     SRB       Serbia     TE KOSTOLAC B  WRI1020278        697.0   \n",
       "19841     SRB       Serbia         TE MORAVA  WRI1020288        110.0   \n",
       "19842     SRB       Serbia            TENT A  WRI1020275       1730.0   \n",
       "19843     SRB       Serbia            TENT B  WRI1020276       1270.0   \n",
       "\n",
       "       latitude  longitude primary_fuel    rank  \n",
       "19832   43.9645    19.4102        Hydro  3555.0  \n",
       "19833   44.6684    22.5268        Hydro  1452.0  \n",
       "19834   44.3065    22.5667        Hydro  4577.5  \n",
       "19835   43.9645    19.4102        Hydro  2681.0  \n",
       "19836   44.4806    20.2934         Coal  4825.0  \n",
       "19837   42.6773    21.0886         Coal  2674.0  \n",
       "19838   42.6945    21.0590         Coal  2670.5  \n",
       "19839   44.7229    21.1717         Coal  4477.5  \n",
       "19840   44.7307    21.2104         Coal  2348.0  \n",
       "19841   44.2248    21.1627         Coal  7202.0  \n",
       "19842   44.6711    20.1593         Coal   653.5  \n",
       "19843   44.6551    20.0053         Coal  1082.0  "
      ]
     },
     "execution_count": 39,
     "metadata": {},
     "output_type": "execute_result"
    }
   ],
   "source": [
    "elektrane[elektrane['country']=='SRB']"
   ]
  },
  {
   "cell_type": "markdown",
   "id": "aafe873d",
   "metadata": {},
   "source": [
    "Sad je jasno zašto malopre nismo našli Đerdap. Trebalo je da ga napišemo velikim slovima. Ili, što bi bilo još bolje kažemo da `str.contains()` ne bude osetljiv na to da li su slova mala ili velika. Svejedno, sad imamo podatak da je Đerdap 1 1452. najveća elektrana na svetu. Termoelektrane u Obrenovcu su nam nešto bolje plasirane. Možda time ne bi trebalo da se hvalimo, ali možemo da konstatujemo."
   ]
  },
  {
   "cell_type": "markdown",
   "id": "3242c1c7",
   "metadata": {},
   "source": [
    "### Složeni kriterijumi"
   ]
  },
  {
   "cell_type": "markdown",
   "id": "d92d8ac5",
   "metadata": {},
   "source": [
    "Logički iskaz pomoću kog filtriramo podatke u tabeli može da bude složeniji. Evo primera kako koristimo dva uslova: da je elektrana u Srbiji i da je tipa \"Hydro\". Da bi rezultat logičkog iskaza bio izračunat kako treba oba pojedinačna iskaza stavite u zagrade i razdvojte znakom `&`."
   ]
  },
  {
   "cell_type": "code",
   "execution_count": 40,
   "id": "5472b909",
   "metadata": {},
   "outputs": [
    {
     "data": {
      "text/html": [
       "<div>\n",
       "<style scoped>\n",
       "    .dataframe tbody tr th:only-of-type {\n",
       "        vertical-align: middle;\n",
       "    }\n",
       "\n",
       "    .dataframe tbody tr th {\n",
       "        vertical-align: top;\n",
       "    }\n",
       "\n",
       "    .dataframe thead th {\n",
       "        text-align: right;\n",
       "    }\n",
       "</style>\n",
       "<table border=\"1\" class=\"dataframe\">\n",
       "  <thead>\n",
       "    <tr style=\"text-align: right;\">\n",
       "      <th></th>\n",
       "      <th>country</th>\n",
       "      <th>country_long</th>\n",
       "      <th>name</th>\n",
       "      <th>gppd_idnr</th>\n",
       "      <th>capacity_mw</th>\n",
       "      <th>latitude</th>\n",
       "      <th>longitude</th>\n",
       "      <th>primary_fuel</th>\n",
       "      <th>rank</th>\n",
       "    </tr>\n",
       "  </thead>\n",
       "  <tbody>\n",
       "    <tr>\n",
       "      <th>19832</th>\n",
       "      <td>SRB</td>\n",
       "      <td>Serbia</td>\n",
       "      <td>HE BAJINA BASTA</td>\n",
       "      <td>WRI1020282</td>\n",
       "      <td>420.0</td>\n",
       "      <td>43.9645</td>\n",
       "      <td>19.4102</td>\n",
       "      <td>Hydro</td>\n",
       "      <td>3555.0</td>\n",
       "    </tr>\n",
       "    <tr>\n",
       "      <th>19833</th>\n",
       "      <td>SRB</td>\n",
       "      <td>Serbia</td>\n",
       "      <td>HE DJERDAP I</td>\n",
       "      <td>WRI1020277</td>\n",
       "      <td>1086.0</td>\n",
       "      <td>44.6684</td>\n",
       "      <td>22.5268</td>\n",
       "      <td>Hydro</td>\n",
       "      <td>1452.0</td>\n",
       "    </tr>\n",
       "    <tr>\n",
       "      <th>19834</th>\n",
       "      <td>SRB</td>\n",
       "      <td>Serbia</td>\n",
       "      <td>HE DJERDAP II</td>\n",
       "      <td>WRI1020284</td>\n",
       "      <td>270.0</td>\n",
       "      <td>44.3065</td>\n",
       "      <td>22.5667</td>\n",
       "      <td>Hydro</td>\n",
       "      <td>4577.5</td>\n",
       "    </tr>\n",
       "    <tr>\n",
       "      <th>19835</th>\n",
       "      <td>SRB</td>\n",
       "      <td>Serbia</td>\n",
       "      <td>RHE BAJINA BASTA</td>\n",
       "      <td>WRI1020281</td>\n",
       "      <td>614.0</td>\n",
       "      <td>43.9645</td>\n",
       "      <td>19.4102</td>\n",
       "      <td>Hydro</td>\n",
       "      <td>2681.0</td>\n",
       "    </tr>\n",
       "  </tbody>\n",
       "</table>\n",
       "</div>"
      ],
      "text/plain": [
       "      country country_long              name   gppd_idnr  capacity_mw  \\\n",
       "19832     SRB       Serbia   HE BAJINA BASTA  WRI1020282        420.0   \n",
       "19833     SRB       Serbia      HE DJERDAP I  WRI1020277       1086.0   \n",
       "19834     SRB       Serbia     HE DJERDAP II  WRI1020284        270.0   \n",
       "19835     SRB       Serbia  RHE BAJINA BASTA  WRI1020281        614.0   \n",
       "\n",
       "       latitude  longitude primary_fuel    rank  \n",
       "19832   43.9645    19.4102        Hydro  3555.0  \n",
       "19833   44.6684    22.5268        Hydro  1452.0  \n",
       "19834   44.3065    22.5667        Hydro  4577.5  \n",
       "19835   43.9645    19.4102        Hydro  2681.0  "
      ]
     },
     "execution_count": 40,
     "metadata": {},
     "output_type": "execute_result"
    }
   ],
   "source": [
    "elektrane[(elektrane['country']=='SRB') & (elektrane['primary_fuel']=='Hydro')]"
   ]
  },
  {
   "cell_type": "markdown",
   "id": "f0be324b",
   "metadata": {},
   "source": [
    "## Agregacija podataka"
   ]
  },
  {
   "cell_type": "markdown",
   "id": "d4c5c6a2",
   "metadata": {},
   "source": [
    "Za neke analize je zgodno grupisati podatke. U primeru sa elektranama možemo, na primer, da uradimo pregled po zemljama -- da vidimo koliko ima ukupno elektrana i koliko imaju ukupno snage. Prvi korak je da pomoću funkcije `groupby()` grupišemo podatke u tabeli u odnosu da konkretnu kategoriju, tj. podatke u konkretnoj koloni."
   ]
  },
  {
   "cell_type": "code",
   "execution_count": 41,
   "id": "cbb29983",
   "metadata": {},
   "outputs": [],
   "source": [
    "po_zemljama=elektrane.groupby('country')"
   ]
  },
  {
   "cell_type": "markdown",
   "id": "e7fe2f8d",
   "metadata": {},
   "source": [
    "Struktura __po_zemljama__ je objekat složeniji od tabele i nije pogodan za prikaz. Bolje je da napravimo _DataFrame_ sa konkretnim statistikama koje nas interesuju. Počećemo od kolone u kojoj za sve zemlje saberemo vrednosti iz kolone __capacity_mw__."
   ]
  },
  {
   "cell_type": "code",
   "execution_count": 42,
   "id": "3f33f41b",
   "metadata": {},
   "outputs": [],
   "source": [
    "gdf=pd.DataFrame(po_zemljama['capacity_mw'].sum())"
   ]
  },
  {
   "cell_type": "code",
   "execution_count": 43,
   "id": "597beb79",
   "metadata": {},
   "outputs": [
    {
     "data": {
      "text/html": [
       "<div>\n",
       "<style scoped>\n",
       "    .dataframe tbody tr th:only-of-type {\n",
       "        vertical-align: middle;\n",
       "    }\n",
       "\n",
       "    .dataframe tbody tr th {\n",
       "        vertical-align: top;\n",
       "    }\n",
       "\n",
       "    .dataframe thead th {\n",
       "        text-align: right;\n",
       "    }\n",
       "</style>\n",
       "<table border=\"1\" class=\"dataframe\">\n",
       "  <thead>\n",
       "    <tr style=\"text-align: right;\">\n",
       "      <th></th>\n",
       "      <th>capacity_mw</th>\n",
       "    </tr>\n",
       "    <tr>\n",
       "      <th>country</th>\n",
       "      <th></th>\n",
       "    </tr>\n",
       "  </thead>\n",
       "  <tbody>\n",
       "    <tr>\n",
       "      <th>AFG</th>\n",
       "      <td>300.550</td>\n",
       "    </tr>\n",
       "    <tr>\n",
       "      <th>AGO</th>\n",
       "      <td>1071.180</td>\n",
       "    </tr>\n",
       "    <tr>\n",
       "      <th>ALB</th>\n",
       "      <td>1529.000</td>\n",
       "    </tr>\n",
       "    <tr>\n",
       "      <th>ARE</th>\n",
       "      <td>30327.000</td>\n",
       "    </tr>\n",
       "    <tr>\n",
       "      <th>ARG</th>\n",
       "      <td>32913.079</td>\n",
       "    </tr>\n",
       "    <tr>\n",
       "      <th>...</th>\n",
       "      <td>...</td>\n",
       "    </tr>\n",
       "    <tr>\n",
       "      <th>VNM</th>\n",
       "      <td>41350.490</td>\n",
       "    </tr>\n",
       "    <tr>\n",
       "      <th>YEM</th>\n",
       "      <td>1045.000</td>\n",
       "    </tr>\n",
       "    <tr>\n",
       "      <th>ZAF</th>\n",
       "      <td>50422.700</td>\n",
       "    </tr>\n",
       "    <tr>\n",
       "      <th>ZMB</th>\n",
       "      <td>2689.337</td>\n",
       "    </tr>\n",
       "    <tr>\n",
       "      <th>ZWE</th>\n",
       "      <td>1670.000</td>\n",
       "    </tr>\n",
       "  </tbody>\n",
       "</table>\n",
       "<p>167 rows × 1 columns</p>\n",
       "</div>"
      ],
      "text/plain": [
       "         capacity_mw\n",
       "country             \n",
       "AFG          300.550\n",
       "AGO         1071.180\n",
       "ALB         1529.000\n",
       "ARE        30327.000\n",
       "ARG        32913.079\n",
       "...              ...\n",
       "VNM        41350.490\n",
       "YEM         1045.000\n",
       "ZAF        50422.700\n",
       "ZMB         2689.337\n",
       "ZWE         1670.000\n",
       "\n",
       "[167 rows x 1 columns]"
      ]
     },
     "execution_count": 43,
     "metadata": {},
     "output_type": "execute_result"
    }
   ],
   "source": [
    "gdf"
   ]
  },
  {
   "cell_type": "markdown",
   "id": "863ecf7a",
   "metadata": {},
   "source": [
    "Tabeli __gdf__ ćemo pridružiti još jednu kolonu: ukupan broj elektrana. Ovu kolonu ćemo nazvati __count__."
   ]
  },
  {
   "cell_type": "code",
   "execution_count": 44,
   "id": "849130d8",
   "metadata": {},
   "outputs": [],
   "source": [
    "gdf['count']=po_zemljama['capacity_mw'].count()"
   ]
  },
  {
   "cell_type": "markdown",
   "id": "c71304de",
   "metadata": {},
   "source": [
    "Još samo da tabelu sortiramo po broju elektrana."
   ]
  },
  {
   "cell_type": "code",
   "execution_count": 45,
   "id": "0450280c",
   "metadata": {},
   "outputs": [
    {
     "data": {
      "text/html": [
       "<div>\n",
       "<style scoped>\n",
       "    .dataframe tbody tr th:only-of-type {\n",
       "        vertical-align: middle;\n",
       "    }\n",
       "\n",
       "    .dataframe tbody tr th {\n",
       "        vertical-align: top;\n",
       "    }\n",
       "\n",
       "    .dataframe thead th {\n",
       "        text-align: right;\n",
       "    }\n",
       "</style>\n",
       "<table border=\"1\" class=\"dataframe\">\n",
       "  <thead>\n",
       "    <tr style=\"text-align: right;\">\n",
       "      <th></th>\n",
       "      <th>capacity_mw</th>\n",
       "      <th>count</th>\n",
       "    </tr>\n",
       "    <tr>\n",
       "      <th>country</th>\n",
       "      <th></th>\n",
       "      <th></th>\n",
       "    </tr>\n",
       "  </thead>\n",
       "  <tbody>\n",
       "    <tr>\n",
       "      <th>USA</th>\n",
       "      <td>1.204638e+06</td>\n",
       "      <td>9833</td>\n",
       "    </tr>\n",
       "    <tr>\n",
       "      <th>CHN</th>\n",
       "      <td>1.415067e+06</td>\n",
       "      <td>4235</td>\n",
       "    </tr>\n",
       "    <tr>\n",
       "      <th>GBR</th>\n",
       "      <td>9.715528e+04</td>\n",
       "      <td>2751</td>\n",
       "    </tr>\n",
       "    <tr>\n",
       "      <th>BRA</th>\n",
       "      <td>1.475893e+05</td>\n",
       "      <td>2360</td>\n",
       "    </tr>\n",
       "    <tr>\n",
       "      <th>FRA</th>\n",
       "      <td>1.106159e+05</td>\n",
       "      <td>2155</td>\n",
       "    </tr>\n",
       "    <tr>\n",
       "      <th>...</th>\n",
       "      <td>...</td>\n",
       "      <td>...</td>\n",
       "    </tr>\n",
       "    <tr>\n",
       "      <th>PSE</th>\n",
       "      <td>7.600000e+00</td>\n",
       "      <td>1</td>\n",
       "    </tr>\n",
       "    <tr>\n",
       "      <th>DJI</th>\n",
       "      <td>1.073320e+02</td>\n",
       "      <td>1</td>\n",
       "    </tr>\n",
       "    <tr>\n",
       "      <th>SUR</th>\n",
       "      <td>5.000000e+00</td>\n",
       "      <td>1</td>\n",
       "    </tr>\n",
       "    <tr>\n",
       "      <th>ESH</th>\n",
       "      <td>2.340000e+01</td>\n",
       "      <td>1</td>\n",
       "    </tr>\n",
       "    <tr>\n",
       "      <th>GNB</th>\n",
       "      <td>1.823700e+01</td>\n",
       "      <td>1</td>\n",
       "    </tr>\n",
       "  </tbody>\n",
       "</table>\n",
       "<p>167 rows × 2 columns</p>\n",
       "</div>"
      ],
      "text/plain": [
       "          capacity_mw  count\n",
       "country                     \n",
       "USA      1.204638e+06   9833\n",
       "CHN      1.415067e+06   4235\n",
       "GBR      9.715528e+04   2751\n",
       "BRA      1.475893e+05   2360\n",
       "FRA      1.106159e+05   2155\n",
       "...               ...    ...\n",
       "PSE      7.600000e+00      1\n",
       "DJI      1.073320e+02      1\n",
       "SUR      5.000000e+00      1\n",
       "ESH      2.340000e+01      1\n",
       "GNB      1.823700e+01      1\n",
       "\n",
       "[167 rows x 2 columns]"
      ]
     },
     "execution_count": 45,
     "metadata": {},
     "output_type": "execute_result"
    }
   ],
   "source": [
    "gdf.sort_values('count', ascending=False)"
   ]
  },
  {
   "cell_type": "markdown",
   "id": "04e79028",
   "metadata": {},
   "source": [
    "Sada vidimo kolika je ukupna snaga elektrana u SAD, Kini, Britaniji... Ukupno, za ceo svet to može da se sabere i dobijamo 5.7 teravata snage."
   ]
  },
  {
   "cell_type": "code",
   "execution_count": 46,
   "id": "ebdd760c",
   "metadata": {},
   "outputs": [
    {
     "data": {
      "text/plain": [
       "5706975.447256997"
      ]
     },
     "execution_count": 46,
     "metadata": {},
     "output_type": "execute_result"
    }
   ],
   "source": [
    "gdf.capacity_mw.sum()"
   ]
  },
  {
   "cell_type": "markdown",
   "id": "c008f181",
   "metadata": {},
   "source": [
    "## Povezivanje tabela"
   ]
  },
  {
   "cell_type": "markdown",
   "id": "ab837167",
   "metadata": {},
   "source": [
    "Nemamo uvek sve potrebne podatke u jednoj tabeli. Na primer, u tabeli sa elektranama nemamo podatak o tome na kom se kontinentu nalaze elektrane, a baš nas interesuje da vidimo koliko koji kontinent proizvodi struje. Rešenje je da nađemo drugu tabelu u kojoj imamo podatke na kom je kontinentu koja zemlja pa da te dve tabele povežemo. Važno je da nađemo tabelu koja ima na isti način zapisane vrednosti po kojima hoćemo da povežemo tabele. Ako u jednoj piše \"United Kingdom\" a u drugoj \"Great Britain\" to će biti muka za povezivanje. Baš zato su međunarodne agencije standardizovale nazive i oznake za zemlje, regije, opštine itd. Da vidimo šta piše u jednoj takvoj [tabeli](https://datahub.io/JohnSnowLabs/country-and-continent-codes-list/r/country-and-continent-codes-list-csv.csv)."
   ]
  },
  {
   "cell_type": "code",
   "execution_count": 47,
   "id": "477700ae",
   "metadata": {},
   "outputs": [],
   "source": [
    "zemlje=pd.read_csv(\"data/country-and-continent-codes-list.csv\")"
   ]
  },
  {
   "cell_type": "code",
   "execution_count": 48,
   "id": "71f1d6c0",
   "metadata": {},
   "outputs": [
    {
     "data": {
      "text/html": [
       "<div>\n",
       "<style scoped>\n",
       "    .dataframe tbody tr th:only-of-type {\n",
       "        vertical-align: middle;\n",
       "    }\n",
       "\n",
       "    .dataframe tbody tr th {\n",
       "        vertical-align: top;\n",
       "    }\n",
       "\n",
       "    .dataframe thead th {\n",
       "        text-align: right;\n",
       "    }\n",
       "</style>\n",
       "<table border=\"1\" class=\"dataframe\">\n",
       "  <thead>\n",
       "    <tr style=\"text-align: right;\">\n",
       "      <th></th>\n",
       "      <th>Continent_Name</th>\n",
       "      <th>Continent_Code</th>\n",
       "      <th>Country_Name</th>\n",
       "      <th>Two_Letter_Country_Code</th>\n",
       "      <th>Three_Letter_Country_Code</th>\n",
       "      <th>Country_Number</th>\n",
       "    </tr>\n",
       "  </thead>\n",
       "  <tbody>\n",
       "    <tr>\n",
       "      <th>0</th>\n",
       "      <td>Asia</td>\n",
       "      <td>AS</td>\n",
       "      <td>Afghanistan, Islamic Republic of</td>\n",
       "      <td>AF</td>\n",
       "      <td>AFG</td>\n",
       "      <td>4.0</td>\n",
       "    </tr>\n",
       "    <tr>\n",
       "      <th>1</th>\n",
       "      <td>Europe</td>\n",
       "      <td>EU</td>\n",
       "      <td>Albania, Republic of</td>\n",
       "      <td>AL</td>\n",
       "      <td>ALB</td>\n",
       "      <td>8.0</td>\n",
       "    </tr>\n",
       "    <tr>\n",
       "      <th>2</th>\n",
       "      <td>Antarctica</td>\n",
       "      <td>AN</td>\n",
       "      <td>Antarctica (the territory South of 60 deg S)</td>\n",
       "      <td>AQ</td>\n",
       "      <td>ATA</td>\n",
       "      <td>10.0</td>\n",
       "    </tr>\n",
       "    <tr>\n",
       "      <th>3</th>\n",
       "      <td>Africa</td>\n",
       "      <td>AF</td>\n",
       "      <td>Algeria, People's Democratic Republic of</td>\n",
       "      <td>DZ</td>\n",
       "      <td>DZA</td>\n",
       "      <td>12.0</td>\n",
       "    </tr>\n",
       "    <tr>\n",
       "      <th>4</th>\n",
       "      <td>Oceania</td>\n",
       "      <td>OC</td>\n",
       "      <td>American Samoa</td>\n",
       "      <td>AS</td>\n",
       "      <td>ASM</td>\n",
       "      <td>16.0</td>\n",
       "    </tr>\n",
       "    <tr>\n",
       "      <th>5</th>\n",
       "      <td>Europe</td>\n",
       "      <td>EU</td>\n",
       "      <td>Andorra, Principality of</td>\n",
       "      <td>AD</td>\n",
       "      <td>AND</td>\n",
       "      <td>20.0</td>\n",
       "    </tr>\n",
       "    <tr>\n",
       "      <th>6</th>\n",
       "      <td>Africa</td>\n",
       "      <td>AF</td>\n",
       "      <td>Angola, Republic of</td>\n",
       "      <td>AO</td>\n",
       "      <td>AGO</td>\n",
       "      <td>24.0</td>\n",
       "    </tr>\n",
       "    <tr>\n",
       "      <th>7</th>\n",
       "      <td>North America</td>\n",
       "      <td>NaN</td>\n",
       "      <td>Antigua and Barbuda</td>\n",
       "      <td>AG</td>\n",
       "      <td>ATG</td>\n",
       "      <td>28.0</td>\n",
       "    </tr>\n",
       "  </tbody>\n",
       "</table>\n",
       "</div>"
      ],
      "text/plain": [
       "  Continent_Name Continent_Code                                  Country_Name  \\\n",
       "0           Asia             AS              Afghanistan, Islamic Republic of   \n",
       "1         Europe             EU                          Albania, Republic of   \n",
       "2     Antarctica             AN  Antarctica (the territory South of 60 deg S)   \n",
       "3         Africa             AF      Algeria, People's Democratic Republic of   \n",
       "4        Oceania             OC                                American Samoa   \n",
       "5         Europe             EU                      Andorra, Principality of   \n",
       "6         Africa             AF                           Angola, Republic of   \n",
       "7  North America            NaN                           Antigua and Barbuda   \n",
       "\n",
       "  Two_Letter_Country_Code Three_Letter_Country_Code  Country_Number  \n",
       "0                      AF                       AFG             4.0  \n",
       "1                      AL                       ALB             8.0  \n",
       "2                      AQ                       ATA            10.0  \n",
       "3                      DZ                       DZA            12.0  \n",
       "4                      AS                       ASM            16.0  \n",
       "5                      AD                       AND            20.0  \n",
       "6                      AO                       AGO            24.0  \n",
       "7                      AG                       ATG            28.0  "
      ]
     },
     "execution_count": 48,
     "metadata": {},
     "output_type": "execute_result"
    }
   ],
   "source": [
    "zemlje.head(8)"
   ]
  },
  {
   "cell_type": "markdown",
   "id": "8d4ae2be",
   "metadata": {},
   "source": [
    "Dovoljno je baciti pogled na tabelu pa da vidimo da je u jednoj tabeli \"Afghanistan\", a u drugoj \"Afghanistan, Islamic Republic of\". Srećom, kolone __country__ u prvoj i __Three_Letter_Country_Code__ imaju iste troslovne oznake: \"AFG\" je na oba mesta. Nadamo se da se podaci podudaraju i za druge zemlje."
   ]
  },
  {
   "cell_type": "markdown",
   "id": "e24171ee",
   "metadata": {},
   "source": [
    "Pomoću funkcije `merge()` iz __pandas__ biblioteke možemo da spojimo dve tabele. To možemo da uradimo tako što od dve tabele pravimo treću ili tako što jednu dopunjujemo podacima iz druge. Svejedno, argumenti funkcije treba da budu nazivi tabela i kolona po kojima ih povezujemo. Lakše je ako se te kolone zovu isto u obe tabele. Onda je dovoljan jedan argument, npr. `on=\"country\"`, ali to kod nas nije slučaj pa smo naveli oba: `left_on` i `right_on`. Imajte u vidu da se liste po kojima povezujemo tabele možda ne poklapaju savršeno. Podrazumevani argument je `how=\"inner\"` što znači da će nova tabela imati samo one redove koje se nalaze i u prvoj i u drugoj. To možemo da menjamo, ali se nećemo sad u to upuštati."
   ]
  },
  {
   "cell_type": "code",
   "execution_count": 49,
   "id": "ebb97d7f",
   "metadata": {},
   "outputs": [],
   "source": [
    "gdf=gdf.merge(zemlje, left_on=\"country\", right_on=\"Three_Letter_Country_Code\")"
   ]
  },
  {
   "cell_type": "code",
   "execution_count": 50,
   "id": "49c2b23e",
   "metadata": {},
   "outputs": [
    {
     "data": {
      "text/html": [
       "<div>\n",
       "<style scoped>\n",
       "    .dataframe tbody tr th:only-of-type {\n",
       "        vertical-align: middle;\n",
       "    }\n",
       "\n",
       "    .dataframe tbody tr th {\n",
       "        vertical-align: top;\n",
       "    }\n",
       "\n",
       "    .dataframe thead th {\n",
       "        text-align: right;\n",
       "    }\n",
       "</style>\n",
       "<table border=\"1\" class=\"dataframe\">\n",
       "  <thead>\n",
       "    <tr style=\"text-align: right;\">\n",
       "      <th></th>\n",
       "      <th>capacity_mw</th>\n",
       "      <th>count</th>\n",
       "      <th>Continent_Name</th>\n",
       "      <th>Continent_Code</th>\n",
       "      <th>Country_Name</th>\n",
       "      <th>Two_Letter_Country_Code</th>\n",
       "      <th>Three_Letter_Country_Code</th>\n",
       "      <th>Country_Number</th>\n",
       "    </tr>\n",
       "  </thead>\n",
       "  <tbody>\n",
       "    <tr>\n",
       "      <th>0</th>\n",
       "      <td>300.550</td>\n",
       "      <td>9</td>\n",
       "      <td>Asia</td>\n",
       "      <td>AS</td>\n",
       "      <td>Afghanistan, Islamic Republic of</td>\n",
       "      <td>AF</td>\n",
       "      <td>AFG</td>\n",
       "      <td>4.0</td>\n",
       "    </tr>\n",
       "    <tr>\n",
       "      <th>1</th>\n",
       "      <td>1071.180</td>\n",
       "      <td>14</td>\n",
       "      <td>Africa</td>\n",
       "      <td>AF</td>\n",
       "      <td>Angola, Republic of</td>\n",
       "      <td>AO</td>\n",
       "      <td>AGO</td>\n",
       "      <td>24.0</td>\n",
       "    </tr>\n",
       "    <tr>\n",
       "      <th>2</th>\n",
       "      <td>1529.000</td>\n",
       "      <td>8</td>\n",
       "      <td>Europe</td>\n",
       "      <td>EU</td>\n",
       "      <td>Albania, Republic of</td>\n",
       "      <td>AL</td>\n",
       "      <td>ALB</td>\n",
       "      <td>8.0</td>\n",
       "    </tr>\n",
       "    <tr>\n",
       "      <th>3</th>\n",
       "      <td>30327.000</td>\n",
       "      <td>30</td>\n",
       "      <td>Asia</td>\n",
       "      <td>AS</td>\n",
       "      <td>United Arab Emirates</td>\n",
       "      <td>AE</td>\n",
       "      <td>ARE</td>\n",
       "      <td>784.0</td>\n",
       "    </tr>\n",
       "    <tr>\n",
       "      <th>4</th>\n",
       "      <td>32913.079</td>\n",
       "      <td>236</td>\n",
       "      <td>South America</td>\n",
       "      <td>SA</td>\n",
       "      <td>Argentina, Argentine Republic</td>\n",
       "      <td>AR</td>\n",
       "      <td>ARG</td>\n",
       "      <td>32.0</td>\n",
       "    </tr>\n",
       "    <tr>\n",
       "      <th>...</th>\n",
       "      <td>...</td>\n",
       "      <td>...</td>\n",
       "      <td>...</td>\n",
       "      <td>...</td>\n",
       "      <td>...</td>\n",
       "      <td>...</td>\n",
       "      <td>...</td>\n",
       "      <td>...</td>\n",
       "    </tr>\n",
       "    <tr>\n",
       "      <th>168</th>\n",
       "      <td>41350.490</td>\n",
       "      <td>236</td>\n",
       "      <td>Asia</td>\n",
       "      <td>AS</td>\n",
       "      <td>Vietnam, Socialist Republic of</td>\n",
       "      <td>VN</td>\n",
       "      <td>VNM</td>\n",
       "      <td>704.0</td>\n",
       "    </tr>\n",
       "    <tr>\n",
       "      <th>169</th>\n",
       "      <td>1045.000</td>\n",
       "      <td>7</td>\n",
       "      <td>Asia</td>\n",
       "      <td>AS</td>\n",
       "      <td>Yemen</td>\n",
       "      <td>YE</td>\n",
       "      <td>YEM</td>\n",
       "      <td>887.0</td>\n",
       "    </tr>\n",
       "    <tr>\n",
       "      <th>170</th>\n",
       "      <td>50422.700</td>\n",
       "      <td>104</td>\n",
       "      <td>Africa</td>\n",
       "      <td>AF</td>\n",
       "      <td>South Africa, Republic of</td>\n",
       "      <td>ZA</td>\n",
       "      <td>ZAF</td>\n",
       "      <td>710.0</td>\n",
       "    </tr>\n",
       "    <tr>\n",
       "      <th>171</th>\n",
       "      <td>2689.337</td>\n",
       "      <td>15</td>\n",
       "      <td>Africa</td>\n",
       "      <td>AF</td>\n",
       "      <td>Zambia, Republic of</td>\n",
       "      <td>ZM</td>\n",
       "      <td>ZMB</td>\n",
       "      <td>894.0</td>\n",
       "    </tr>\n",
       "    <tr>\n",
       "      <th>172</th>\n",
       "      <td>1670.000</td>\n",
       "      <td>2</td>\n",
       "      <td>Africa</td>\n",
       "      <td>AF</td>\n",
       "      <td>Zimbabwe, Republic of</td>\n",
       "      <td>ZW</td>\n",
       "      <td>ZWE</td>\n",
       "      <td>716.0</td>\n",
       "    </tr>\n",
       "  </tbody>\n",
       "</table>\n",
       "<p>173 rows × 8 columns</p>\n",
       "</div>"
      ],
      "text/plain": [
       "     capacity_mw  count Continent_Name Continent_Code  \\\n",
       "0        300.550      9           Asia             AS   \n",
       "1       1071.180     14         Africa             AF   \n",
       "2       1529.000      8         Europe             EU   \n",
       "3      30327.000     30           Asia             AS   \n",
       "4      32913.079    236  South America             SA   \n",
       "..           ...    ...            ...            ...   \n",
       "168    41350.490    236           Asia             AS   \n",
       "169     1045.000      7           Asia             AS   \n",
       "170    50422.700    104         Africa             AF   \n",
       "171     2689.337     15         Africa             AF   \n",
       "172     1670.000      2         Africa             AF   \n",
       "\n",
       "                         Country_Name Two_Letter_Country_Code  \\\n",
       "0    Afghanistan, Islamic Republic of                      AF   \n",
       "1                 Angola, Republic of                      AO   \n",
       "2                Albania, Republic of                      AL   \n",
       "3                United Arab Emirates                      AE   \n",
       "4       Argentina, Argentine Republic                      AR   \n",
       "..                                ...                     ...   \n",
       "168    Vietnam, Socialist Republic of                      VN   \n",
       "169                             Yemen                      YE   \n",
       "170         South Africa, Republic of                      ZA   \n",
       "171               Zambia, Republic of                      ZM   \n",
       "172             Zimbabwe, Republic of                      ZW   \n",
       "\n",
       "    Three_Letter_Country_Code  Country_Number  \n",
       "0                         AFG             4.0  \n",
       "1                         AGO            24.0  \n",
       "2                         ALB             8.0  \n",
       "3                         ARE           784.0  \n",
       "4                         ARG            32.0  \n",
       "..                        ...             ...  \n",
       "168                       VNM           704.0  \n",
       "169                       YEM           887.0  \n",
       "170                       ZAF           710.0  \n",
       "171                       ZMB           894.0  \n",
       "172                       ZWE           716.0  \n",
       "\n",
       "[173 rows x 8 columns]"
      ]
     },
     "execution_count": 50,
     "metadata": {},
     "output_type": "execute_result"
    }
   ],
   "source": [
    "gdf"
   ]
  },
  {
   "cell_type": "markdown",
   "id": "a3d6a31f",
   "metadata": {},
   "source": [
    "Kako bismo sad od ovoga napravili tabelu sa brojem elektrana i ukupnom snagom po kontinentima? Opet ćemo grupisati podatke."
   ]
  },
  {
   "cell_type": "code",
   "execution_count": 51,
   "id": "21a78fa8",
   "metadata": {},
   "outputs": [],
   "source": [
    "po_kontinentima=gdf.groupby('Continent_Name')"
   ]
  },
  {
   "cell_type": "code",
   "execution_count": 52,
   "id": "469015f7",
   "metadata": {},
   "outputs": [],
   "source": [
    "gdf2=pd.DataFrame(po_kontinentima['capacity_mw'].sum())"
   ]
  },
  {
   "cell_type": "code",
   "execution_count": 53,
   "id": "8830b104",
   "metadata": {},
   "outputs": [
    {
     "data": {
      "text/html": [
       "<div>\n",
       "<style scoped>\n",
       "    .dataframe tbody tr th:only-of-type {\n",
       "        vertical-align: middle;\n",
       "    }\n",
       "\n",
       "    .dataframe tbody tr th {\n",
       "        vertical-align: top;\n",
       "    }\n",
       "\n",
       "    .dataframe thead th {\n",
       "        text-align: right;\n",
       "    }\n",
       "</style>\n",
       "<table border=\"1\" class=\"dataframe\">\n",
       "  <thead>\n",
       "    <tr style=\"text-align: right;\">\n",
       "      <th></th>\n",
       "      <th>capacity_mw</th>\n",
       "    </tr>\n",
       "    <tr>\n",
       "      <th>Continent_Name</th>\n",
       "      <th></th>\n",
       "    </tr>\n",
       "  </thead>\n",
       "  <tbody>\n",
       "    <tr>\n",
       "      <th>Africa</th>\n",
       "      <td>1.605328e+05</td>\n",
       "    </tr>\n",
       "    <tr>\n",
       "      <th>Antarctica</th>\n",
       "      <td>7.600000e+00</td>\n",
       "    </tr>\n",
       "    <tr>\n",
       "      <th>Asia</th>\n",
       "      <td>2.940987e+06</td>\n",
       "    </tr>\n",
       "    <tr>\n",
       "      <th>Europe</th>\n",
       "      <td>1.140829e+06</td>\n",
       "    </tr>\n",
       "    <tr>\n",
       "      <th>North America</th>\n",
       "      <td>1.430915e+06</td>\n",
       "    </tr>\n",
       "    <tr>\n",
       "      <th>Oceania</th>\n",
       "      <td>7.325085e+04</td>\n",
       "    </tr>\n",
       "    <tr>\n",
       "      <th>South America</th>\n",
       "      <td>2.716017e+05</td>\n",
       "    </tr>\n",
       "  </tbody>\n",
       "</table>\n",
       "</div>"
      ],
      "text/plain": [
       "                 capacity_mw\n",
       "Continent_Name              \n",
       "Africa          1.605328e+05\n",
       "Antarctica      7.600000e+00\n",
       "Asia            2.940987e+06\n",
       "Europe          1.140829e+06\n",
       "North America   1.430915e+06\n",
       "Oceania         7.325085e+04\n",
       "South America   2.716017e+05"
      ]
     },
     "execution_count": 53,
     "metadata": {},
     "output_type": "execute_result"
    }
   ],
   "source": [
    "gdf2"
   ]
  },
  {
   "cell_type": "markdown",
   "id": "1b883d18",
   "metadata": {},
   "source": [
    "Bez mnogo analize vidimo da Evropa proizvodi sedam puta više struje nego Afrika. Mi ovde završavamo zajedničko istraživanje na temu elektrana. Sve ostalo prepuštamo vama za samostalni rad."
   ]
  },
  {
   "cell_type": "markdown",
   "id": "3206584b",
   "metadata": {},
   "source": [
    "## Snimanje podataka"
   ]
  },
  {
   "cell_type": "markdown",
   "id": "ef114c99",
   "metadata": {},
   "source": [
    "Ostaje nam još samo jedna stvar koju moramo da uradimo pre nego što bude kasno -- da snimimo rezultat. Pomoću fukcije `to_csv()` _DataFrame_ ćemo lako snimiti kao CSV fajl."
   ]
  },
  {
   "cell_type": "code",
   "execution_count": 54,
   "id": "66559579",
   "metadata": {},
   "outputs": [],
   "source": [
    "gdf2.to_csv(\"output/po_kontinentima.csv\")"
   ]
  }
 ],
 "metadata": {
  "kernelspec": {
   "display_name": "Python 3",
   "language": "python",
   "name": "python3"
  },
  "language_info": {
   "codemirror_mode": {
    "name": "ipython",
    "version": 3
   },
   "file_extension": ".py",
   "mimetype": "text/x-python",
   "name": "python",
   "nbconvert_exporter": "python",
   "pygments_lexer": "ipython3",
   "version": "3.8.8"
  }
 },
 "nbformat": 4,
 "nbformat_minor": 5
}

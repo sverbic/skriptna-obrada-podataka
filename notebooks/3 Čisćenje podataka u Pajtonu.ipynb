{
 "cells": [
  {
   "cell_type": "markdown",
   "id": "0c9133bc",
   "metadata": {},
   "source": [
    "# Čišćenje podataka u Pajtonu"
   ]
  },
  {
   "cell_type": "markdown",
   "id": "2b156b8e",
   "metadata": {},
   "source": [
    "__Ova sveska je posvećena algoritamskom čišćenju podataka gde pokušavamo da prepoznamo obrazac greške kako bismo sve takve greške ispravili u što manje koraka. Sadržaj je napredniji i teži za razumevanje nego u ostalim sveskama. Svejedno, važno je da vidimo kako čišćenje podataka funkcioniše i zašto je neophodno za kvalitetnu analizu podataka.__"
   ]
  },
  {
   "cell_type": "markdown",
   "id": "86d8b6d4",
   "metadata": {},
   "source": [
    "Velike količine podataka koje prikupljaju i unose različiti ljudi uvek nose rizik od nedoslednosti u pogledu formata unosa. Sa mašinama je lako, ali ljudi u skladu sa svojom kulturom, navikama ili potrebom da budu kreativni često unose ono što nam ne treba. Za mašinski čitljive podatke je najvažnije da imaju poznatu strukturu i da budu formatirani na isti način. Ovo možda zvuči kao nepotrebno cepidlačenje, ali nije. Ljudi koji se bave obradom i analizom podataka najveći deo svog vremena troše na čišćenje podataka (eng. _data cleaning_).  "
   ]
  },
  {
   "cell_type": "markdown",
   "id": "3b498897",
   "metadata": {},
   "source": [
    "Uvek treba imati na umu da je čišćenje podataka, u krajnjoj liniji, proizvoljno menjanje podataka o kojima znamo manje od onoga ko je podatke unosio. Normalno je da oni koji unose podatke naprave previd ili podatak unesu na pogrešan način. Isto tako je normalno da mi to primetimo i napravimo korekciju. Za neke druge podatke, opet, ne znamo šta da mislimo; možda je greška, možda nije. Granica je svakako subjektivna. Onaj ko čisti podatke mora da ima znanje iz oblasti na koju se podaci odnose, da zna šta je moguće a šta nije, šta može da bude verodostojno, a šta je sigurno greška. Baš zbog toga što je kriterijum za korekciju podataka subjektivan ne možemo potpuno da ga automatizujemo. To moraju da rade ljudi koji znaju kontekst podataka. Mašina može da pomogne da to uradimo brže."
   ]
  },
  {
   "cell_type": "markdown",
   "id": "9dbe6258",
   "metadata": {},
   "source": [
    "Nas u ovom kursu interesuju pre svega podaci spakovani u tabele, odnosno jednu konkretnu tabelarnu strukturu _DataFrame_. Ova struktura, kao i funkcije za rad sa njom, sastavni su deo biblioteke __pandas__ pa je uputno na početku rada sa podacima u Pajtonu uvek prvo učitati ovu biblioteku."
   ]
  },
  {
   "cell_type": "code",
   "execution_count": 1,
   "id": "26b2083f",
   "metadata": {},
   "outputs": [],
   "source": [
    "import pandas as pd"
   ]
  },
  {
   "cell_type": "markdown",
   "id": "5c66792d",
   "metadata": {},
   "source": [
    "Za potrebe obuke učitaćemo jedan fajl kom je potrebno malo čišćenja. To je [bibliotečki registar](https://github.com/realpython/python-data-cleaning/blob/master/Datasets/BL-Flickr-Images-Book.csv) u kom se nalaze ime knjige, autor, izdavač, godina izdanja itd."
   ]
  },
  {
   "cell_type": "code",
   "execution_count": 2,
   "id": "b90fa439",
   "metadata": {},
   "outputs": [],
   "source": [
    "bibreg=pd.read_csv(\"data/BL-Flickr-Images-Book.csv\")"
   ]
  },
  {
   "cell_type": "code",
   "execution_count": 3,
   "id": "35860284",
   "metadata": {},
   "outputs": [
    {
     "data": {
      "text/html": [
       "<div>\n",
       "<style scoped>\n",
       "    .dataframe tbody tr th:only-of-type {\n",
       "        vertical-align: middle;\n",
       "    }\n",
       "\n",
       "    .dataframe tbody tr th {\n",
       "        vertical-align: top;\n",
       "    }\n",
       "\n",
       "    .dataframe thead th {\n",
       "        text-align: right;\n",
       "    }\n",
       "</style>\n",
       "<table border=\"1\" class=\"dataframe\">\n",
       "  <thead>\n",
       "    <tr style=\"text-align: right;\">\n",
       "      <th></th>\n",
       "      <th>Identifier</th>\n",
       "      <th>Edition Statement</th>\n",
       "      <th>Place of Publication</th>\n",
       "      <th>Date of Publication</th>\n",
       "      <th>Publisher</th>\n",
       "      <th>Title</th>\n",
       "      <th>Author</th>\n",
       "      <th>Contributors</th>\n",
       "      <th>Corporate Author</th>\n",
       "      <th>Corporate Contributors</th>\n",
       "      <th>Former owner</th>\n",
       "      <th>Engraver</th>\n",
       "      <th>Issuance type</th>\n",
       "      <th>Flickr URL</th>\n",
       "      <th>Shelfmarks</th>\n",
       "    </tr>\n",
       "  </thead>\n",
       "  <tbody>\n",
       "    <tr>\n",
       "      <th>0</th>\n",
       "      <td>206</td>\n",
       "      <td>NaN</td>\n",
       "      <td>London</td>\n",
       "      <td>1879 [1878]</td>\n",
       "      <td>S. Tinsley &amp; Co.</td>\n",
       "      <td>Walter Forbes. [A novel.] By A. A</td>\n",
       "      <td>A. A.</td>\n",
       "      <td>FORBES, Walter.</td>\n",
       "      <td>NaN</td>\n",
       "      <td>NaN</td>\n",
       "      <td>NaN</td>\n",
       "      <td>NaN</td>\n",
       "      <td>monographic</td>\n",
       "      <td>http://www.flickr.com/photos/britishlibrary/ta...</td>\n",
       "      <td>British Library HMNTS 12641.b.30.</td>\n",
       "    </tr>\n",
       "    <tr>\n",
       "      <th>1</th>\n",
       "      <td>216</td>\n",
       "      <td>NaN</td>\n",
       "      <td>London; Virtue &amp; Yorston</td>\n",
       "      <td>1868</td>\n",
       "      <td>Virtue &amp; Co.</td>\n",
       "      <td>All for Greed. [A novel. The dedication signed...</td>\n",
       "      <td>A., A. A.</td>\n",
       "      <td>BLAZE DE BURY, Marie Pauline Rose - Baroness</td>\n",
       "      <td>NaN</td>\n",
       "      <td>NaN</td>\n",
       "      <td>NaN</td>\n",
       "      <td>NaN</td>\n",
       "      <td>monographic</td>\n",
       "      <td>http://www.flickr.com/photos/britishlibrary/ta...</td>\n",
       "      <td>British Library HMNTS 12626.cc.2.</td>\n",
       "    </tr>\n",
       "    <tr>\n",
       "      <th>2</th>\n",
       "      <td>218</td>\n",
       "      <td>NaN</td>\n",
       "      <td>London</td>\n",
       "      <td>1869</td>\n",
       "      <td>Bradbury, Evans &amp; Co.</td>\n",
       "      <td>Love the Avenger. By the author of “All for Gr...</td>\n",
       "      <td>A., A. A.</td>\n",
       "      <td>BLAZE DE BURY, Marie Pauline Rose - Baroness</td>\n",
       "      <td>NaN</td>\n",
       "      <td>NaN</td>\n",
       "      <td>NaN</td>\n",
       "      <td>NaN</td>\n",
       "      <td>monographic</td>\n",
       "      <td>http://www.flickr.com/photos/britishlibrary/ta...</td>\n",
       "      <td>British Library HMNTS 12625.dd.1.</td>\n",
       "    </tr>\n",
       "    <tr>\n",
       "      <th>3</th>\n",
       "      <td>472</td>\n",
       "      <td>NaN</td>\n",
       "      <td>London</td>\n",
       "      <td>1851</td>\n",
       "      <td>James Darling</td>\n",
       "      <td>Welsh Sketches, chiefly ecclesiastical, to the...</td>\n",
       "      <td>A., E. S.</td>\n",
       "      <td>Appleyard, Ernest Silvanus.</td>\n",
       "      <td>NaN</td>\n",
       "      <td>NaN</td>\n",
       "      <td>NaN</td>\n",
       "      <td>NaN</td>\n",
       "      <td>monographic</td>\n",
       "      <td>http://www.flickr.com/photos/britishlibrary/ta...</td>\n",
       "      <td>British Library HMNTS 10369.bbb.15.</td>\n",
       "    </tr>\n",
       "    <tr>\n",
       "      <th>4</th>\n",
       "      <td>480</td>\n",
       "      <td>A new edition, revised, etc.</td>\n",
       "      <td>London</td>\n",
       "      <td>1857</td>\n",
       "      <td>Wertheim &amp; Macintosh</td>\n",
       "      <td>[The World in which I live, and my place in it...</td>\n",
       "      <td>A., E. S.</td>\n",
       "      <td>BROOME, John Henry.</td>\n",
       "      <td>NaN</td>\n",
       "      <td>NaN</td>\n",
       "      <td>NaN</td>\n",
       "      <td>NaN</td>\n",
       "      <td>monographic</td>\n",
       "      <td>http://www.flickr.com/photos/britishlibrary/ta...</td>\n",
       "      <td>British Library HMNTS 9007.d.28.</td>\n",
       "    </tr>\n",
       "    <tr>\n",
       "      <th>5</th>\n",
       "      <td>481</td>\n",
       "      <td>Fourth edition, revised, etc.</td>\n",
       "      <td>London</td>\n",
       "      <td>1875</td>\n",
       "      <td>William Macintosh</td>\n",
       "      <td>[The World in which I live, and my place in it...</td>\n",
       "      <td>A., E. S.</td>\n",
       "      <td>BROOME, John Henry.</td>\n",
       "      <td>NaN</td>\n",
       "      <td>NaN</td>\n",
       "      <td>NaN</td>\n",
       "      <td>NaN</td>\n",
       "      <td>monographic</td>\n",
       "      <td>http://www.flickr.com/photos/britishlibrary/ta...</td>\n",
       "      <td>British Library HMNTS 9006.ee.10.</td>\n",
       "    </tr>\n",
       "    <tr>\n",
       "      <th>6</th>\n",
       "      <td>519</td>\n",
       "      <td>NaN</td>\n",
       "      <td>London</td>\n",
       "      <td>1872</td>\n",
       "      <td>The Author</td>\n",
       "      <td>Lagonells. By the author of Darmayne (F. E. A....</td>\n",
       "      <td>A., F. E.</td>\n",
       "      <td>ASHLEY, Florence Emily.</td>\n",
       "      <td>NaN</td>\n",
       "      <td>NaN</td>\n",
       "      <td>NaN</td>\n",
       "      <td>NaN</td>\n",
       "      <td>monographic</td>\n",
       "      <td>http://www.flickr.com/photos/britishlibrary/ta...</td>\n",
       "      <td>British Library HMNTS 12637.e.3.</td>\n",
       "    </tr>\n",
       "    <tr>\n",
       "      <th>7</th>\n",
       "      <td>667</td>\n",
       "      <td>NaN</td>\n",
       "      <td>pp. 40. G. Bryan &amp; Co: Oxford, 1898</td>\n",
       "      <td>NaN</td>\n",
       "      <td>NaN</td>\n",
       "      <td>The Coming of Spring, and other poems. By J. A...</td>\n",
       "      <td>A., J.|A., J.</td>\n",
       "      <td>ANDREWS, J. - Writer of Verse</td>\n",
       "      <td>NaN</td>\n",
       "      <td>NaN</td>\n",
       "      <td>NaN</td>\n",
       "      <td>NaN</td>\n",
       "      <td>monographic</td>\n",
       "      <td>http://www.flickr.com/photos/britishlibrary/ta...</td>\n",
       "      <td>British Library HMNTS 011652.g.73.</td>\n",
       "    </tr>\n",
       "  </tbody>\n",
       "</table>\n",
       "</div>"
      ],
      "text/plain": [
       "   Identifier              Edition Statement  \\\n",
       "0         206                            NaN   \n",
       "1         216                            NaN   \n",
       "2         218                            NaN   \n",
       "3         472                            NaN   \n",
       "4         480   A new edition, revised, etc.   \n",
       "5         481  Fourth edition, revised, etc.   \n",
       "6         519                            NaN   \n",
       "7         667                            NaN   \n",
       "\n",
       "                  Place of Publication Date of Publication  \\\n",
       "0                               London         1879 [1878]   \n",
       "1             London; Virtue & Yorston                1868   \n",
       "2                               London                1869   \n",
       "3                               London                1851   \n",
       "4                               London                1857   \n",
       "5                               London                1875   \n",
       "6                               London                1872   \n",
       "7  pp. 40. G. Bryan & Co: Oxford, 1898                 NaN   \n",
       "\n",
       "               Publisher                                              Title  \\\n",
       "0       S. Tinsley & Co.                  Walter Forbes. [A novel.] By A. A   \n",
       "1           Virtue & Co.  All for Greed. [A novel. The dedication signed...   \n",
       "2  Bradbury, Evans & Co.  Love the Avenger. By the author of “All for Gr...   \n",
       "3          James Darling  Welsh Sketches, chiefly ecclesiastical, to the...   \n",
       "4   Wertheim & Macintosh  [The World in which I live, and my place in it...   \n",
       "5      William Macintosh  [The World in which I live, and my place in it...   \n",
       "6             The Author  Lagonells. By the author of Darmayne (F. E. A....   \n",
       "7                    NaN  The Coming of Spring, and other poems. By J. A...   \n",
       "\n",
       "          Author                                  Contributors  \\\n",
       "0          A. A.                               FORBES, Walter.   \n",
       "1      A., A. A.  BLAZE DE BURY, Marie Pauline Rose - Baroness   \n",
       "2      A., A. A.  BLAZE DE BURY, Marie Pauline Rose - Baroness   \n",
       "3      A., E. S.                   Appleyard, Ernest Silvanus.   \n",
       "4      A., E. S.                           BROOME, John Henry.   \n",
       "5      A., E. S.                           BROOME, John Henry.   \n",
       "6      A., F. E.                       ASHLEY, Florence Emily.   \n",
       "7  A., J.|A., J.                 ANDREWS, J. - Writer of Verse   \n",
       "\n",
       "   Corporate Author  Corporate Contributors Former owner  Engraver  \\\n",
       "0               NaN                     NaN          NaN       NaN   \n",
       "1               NaN                     NaN          NaN       NaN   \n",
       "2               NaN                     NaN          NaN       NaN   \n",
       "3               NaN                     NaN          NaN       NaN   \n",
       "4               NaN                     NaN          NaN       NaN   \n",
       "5               NaN                     NaN          NaN       NaN   \n",
       "6               NaN                     NaN          NaN       NaN   \n",
       "7               NaN                     NaN          NaN       NaN   \n",
       "\n",
       "  Issuance type                                         Flickr URL  \\\n",
       "0   monographic  http://www.flickr.com/photos/britishlibrary/ta...   \n",
       "1   monographic  http://www.flickr.com/photos/britishlibrary/ta...   \n",
       "2   monographic  http://www.flickr.com/photos/britishlibrary/ta...   \n",
       "3   monographic  http://www.flickr.com/photos/britishlibrary/ta...   \n",
       "4   monographic  http://www.flickr.com/photos/britishlibrary/ta...   \n",
       "5   monographic  http://www.flickr.com/photos/britishlibrary/ta...   \n",
       "6   monographic  http://www.flickr.com/photos/britishlibrary/ta...   \n",
       "7   monographic  http://www.flickr.com/photos/britishlibrary/ta...   \n",
       "\n",
       "                            Shelfmarks  \n",
       "0    British Library HMNTS 12641.b.30.  \n",
       "1    British Library HMNTS 12626.cc.2.  \n",
       "2    British Library HMNTS 12625.dd.1.  \n",
       "3  British Library HMNTS 10369.bbb.15.  \n",
       "4     British Library HMNTS 9007.d.28.  \n",
       "5    British Library HMNTS 9006.ee.10.  \n",
       "6     British Library HMNTS 12637.e.3.  \n",
       "7   British Library HMNTS 011652.g.73.  "
      ]
     },
     "execution_count": 3,
     "metadata": {},
     "output_type": "execute_result"
    }
   ],
   "source": [
    "bibreg.head(8)"
   ]
  },
  {
   "cell_type": "markdown",
   "id": "6d04ffce",
   "metadata": {},
   "source": [
    "Čak i površan uvid u podatke otkriva da ima mnogo polja u kojima piše NaN što znači da tog podatka nema, a da je neki softver prazno polje zamenio ovom oznakom. Nadajmo se da se nijedan izdavač ili knjiga ne zovu baš \"NaN\". Takođe, vidimo da neki podaci nisu konzistentno unošeni. Za godinu izdanja (_Date of Publication_) uglavnom stoji broj, ali ima i onih sa uglastim zagradama. Imena autora izgledaju kao haos posebne vrste."
   ]
  },
  {
   "cell_type": "markdown",
   "id": "60cb7476",
   "metadata": {},
   "source": [
    "## Indeksna kolona"
   ]
  },
  {
   "cell_type": "markdown",
   "id": "f0167c39",
   "metadata": {},
   "source": [
    "Vrlo važna karakteristika funkcionalne tabele sa podacima jeste da ima kolonu u kojoj se vrednosti ne ponavljaju. Takvih kolona može biti više, ali jednu od njih treba izabrati za \"glavnu\" i proglasiti je indeksnom kolonom. Takva kolona nam omogućava jednoznačno označavanje redova u tabeli. Svaki element te kolone odgovara tačno jednom redu u tabeli.\n",
    "\n",
    "Da bismo se na sličan način pozivali na kolone u tabeli, potreban nam je \"indeksni red\". On već postoji. To je zapravo zaglavlje tabele, odnosno red u kom su nazivi kolona. Nazivi kolona ne mogu da se ponavljaju pa je su vrednosti u tom redu jedinstvene."
   ]
  },
  {
   "cell_type": "markdown",
   "id": "bf0caaeb",
   "metadata": {},
   "source": [
    "Svaki _DataFrame_ automatski dobija svoju indeksnu kolonu. Ako mi ne kažemo mašini koja je to kolona, Pajton će sam dodeliti kolonu sa indeksom 0, 1, 2, 3... Najvažnije svojstvo indeksne kolone je da sadrži jedinstvene podatke. Ako se podaci u koloni ponavljaju onda ona ne može da bude indeksna.\n",
    "\n",
    "U tabeli __bibreg__ postoji kolona __Identifier__ koja bi mogla da bude taj jedinstveni identifikator koji su uneli bibliotekari mnogo pre nego što se neko setio da pravi tabele u Pajtonu. Da li su sve vrednosti u koloni jedinstvene možemo da proverimo funkcijom `is.unique()`."
   ]
  },
  {
   "cell_type": "code",
   "execution_count": 4,
   "id": "d92623c5",
   "metadata": {},
   "outputs": [
    {
     "data": {
      "text/plain": [
       "True"
      ]
     },
     "execution_count": 4,
     "metadata": {},
     "output_type": "execute_result"
    }
   ],
   "source": [
    "bibreg['Identifier'].is_unique"
   ]
  },
  {
   "cell_type": "markdown",
   "id": "dff1a07e",
   "metadata": {},
   "source": [
    "Jeste jedinstvena. To znači da možemo nju da koristimo umesto automatski dodeljenog niza nenegativnih celih brojeva. To ćemo učiniti pomoću funkcije `set_index()`. Glavni argument ove funkcije je naziv kolone koju ćemo proglasiti za indeksnu, ali argumenata može da bude više. Ovde ćemo iskoristiti argument `inplace=True` koji Pajtonu saopštava da hoćemo da promeni i zapamti sadržaj tabele. Bez toga bismo samo dobili ispis u kom je postavljena indeksna kolona dok bi u memoriji ostao isti onaj stari DataFrame. Naravno, isti rezultat bismo mogli da dobijemo i ako novoj tabeli pridružimo izmenjenu tabelu: `bibreg=bibreg.set_index('Identifier')`. To su dva načina da dobijemo isti rezultat. Birajte šta vam se više sviđa."
   ]
  },
  {
   "cell_type": "code",
   "execution_count": 5,
   "id": "53bc64a4",
   "metadata": {
    "scrolled": true
   },
   "outputs": [
    {
     "data": {
      "text/html": [
       "<div>\n",
       "<style scoped>\n",
       "    .dataframe tbody tr th:only-of-type {\n",
       "        vertical-align: middle;\n",
       "    }\n",
       "\n",
       "    .dataframe tbody tr th {\n",
       "        vertical-align: top;\n",
       "    }\n",
       "\n",
       "    .dataframe thead th {\n",
       "        text-align: right;\n",
       "    }\n",
       "</style>\n",
       "<table border=\"1\" class=\"dataframe\">\n",
       "  <thead>\n",
       "    <tr style=\"text-align: right;\">\n",
       "      <th></th>\n",
       "      <th>Edition Statement</th>\n",
       "      <th>Place of Publication</th>\n",
       "      <th>Date of Publication</th>\n",
       "      <th>Publisher</th>\n",
       "      <th>Title</th>\n",
       "      <th>Author</th>\n",
       "      <th>Contributors</th>\n",
       "      <th>Corporate Author</th>\n",
       "      <th>Corporate Contributors</th>\n",
       "      <th>Former owner</th>\n",
       "      <th>Engraver</th>\n",
       "      <th>Issuance type</th>\n",
       "      <th>Flickr URL</th>\n",
       "      <th>Shelfmarks</th>\n",
       "    </tr>\n",
       "    <tr>\n",
       "      <th>Identifier</th>\n",
       "      <th></th>\n",
       "      <th></th>\n",
       "      <th></th>\n",
       "      <th></th>\n",
       "      <th></th>\n",
       "      <th></th>\n",
       "      <th></th>\n",
       "      <th></th>\n",
       "      <th></th>\n",
       "      <th></th>\n",
       "      <th></th>\n",
       "      <th></th>\n",
       "      <th></th>\n",
       "      <th></th>\n",
       "    </tr>\n",
       "  </thead>\n",
       "  <tbody>\n",
       "    <tr>\n",
       "      <th>206</th>\n",
       "      <td>NaN</td>\n",
       "      <td>London</td>\n",
       "      <td>1879 [1878]</td>\n",
       "      <td>S. Tinsley &amp; Co.</td>\n",
       "      <td>Walter Forbes. [A novel.] By A. A</td>\n",
       "      <td>A. A.</td>\n",
       "      <td>FORBES, Walter.</td>\n",
       "      <td>NaN</td>\n",
       "      <td>NaN</td>\n",
       "      <td>NaN</td>\n",
       "      <td>NaN</td>\n",
       "      <td>monographic</td>\n",
       "      <td>http://www.flickr.com/photos/britishlibrary/ta...</td>\n",
       "      <td>British Library HMNTS 12641.b.30.</td>\n",
       "    </tr>\n",
       "    <tr>\n",
       "      <th>216</th>\n",
       "      <td>NaN</td>\n",
       "      <td>London; Virtue &amp; Yorston</td>\n",
       "      <td>1868</td>\n",
       "      <td>Virtue &amp; Co.</td>\n",
       "      <td>All for Greed. [A novel. The dedication signed...</td>\n",
       "      <td>A., A. A.</td>\n",
       "      <td>BLAZE DE BURY, Marie Pauline Rose - Baroness</td>\n",
       "      <td>NaN</td>\n",
       "      <td>NaN</td>\n",
       "      <td>NaN</td>\n",
       "      <td>NaN</td>\n",
       "      <td>monographic</td>\n",
       "      <td>http://www.flickr.com/photos/britishlibrary/ta...</td>\n",
       "      <td>British Library HMNTS 12626.cc.2.</td>\n",
       "    </tr>\n",
       "    <tr>\n",
       "      <th>218</th>\n",
       "      <td>NaN</td>\n",
       "      <td>London</td>\n",
       "      <td>1869</td>\n",
       "      <td>Bradbury, Evans &amp; Co.</td>\n",
       "      <td>Love the Avenger. By the author of “All for Gr...</td>\n",
       "      <td>A., A. A.</td>\n",
       "      <td>BLAZE DE BURY, Marie Pauline Rose - Baroness</td>\n",
       "      <td>NaN</td>\n",
       "      <td>NaN</td>\n",
       "      <td>NaN</td>\n",
       "      <td>NaN</td>\n",
       "      <td>monographic</td>\n",
       "      <td>http://www.flickr.com/photos/britishlibrary/ta...</td>\n",
       "      <td>British Library HMNTS 12625.dd.1.</td>\n",
       "    </tr>\n",
       "    <tr>\n",
       "      <th>472</th>\n",
       "      <td>NaN</td>\n",
       "      <td>London</td>\n",
       "      <td>1851</td>\n",
       "      <td>James Darling</td>\n",
       "      <td>Welsh Sketches, chiefly ecclesiastical, to the...</td>\n",
       "      <td>A., E. S.</td>\n",
       "      <td>Appleyard, Ernest Silvanus.</td>\n",
       "      <td>NaN</td>\n",
       "      <td>NaN</td>\n",
       "      <td>NaN</td>\n",
       "      <td>NaN</td>\n",
       "      <td>monographic</td>\n",
       "      <td>http://www.flickr.com/photos/britishlibrary/ta...</td>\n",
       "      <td>British Library HMNTS 10369.bbb.15.</td>\n",
       "    </tr>\n",
       "    <tr>\n",
       "      <th>480</th>\n",
       "      <td>A new edition, revised, etc.</td>\n",
       "      <td>London</td>\n",
       "      <td>1857</td>\n",
       "      <td>Wertheim &amp; Macintosh</td>\n",
       "      <td>[The World in which I live, and my place in it...</td>\n",
       "      <td>A., E. S.</td>\n",
       "      <td>BROOME, John Henry.</td>\n",
       "      <td>NaN</td>\n",
       "      <td>NaN</td>\n",
       "      <td>NaN</td>\n",
       "      <td>NaN</td>\n",
       "      <td>monographic</td>\n",
       "      <td>http://www.flickr.com/photos/britishlibrary/ta...</td>\n",
       "      <td>British Library HMNTS 9007.d.28.</td>\n",
       "    </tr>\n",
       "  </tbody>\n",
       "</table>\n",
       "</div>"
      ],
      "text/plain": [
       "                       Edition Statement      Place of Publication  \\\n",
       "Identifier                                                           \n",
       "206                                  NaN                    London   \n",
       "216                                  NaN  London; Virtue & Yorston   \n",
       "218                                  NaN                    London   \n",
       "472                                  NaN                    London   \n",
       "480         A new edition, revised, etc.                    London   \n",
       "\n",
       "           Date of Publication              Publisher  \\\n",
       "Identifier                                              \n",
       "206                1879 [1878]       S. Tinsley & Co.   \n",
       "216                       1868           Virtue & Co.   \n",
       "218                       1869  Bradbury, Evans & Co.   \n",
       "472                       1851          James Darling   \n",
       "480                       1857   Wertheim & Macintosh   \n",
       "\n",
       "                                                        Title     Author  \\\n",
       "Identifier                                                                 \n",
       "206                         Walter Forbes. [A novel.] By A. A      A. A.   \n",
       "216         All for Greed. [A novel. The dedication signed...  A., A. A.   \n",
       "218         Love the Avenger. By the author of “All for Gr...  A., A. A.   \n",
       "472         Welsh Sketches, chiefly ecclesiastical, to the...  A., E. S.   \n",
       "480         [The World in which I live, and my place in it...  A., E. S.   \n",
       "\n",
       "                                            Contributors  Corporate Author  \\\n",
       "Identifier                                                                   \n",
       "206                                      FORBES, Walter.               NaN   \n",
       "216         BLAZE DE BURY, Marie Pauline Rose - Baroness               NaN   \n",
       "218         BLAZE DE BURY, Marie Pauline Rose - Baroness               NaN   \n",
       "472                          Appleyard, Ernest Silvanus.               NaN   \n",
       "480                                  BROOME, John Henry.               NaN   \n",
       "\n",
       "            Corporate Contributors Former owner  Engraver Issuance type  \\\n",
       "Identifier                                                                \n",
       "206                            NaN          NaN       NaN   monographic   \n",
       "216                            NaN          NaN       NaN   monographic   \n",
       "218                            NaN          NaN       NaN   monographic   \n",
       "472                            NaN          NaN       NaN   monographic   \n",
       "480                            NaN          NaN       NaN   monographic   \n",
       "\n",
       "                                                   Flickr URL  \\\n",
       "Identifier                                                      \n",
       "206         http://www.flickr.com/photos/britishlibrary/ta...   \n",
       "216         http://www.flickr.com/photos/britishlibrary/ta...   \n",
       "218         http://www.flickr.com/photos/britishlibrary/ta...   \n",
       "472         http://www.flickr.com/photos/britishlibrary/ta...   \n",
       "480         http://www.flickr.com/photos/britishlibrary/ta...   \n",
       "\n",
       "                                     Shelfmarks  \n",
       "Identifier                                       \n",
       "206           British Library HMNTS 12641.b.30.  \n",
       "216           British Library HMNTS 12626.cc.2.  \n",
       "218           British Library HMNTS 12625.dd.1.  \n",
       "472         British Library HMNTS 10369.bbb.15.  \n",
       "480            British Library HMNTS 9007.d.28.  "
      ]
     },
     "execution_count": 5,
     "metadata": {},
     "output_type": "execute_result"
    }
   ],
   "source": [
    "bibreg.set_index('Identifier', inplace = True)\n",
    "bibreg.head()"
   ]
  },
  {
   "cell_type": "markdown",
   "id": "7bf2bf57",
   "metadata": {},
   "source": [
    "## Pristupanje podacima pomoću \"pristupnika\" loc[] i iloc[]"
   ]
  },
  {
   "cell_type": "markdown",
   "id": "fa388c1c",
   "metadata": {},
   "source": [
    "Sad kad imamo indeksnu kolonu, podacima u tabeli možemo da pristupamo na različite načine. `loc[]` i `iloc[]` su posebni načini pristupa podacima preko oznaka i indeksa. U prvom slučaju koristimo oznake, tj. podatke iz indeksne kolone i nazive kolona, a u drugom redne brojeve redova i kolona koji počinju nulom. Evo primera kako možemo da ih upotrebimo. Primetite kako se indeksna kolona ne broji kao ni red u kom su nazivi kolona."
   ]
  },
  {
   "cell_type": "code",
   "execution_count": 6,
   "id": "d5938e13",
   "metadata": {},
   "outputs": [
    {
     "data": {
      "text/plain": [
       "'Virtue & Co.'"
      ]
     },
     "execution_count": 6,
     "metadata": {},
     "output_type": "execute_result"
    }
   ],
   "source": [
    "bibreg.loc[216,'Publisher']"
   ]
  },
  {
   "cell_type": "code",
   "execution_count": 7,
   "id": "b8ba9822",
   "metadata": {},
   "outputs": [
    {
     "data": {
      "text/plain": [
       "'Virtue & Co.'"
      ]
     },
     "execution_count": 7,
     "metadata": {},
     "output_type": "execute_result"
    }
   ],
   "source": [
    "bibreg.iloc[1,3]"
   ]
  },
  {
   "cell_type": "markdown",
   "id": "2548e2fb",
   "metadata": {},
   "source": [
    "Slično možemo da pristupimo samo određenim redovima ili kolonama. Na primer, ovako:"
   ]
  },
  {
   "cell_type": "code",
   "execution_count": 8,
   "id": "c640baae",
   "metadata": {},
   "outputs": [
    {
     "data": {
      "text/plain": [
       "Edition Statement                                                       NaN\n",
       "Place of Publication                               London; Virtue & Yorston\n",
       "Date of Publication                                                    1868\n",
       "Publisher                                                      Virtue & Co.\n",
       "Title                     All for Greed. [A novel. The dedication signed...\n",
       "Author                                                            A., A. A.\n",
       "Contributors                   BLAZE DE BURY, Marie Pauline Rose - Baroness\n",
       "Corporate Author                                                        NaN\n",
       "Corporate Contributors                                                  NaN\n",
       "Former owner                                                            NaN\n",
       "Engraver                                                                NaN\n",
       "Issuance type                                                   monographic\n",
       "Flickr URL                http://www.flickr.com/photos/britishlibrary/ta...\n",
       "Shelfmarks                                British Library HMNTS 12626.cc.2.\n",
       "Name: 216, dtype: object"
      ]
     },
     "execution_count": 8,
     "metadata": {},
     "output_type": "execute_result"
    }
   ],
   "source": [
    "bibreg.loc[216]"
   ]
  },
  {
   "cell_type": "code",
   "execution_count": 9,
   "id": "9207b9cf",
   "metadata": {},
   "outputs": [
    {
     "data": {
      "text/plain": [
       "Identifier\n",
       "206                          London\n",
       "216        London; Virtue & Yorston\n",
       "218                          London\n",
       "472                          London\n",
       "480                          London\n",
       "                     ...           \n",
       "4158088                      London\n",
       "4158128                       Derby\n",
       "4159563                      London\n",
       "4159587         Newcastle upon Tyne\n",
       "4160339                      London\n",
       "Name: Place of Publication, Length: 8287, dtype: object"
      ]
     },
     "execution_count": 9,
     "metadata": {},
     "output_type": "execute_result"
    }
   ],
   "source": [
    "bibreg.iloc[:,1]"
   ]
  },
  {
   "cell_type": "markdown",
   "id": "dca2adf1",
   "metadata": {},
   "source": [
    "## Izbor kolona"
   ]
  },
  {
   "cell_type": "markdown",
   "id": "0f19665e",
   "metadata": {},
   "source": [
    "Tabele sa podacima znaju da budu prevelike. Ne zbog memorije računara, nego zato što ne možemo lako da vidimo podatke na ekranu. Zato je uvek dobro osloboditi se balasta na početku. Ako nam za konkretan zadatak neke kolone (ili redovi) nisu potrebne, onda ih treba odmah izbrisati i raditi sam manjom tabelom."
   ]
  },
  {
   "cell_type": "markdown",
   "id": "6f12067a",
   "metadata": {},
   "source": [
    "Ako nam je potrebno svega nekoliko kolona, najbolje je da njihove nazive stavimo u listu i svedemo _DataFrame_ tako da sadrži samo njih. U suprotnom, ako hoćemo samo neke da isključimo, stavimo ih u listu i pozovemo funkciju `drop()` iz __pandas__ biblioteke. Na primer, možemo da stavimo kao argument funkcije `drop()` listu za_brisanje koju smo prethodno definisali kao `za_brisanje=['Edition Statement','Corporate Author','Corporate Contributors','Former owner','Engraver','Contributors','Issuance type','Shelfmarks']`. Priznaćete, malo je zametno navoditi sve nazive kolona koje hoćemo da obrišemo. Altenativa je da istu listu definišemo preko rednih brojeva kolona: `za_brisanje=bibreg.columns[[0,6,7,8,9,10,11,13]]`.   "
   ]
  },
  {
   "cell_type": "code",
   "execution_count": 10,
   "id": "c646852d",
   "metadata": {},
   "outputs": [],
   "source": [
    "za_brisanje=bibreg.columns[[0,6,7,8,9,10,11,13]]"
   ]
  },
  {
   "cell_type": "code",
   "execution_count": 11,
   "id": "e69a00d5",
   "metadata": {
    "scrolled": true
   },
   "outputs": [],
   "source": [
    "bibreg.drop(za_brisanje, axis = 1, inplace = True)"
   ]
  },
  {
   "cell_type": "markdown",
   "id": "86921ec3",
   "metadata": {},
   "source": [
    "Argument `axis=1` kaže funkciji da treba obrisati kolone. Da je ta vrednost 0, funkcija bi obrisala redove."
   ]
  },
  {
   "cell_type": "code",
   "execution_count": 12,
   "id": "600a8a3a",
   "metadata": {},
   "outputs": [
    {
     "data": {
      "text/html": [
       "<div>\n",
       "<style scoped>\n",
       "    .dataframe tbody tr th:only-of-type {\n",
       "        vertical-align: middle;\n",
       "    }\n",
       "\n",
       "    .dataframe tbody tr th {\n",
       "        vertical-align: top;\n",
       "    }\n",
       "\n",
       "    .dataframe thead th {\n",
       "        text-align: right;\n",
       "    }\n",
       "</style>\n",
       "<table border=\"1\" class=\"dataframe\">\n",
       "  <thead>\n",
       "    <tr style=\"text-align: right;\">\n",
       "      <th></th>\n",
       "      <th>Place of Publication</th>\n",
       "      <th>Date of Publication</th>\n",
       "      <th>Publisher</th>\n",
       "      <th>Title</th>\n",
       "      <th>Author</th>\n",
       "      <th>Flickr URL</th>\n",
       "    </tr>\n",
       "    <tr>\n",
       "      <th>Identifier</th>\n",
       "      <th></th>\n",
       "      <th></th>\n",
       "      <th></th>\n",
       "      <th></th>\n",
       "      <th></th>\n",
       "      <th></th>\n",
       "    </tr>\n",
       "  </thead>\n",
       "  <tbody>\n",
       "    <tr>\n",
       "      <th>206</th>\n",
       "      <td>London</td>\n",
       "      <td>1879 [1878]</td>\n",
       "      <td>S. Tinsley &amp; Co.</td>\n",
       "      <td>Walter Forbes. [A novel.] By A. A</td>\n",
       "      <td>A. A.</td>\n",
       "      <td>http://www.flickr.com/photos/britishlibrary/ta...</td>\n",
       "    </tr>\n",
       "    <tr>\n",
       "      <th>216</th>\n",
       "      <td>London; Virtue &amp; Yorston</td>\n",
       "      <td>1868</td>\n",
       "      <td>Virtue &amp; Co.</td>\n",
       "      <td>All for Greed. [A novel. The dedication signed...</td>\n",
       "      <td>A., A. A.</td>\n",
       "      <td>http://www.flickr.com/photos/britishlibrary/ta...</td>\n",
       "    </tr>\n",
       "    <tr>\n",
       "      <th>218</th>\n",
       "      <td>London</td>\n",
       "      <td>1869</td>\n",
       "      <td>Bradbury, Evans &amp; Co.</td>\n",
       "      <td>Love the Avenger. By the author of “All for Gr...</td>\n",
       "      <td>A., A. A.</td>\n",
       "      <td>http://www.flickr.com/photos/britishlibrary/ta...</td>\n",
       "    </tr>\n",
       "    <tr>\n",
       "      <th>472</th>\n",
       "      <td>London</td>\n",
       "      <td>1851</td>\n",
       "      <td>James Darling</td>\n",
       "      <td>Welsh Sketches, chiefly ecclesiastical, to the...</td>\n",
       "      <td>A., E. S.</td>\n",
       "      <td>http://www.flickr.com/photos/britishlibrary/ta...</td>\n",
       "    </tr>\n",
       "    <tr>\n",
       "      <th>480</th>\n",
       "      <td>London</td>\n",
       "      <td>1857</td>\n",
       "      <td>Wertheim &amp; Macintosh</td>\n",
       "      <td>[The World in which I live, and my place in it...</td>\n",
       "      <td>A., E. S.</td>\n",
       "      <td>http://www.flickr.com/photos/britishlibrary/ta...</td>\n",
       "    </tr>\n",
       "  </tbody>\n",
       "</table>\n",
       "</div>"
      ],
      "text/plain": [
       "                Place of Publication Date of Publication  \\\n",
       "Identifier                                                 \n",
       "206                           London         1879 [1878]   \n",
       "216         London; Virtue & Yorston                1868   \n",
       "218                           London                1869   \n",
       "472                           London                1851   \n",
       "480                           London                1857   \n",
       "\n",
       "                        Publisher  \\\n",
       "Identifier                          \n",
       "206              S. Tinsley & Co.   \n",
       "216                  Virtue & Co.   \n",
       "218         Bradbury, Evans & Co.   \n",
       "472                 James Darling   \n",
       "480          Wertheim & Macintosh   \n",
       "\n",
       "                                                        Title     Author  \\\n",
       "Identifier                                                                 \n",
       "206                         Walter Forbes. [A novel.] By A. A      A. A.   \n",
       "216         All for Greed. [A novel. The dedication signed...  A., A. A.   \n",
       "218         Love the Avenger. By the author of “All for Gr...  A., A. A.   \n",
       "472         Welsh Sketches, chiefly ecclesiastical, to the...  A., E. S.   \n",
       "480         [The World in which I live, and my place in it...  A., E. S.   \n",
       "\n",
       "                                                   Flickr URL  \n",
       "Identifier                                                     \n",
       "206         http://www.flickr.com/photos/britishlibrary/ta...  \n",
       "216         http://www.flickr.com/photos/britishlibrary/ta...  \n",
       "218         http://www.flickr.com/photos/britishlibrary/ta...  \n",
       "472         http://www.flickr.com/photos/britishlibrary/ta...  \n",
       "480         http://www.flickr.com/photos/britishlibrary/ta...  "
      ]
     },
     "execution_count": 12,
     "metadata": {},
     "output_type": "execute_result"
    }
   ],
   "source": [
    "bibreg.head()"
   ]
  },
  {
   "cell_type": "markdown",
   "id": "9d3d3b97",
   "metadata": {},
   "source": [
    "### Priprema numeričkih podataka"
   ]
  },
  {
   "cell_type": "markdown",
   "id": "b84e1e60",
   "metadata": {},
   "source": [
    "Sada imamo tabelu sa manje kolona gde je prilično jasno šta je sadržaj. Ono što je sporno je forma sadržaja. U drugoj koloni bi trebalo da budu brojevi koji označavaju godine. Međutim, mašina tu ne vidi brojeve već tekst. CSV fajlovi ne čuvaju podatke o tipu promenljive. Za Pajton je odmah po učitavanju sve između zareza string. Za bilo kakvu numeričku analizu, npr. traženje minimuma, zbira ili srednje vrednosti potrebno je podacima promenimo tip promenljive. Dok god postoje u koloni elementi sa znacima koji nisu cifre, minus i decimalna tačka to neće biti moguće.\n",
    "\n",
    "Probajte da nađete najstariju knjigu u registru. To bi trebalo da bude najmanji broj u koloni pomoću funkcije `min()`. "
   ]
  },
  {
   "cell_type": "code",
   "execution_count": 13,
   "id": "755b84de",
   "metadata": {
    "scrolled": true
   },
   "outputs": [],
   "source": [
    "# bibreg['Date of Publication'].min()"
   ]
  },
  {
   "cell_type": "markdown",
   "id": "3dc4d652",
   "metadata": {},
   "source": [
    "Pre čišćenja podataka prvo treba da vidimo kog su tipa promenljive u kolonama. Od toga zavisi koje ćemo tehnike koristiti za čišćenje."
   ]
  },
  {
   "cell_type": "code",
   "execution_count": 14,
   "id": "60356668",
   "metadata": {},
   "outputs": [
    {
     "data": {
      "text/plain": [
       "Place of Publication    object\n",
       "Date of Publication     object\n",
       "Publisher               object\n",
       "Title                   object\n",
       "Author                  object\n",
       "Flickr URL              object\n",
       "dtype: object"
      ]
     },
     "execution_count": 14,
     "metadata": {},
     "output_type": "execute_result"
    }
   ],
   "source": [
    "bibreg.dtypes"
   ]
  },
  {
   "cell_type": "markdown",
   "id": "a1cd6eef",
   "metadata": {},
   "source": [
    "Vidimo da je i __Date of Publication__ tipa _object_. Razlog za to su uglaste zagrade, zarezi i crtice koje se nalaze u nekim poljima te kolone. Dok god postoji barem jedno polje u kom nije broj, Pajton kolonu neće prepoznati kao numeričku. Ukoliko tih polja ima malo, uređivanje možemo da uradimo i ručno. Da vidimo isplati li se to napisaćemo mali program koji pokušava da element niza pretvori u ceo broj. Za svaki element gde ne uspe u tome program će povećati broj za jedan. "
   ]
  },
  {
   "cell_type": "code",
   "execution_count": 15,
   "id": "2c2f1e97",
   "metadata": {},
   "outputs": [],
   "source": [
    "n=0\n",
    "for element in bibreg['Date of Publication']:\n",
    "    try:\n",
    "        tmp = int(element)\n",
    "    except:\n",
    "        n+=1"
   ]
  },
  {
   "cell_type": "code",
   "execution_count": 16,
   "id": "96c64f16",
   "metadata": {
    "scrolled": true
   },
   "outputs": [
    {
     "data": {
      "text/plain": [
       "1759"
      ]
     },
     "execution_count": 16,
     "metadata": {},
     "output_type": "execute_result"
    }
   ],
   "source": [
    "n"
   ]
  },
  {
   "cell_type": "code",
   "execution_count": 17,
   "id": "38ccd8bc",
   "metadata": {},
   "outputs": [
    {
     "data": {
      "text/plain": [
       "8287"
      ]
     },
     "execution_count": 17,
     "metadata": {},
     "output_type": "execute_result"
    }
   ],
   "source": [
    "len(bibreg)"
   ]
  },
  {
   "cell_type": "markdown",
   "id": "c0852800",
   "metadata": {},
   "source": [
    "Vidimo da čak 1759 od 8287 elemenata u ovoj koloni ne možemo da pretvorimo u broj. To svakako ne treba da radimo ručno. "
   ]
  },
  {
   "cell_type": "code",
   "execution_count": 18,
   "id": "9cef4d69",
   "metadata": {},
   "outputs": [
    {
     "name": "stdout",
     "output_type": "stream",
     "text": [
      "Identifier\n",
      "206            1879 [1878]\n",
      "216                   1868\n",
      "218                   1869\n",
      "472                   1851\n",
      "480                   1857\n",
      "481                   1875\n",
      "519                   1872\n",
      "667                    NaN\n",
      "874                   1676\n",
      "1143                  1679\n",
      "1280                  1802\n",
      "1808                  1859\n",
      "1905                  1888\n",
      "1929           1839, 38-54\n",
      "2836                  1897\n",
      "2854                  1865\n",
      "2956               1860-63\n",
      "2957                  1873\n",
      "3017                  1866\n",
      "3131                  1899\n",
      "4598                  1814\n",
      "4884                  1820\n",
      "4976                  1800\n",
      "5382    1847, 48 [1846-48]\n",
      "5385               [1897?]\n",
      "5389               [1897?]\n",
      "5432                  1893\n",
      "6036                  1805\n",
      "6821                  1837\n",
      "7521                  1896\n",
      "Name: Date of Publication, dtype: object\n"
     ]
    }
   ],
   "source": [
    "print (bibreg['Date of Publication'][:30])"
   ]
  },
  {
   "cell_type": "markdown",
   "id": "bce2985a",
   "metadata": {},
   "source": [
    "Automatsko čišćenje podataka u ovoj koloni nije jednostavno. Prvo, zato što nismo sigurni šta treba da prepoznamo kao broj. Drugo, zato što ne postoji jednostavan način za to.\n",
    "\n",
    "Da se dogovorimo prvo šta treba da prepoznamo kao broj. Jedno rešenje (koje ne mora da bude najbolje) je da tražimo samo one elemente u koloni koji počinju sa četiri cifre, da te četiri cifre pretvorimo u broj, a da sve ostalo zanemarimo. To znači da bi prvi element bio 1879, drugi 1868 itd.\n",
    "\n",
    "Način na koji ćemo to uraditi je da prepoznamo deo teksta koristeći regularne izraze. Ovo je dosta komplikovana tema koju ovde ne možemo da obradimo. Možda je najbolje da nam verujete da to tako zaista radi."
   ]
  },
  {
   "cell_type": "markdown",
   "id": "32658aeb",
   "metadata": {},
   "source": [
    "### Regularni izrazi"
   ]
  },
  {
   "cell_type": "markdown",
   "id": "55a30df4",
   "metadata": {},
   "source": [
    "Regularni izrazi (eng. _regular expressions_) su kodirani opisi sadržaja u nekom tekstu. Pajton može da pretraži niz tekstualnih podataka u potrazi za sadržajem koji odgovaraju tom opisu. Način na koji se kodiraju regularni izrazi nisu baš intuitivni. Drugim rečima, ako su vam načini na koji se zapisuju i rade regularni izrazi zbunjujući i nerazumljivi, to je sasvim normalno."
   ]
  },
  {
   "cell_type": "markdown",
   "id": "d7f55d9f",
   "metadata": {},
   "source": [
    "Mi ćemo pomoću regularnih izraza da potražimo grupe od četiri cifre na početku tekstualne promenljive. [Regularni izraz](https://regex101.com/r/3AJ1Pv/1) koji to opisuje je `^(\\d{4})`. Kod `\\d` označava _digit_, odnosno bilo koju cifru, `{4}` znači da se cifre ponavljaju tačno 4 puta, zagrade označavaju grupu koju treba obeležiti, a kod `^` da se tim tekstom počinje red. Za razliku od običnog teksta koji stavljamo pod navodnike kad ga pridružujemo promenljivoj, ovde ispred navodnika stoji slovo `r` koje označava da to nije običan tekst već kodirani opis teksta."
   ]
  },
  {
   "cell_type": "code",
   "execution_count": 19,
   "id": "c5407895",
   "metadata": {},
   "outputs": [],
   "source": [
    "maska=r'^(\\d{4})'"
   ]
  },
  {
   "cell_type": "markdown",
   "id": "d2db5043",
   "metadata": {},
   "source": [
    "Sada treba da prođemo kroz sve elemente kolone __Date of Publication__ i izvučemo string sa traženim opisom ukoliko postoji u tom elementu. To ćemo uraditi pomoću funkcije `str.extract()`. Argumenti ove funkcije su regularni izraz koji smo stavili u promenljivu __maska__ i napomena Pajtonu da izlaz bude samo jedna kolona."
   ]
  },
  {
   "cell_type": "code",
   "execution_count": 20,
   "id": "64060631",
   "metadata": {},
   "outputs": [],
   "source": [
    "year = bibreg['Date of Publication'].str.extract(maska, expand=False)"
   ]
  },
  {
   "cell_type": "code",
   "execution_count": 21,
   "id": "b87025bd",
   "metadata": {
    "scrolled": true
   },
   "outputs": [
    {
     "data": {
      "text/plain": [
       "Identifier\n",
       "206        1879\n",
       "216        1868\n",
       "218        1869\n",
       "472        1851\n",
       "480        1857\n",
       "           ... \n",
       "4158088    1838\n",
       "4158128    1831\n",
       "4159563     NaN\n",
       "4159587    1834\n",
       "4160339    1834\n",
       "Name: Date of Publication, Length: 8287, dtype: object"
      ]
     },
     "execution_count": 21,
     "metadata": {},
     "output_type": "execute_result"
    }
   ],
   "source": [
    "year"
   ]
  },
  {
   "cell_type": "markdown",
   "id": "8a1ed845",
   "metadata": {},
   "source": [
    "Vidimo da je Pajton prepoznao i izdvojio grupe od četiri cifre koje bi trebalo da predstavljaju godine. Tamo gde mu to nije pošlo za rukom piše __NaN__. Primetite da ovi podaci i dalje nisu brojevi nego stringovi. Da bi postali brojevi potrebno je da ih pretvorimo u brojeve pomoću funkcije `to_numeric()`. To nije bilo moguće pre čišćenja. Nadajmo se da će sada raditi."
   ]
  },
  {
   "cell_type": "code",
   "execution_count": 22,
   "id": "965d2834",
   "metadata": {},
   "outputs": [],
   "source": [
    "year = pd.to_numeric(year)"
   ]
  },
  {
   "cell_type": "markdown",
   "id": "7f60d949",
   "metadata": {},
   "source": [
    "Ako je sve u redu onda ćemo moći da nađemo najstariju knjigu."
   ]
  },
  {
   "cell_type": "code",
   "execution_count": 23,
   "id": "c68b9d05",
   "metadata": {},
   "outputs": [
    {
     "data": {
      "text/plain": [
       "1510.0"
      ]
     },
     "execution_count": 23,
     "metadata": {},
     "output_type": "execute_result"
    }
   ],
   "source": [
    "year.min()"
   ]
  },
  {
   "cell_type": "markdown",
   "id": "309665ea",
   "metadata": {},
   "source": [
    "Najstarija knjiga je iz 1510. godine. To je baš staro. Možete li da otkrijete koja je to knjiga?"
   ]
  },
  {
   "cell_type": "code",
   "execution_count": 24,
   "id": "6e175370",
   "metadata": {},
   "outputs": [
    {
     "data": {
      "text/html": [
       "<div>\n",
       "<style scoped>\n",
       "    .dataframe tbody tr th:only-of-type {\n",
       "        vertical-align: middle;\n",
       "    }\n",
       "\n",
       "    .dataframe tbody tr th {\n",
       "        vertical-align: top;\n",
       "    }\n",
       "\n",
       "    .dataframe thead th {\n",
       "        text-align: right;\n",
       "    }\n",
       "</style>\n",
       "<table border=\"1\" class=\"dataframe\">\n",
       "  <thead>\n",
       "    <tr style=\"text-align: right;\">\n",
       "      <th></th>\n",
       "      <th>Place of Publication</th>\n",
       "      <th>Date of Publication</th>\n",
       "      <th>Publisher</th>\n",
       "      <th>Title</th>\n",
       "      <th>Author</th>\n",
       "      <th>Flickr URL</th>\n",
       "    </tr>\n",
       "    <tr>\n",
       "      <th>Identifier</th>\n",
       "      <th></th>\n",
       "      <th></th>\n",
       "      <th></th>\n",
       "      <th></th>\n",
       "      <th></th>\n",
       "      <th></th>\n",
       "    </tr>\n",
       "  </thead>\n",
       "  <tbody>\n",
       "    <tr>\n",
       "      <th>2938347</th>\n",
       "      <td>Paris</td>\n",
       "      <td>1510?]</td>\n",
       "      <td>in aedibus Nicolai Crispini</td>\n",
       "      <td>Piutarchi Chaeronensis Regum  Imperatorum Apo...</td>\n",
       "      <td>NaN</td>\n",
       "      <td>http://www.flickr.com/photos/britishlibrary/ta...</td>\n",
       "    </tr>\n",
       "  </tbody>\n",
       "</table>\n",
       "</div>"
      ],
      "text/plain": [
       "           Place of Publication Date of Publication  \\\n",
       "Identifier                                            \n",
       "2938347                   Paris              1510?]   \n",
       "\n",
       "                              Publisher  \\\n",
       "Identifier                                \n",
       "2938347     in aedibus Nicolai Crispini   \n",
       "\n",
       "                                                        Title Author  \\\n",
       "Identifier                                                             \n",
       "2938347     Piutarchi Chaeronensis Regum  Imperatorum Apo...    NaN   \n",
       "\n",
       "                                                   Flickr URL  \n",
       "Identifier                                                     \n",
       "2938347     http://www.flickr.com/photos/britishlibrary/ta...  "
      ]
     },
     "execution_count": 24,
     "metadata": {},
     "output_type": "execute_result"
    }
   ],
   "source": [
    "bibreg.loc[year==1510]"
   ]
  },
  {
   "cell_type": "markdown",
   "id": "56823b58",
   "metadata": {},
   "source": [
    "Sve knjige za koje nismo uspeli da prepoznamo godinu izdavanja imaju oznaku __NaN__ koju uočavamo pomoću funkcije `isnull()`. Ako saberemo koliko takvih ima, znaćemo koliko je čišćenje bilo uspešno."
   ]
  },
  {
   "cell_type": "code",
   "execution_count": 25,
   "id": "019a8d16",
   "metadata": {},
   "outputs": [
    {
     "data": {
      "text/plain": [
       "971"
      ]
     },
     "execution_count": 25,
     "metadata": {},
     "output_type": "execute_result"
    }
   ],
   "source": [
    "year.isnull().sum()"
   ]
  },
  {
   "cell_type": "markdown",
   "id": "0a128c4e",
   "metadata": {},
   "source": [
    "U poređenju sa 1759 broj 971 jeste manji, ali i dalje značajan. Međutim, ono što je značajnije jeste da smo tekstualne zapise pretvorili u brojeve koje možemo dalje da analiziramo. "
   ]
  },
  {
   "cell_type": "markdown",
   "id": "fa93bb64",
   "metadata": {},
   "source": [
    "Bilo bi dobro očišćene numeričke podatke ubaciti nazad u tabelu, ali nije preporučljivo da to uradite tako što prebrišete originalne podatke u koloni __Date of Publication__. Tako bismo izgubili mogućnost da proverimo je li čišćenje bilo dobro i eventualno promenimo kriterijum kasnije. Bolje je da imamo originalnu i očišćenu kolonu jednu pored druge. Pomoću funkcije `insert()` možemo da ubacimo na određeno mesto u tabeli kolonu sa imenom i vrednostima kao argumentima."
   ]
  },
  {
   "cell_type": "code",
   "execution_count": 26,
   "id": "01a82b27",
   "metadata": {},
   "outputs": [],
   "source": [
    "bibreg.insert(2, \"Year\", year)"
   ]
  },
  {
   "cell_type": "code",
   "execution_count": 27,
   "id": "84a6011c",
   "metadata": {
    "scrolled": true
   },
   "outputs": [
    {
     "data": {
      "text/html": [
       "<div>\n",
       "<style scoped>\n",
       "    .dataframe tbody tr th:only-of-type {\n",
       "        vertical-align: middle;\n",
       "    }\n",
       "\n",
       "    .dataframe tbody tr th {\n",
       "        vertical-align: top;\n",
       "    }\n",
       "\n",
       "    .dataframe thead th {\n",
       "        text-align: right;\n",
       "    }\n",
       "</style>\n",
       "<table border=\"1\" class=\"dataframe\">\n",
       "  <thead>\n",
       "    <tr style=\"text-align: right;\">\n",
       "      <th></th>\n",
       "      <th>Place of Publication</th>\n",
       "      <th>Date of Publication</th>\n",
       "      <th>Year</th>\n",
       "      <th>Publisher</th>\n",
       "      <th>Title</th>\n",
       "      <th>Author</th>\n",
       "      <th>Flickr URL</th>\n",
       "    </tr>\n",
       "    <tr>\n",
       "      <th>Identifier</th>\n",
       "      <th></th>\n",
       "      <th></th>\n",
       "      <th></th>\n",
       "      <th></th>\n",
       "      <th></th>\n",
       "      <th></th>\n",
       "      <th></th>\n",
       "    </tr>\n",
       "  </thead>\n",
       "  <tbody>\n",
       "    <tr>\n",
       "      <th>206</th>\n",
       "      <td>London</td>\n",
       "      <td>1879 [1878]</td>\n",
       "      <td>1879.0</td>\n",
       "      <td>S. Tinsley &amp; Co.</td>\n",
       "      <td>Walter Forbes. [A novel.] By A. A</td>\n",
       "      <td>A. A.</td>\n",
       "      <td>http://www.flickr.com/photos/britishlibrary/ta...</td>\n",
       "    </tr>\n",
       "    <tr>\n",
       "      <th>216</th>\n",
       "      <td>London; Virtue &amp; Yorston</td>\n",
       "      <td>1868</td>\n",
       "      <td>1868.0</td>\n",
       "      <td>Virtue &amp; Co.</td>\n",
       "      <td>All for Greed. [A novel. The dedication signed...</td>\n",
       "      <td>A., A. A.</td>\n",
       "      <td>http://www.flickr.com/photos/britishlibrary/ta...</td>\n",
       "    </tr>\n",
       "    <tr>\n",
       "      <th>218</th>\n",
       "      <td>London</td>\n",
       "      <td>1869</td>\n",
       "      <td>1869.0</td>\n",
       "      <td>Bradbury, Evans &amp; Co.</td>\n",
       "      <td>Love the Avenger. By the author of “All for Gr...</td>\n",
       "      <td>A., A. A.</td>\n",
       "      <td>http://www.flickr.com/photos/britishlibrary/ta...</td>\n",
       "    </tr>\n",
       "    <tr>\n",
       "      <th>472</th>\n",
       "      <td>London</td>\n",
       "      <td>1851</td>\n",
       "      <td>1851.0</td>\n",
       "      <td>James Darling</td>\n",
       "      <td>Welsh Sketches, chiefly ecclesiastical, to the...</td>\n",
       "      <td>A., E. S.</td>\n",
       "      <td>http://www.flickr.com/photos/britishlibrary/ta...</td>\n",
       "    </tr>\n",
       "    <tr>\n",
       "      <th>480</th>\n",
       "      <td>London</td>\n",
       "      <td>1857</td>\n",
       "      <td>1857.0</td>\n",
       "      <td>Wertheim &amp; Macintosh</td>\n",
       "      <td>[The World in which I live, and my place in it...</td>\n",
       "      <td>A., E. S.</td>\n",
       "      <td>http://www.flickr.com/photos/britishlibrary/ta...</td>\n",
       "    </tr>\n",
       "    <tr>\n",
       "      <th>...</th>\n",
       "      <td>...</td>\n",
       "      <td>...</td>\n",
       "      <td>...</td>\n",
       "      <td>...</td>\n",
       "      <td>...</td>\n",
       "      <td>...</td>\n",
       "      <td>...</td>\n",
       "    </tr>\n",
       "    <tr>\n",
       "      <th>4158088</th>\n",
       "      <td>London</td>\n",
       "      <td>1838</td>\n",
       "      <td>1838.0</td>\n",
       "      <td>NaN</td>\n",
       "      <td>The Parochial History of Cornwall, founded on,...</td>\n",
       "      <td>GIDDY, afterwards GILBERT, Davies.</td>\n",
       "      <td>http://www.flickr.com/photos/britishlibrary/ta...</td>\n",
       "    </tr>\n",
       "    <tr>\n",
       "      <th>4158128</th>\n",
       "      <td>Derby</td>\n",
       "      <td>1831, 32</td>\n",
       "      <td>1831.0</td>\n",
       "      <td>M. Mozley &amp; Son</td>\n",
       "      <td>The History and Gazetteer of the County of Der...</td>\n",
       "      <td>GLOVER, Stephen - of Derby</td>\n",
       "      <td>http://www.flickr.com/photos/britishlibrary/ta...</td>\n",
       "    </tr>\n",
       "    <tr>\n",
       "      <th>4159563</th>\n",
       "      <td>London</td>\n",
       "      <td>[1806]-22</td>\n",
       "      <td>NaN</td>\n",
       "      <td>T. Cadell and W. Davies</td>\n",
       "      <td>Magna Britannia; being a concise topographical...</td>\n",
       "      <td>LYSONS, Daniel - M.A., F.R.S., and LYSONS (Sam...</td>\n",
       "      <td>http://www.flickr.com/photos/britishlibrary/ta...</td>\n",
       "    </tr>\n",
       "    <tr>\n",
       "      <th>4159587</th>\n",
       "      <td>Newcastle upon Tyne</td>\n",
       "      <td>1834</td>\n",
       "      <td>1834.0</td>\n",
       "      <td>Mackenzie &amp; Dent</td>\n",
       "      <td>An historical, topographical and descriptive v...</td>\n",
       "      <td>Mackenzie, E. (Eneas)</td>\n",
       "      <td>http://www.flickr.com/photos/britishlibrary/ta...</td>\n",
       "    </tr>\n",
       "    <tr>\n",
       "      <th>4160339</th>\n",
       "      <td>London</td>\n",
       "      <td>1834-43</td>\n",
       "      <td>1834.0</td>\n",
       "      <td>NaN</td>\n",
       "      <td>Collectanea Topographica et Genealogica. [Firs...</td>\n",
       "      <td>NaN</td>\n",
       "      <td>http://www.flickr.com/photos/britishlibrary/ta...</td>\n",
       "    </tr>\n",
       "  </tbody>\n",
       "</table>\n",
       "<p>8287 rows × 7 columns</p>\n",
       "</div>"
      ],
      "text/plain": [
       "                Place of Publication Date of Publication    Year  \\\n",
       "Identifier                                                         \n",
       "206                           London         1879 [1878]  1879.0   \n",
       "216         London; Virtue & Yorston                1868  1868.0   \n",
       "218                           London                1869  1869.0   \n",
       "472                           London                1851  1851.0   \n",
       "480                           London                1857  1857.0   \n",
       "...                              ...                 ...     ...   \n",
       "4158088                       London                1838  1838.0   \n",
       "4158128                        Derby            1831, 32  1831.0   \n",
       "4159563                       London           [1806]-22     NaN   \n",
       "4159587          Newcastle upon Tyne                1834  1834.0   \n",
       "4160339                       London             1834-43  1834.0   \n",
       "\n",
       "                          Publisher  \\\n",
       "Identifier                            \n",
       "206                S. Tinsley & Co.   \n",
       "216                    Virtue & Co.   \n",
       "218           Bradbury, Evans & Co.   \n",
       "472                   James Darling   \n",
       "480            Wertheim & Macintosh   \n",
       "...                             ...   \n",
       "4158088                         NaN   \n",
       "4158128             M. Mozley & Son   \n",
       "4159563     T. Cadell and W. Davies   \n",
       "4159587            Mackenzie & Dent   \n",
       "4160339                         NaN   \n",
       "\n",
       "                                                        Title  \\\n",
       "Identifier                                                      \n",
       "206                         Walter Forbes. [A novel.] By A. A   \n",
       "216         All for Greed. [A novel. The dedication signed...   \n",
       "218         Love the Avenger. By the author of “All for Gr...   \n",
       "472         Welsh Sketches, chiefly ecclesiastical, to the...   \n",
       "480         [The World in which I live, and my place in it...   \n",
       "...                                                       ...   \n",
       "4158088     The Parochial History of Cornwall, founded on,...   \n",
       "4158128     The History and Gazetteer of the County of Der...   \n",
       "4159563     Magna Britannia; being a concise topographical...   \n",
       "4159587     An historical, topographical and descriptive v...   \n",
       "4160339     Collectanea Topographica et Genealogica. [Firs...   \n",
       "\n",
       "                                                       Author  \\\n",
       "Identifier                                                      \n",
       "206                                                     A. A.   \n",
       "216                                                 A., A. A.   \n",
       "218                                                 A., A. A.   \n",
       "472                                                 A., E. S.   \n",
       "480                                                 A., E. S.   \n",
       "...                                                       ...   \n",
       "4158088                    GIDDY, afterwards GILBERT, Davies.   \n",
       "4158128                            GLOVER, Stephen - of Derby   \n",
       "4159563     LYSONS, Daniel - M.A., F.R.S., and LYSONS (Sam...   \n",
       "4159587                                 Mackenzie, E. (Eneas)   \n",
       "4160339                                                   NaN   \n",
       "\n",
       "                                                   Flickr URL  \n",
       "Identifier                                                     \n",
       "206         http://www.flickr.com/photos/britishlibrary/ta...  \n",
       "216         http://www.flickr.com/photos/britishlibrary/ta...  \n",
       "218         http://www.flickr.com/photos/britishlibrary/ta...  \n",
       "472         http://www.flickr.com/photos/britishlibrary/ta...  \n",
       "480         http://www.flickr.com/photos/britishlibrary/ta...  \n",
       "...                                                       ...  \n",
       "4158088     http://www.flickr.com/photos/britishlibrary/ta...  \n",
       "4158128     http://www.flickr.com/photos/britishlibrary/ta...  \n",
       "4159563     http://www.flickr.com/photos/britishlibrary/ta...  \n",
       "4159587     http://www.flickr.com/photos/britishlibrary/ta...  \n",
       "4160339     http://www.flickr.com/photos/britishlibrary/ta...  \n",
       "\n",
       "[8287 rows x 7 columns]"
      ]
     },
     "execution_count": 27,
     "metadata": {},
     "output_type": "execute_result"
    }
   ],
   "source": [
    "bibreg"
   ]
  },
  {
   "cell_type": "markdown",
   "id": "35ba0720",
   "metadata": {},
   "source": [
    "### Čišćenje tekstualnih podataka"
   ]
  },
  {
   "cell_type": "markdown",
   "id": "ad22a2d5",
   "metadata": {},
   "source": [
    "Za razliku od numeričkih podataka, tekstualne možemo da analiziramo i pre čišćenja. Za tekst imamo drugu vrste analize (koliko ima kojih elemenata, kog ima najviše itd.). Rezultati možda neće biti najpouzdaniji, ali ćemo dobiti nešto informativno. Da vidimo, na primer, statistiku mesta izdavanja knjiga iz registra __bibreg__."
   ]
  },
  {
   "cell_type": "code",
   "execution_count": 28,
   "id": "6b75d6aa",
   "metadata": {},
   "outputs": [
    {
     "data": {
      "text/plain": [
       "London                                         3868\n",
       "Paris                                           479\n",
       "Edinburgh                                       208\n",
       "New York                                        177\n",
       "Leipzig                                         119\n",
       "                                               ... \n",
       "pp. 40. Hodder & Stoughton: London, [1900.]       1\n",
       "Carpi                                             1\n",
       "V Praze                                           1\n",
       "Hamburg?                                          1\n",
       "Tiverton                                          1\n",
       "Name: Place of Publication, Length: 1441, dtype: int64"
      ]
     },
     "execution_count": 28,
     "metadata": {},
     "output_type": "execute_result"
    }
   ],
   "source": [
    "bibreg['Place of Publication'].value_counts()"
   ]
  },
  {
   "cell_type": "markdown",
   "id": "1122e333",
   "metadata": {},
   "source": [
    "Imamo 1441 različit zapis mesta izdavanja. Verovatno mesta izdavanja ima manje, ali su zapisani drugačije. Promena tog broja može da bude pokazatelj koliko smo dobro očistili kolonu."
   ]
  },
  {
   "cell_type": "code",
   "execution_count": 29,
   "id": "a6d0e476",
   "metadata": {},
   "outputs": [
    {
     "data": {
      "text/plain": [
       "London                3868\n",
       "Paris                  479\n",
       "Edinburgh              208\n",
       "New York               177\n",
       "Leipzig                119\n",
       "Philadelphia            89\n",
       "Berlin                  70\n",
       "Boston [Mass.]          52\n",
       "Dublin                  48\n",
       "Glasgow                 45\n",
       "Oxford                  44\n",
       "Boston                  41\n",
       "Wien                    38\n",
       "Madrid                  33\n",
       "Stockholm               33\n",
       "Bruxelles               28\n",
       "Cambridge               26\n",
       "Amsterdam               25\n",
       "Firenze                 24\n",
       "Stuttgart               24\n",
       "Chicago                 24\n",
       "Birmingham              23\n",
       "Manchester              20\n",
       "Milano                  20\n",
       "Calcutta                19\n",
       "enk                     19\n",
       "Tours                   19\n",
       "Bristol                 18\n",
       "Kjøbenhavn              18\n",
       "Buenos Aires            16\n",
       "С.-Петербургъ           16\n",
       "Lisboa                  16\n",
       "Norwich                 16\n",
       "Edinburgh & London      16\n",
       "New-York                16\n",
       "Cincinnati              14\n",
       "México                 14\n",
       "Haarlem                 14\n",
       "London]                 14\n",
       "Napoli                  14\n",
       "Name: Place of Publication, dtype: int64"
      ]
     },
     "execution_count": 29,
     "metadata": {},
     "output_type": "execute_result"
    }
   ],
   "source": [
    "bibreg['Place of Publication'].value_counts()[:40]"
   ]
  },
  {
   "cell_type": "markdown",
   "id": "1130e1e6",
   "metadata": {},
   "source": [
    "Ono što vidimo na prvi pogled je da imamo više zapisa koji se odnose na isti grad. Na primer, __London__ (3868) i __London]__ (14) ili __Boston [Mass.]__ (52) i __Boston__ (41). Čišćenje podatka bi to trebalo da objedini. Već iz 40 najčešćih mesta izdavanja vidimo da se nazivi mesta ponavljaju kroz različite zapise. Među ostalih hiljadu mora da ih ima još mnogo."
   ]
  },
  {
   "cell_type": "markdown",
   "id": "120bd769",
   "metadata": {},
   "source": [
    "Da vidimo za zapise u kojima se pojavljuju reči __\"London\"__, __\"Paris\"__ ili __\"Boston\"__ kakvih sve oblika ima."
   ]
  },
  {
   "cell_type": "code",
   "execution_count": 30,
   "id": "c742cfbd",
   "metadata": {},
   "outputs": [],
   "source": [
    "place=bibreg['Place of Publication']"
   ]
  },
  {
   "cell_type": "markdown",
   "id": "e872a3e0",
   "metadata": {},
   "source": [
    "Kao i kod numeričkih podataka dobra je praksa ne menjati originalne podatke nego napraviti još jednu kolonu (__place__) u kojoj su podaci očišćeni kako mislimo da treba. To nam ostavlja mogućnost da kasnije, pod uticajem nekih novih saznanja, promenimo odluku. Dobro je da originalna kolona i kolona sa očišćenim podacima stoje jedna pored druge. "
   ]
  },
  {
   "cell_type": "code",
   "execution_count": 31,
   "id": "971a5559",
   "metadata": {},
   "outputs": [
    {
     "data": {
      "text/plain": [
       "Identifier\n",
       "16544              Boston\n",
       "28758              Boston\n",
       "45172              Boston\n",
       "53627              Boston\n",
       "69331              Boston\n",
       "                ...      \n",
       "3954038    Boston [Mass.]\n",
       "3954691            Boston\n",
       "3954692            Boston\n",
       "3954693    Boston [Mass.]\n",
       "3970785     Boston [U.S.]\n",
       "Name: Place of Publication, Length: 119, dtype: object"
      ]
     },
     "execution_count": 31,
     "metadata": {},
     "output_type": "execute_result"
    }
   ],
   "source": [
    "place[place.str.contains(\"Boston\")]"
   ]
  },
  {
   "cell_type": "code",
   "execution_count": 32,
   "id": "5a25db12",
   "metadata": {
    "scrolled": true
   },
   "outputs": [
    {
     "data": {
      "text/plain": [
       "New York                                            177\n",
       "New-York                                             16\n",
       "London & New York                                    10\n",
       "York                                                  8\n",
       "New York & London                                     3\n",
       "London; New York [printed]                            3\n",
       "Macmillan & Co.; New York                             2\n",
       "London; New York printed                              1\n",
       "New York, 1866                                        1\n",
       "pp. viii. 291. Harper & Bros.: New York, 1888         1\n",
       "New York; Kegan Paul & Co                             1\n",
       "Nouvelle-York                                         1\n",
       "New York [printed]; London                            1\n",
       "New York, London                                      1\n",
       "Neuva York [sic]                                      1\n",
       "London, Edinburgh and New York                        1\n",
       "pp. 110. John Lane: London, New York, 1918            1\n",
       "Boston and New York                                   1\n",
       "pp. 330. J. Lane: London & New York, 1899 [1898]      1\n",
       "London [printed], New York                            1\n",
       "Nueva-York                                            1\n",
       "London & New York, Macmillan & Co                     1\n",
       "London, York [printed]                                1\n",
       "New York [printed], Chicago                           1\n",
       "4 vol. The Century Co.: New York, 1887, 8º            1\n",
       "pp. 171. J. Lane: London & New York, 1896             1\n",
       "Nueva York                                            1\n",
       "Boston & New York                                     1\n",
       "Name: Place of Publication, dtype: int64"
      ]
     },
     "execution_count": 32,
     "metadata": {},
     "output_type": "execute_result"
    }
   ],
   "source": [
    "place[place.str.contains(\"York\")].value_counts()"
   ]
  },
  {
   "cell_type": "markdown",
   "id": "10fc63fb",
   "metadata": {},
   "source": [
    "Ima čak 245 različitih zapisa u kojima se pominje London. To neće biti jednostavno za čišćenje. Neke od ovih zapisa verovatno ne bi trebalo menjati: __Edinburgh & London__ bi trebalo da ostane tako kako jeste, ali bi __Longman & Co. London__ trebalo promeniti u __London__. Međutim, kod čišćenja podataka treba biti praktičan. Ako već znamo da čišćenje podatka traži mnogo vremena i da nikad ne možemo da budemo sigurni jesmo li sve ispravili kako treba, onda treba početi od očiglednih i značajnih izmena. Prvo ispravljajte greške koje su najbrojnije. Spojte __Boston [Mass.]__ i __Boston__ u jedan zapis, promenite __New-York__ u __New York__ pa onda redom.\n",
    "\n",
    "Postoji li nešto što možemo da uradimo pre nego što konkretne nazive mesta krenemo da zamenjujemo drugima? Vidimo na primer da postoje različiti zapisi \"Boston and New York\" i \"Boston & New York\". Ako zamenimo `and` sa `&` onda će to imati efekta kod svih kombinacija gradova, ne samo kod Bostona i Njujorka."
   ]
  },
  {
   "cell_type": "code",
   "execution_count": 33,
   "id": "c60495f5",
   "metadata": {},
   "outputs": [],
   "source": [
    "place=place.str.replace(\" and \", \" & \")"
   ]
  },
  {
   "cell_type": "code",
   "execution_count": 34,
   "id": "9393896d",
   "metadata": {},
   "outputs": [
    {
     "data": {
      "text/plain": [
       "London                                         3868\n",
       "Paris                                           479\n",
       "Edinburgh                                       208\n",
       "New York                                        177\n",
       "Leipzig                                         119\n",
       "                                               ... \n",
       "Harrow                                            1\n",
       "ff. 28. D. Nutt: London, 1893                     1\n",
       "London; Oxford [printed]                          1\n",
       "pp. 40. Hodder & Stoughton: London, [1900.]       1\n",
       "Tiverton                                          1\n",
       "Name: Place of Publication, Length: 1439, dtype: int64"
      ]
     },
     "execution_count": 34,
     "metadata": {},
     "output_type": "execute_result"
    }
   ],
   "source": [
    "place.value_counts()"
   ]
  },
  {
   "cell_type": "markdown",
   "id": "2ccd4a77",
   "metadata": {},
   "source": [
    "Smanjili smo broj različitih oblika zapisa za 2. Nije previše uspešno. Da vidimo dalje. Izgleda da znak \";\" u zapisu znači da posle toga ide nešto manje važno, npr. gde je knjiga štampana ili se još jednom pojavi ko je izdavač. "
   ]
  },
  {
   "cell_type": "code",
   "execution_count": 35,
   "id": "71feafe6",
   "metadata": {
    "scrolled": true
   },
   "outputs": [
    {
     "data": {
      "text/plain": [
       "London; Edinburgh [printed]                     6\n",
       "London; Guildford [printed]                     4\n",
       "London; New York [printed]                      3\n",
       "London; Perth [printed                          3\n",
       "London; Nuremberg [printed                      3\n",
       "                                               ..\n",
       "Boston [Mass.]; Cambridge [Mass., printed]      1\n",
       "New York; Kegan Paul & Co                       1\n",
       "London; Nuremberg [printed]                     1\n",
       "Paris; Moulins                                  1\n",
       "E. Nister: London; Nuremberg [printed, 1890]    1\n",
       "Name: Place of Publication, Length: 69, dtype: int64"
      ]
     },
     "execution_count": 35,
     "metadata": {},
     "output_type": "execute_result"
    }
   ],
   "source": [
    "place[place.str.contains(\";\")].value_counts()"
   ]
  },
  {
   "cell_type": "markdown",
   "id": "6f61f913",
   "metadata": {},
   "source": [
    "Možda bismo mogli da pomoću funkcije uklonimo sve što se pojavljuje posle \";\", odnosno da podelimo stringove na liste `split()` tako što će upravo tačka-zarez biti separator pa da onda uzmemo samo prvi element liste. Argument `expand=True` služi da rezultat pretvori u _DataFrame_ kako bismo mogli da uzmemo samo prvi deo, odnosno kolonu sa indeksom 0."
   ]
  },
  {
   "cell_type": "code",
   "execution_count": 36,
   "id": "8ffbeb81",
   "metadata": {},
   "outputs": [],
   "source": [
    "place=place.str.split(\";\",expand=True)[0]"
   ]
  },
  {
   "cell_type": "code",
   "execution_count": 37,
   "id": "169ccfe2",
   "metadata": {},
   "outputs": [
    {
     "data": {
      "text/plain": [
       "London                3923\n",
       "Paris                  480\n",
       "Edinburgh              211\n",
       "New York               178\n",
       "Leipzig                119\n",
       "Philadelphia            90\n",
       "Berlin                  70\n",
       "Boston [Mass.]          53\n",
       "Dublin                  48\n",
       "Glasgow                 45\n",
       "Oxford                  44\n",
       "Boston                  42\n",
       "Wien                    38\n",
       "Madrid                  34\n",
       "Stockholm               33\n",
       "Bruxelles               28\n",
       "Cambridge               26\n",
       "Amsterdam               25\n",
       "Chicago                 24\n",
       "Firenze                 24\n",
       "Stuttgart               24\n",
       "Birmingham              23\n",
       "Edinburgh & London      22\n",
       "Manchester              22\n",
       "Milano                  20\n",
       "enk                     19\n",
       "Bristol                 19\n",
       "Calcutta                19\n",
       "Tours                   19\n",
       "Kjøbenhavn              18\n",
       "С.-Петербургъ           16\n",
       "New-York                16\n",
       "Norwich                 16\n",
       "Buenos Aires            16\n",
       "Lisboa                  16\n",
       "London]                 14\n",
       "Cincinnati              14\n",
       "Napoli                  14\n",
       "Haarlem                 14\n",
       "México                 14\n",
       "Name: 0, dtype: int64"
      ]
     },
     "execution_count": 37,
     "metadata": {},
     "output_type": "execute_result"
    }
   ],
   "source": [
    "place.value_counts()[:40]"
   ]
  },
  {
   "cell_type": "markdown",
   "id": "ade1bc6c",
   "metadata": {},
   "source": [
    "Ovo je izgleda pomoglo više. Sada imamo 49 oblika zapisa manje. Broj zapisa gde je London mesto izdavanja se povećao sa 3868 na 3923. To znači da smo za kratko vreme napravili pomak. Da smo ručno čistili podatke, mnogo više vremena bi nam trebalo. Na sličan način bismo mogli da čistimo i uglaste zagrade, da brišemo nazive država iz zapisa (npr. U.S.A.), ali bi korišćenje regularnih izraza bilo vrlo poželjno. Probajte sami šta možete da očistite na ovaj način."
   ]
  },
  {
   "cell_type": "markdown",
   "id": "a1b3905a",
   "metadata": {},
   "source": [
    "Sada da zamenimo konkretne zapise koje smo pominjali ranije."
   ]
  },
  {
   "cell_type": "code",
   "execution_count": 38,
   "id": "9f78cad3",
   "metadata": {},
   "outputs": [],
   "source": [
    "place[place=='Boston [Mass.]']='Boston'\n",
    "place[place=='New-York']='New York'"
   ]
  },
  {
   "cell_type": "code",
   "execution_count": 39,
   "id": "c4e1e241",
   "metadata": {},
   "outputs": [
    {
     "data": {
      "text/plain": [
       "London                3923\n",
       "Paris                  480\n",
       "Edinburgh              211\n",
       "New York               194\n",
       "Leipzig                119\n",
       "Boston                  95\n",
       "Philadelphia            90\n",
       "Berlin                  70\n",
       "Dublin                  48\n",
       "Glasgow                 45\n",
       "Oxford                  44\n",
       "Wien                    38\n",
       "Madrid                  34\n",
       "Stockholm               33\n",
       "Bruxelles               28\n",
       "Cambridge               26\n",
       "Amsterdam               25\n",
       "Chicago                 24\n",
       "Stuttgart               24\n",
       "Firenze                 24\n",
       "Birmingham              23\n",
       "Manchester              22\n",
       "Edinburgh & London      22\n",
       "Milano                  20\n",
       "enk                     19\n",
       "Bristol                 19\n",
       "Tours                   19\n",
       "Calcutta                19\n",
       "Kjøbenhavn              18\n",
       "С.-Петербургъ           16\n",
       "Norwich                 16\n",
       "Lisboa                  16\n",
       "Buenos Aires            16\n",
       "Napoli                  14\n",
       "Cincinnati              14\n",
       "México                 14\n",
       "Haarlem                 14\n",
       "London]                 14\n",
       "Budapest                13\n",
       "Mexico                  13\n",
       "Name: 0, dtype: int64"
      ]
     },
     "execution_count": 39,
     "metadata": {},
     "output_type": "execute_result"
    }
   ],
   "source": [
    "place.value_counts()[:40]"
   ]
  },
  {
   "cell_type": "markdown",
   "id": "a2757dc4",
   "metadata": {},
   "source": [
    "Tabela sada izgleda čistije, ali posao čišćenja ni izbliza nije gotov. Mi ćemo se, međutim, ovde zaustaviti jer ne želimo da ceo kurs prođe u čišćenju podataka u ovoj jednoj koloni. Konačno, ubacićemo niz __place__ kao novu kolonu pored __Place of Publication__ kako bismo mogli da kontrolišemo je li čišćenje bilo uspešno."
   ]
  },
  {
   "cell_type": "code",
   "execution_count": 40,
   "id": "6a94a249",
   "metadata": {},
   "outputs": [],
   "source": [
    "bibreg.insert(1, \"Place\", place)"
   ]
  },
  {
   "cell_type": "code",
   "execution_count": 41,
   "id": "0e50f68a",
   "metadata": {},
   "outputs": [
    {
     "data": {
      "text/html": [
       "<div>\n",
       "<style scoped>\n",
       "    .dataframe tbody tr th:only-of-type {\n",
       "        vertical-align: middle;\n",
       "    }\n",
       "\n",
       "    .dataframe tbody tr th {\n",
       "        vertical-align: top;\n",
       "    }\n",
       "\n",
       "    .dataframe thead th {\n",
       "        text-align: right;\n",
       "    }\n",
       "</style>\n",
       "<table border=\"1\" class=\"dataframe\">\n",
       "  <thead>\n",
       "    <tr style=\"text-align: right;\">\n",
       "      <th></th>\n",
       "      <th>Place of Publication</th>\n",
       "      <th>Place</th>\n",
       "      <th>Date of Publication</th>\n",
       "      <th>Year</th>\n",
       "      <th>Publisher</th>\n",
       "      <th>Title</th>\n",
       "      <th>Author</th>\n",
       "      <th>Flickr URL</th>\n",
       "    </tr>\n",
       "    <tr>\n",
       "      <th>Identifier</th>\n",
       "      <th></th>\n",
       "      <th></th>\n",
       "      <th></th>\n",
       "      <th></th>\n",
       "      <th></th>\n",
       "      <th></th>\n",
       "      <th></th>\n",
       "      <th></th>\n",
       "    </tr>\n",
       "  </thead>\n",
       "  <tbody>\n",
       "    <tr>\n",
       "      <th>206</th>\n",
       "      <td>London</td>\n",
       "      <td>London</td>\n",
       "      <td>1879 [1878]</td>\n",
       "      <td>1879.0</td>\n",
       "      <td>S. Tinsley &amp; Co.</td>\n",
       "      <td>Walter Forbes. [A novel.] By A. A</td>\n",
       "      <td>A. A.</td>\n",
       "      <td>http://www.flickr.com/photos/britishlibrary/ta...</td>\n",
       "    </tr>\n",
       "    <tr>\n",
       "      <th>216</th>\n",
       "      <td>London; Virtue &amp; Yorston</td>\n",
       "      <td>London</td>\n",
       "      <td>1868</td>\n",
       "      <td>1868.0</td>\n",
       "      <td>Virtue &amp; Co.</td>\n",
       "      <td>All for Greed. [A novel. The dedication signed...</td>\n",
       "      <td>A., A. A.</td>\n",
       "      <td>http://www.flickr.com/photos/britishlibrary/ta...</td>\n",
       "    </tr>\n",
       "    <tr>\n",
       "      <th>218</th>\n",
       "      <td>London</td>\n",
       "      <td>London</td>\n",
       "      <td>1869</td>\n",
       "      <td>1869.0</td>\n",
       "      <td>Bradbury, Evans &amp; Co.</td>\n",
       "      <td>Love the Avenger. By the author of “All for Gr...</td>\n",
       "      <td>A., A. A.</td>\n",
       "      <td>http://www.flickr.com/photos/britishlibrary/ta...</td>\n",
       "    </tr>\n",
       "    <tr>\n",
       "      <th>472</th>\n",
       "      <td>London</td>\n",
       "      <td>London</td>\n",
       "      <td>1851</td>\n",
       "      <td>1851.0</td>\n",
       "      <td>James Darling</td>\n",
       "      <td>Welsh Sketches, chiefly ecclesiastical, to the...</td>\n",
       "      <td>A., E. S.</td>\n",
       "      <td>http://www.flickr.com/photos/britishlibrary/ta...</td>\n",
       "    </tr>\n",
       "    <tr>\n",
       "      <th>480</th>\n",
       "      <td>London</td>\n",
       "      <td>London</td>\n",
       "      <td>1857</td>\n",
       "      <td>1857.0</td>\n",
       "      <td>Wertheim &amp; Macintosh</td>\n",
       "      <td>[The World in which I live, and my place in it...</td>\n",
       "      <td>A., E. S.</td>\n",
       "      <td>http://www.flickr.com/photos/britishlibrary/ta...</td>\n",
       "    </tr>\n",
       "    <tr>\n",
       "      <th>...</th>\n",
       "      <td>...</td>\n",
       "      <td>...</td>\n",
       "      <td>...</td>\n",
       "      <td>...</td>\n",
       "      <td>...</td>\n",
       "      <td>...</td>\n",
       "      <td>...</td>\n",
       "      <td>...</td>\n",
       "    </tr>\n",
       "    <tr>\n",
       "      <th>4158088</th>\n",
       "      <td>London</td>\n",
       "      <td>London</td>\n",
       "      <td>1838</td>\n",
       "      <td>1838.0</td>\n",
       "      <td>NaN</td>\n",
       "      <td>The Parochial History of Cornwall, founded on,...</td>\n",
       "      <td>GIDDY, afterwards GILBERT, Davies.</td>\n",
       "      <td>http://www.flickr.com/photos/britishlibrary/ta...</td>\n",
       "    </tr>\n",
       "    <tr>\n",
       "      <th>4158128</th>\n",
       "      <td>Derby</td>\n",
       "      <td>Derby</td>\n",
       "      <td>1831, 32</td>\n",
       "      <td>1831.0</td>\n",
       "      <td>M. Mozley &amp; Son</td>\n",
       "      <td>The History and Gazetteer of the County of Der...</td>\n",
       "      <td>GLOVER, Stephen - of Derby</td>\n",
       "      <td>http://www.flickr.com/photos/britishlibrary/ta...</td>\n",
       "    </tr>\n",
       "    <tr>\n",
       "      <th>4159563</th>\n",
       "      <td>London</td>\n",
       "      <td>London</td>\n",
       "      <td>[1806]-22</td>\n",
       "      <td>NaN</td>\n",
       "      <td>T. Cadell and W. Davies</td>\n",
       "      <td>Magna Britannia; being a concise topographical...</td>\n",
       "      <td>LYSONS, Daniel - M.A., F.R.S., and LYSONS (Sam...</td>\n",
       "      <td>http://www.flickr.com/photos/britishlibrary/ta...</td>\n",
       "    </tr>\n",
       "    <tr>\n",
       "      <th>4159587</th>\n",
       "      <td>Newcastle upon Tyne</td>\n",
       "      <td>Newcastle upon Tyne</td>\n",
       "      <td>1834</td>\n",
       "      <td>1834.0</td>\n",
       "      <td>Mackenzie &amp; Dent</td>\n",
       "      <td>An historical, topographical and descriptive v...</td>\n",
       "      <td>Mackenzie, E. (Eneas)</td>\n",
       "      <td>http://www.flickr.com/photos/britishlibrary/ta...</td>\n",
       "    </tr>\n",
       "    <tr>\n",
       "      <th>4160339</th>\n",
       "      <td>London</td>\n",
       "      <td>London</td>\n",
       "      <td>1834-43</td>\n",
       "      <td>1834.0</td>\n",
       "      <td>NaN</td>\n",
       "      <td>Collectanea Topographica et Genealogica. [Firs...</td>\n",
       "      <td>NaN</td>\n",
       "      <td>http://www.flickr.com/photos/britishlibrary/ta...</td>\n",
       "    </tr>\n",
       "  </tbody>\n",
       "</table>\n",
       "<p>8287 rows × 8 columns</p>\n",
       "</div>"
      ],
      "text/plain": [
       "                Place of Publication                Place Date of Publication  \\\n",
       "Identifier                                                                      \n",
       "206                           London               London         1879 [1878]   \n",
       "216         London; Virtue & Yorston               London                1868   \n",
       "218                           London               London                1869   \n",
       "472                           London               London                1851   \n",
       "480                           London               London                1857   \n",
       "...                              ...                  ...                 ...   \n",
       "4158088                       London               London                1838   \n",
       "4158128                        Derby                Derby            1831, 32   \n",
       "4159563                       London               London           [1806]-22   \n",
       "4159587          Newcastle upon Tyne  Newcastle upon Tyne                1834   \n",
       "4160339                       London               London             1834-43   \n",
       "\n",
       "              Year                Publisher  \\\n",
       "Identifier                                    \n",
       "206         1879.0         S. Tinsley & Co.   \n",
       "216         1868.0             Virtue & Co.   \n",
       "218         1869.0    Bradbury, Evans & Co.   \n",
       "472         1851.0            James Darling   \n",
       "480         1857.0     Wertheim & Macintosh   \n",
       "...            ...                      ...   \n",
       "4158088     1838.0                      NaN   \n",
       "4158128     1831.0          M. Mozley & Son   \n",
       "4159563        NaN  T. Cadell and W. Davies   \n",
       "4159587     1834.0         Mackenzie & Dent   \n",
       "4160339     1834.0                      NaN   \n",
       "\n",
       "                                                        Title  \\\n",
       "Identifier                                                      \n",
       "206                         Walter Forbes. [A novel.] By A. A   \n",
       "216         All for Greed. [A novel. The dedication signed...   \n",
       "218         Love the Avenger. By the author of “All for Gr...   \n",
       "472         Welsh Sketches, chiefly ecclesiastical, to the...   \n",
       "480         [The World in which I live, and my place in it...   \n",
       "...                                                       ...   \n",
       "4158088     The Parochial History of Cornwall, founded on,...   \n",
       "4158128     The History and Gazetteer of the County of Der...   \n",
       "4159563     Magna Britannia; being a concise topographical...   \n",
       "4159587     An historical, topographical and descriptive v...   \n",
       "4160339     Collectanea Topographica et Genealogica. [Firs...   \n",
       "\n",
       "                                                       Author  \\\n",
       "Identifier                                                      \n",
       "206                                                     A. A.   \n",
       "216                                                 A., A. A.   \n",
       "218                                                 A., A. A.   \n",
       "472                                                 A., E. S.   \n",
       "480                                                 A., E. S.   \n",
       "...                                                       ...   \n",
       "4158088                    GIDDY, afterwards GILBERT, Davies.   \n",
       "4158128                            GLOVER, Stephen - of Derby   \n",
       "4159563     LYSONS, Daniel - M.A., F.R.S., and LYSONS (Sam...   \n",
       "4159587                                 Mackenzie, E. (Eneas)   \n",
       "4160339                                                   NaN   \n",
       "\n",
       "                                                   Flickr URL  \n",
       "Identifier                                                     \n",
       "206         http://www.flickr.com/photos/britishlibrary/ta...  \n",
       "216         http://www.flickr.com/photos/britishlibrary/ta...  \n",
       "218         http://www.flickr.com/photos/britishlibrary/ta...  \n",
       "472         http://www.flickr.com/photos/britishlibrary/ta...  \n",
       "480         http://www.flickr.com/photos/britishlibrary/ta...  \n",
       "...                                                       ...  \n",
       "4158088     http://www.flickr.com/photos/britishlibrary/ta...  \n",
       "4158128     http://www.flickr.com/photos/britishlibrary/ta...  \n",
       "4159563     http://www.flickr.com/photos/britishlibrary/ta...  \n",
       "4159587     http://www.flickr.com/photos/britishlibrary/ta...  \n",
       "4160339     http://www.flickr.com/photos/britishlibrary/ta...  \n",
       "\n",
       "[8287 rows x 8 columns]"
      ]
     },
     "execution_count": 41,
     "metadata": {},
     "output_type": "execute_result"
    }
   ],
   "source": [
    "bibreg"
   ]
  },
  {
   "cell_type": "markdown",
   "id": "b45e2957",
   "metadata": {},
   "source": [
    "### Datum i vreme"
   ]
  },
  {
   "cell_type": "markdown",
   "id": "39cd2d90",
   "metadata": {},
   "source": [
    "Slično kao što Pajton ne prepoznaje brojeve u \"prljavoj\" koloni, ne prepoznaje ni datume i vreme. Da bismo mogli da analiziramo vremenske podatke, neophodno je da ih zabeležimo u istom formatu i da ih konvertujemo u odgovarajući, _DateTime_ format pomoću funkcije `to_datetime()`.\n",
    "\n",
    "String koji sadrži datum, prema ISO standardu, treba da ima format 'YYYY-MM-DD' ili 'YYYY-MM-DD HH:MM:SS' ako sadrži i vreme. Ukoliko Pajton pročita ovakav string, umeće lako da ga pretvori u promenljivu tipa datum odakle možemo da pročitamo godinu, dan, mesec itd. Ako je datum zapisan string u ovom formatu, onda nema potrebe da naglašavamo koji je format. Međutim, ako umesto 2021-07-13 stoji 12. 7. 2021. ili July 13, 2021 onda moramo Pajtonu tačno da kažemo kako da pričita taj podatak.  "
   ]
  },
  {
   "cell_type": "code",
   "execution_count": 42,
   "id": "bbbc3ad6",
   "metadata": {},
   "outputs": [],
   "source": [
    "datum_string='2021-07-13'\n",
    "# datum_string='2021-07-13 10:15:00'\n",
    "\n",
    "datum = pd.to_datetime(datum_string)\n",
    "# datum = pd.to_datetime(datum_string, format='%Y-%m-%d')\n",
    "godina= datum.year\n",
    "mesec = datum.month\n",
    "dan = datum.day\n",
    "sat=datum.hour\n",
    "minut=datum.minute\n",
    "sekund=datum.second"
   ]
  },
  {
   "cell_type": "code",
   "execution_count": 43,
   "id": "1a2928d5",
   "metadata": {},
   "outputs": [
    {
     "data": {
      "text/plain": [
       "13"
      ]
     },
     "execution_count": 43,
     "metadata": {},
     "output_type": "execute_result"
    }
   ],
   "source": [
    "dan"
   ]
  },
  {
   "cell_type": "code",
   "execution_count": 44,
   "id": "765e6cbf",
   "metadata": {},
   "outputs": [
    {
     "data": {
      "text/plain": [
       "Timestamp('1970-05-23 00:00:00')"
      ]
     },
     "execution_count": 44,
     "metadata": {},
     "output_type": "execute_result"
    }
   ],
   "source": [
    "pd.to_datetime(\"23. 5. 1970.\",format=\"%d. %m. %Y.\")"
   ]
  },
  {
   "cell_type": "markdown",
   "id": "0f18fa8e",
   "metadata": {},
   "source": [
    "Ukoliko je potrebno, sve vrednosti u koloni možemo da konvertujemo u datumski format pomoću `to_datetime()` funkcije. U primeru sa bibliotečkim registrom to nema mnogo smisla jer su date samo godine bez datuma pa je i samo jedan broj dovoljan da prikaže godinu izdanja. "
   ]
  },
  {
   "cell_type": "code",
   "execution_count": 45,
   "id": "39b71d42",
   "metadata": {},
   "outputs": [],
   "source": [
    "y=pd.to_datetime(bibreg['Year'],format='%Y-%m-%d')"
   ]
  },
  {
   "cell_type": "code",
   "execution_count": 46,
   "id": "ca8167f9",
   "metadata": {},
   "outputs": [
    {
     "data": {
      "text/plain": [
       "Identifier\n",
       "206   1970-01-01 00:00:00.000001879\n",
       "216   1970-01-01 00:00:00.000001868\n",
       "218   1970-01-01 00:00:00.000001869\n",
       "472   1970-01-01 00:00:00.000001851\n",
       "480   1970-01-01 00:00:00.000001857\n",
       "Name: Year, dtype: datetime64[ns]"
      ]
     },
     "execution_count": 46,
     "metadata": {},
     "output_type": "execute_result"
    }
   ],
   "source": [
    "y.head()"
   ]
  },
  {
   "cell_type": "markdown",
   "id": "f04e24b3",
   "metadata": {},
   "source": [
    "## Bonus problemi"
   ]
  },
  {
   "cell_type": "markdown",
   "id": "c655fb05",
   "metadata": {},
   "source": [
    "Čišćenje podataka u Srbiji je malo izazovnije nego u većini drugih (evropskih) zemalja. Prvi razlog za to je što koristimo dva pisma pa se često suočavamo sa nekonzistentno unetim podacima. Drugi razlog je nedosledna upotreba decimalnog zareza. Na računaru i kalkulatoru obično koristimo tačku, a zvanični dokumenti traže zarez. Još gore, separator za hiljade je u srpskom jeziku tačka, a u engleskom zarez. Konačno, treći razlog za izazovnije čišćenje podataka je nedosledno zapisivanje datuma."
   ]
  },
  {
   "cell_type": "markdown",
   "id": "dcaf3880",
   "metadata": {},
   "source": [
    "### Ćirilica i latinica"
   ]
  },
  {
   "cell_type": "markdown",
   "id": "fc73e576",
   "metadata": {},
   "source": [
    "U sledećoj ćeliji izgleda kao da smo isti kôd napisali dva puta. Logično, očekujemo da će izlaz u oba slučaja biti isti. Međutim, slovo A je jednom ukucano korišćenjem latinične, a drugi put korišćenjem ćirilične tastature. Pajton je primetio tu razliku i zapamtio dve različite vrednosti ASCII kôdova. To što A i A izgledaju isto, ne znači da ih računar isto registruje. "
   ]
  },
  {
   "cell_type": "code",
   "execution_count": 47,
   "id": "8a82be68",
   "metadata": {},
   "outputs": [
    {
     "name": "stdout",
     "output_type": "stream",
     "text": [
      "ASCII vrednost znaka 'A' je 65\n",
      "ASCII vrednost znaka 'А' je 1040\n"
     ]
    }
   ],
   "source": [
    "slovo = 'A' # А latinicom\n",
    "print(\"ASCII vrednost znaka '\" + slovo + \"' je\", ord(slovo))\n",
    "\n",
    "slovo = 'А' # А ćirilicom\n",
    "print(\"ASCII vrednost znaka '\" + slovo + \"' je\", ord(slovo))"
   ]
  },
  {
   "cell_type": "markdown",
   "id": "f170c155",
   "metadata": {},
   "source": [
    "Zaista, kad pitamo Pajton da li su ova dva znaka ista, on kaže da nisu."
   ]
  },
  {
   "cell_type": "code",
   "execution_count": 48,
   "id": "9a33b78b",
   "metadata": {},
   "outputs": [
    {
     "data": {
      "text/plain": [
       "False"
      ]
     },
     "execution_count": 48,
     "metadata": {},
     "output_type": "execute_result"
    }
   ],
   "source": [
    "\"A\"==\"А\""
   ]
  },
  {
   "cell_type": "markdown",
   "id": "eabfbfae",
   "metadata": {},
   "source": [
    "Ova osobina tekstova pisanih ćirilicom u odnosu na one pisane latinicom često pravi neočekivane probleme u obradi tekstualnih podataka. Zato je veoma važno da to stalno imamo na umu i da, kad god je to moguće, podatke unosimo korišćenjem istog pisma i iste tastature."
   ]
  },
  {
   "cell_type": "markdown",
   "id": "6fb48bef",
   "metadata": {},
   "source": [
    "Pajton ima biblioteke koje mogu da pomognu u ujednačavanju teksta. Biblioteka `cyrtranslit` ima funkcije koje mogu da urade transliteraciju i ćirilični tekst prepišu u latinični i obrnuto."
   ]
  },
  {
   "cell_type": "code",
   "execution_count": 49,
   "id": "2855dca8",
   "metadata": {},
   "outputs": [
    {
     "name": "stdout",
     "output_type": "stream",
     "text": [
      "даждевњак\n",
      "mravinjak\n"
     ]
    }
   ],
   "source": [
    "# Ako biblioteka cyrtranslit nije već instalirana, instalirajte je sa\n",
    "# pip install cyrtranslit\n",
    "\n",
    "import cyrtranslit\n",
    "\n",
    "# iz latinice u ćirilicu\n",
    "print(cyrtranslit.to_cyrillic(\"daždevnjak\"))\n",
    "\n",
    "# i iz ćirilice u latinicu\n",
    "print(cyrtranslit.to_latin(\"мравињак\"))"
   ]
  },
  {
   "cell_type": "markdown",
   "id": "80f1c538",
   "metadata": {},
   "source": [
    "### Decimalni zarez i decimalna tačka"
   ]
  },
  {
   "cell_type": "markdown",
   "id": "d6713cf7",
   "metadata": {},
   "source": [
    "Kada učitavate ili snimate fajl sa podacima koji su decimalni brojevi, vodite računa da li se koristi decimalna tačka ili zarez. Zvanični podaci u Srbiji bi trebalo da uvek imaju decimalni zarez. Ako koristimo CSV format, to će sigurno biti problem. Ne može isti znak da odvaja celobrojni i decimаlni deo broja, kao i da odvaja brojčane podatke u fajlu.  "
   ]
  },
  {
   "cell_type": "markdown",
   "id": "bb1ac91a",
   "metadata": {},
   "source": [
    "Da bismo videli kako se taj problem rešava, učitaćemo jednu tabelu sa nacionalnog [Portala za otvorene podatke](https://data.gov.rs/sr/). "
   ]
  },
  {
   "cell_type": "code",
   "execution_count": 50,
   "id": "0effcbda",
   "metadata": {
    "jupyter": {
     "outputs_hidden": true
    }
   },
   "outputs": [],
   "source": [
    "# pokazatelji=pd.read_csv(\"https://data.gov.rs/sr/datasets/r/b1f1f94a-fe21-3a2a-b801-6f0f05b24257\",sep=\";\")"
   ]
  },
  {
   "cell_type": "markdown",
   "id": "38e5ab42",
   "metadata": {},
   "source": [
    "Ukoliko ovo učitavanje zbog internet veze ili servera ne radi, učitajte isti fajl koji smo prethodno preuzeli i snimili. "
   ]
  },
  {
   "cell_type": "code",
   "execution_count": 51,
   "id": "9ffee84e",
   "metadata": {},
   "outputs": [],
   "source": [
    "pokazatelji=pd.read_csv(\"data/03IND01.csv\",sep=\";\")"
   ]
  },
  {
   "cell_type": "markdown",
   "id": "d6c764ae",
   "metadata": {},
   "source": [
    "Primetite kako je drugi argument funkcije `sep=\";\"`. To znači da koristim CSV format u kom separator (znak koji odvaja podatke) nije zarez \",\" nego tačka-zarez \";\". U Evropi gde većina zemalja koristi decimalni zarez ništa ne bi bilo pogrešnije od izbora zareza za separator. To bi odmah obesmislilo sve decimalne brojeve. Zbog toga kao separator koristimo ili \"tab\" ili \";\".\n",
    "\n",
    "Ipak, postoji mogućnost da se koristi i zarez kao separator ukoliko sve vrednosti stave pod znake navoda pomoću `quotechar='\"'`. Tada je potrebno i da se tabele snimaju i da se učitavaju sa podacima stavljenim pod navodnike."
   ]
  },
  {
   "cell_type": "markdown",
   "id": "7e9cac35",
   "metadata": {},
   "source": [
    "### JSON format"
   ]
  },
  {
   "cell_type": "markdown",
   "id": "c86b0520",
   "metadata": {},
   "source": [
    "Često se koristi robusniji format podataka koji nije osetljiv na pismo koje koristimo ili izbor separatora. JSON (_JavaScript Object Notation_) format služi za prenošenje složenijih struktura podatka između različitih platformi. Taj format za prenos podataka, isti za volju, nije baš pregledan ali je razumljiv i ljudima i mašinama. Otvoreni podaci su najčešće dostupni upravo u ova dva formata: CSV i JSON. "
   ]
  },
  {
   "cell_type": "markdown",
   "id": "b40ebe2c",
   "metadata": {},
   "source": [
    "Kada bismo pogledali kakav se tekst nalazi u jednom JSON fajlu, videli bismo strukturu koja nalikuje listi u Pajtonu gde pored svakog podatka upisanog pod znacima navoda stoji naziv kolone, takođe pod znacima navoda. Ovakav fajl deluje nepotrebno redundantno, ali se to pokazuje kao velika prednost kod složenih struktura podataka."
   ]
  },
  {
   "cell_type": "markdown",
   "id": "b3370152",
   "metadata": {},
   "source": [
    "> [{\"IDIndikator\":\"IND00M01\",\"Indikator\":\"Градоначелник/председник општине\",\"mes\":\"06\",\"god\":\"2021\",\"idter\":\"70017\",\"nter\":\"Александровац\",\"vrednost\":\"МИРКО МИХАЈЛОВИЋ\",\"CreateDate\":\"6/1/2021 9:41:50 AM\",\"LastUpdate\":\"6/1/2021 9:41:50 AM\",\"IDLegenda\":\"A\",\"nIzvorI\":\"Републички завод за статистику (РЗС)\"},{\"IDIndikator\":\"IND01G01\",\"Indikator\":\"Површина (у км²)\",\"mes\":\"00\",\"god\":\"2020\",\"idter\":\"70017\",\"nter\":\"Александровац\",\"vrednost\":\"387\",\"CreateDate\":\"1/27/2021 10:15:39 AM\",\"LastUpdate\":\"1/27/2021 10:22:18 AM\",\"IDLegenda\":\"A\",\"nIzvorI\":\"Републички геодетски завод (РГЗ)\"},{\"IDIndikator\":\"IND01G02\",\"Indikator\":\"Број становника - процена (последњи расположив податак за "
   ]
  },
  {
   "cell_type": "markdown",
   "id": "f948e1d0",
   "metadata": {},
   "source": [
    "Mi bismo mogli da čitamo ovakve podatke iako nisu pregledni mada bi bilo bolje da ih pročita mašina pa da nam ih prikaže u nekoj tabeli. Učitavanje podataka u JSON formatu je analogno onom za CSV s tim da ovde nije potrebno navesti šta je separator."
   ]
  },
  {
   "cell_type": "code",
   "execution_count": 52,
   "id": "11601b32",
   "metadata": {},
   "outputs": [],
   "source": [
    "pokazatelji = pd.read_json(\"data/03IND01.json\")"
   ]
  },
  {
   "cell_type": "markdown",
   "id": "2c9f587f",
   "metadata": {},
   "source": [
    "Snimanje tabele tipa _DataFrame_ u fajl je isto tako jednostavno. Za to služe funkcije `to_csv()` i `to_json()`. "
   ]
  },
  {
   "cell_type": "code",
   "execution_count": 53,
   "id": "491595df",
   "metadata": {},
   "outputs": [],
   "source": [
    "pokazatelji.to_csv(\"data/temp.csv\",sep=\";\")"
   ]
  }
 ],
 "metadata": {
  "kernelspec": {
   "display_name": "Python 3",
   "language": "python",
   "name": "python3"
  },
  "language_info": {
   "codemirror_mode": {
    "name": "ipython",
    "version": 3
   },
   "file_extension": ".py",
   "mimetype": "text/x-python",
   "name": "python",
   "nbconvert_exporter": "python",
   "pygments_lexer": "ipython3",
   "version": "3.8.8"
  }
 },
 "nbformat": 4,
 "nbformat_minor": 5
}

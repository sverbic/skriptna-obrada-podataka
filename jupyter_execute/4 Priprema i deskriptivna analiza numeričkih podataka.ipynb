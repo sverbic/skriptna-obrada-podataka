{
 "cells": [
  {
   "cell_type": "markdown",
   "id": "64129fcc",
   "metadata": {},
   "source": [
    "# Priprema i deskriptivna analiza numeričkih podataka"
   ]
  },
  {
   "cell_type": "markdown",
   "id": "66b33cf8",
   "metadata": {},
   "source": [
    ">U ovoj svesci je prikazano kako se obrađuju brojčani podaci u tabelama. Za razliku od tekstualnih podataka, sa brojevima možemo da računamo i zato je veliki broj Pajton funkcija rezervisan za numeričke podatke. Treba obratiti pažnju da nisu svi brojčani podaci istog tipa i da funkcije mogu da budu osetljive na tu razliku. To što je nama \"očigledno\" koji je tip podataka u pitanju, ne mora da znači da su podaci do kraja čisti i da Pajton to prepoznaje."
   ]
  },
  {
   "cell_type": "markdown",
   "id": "c6da4c03",
   "metadata": {},
   "source": [
    "Pajton, u svojim bibliotekama, ima mnoštvo funkcija za obradu i eksplorativnu analizu numeričkih podataka. Ukoliko je kolona u tabeli čista i ne sadrži ništa sem brojeva, najveći deo uvodnih analiza možemo da uradimo sa vrlo malo truda."
   ]
  },
  {
   "cell_type": "markdown",
   "id": "ddb42686",
   "metadata": {},
   "source": [
    "Da bismo na raspolaganju imali potrebne funkcije, učitaćemo na početku tri biblioteke: __pandas__ (za rad sa tabelama), __numpy__ (za rad sa numeričkim podacima) i __matplotlib.pyplot__ i __seaborn__ (za crtanje grafikona)."
   ]
  },
  {
   "cell_type": "code",
   "execution_count": 1,
   "id": "85a2923e",
   "metadata": {},
   "outputs": [],
   "source": [
    "import pandas as pd\n",
    "import numpy as np\n",
    "import matplotlib.pyplot as plt\n",
    "import seaborn as sns"
   ]
  },
  {
   "cell_type": "markdown",
   "id": "ab9b3fa0",
   "metadata": {},
   "source": [
    "Ukoliko nisu sve biblioteke instalirane, potrebno je da ih instalirate, npr. kao `pip install seaborn`."
   ]
  },
  {
   "cell_type": "markdown",
   "id": "7dc9c6ca",
   "metadata": {},
   "source": [
    "Za potrebe vežbanja, učitaćemo jednu tabelu sa nacionalnog portala otvorenih podataka (Opštinski pokazatelji poslednje stanje) koja sadrži i tekstualne i brojčane podatke. Za slučaj da učitavanje preko interneta ne radi, učitaćemo je iz direktorijuma __/data__."
   ]
  },
  {
   "cell_type": "code",
   "execution_count": 2,
   "id": "d10d26b2",
   "metadata": {},
   "outputs": [],
   "source": [
    "# df=pd.read_csv(\"https://data.gov.rs/sr/datasets/r/b1f1f94a-fe21-3a2a-b801-6f0f05b24257\",sep=\";\")"
   ]
  },
  {
   "cell_type": "code",
   "execution_count": 3,
   "id": "ff807c0f",
   "metadata": {},
   "outputs": [],
   "source": [
    "opps=pd.read_csv(\"data/03IND01.csv\",sep=\";\")"
   ]
  },
  {
   "cell_type": "code",
   "execution_count": 4,
   "id": "bddd32b1",
   "metadata": {},
   "outputs": [
    {
     "data": {
      "text/html": [
       "<div>\n",
       "<style scoped>\n",
       "    .dataframe tbody tr th:only-of-type {\n",
       "        vertical-align: middle;\n",
       "    }\n",
       "\n",
       "    .dataframe tbody tr th {\n",
       "        vertical-align: top;\n",
       "    }\n",
       "\n",
       "    .dataframe thead th {\n",
       "        text-align: right;\n",
       "    }\n",
       "</style>\n",
       "<table border=\"1\" class=\"dataframe\">\n",
       "  <thead>\n",
       "    <tr style=\"text-align: right;\">\n",
       "      <th></th>\n",
       "      <th>IDIndikator</th>\n",
       "      <th>Indikator</th>\n",
       "      <th>mes</th>\n",
       "      <th>god</th>\n",
       "      <th>idter</th>\n",
       "      <th>nter</th>\n",
       "      <th>vrednost</th>\n",
       "      <th>CreateDate</th>\n",
       "      <th>LastUpdate</th>\n",
       "      <th>IDLegenda</th>\n",
       "      <th>nIzvorI</th>\n",
       "    </tr>\n",
       "  </thead>\n",
       "  <tbody>\n",
       "    <tr>\n",
       "      <th>0</th>\n",
       "      <td>IND00M01</td>\n",
       "      <td>Градоначелник/председник општине</td>\n",
       "      <td>1</td>\n",
       "      <td>2021</td>\n",
       "      <td>70017</td>\n",
       "      <td>Александровац</td>\n",
       "      <td>МИРКО МИХАЈЛОВИЋ</td>\n",
       "      <td>1/4/2021 7:39:27 AM</td>\n",
       "      <td>1/4/2021 7:39:27 AM</td>\n",
       "      <td>A</td>\n",
       "      <td>Републички завод за статистику (РЗС)</td>\n",
       "    </tr>\n",
       "    <tr>\n",
       "      <th>1</th>\n",
       "      <td>IND01G01</td>\n",
       "      <td>Површина (у км²)</td>\n",
       "      <td>0</td>\n",
       "      <td>2020</td>\n",
       "      <td>70017</td>\n",
       "      <td>Александровац</td>\n",
       "      <td>387</td>\n",
       "      <td>1/27/2021 10:15:39 AM</td>\n",
       "      <td>1/27/2021 10:22:18 AM</td>\n",
       "      <td>A</td>\n",
       "      <td>Републички геодетски завод (РГЗ)</td>\n",
       "    </tr>\n",
       "    <tr>\n",
       "      <th>2</th>\n",
       "      <td>IND01G02</td>\n",
       "      <td>Број становника - процена (последњи расположив...</td>\n",
       "      <td>0</td>\n",
       "      <td>2019</td>\n",
       "      <td>70017</td>\n",
       "      <td>Александровац</td>\n",
       "      <td>23898</td>\n",
       "      <td>7/1/2020 1:01:17 PM</td>\n",
       "      <td>7/1/2020 1:01:17 PM</td>\n",
       "      <td>A</td>\n",
       "      <td>Републички завод за статистику (РЗС)</td>\n",
       "    </tr>\n",
       "    <tr>\n",
       "      <th>3</th>\n",
       "      <td>IND01G03</td>\n",
       "      <td>Густина насељености (број становника / км2)</td>\n",
       "      <td>0</td>\n",
       "      <td>2019</td>\n",
       "      <td>70017</td>\n",
       "      <td>Александровац</td>\n",
       "      <td>62</td>\n",
       "      <td>7/1/2020 1:01:17 PM</td>\n",
       "      <td>7/1/2020 1:01:17 PM</td>\n",
       "      <td>A</td>\n",
       "      <td>Републички завод за статистику (РЗС)</td>\n",
       "    </tr>\n",
       "    <tr>\n",
       "      <th>4</th>\n",
       "      <td>IND01G04</td>\n",
       "      <td>Број насеља</td>\n",
       "      <td>0</td>\n",
       "      <td>2020</td>\n",
       "      <td>70017</td>\n",
       "      <td>Александровац</td>\n",
       "      <td>55</td>\n",
       "      <td>1/27/2021 10:15:39 AM</td>\n",
       "      <td>1/27/2021 10:22:18 AM</td>\n",
       "      <td>A</td>\n",
       "      <td>Републички завод за статистику (РЗС)</td>\n",
       "    </tr>\n",
       "    <tr>\n",
       "      <th>...</th>\n",
       "      <td>...</td>\n",
       "      <td>...</td>\n",
       "      <td>...</td>\n",
       "      <td>...</td>\n",
       "      <td>...</td>\n",
       "      <td>...</td>\n",
       "      <td>...</td>\n",
       "      <td>...</td>\n",
       "      <td>...</td>\n",
       "      <td>...</td>\n",
       "      <td>...</td>\n",
       "    </tr>\n",
       "    <tr>\n",
       "      <th>13241</th>\n",
       "      <td>IND02M55</td>\n",
       "      <td>Вредност извоза у УСД</td>\n",
       "      <td>11</td>\n",
       "      <td>2020</td>\n",
       "      <td>89010</td>\n",
       "      <td>Град Нови Сад</td>\n",
       "      <td>163079592.279077</td>\n",
       "      <td>12/30/2020 1:45:56 PM</td>\n",
       "      <td>12/30/2020 1:45:56 PM</td>\n",
       "      <td>P</td>\n",
       "      <td>Управа царине и Електро мрежа Србије (УЦ и ЕМС)</td>\n",
       "    </tr>\n",
       "    <tr>\n",
       "      <th>13242</th>\n",
       "      <td>IND02M56</td>\n",
       "      <td>Вредност извоза у ЕУР</td>\n",
       "      <td>11</td>\n",
       "      <td>2020</td>\n",
       "      <td>89010</td>\n",
       "      <td>Град Нови Сад</td>\n",
       "      <td>192545516.285837</td>\n",
       "      <td>12/30/2020 1:45:56 PM</td>\n",
       "      <td>12/30/2020 1:45:56 PM</td>\n",
       "      <td>P</td>\n",
       "      <td>Управа царине и Електро мрежа Србије (УЦ и ЕМС)</td>\n",
       "    </tr>\n",
       "    <tr>\n",
       "      <th>13243</th>\n",
       "      <td>IND03M03</td>\n",
       "      <td>Број регистрованих незапослених</td>\n",
       "      <td>12</td>\n",
       "      <td>2020</td>\n",
       "      <td>89010</td>\n",
       "      <td>Град Нови Сад</td>\n",
       "      <td>13015</td>\n",
       "      <td>1/14/2021 3:42:52 PM</td>\n",
       "      <td>1/14/2021 3:42:52 PM</td>\n",
       "      <td>A</td>\n",
       "      <td>Национална служба за запошљавање (НСЗ)</td>\n",
       "    </tr>\n",
       "    <tr>\n",
       "      <th>13244</th>\n",
       "      <td>IND03M08</td>\n",
       "      <td>Просечна нето зарада за месец, према општини п...</td>\n",
       "      <td>11</td>\n",
       "      <td>2020</td>\n",
       "      <td>89010</td>\n",
       "      <td>Град Нови Сад</td>\n",
       "      <td>69238</td>\n",
       "      <td>1/19/2021 12:27:15 PM</td>\n",
       "      <td>1/25/2021 12:00:17 PM</td>\n",
       "      <td>A</td>\n",
       "      <td>Републички завод за статистику (РЗС)</td>\n",
       "    </tr>\n",
       "    <tr>\n",
       "      <th>13245</th>\n",
       "      <td>IND03M09</td>\n",
       "      <td>Просечна нето зарада за период јануар-текући м...</td>\n",
       "      <td>11</td>\n",
       "      <td>2020</td>\n",
       "      <td>89010</td>\n",
       "      <td>Град Нови Сад</td>\n",
       "      <td>67104</td>\n",
       "      <td>1/19/2021 12:27:14 PM</td>\n",
       "      <td>1/25/2021 12:00:18 PM</td>\n",
       "      <td>A</td>\n",
       "      <td>Републички завод за статистику (РЗС)</td>\n",
       "    </tr>\n",
       "  </tbody>\n",
       "</table>\n",
       "<p>13246 rows × 11 columns</p>\n",
       "</div>"
      ],
      "text/plain": [
       "      IDIndikator                                          Indikator  mes  \\\n",
       "0        IND00M01                   Градоначелник/председник општине    1   \n",
       "1        IND01G01                                   Површина (у км²)    0   \n",
       "2        IND01G02  Број становника - процена (последњи расположив...    0   \n",
       "3        IND01G03        Густина насељености (број становника / км2)    0   \n",
       "4        IND01G04                                        Број насеља    0   \n",
       "...           ...                                                ...  ...   \n",
       "13241    IND02M55                              Вредност извоза у УСД   11   \n",
       "13242    IND02M56                              Вредност извоза у ЕУР   11   \n",
       "13243    IND03M03                   Број регистрованих незапослених    12   \n",
       "13244    IND03M08  Просечна нето зарада за месец, према општини п...   11   \n",
       "13245    IND03M09  Просечна нето зарада за период јануар-текући м...   11   \n",
       "\n",
       "        god  idter           nter          vrednost             CreateDate  \\\n",
       "0      2021  70017  Александровац  МИРКО МИХАЈЛОВИЋ    1/4/2021 7:39:27 AM   \n",
       "1      2020  70017  Александровац               387  1/27/2021 10:15:39 AM   \n",
       "2      2019  70017  Александровац             23898    7/1/2020 1:01:17 PM   \n",
       "3      2019  70017  Александровац                62    7/1/2020 1:01:17 PM   \n",
       "4      2020  70017  Александровац                55  1/27/2021 10:15:39 AM   \n",
       "...     ...    ...            ...               ...                    ...   \n",
       "13241  2020  89010  Град Нови Сад  163079592.279077  12/30/2020 1:45:56 PM   \n",
       "13242  2020  89010  Град Нови Сад  192545516.285837  12/30/2020 1:45:56 PM   \n",
       "13243  2020  89010  Град Нови Сад             13015   1/14/2021 3:42:52 PM   \n",
       "13244  2020  89010  Град Нови Сад             69238  1/19/2021 12:27:15 PM   \n",
       "13245  2020  89010  Град Нови Сад             67104  1/19/2021 12:27:14 PM   \n",
       "\n",
       "                  LastUpdate IDLegenda  \\\n",
       "0        1/4/2021 7:39:27 AM         A   \n",
       "1      1/27/2021 10:22:18 AM         A   \n",
       "2        7/1/2020 1:01:17 PM         A   \n",
       "3        7/1/2020 1:01:17 PM         A   \n",
       "4      1/27/2021 10:22:18 AM         A   \n",
       "...                      ...       ...   \n",
       "13241  12/30/2020 1:45:56 PM         P   \n",
       "13242  12/30/2020 1:45:56 PM         P   \n",
       "13243   1/14/2021 3:42:52 PM         A   \n",
       "13244  1/25/2021 12:00:17 PM         A   \n",
       "13245  1/25/2021 12:00:18 PM         A   \n",
       "\n",
       "                                               nIzvorI  \n",
       "0                 Републички завод за статистику (РЗС)  \n",
       "1                     Републички геодетски завод (РГЗ)  \n",
       "2                 Републички завод за статистику (РЗС)  \n",
       "3                 Републички завод за статистику (РЗС)  \n",
       "4                 Републички завод за статистику (РЗС)  \n",
       "...                                                ...  \n",
       "13241  Управа царине и Електро мрежа Србије (УЦ и ЕМС)  \n",
       "13242  Управа царине и Електро мрежа Србије (УЦ и ЕМС)  \n",
       "13243           Национална служба за запошљавање (НСЗ)  \n",
       "13244             Републички завод за статистику (РЗС)  \n",
       "13245             Републички завод за статистику (РЗС)  \n",
       "\n",
       "[13246 rows x 11 columns]"
      ]
     },
     "execution_count": 4,
     "metadata": {},
     "output_type": "execute_result"
    }
   ],
   "source": [
    "opps"
   ]
  },
  {
   "cell_type": "markdown",
   "id": "f94543e3",
   "metadata": {},
   "source": [
    "Evidentno, u tabeli imamo različite indikatore (pokazatelje) po opštinama i godinama koji su raspoređeni na način koji nije najzgodniji. Ova ogromna tabela (ima 13246 redova) izgleda kao kolekcija istih tabela za pojedinačne indikatore. Vidimo da tu, na primer, postoji indikator Površina (u km²), ali taj podatak ne može lako da se obradi jer su vrednosti tog indikatora stavljene u kolonu __vrednost__ sa mnoštvom drugih podataka različitog tipa. Kada bismo hteli da nađemo ukupnu površinu svih opština, to ne može bez dodatne obrade podataka.\n",
    "\n",
    "Da pogledamo za početak, koje tipove podataka ovde imamo. "
   ]
  },
  {
   "cell_type": "code",
   "execution_count": 5,
   "id": "9f27918d",
   "metadata": {},
   "outputs": [
    {
     "data": {
      "text/plain": [
       "IDIndikator    object\n",
       "Indikator      object\n",
       "mes             int64\n",
       "god             int64\n",
       "idter           int64\n",
       "nter           object\n",
       "vrednost       object\n",
       "CreateDate     object\n",
       "LastUpdate     object\n",
       "IDLegenda      object\n",
       "nIzvorI        object\n",
       "dtype: object"
      ]
     },
     "execution_count": 5,
     "metadata": {},
     "output_type": "execute_result"
    }
   ],
   "source": [
    "opps.dtypes"
   ]
  },
  {
   "cell_type": "markdown",
   "id": "5c33e86e",
   "metadata": {},
   "source": [
    "Mesec, godina i matični broj opštine su tipa integer, dok su svi ostali složeni. Da bismo išta mogli da analiziramo, moraćemo da izdvojimo pod-tabele za konkretne pokazatelje. Koje pokazatelje ovde uopšte imamo videćemo korišćenjem funkcije `unique()` za podatke u koloni __Indikator__."
   ]
  },
  {
   "cell_type": "code",
   "execution_count": 6,
   "id": "d2ac7089",
   "metadata": {
    "scrolled": true
   },
   "outputs": [
    {
     "data": {
      "text/plain": [
       "array(['Градоначелник/председник општине', 'Површина (у км²)',\n",
       "       'Број становника - процена (последњи расположив податак за годину)',\n",
       "       'Густина насељености (број становника / км2)', 'Број насеља',\n",
       "       'Број живорођених',\n",
       "       'Степен развијености ЈЛС према Закону о регионалном развоју',\n",
       "       'Степен развијености е-управе', 'Укупна дужина водоводне мреже',\n",
       "       'Број становника према Попису 2011',\n",
       "       'Број домаћинстава према Попису 2011',\n",
       "       'Укупна дужина канализационе мреже', 'Број великих предузећа ',\n",
       "       'Број средњих предузећа ', 'Број малих предузећа ',\n",
       "       'Број микро предузећа', 'Број без ознаке за величину',\n",
       "       'Број активних привредних друштава',\n",
       "       'Број активних привредних друштава по NACE Rev.2  (сектор A)',\n",
       "       'Број активних привредних друштава по NACE Rev.2  (сектор B)',\n",
       "       'Број активних привредних друштава по NACE Rev.2  (сектор C)',\n",
       "       'Број активних привредних друштава по NACE Rev.2  (сектор D)',\n",
       "       'Број активних привредних друштава по NACE Rev.2  (сектор E)',\n",
       "       'Број активних привредних друштава по NACE Rev.2  (сектор F)',\n",
       "       'Број активних привредних друштава по NACE Rev.2  (сектор G)',\n",
       "       'Број активних привредних друштава по NACE Rev.2  (сектор H)',\n",
       "       'Број активних привредних друштава по NACE Rev.2  (сектор I)',\n",
       "       'Број активних привредних друштава по NACE Rev.2  (сектор J)',\n",
       "       'Број активних привредних друштава по NACE Rev.2  (сектор K)',\n",
       "       'Број активних привредних друштава по NACE Rev.2  (сектор L)',\n",
       "       'Број активних привредних друштава по NACE Rev.2  (сектор M)',\n",
       "       'Број активних привредних друштава по NACE Rev.2  (сектор N)',\n",
       "       'Број активних привредних друштава по NACE Rev.2  (сектор O)',\n",
       "       'Број активних привредних друштава по NACE Rev.2  (сектор P)',\n",
       "       'Број активних привредних друштава по NACE Rev.2  (сектор Q)',\n",
       "       'Број активних привредних друштава по NACE Rev.2  (сектор R)',\n",
       "       'Број активних привредних друштава по NACE Rev.2  (сектор S)',\n",
       "       'Број активних привредних друштава по NACE Rev.2  (сектор T)',\n",
       "       'Број активних привредних друштава по NACE Rev.2  (сектор U)',\n",
       "       'Број основаних привредних друштава ',\n",
       "       'Број брисаних привредних друштава ',\n",
       "       'Број активних привредних друштава у ликвидацији',\n",
       "       'Број активних привредних друштава у стечају',\n",
       "       'Број активних предузетника',\n",
       "       'Број активних предузетника по NACE Rev.2  (сектор A)',\n",
       "       'Број активних предузетника по NACE Rev.2  (сектор B)',\n",
       "       'Број активних предузетника по NACE Rev.2  (сектор C)',\n",
       "       'Број активних предузетника по NACE Rev.2  (сектор D)',\n",
       "       'Број активних предузетника по NACE Rev.2  (сектор E)',\n",
       "       'Број активних предузетника по NACE Rev.2  (сектор F)',\n",
       "       'Број активних предузетника по NACE Rev.2  (сектор G)',\n",
       "       'Број активних предузетника по NACE Rev.2  (сектор H)',\n",
       "       'Број активних предузетника по NACE Rev.2  (сектор I)',\n",
       "       'Број активних предузетника по NACE Rev.2  (сектор J)',\n",
       "       'Број активних предузетника по NACE Rev.2  (сектор K)',\n",
       "       'Број активних предузетника по NACE Rev.2  (сектор L)',\n",
       "       'Број активних предузетника по NACE Rev.2  (сектор M)',\n",
       "       'Број активних предузетника по NACE Rev.2  (сектор N)',\n",
       "       'Број активних предузетника по NACE Rev.2  (сектор O)',\n",
       "       'Број активних предузетника по NACE Rev.2  (сектор P)',\n",
       "       'Број активних предузетника по NACE Rev.2  (сектор Q)',\n",
       "       'Број активних предузетника по NACE Rev.2  (сектор R)',\n",
       "       'Број активних предузетника по NACE Rev.2  (сектор S)',\n",
       "       'Број активних предузетника по NACE Rev.2  (сектор T)',\n",
       "       'Број активних предузетника по NACE Rev.2  (сектор U)',\n",
       "       'Број основаних предузетника', 'Број брисаних предузетника',\n",
       "       'Број активних предузетника у ликвидацији',\n",
       "       'Број активних предузетника у стечају', 'Број извозника ',\n",
       "       'Вредност извоза у РСД', 'Вредност извоза у УСД',\n",
       "       'Вредност извоза у ЕУР', 'Број регистрованих незапослених ',\n",
       "       'Просечна нето зарада за месец, према општини пребивалишта запослених',\n",
       "       'Просечна нето зарада за период јануар-текући месец, према општини пребивалишта запослених'],\n",
       "      dtype=object)"
      ]
     },
     "execution_count": 6,
     "metadata": {},
     "output_type": "execute_result"
    }
   ],
   "source": [
    "opps['Indikator'].unique()"
   ]
  },
  {
   "cell_type": "markdown",
   "id": "e45cc964",
   "metadata": {},
   "source": [
    "## Jednodimenzionalni skupovi podataka"
   ]
  },
  {
   "cell_type": "markdown",
   "id": "ef0f1e29",
   "metadata": {},
   "source": [
    "Za jednostavne analize je dovoljno da izvučemo samo jedan indikator koji nas interesuje. Primera radi, sada ćemo izvući samo indikator vezan za površinu opštine."
   ]
  },
  {
   "cell_type": "code",
   "execution_count": 7,
   "id": "4d3ab952",
   "metadata": {},
   "outputs": [],
   "source": [
    "povrsina=opps[opps['Indikator']=='Површина (у км²)']"
   ]
  },
  {
   "cell_type": "code",
   "execution_count": 8,
   "id": "96dd49a7",
   "metadata": {},
   "outputs": [
    {
     "data": {
      "text/html": [
       "<div>\n",
       "<style scoped>\n",
       "    .dataframe tbody tr th:only-of-type {\n",
       "        vertical-align: middle;\n",
       "    }\n",
       "\n",
       "    .dataframe tbody tr th {\n",
       "        vertical-align: top;\n",
       "    }\n",
       "\n",
       "    .dataframe thead th {\n",
       "        text-align: right;\n",
       "    }\n",
       "</style>\n",
       "<table border=\"1\" class=\"dataframe\">\n",
       "  <thead>\n",
       "    <tr style=\"text-align: right;\">\n",
       "      <th></th>\n",
       "      <th>IDIndikator</th>\n",
       "      <th>Indikator</th>\n",
       "      <th>mes</th>\n",
       "      <th>god</th>\n",
       "      <th>idter</th>\n",
       "      <th>nter</th>\n",
       "      <th>vrednost</th>\n",
       "      <th>CreateDate</th>\n",
       "      <th>LastUpdate</th>\n",
       "      <th>IDLegenda</th>\n",
       "      <th>nIzvorI</th>\n",
       "    </tr>\n",
       "  </thead>\n",
       "  <tbody>\n",
       "    <tr>\n",
       "      <th>1</th>\n",
       "      <td>IND01G01</td>\n",
       "      <td>Површина (у км²)</td>\n",
       "      <td>0</td>\n",
       "      <td>2020</td>\n",
       "      <td>70017</td>\n",
       "      <td>Александровац</td>\n",
       "      <td>387</td>\n",
       "      <td>1/27/2021 10:15:39 AM</td>\n",
       "      <td>1/27/2021 10:22:18 AM</td>\n",
       "      <td>A</td>\n",
       "      <td>Републички геодетски завод (РГЗ)</td>\n",
       "    </tr>\n",
       "    <tr>\n",
       "      <th>77</th>\n",
       "      <td>IND01G01</td>\n",
       "      <td>Површина (у км²)</td>\n",
       "      <td>0</td>\n",
       "      <td>2020</td>\n",
       "      <td>70025</td>\n",
       "      <td>Алексинац</td>\n",
       "      <td>707</td>\n",
       "      <td>1/27/2021 10:15:40 AM</td>\n",
       "      <td>1/27/2021 10:22:18 AM</td>\n",
       "      <td>A</td>\n",
       "      <td>Републички геодетски завод (РГЗ)</td>\n",
       "    </tr>\n",
       "    <tr>\n",
       "      <th>153</th>\n",
       "      <td>IND01G01</td>\n",
       "      <td>Површина (у км²)</td>\n",
       "      <td>0</td>\n",
       "      <td>2020</td>\n",
       "      <td>70033</td>\n",
       "      <td>Аранђеловац</td>\n",
       "      <td>376</td>\n",
       "      <td>1/27/2021 10:15:40 AM</td>\n",
       "      <td>1/27/2021 10:22:18 AM</td>\n",
       "      <td>A</td>\n",
       "      <td>Републички геодетски завод (РГЗ)</td>\n",
       "    </tr>\n",
       "    <tr>\n",
       "      <th>229</th>\n",
       "      <td>IND01G01</td>\n",
       "      <td>Површина (у км²)</td>\n",
       "      <td>0</td>\n",
       "      <td>2020</td>\n",
       "      <td>70041</td>\n",
       "      <td>Ариље</td>\n",
       "      <td>349</td>\n",
       "      <td>1/27/2021 10:15:39 AM</td>\n",
       "      <td>1/27/2021 10:22:18 AM</td>\n",
       "      <td>A</td>\n",
       "      <td>Републички геодетски завод (РГЗ)</td>\n",
       "    </tr>\n",
       "    <tr>\n",
       "      <th>305</th>\n",
       "      <td>IND01G01</td>\n",
       "      <td>Површина (у км²)</td>\n",
       "      <td>0</td>\n",
       "      <td>2020</td>\n",
       "      <td>70050</td>\n",
       "      <td>Бабушница</td>\n",
       "      <td>529</td>\n",
       "      <td>1/27/2021 10:15:40 AM</td>\n",
       "      <td>1/27/2021 10:22:18 AM</td>\n",
       "      <td>A</td>\n",
       "      <td>Републички геодетски завод (РГЗ)</td>\n",
       "    </tr>\n",
       "  </tbody>\n",
       "</table>\n",
       "</div>"
      ],
      "text/plain": [
       "    IDIndikator         Indikator  mes   god  idter           nter vrednost  \\\n",
       "1      IND01G01  Површина (у км²)    0  2020  70017  Александровац      387   \n",
       "77     IND01G01  Површина (у км²)    0  2020  70025      Алексинац      707   \n",
       "153    IND01G01  Површина (у км²)    0  2020  70033    Аранђеловац      376   \n",
       "229    IND01G01  Површина (у км²)    0  2020  70041          Ариље      349   \n",
       "305    IND01G01  Површина (у км²)    0  2020  70050      Бабушница      529   \n",
       "\n",
       "                CreateDate             LastUpdate IDLegenda  \\\n",
       "1    1/27/2021 10:15:39 AM  1/27/2021 10:22:18 AM         A   \n",
       "77   1/27/2021 10:15:40 AM  1/27/2021 10:22:18 AM         A   \n",
       "153  1/27/2021 10:15:40 AM  1/27/2021 10:22:18 AM         A   \n",
       "229  1/27/2021 10:15:39 AM  1/27/2021 10:22:18 AM         A   \n",
       "305  1/27/2021 10:15:40 AM  1/27/2021 10:22:18 AM         A   \n",
       "\n",
       "                              nIzvorI  \n",
       "1    Републички геодетски завод (РГЗ)  \n",
       "77   Републички геодетски завод (РГЗ)  \n",
       "153  Републички геодетски завод (РГЗ)  \n",
       "229  Републички геодетски завод (РГЗ)  \n",
       "305  Републички геодетски завод (РГЗ)  "
      ]
     },
     "execution_count": 8,
     "metadata": {},
     "output_type": "execute_result"
    }
   ],
   "source": [
    "povrsina.head()"
   ]
  },
  {
   "cell_type": "markdown",
   "id": "bc10b53c",
   "metadata": {},
   "source": [
    "Izgleda da su sada u koloni __vrednost__ samo brojevi. Možemo onda da ih saberemo i vidimo kolika je površina svih opština u Srbiji zajedno."
   ]
  },
  {
   "cell_type": "code",
   "execution_count": 9,
   "id": "03953aca",
   "metadata": {
    "scrolled": true
   },
   "outputs": [
    {
     "data": {
      "text/plain": [
       "'38770737634952967313651721314833003115038333941410451301427151573063842648288565716064619052493453443383663086022393253678366234831212647602141069109062941312023582578351530342854952721186337102561245427935693218426952419332910905817423195426551232374426264553827759289216670366470326497105948442152562864735737044874212428745631264763679755146288141182117101032582032345964778606672276023803675905961583531844868004005251327385230399782419730481181273609305610203411756489383582294523121628476251350100717026137632168789699'"
      ]
     },
     "execution_count": 9,
     "metadata": {},
     "output_type": "execute_result"
    }
   ],
   "source": [
    "povrsina['vrednost'].sum()"
   ]
  },
  {
   "cell_type": "markdown",
   "id": "1d6365d4",
   "metadata": {},
   "source": [
    "Ups! Ovo nismo očekivali. Umesto sume brojeva, dobili smo sumu stringova, tj. spojene vrednosti svih stringova u koloni __vrednost__ od '387', '707' pa redom. Izgleda da Pajton i dalje ne zna da su u koloni __vrednost__ brojevi."
   ]
  },
  {
   "cell_type": "code",
   "execution_count": 10,
   "id": "2b7b2134",
   "metadata": {},
   "outputs": [
    {
     "data": {
      "text/plain": [
       "IDIndikator    object\n",
       "Indikator      object\n",
       "mes             int64\n",
       "god             int64\n",
       "idter           int64\n",
       "nter           object\n",
       "vrednost       object\n",
       "CreateDate     object\n",
       "LastUpdate     object\n",
       "IDLegenda      object\n",
       "nIzvorI        object\n",
       "dtype: object"
      ]
     },
     "execution_count": 10,
     "metadata": {},
     "output_type": "execute_result"
    }
   ],
   "source": [
    "povrsina.dtypes"
   ]
  },
  {
   "cell_type": "markdown",
   "id": "fdc280b3",
   "metadata": {},
   "source": [
    "Da, Pajton je zadržao tip promenljive koji smo imali u originalnoj tabeli. To treba da promenimo pomoću funkcije `astype()`. Tako ćemo Pajtonu objasniti da podaci u koloni __vrednost__ treba da budu tipa _float_."
   ]
  },
  {
   "cell_type": "code",
   "execution_count": 11,
   "id": "adbfb0a0",
   "metadata": {},
   "outputs": [],
   "source": [
    "povrsina = povrsina.astype({'vrednost':float})"
   ]
  },
  {
   "cell_type": "code",
   "execution_count": 12,
   "id": "f3a0b319",
   "metadata": {},
   "outputs": [
    {
     "data": {
      "text/plain": [
       "IDIndikator     object\n",
       "Indikator       object\n",
       "mes              int64\n",
       "god              int64\n",
       "idter            int64\n",
       "nter            object\n",
       "vrednost       float64\n",
       "CreateDate      object\n",
       "LastUpdate      object\n",
       "IDLegenda       object\n",
       "nIzvorI         object\n",
       "dtype: object"
      ]
     },
     "execution_count": 12,
     "metadata": {},
     "output_type": "execute_result"
    }
   ],
   "source": [
    "povrsina.dtypes"
   ]
  },
  {
   "cell_type": "code",
   "execution_count": 13,
   "id": "e90a66f8",
   "metadata": {
    "scrolled": true
   },
   "outputs": [
    {
     "data": {
      "text/plain": [
       "84122.0"
      ]
     },
     "execution_count": 13,
     "metadata": {},
     "output_type": "execute_result"
    }
   ],
   "source": [
    "povrsina['vrednost'].sum()"
   ]
  },
  {
   "cell_type": "markdown",
   "id": "053e14a6",
   "metadata": {},
   "source": [
    "Ovo deluje u redu. Tolika je površina Srbije."
   ]
  },
  {
   "cell_type": "markdown",
   "id": "64ac3bc6",
   "metadata": {},
   "source": [
    "Sada ćemo obraditi jedan drugi numerički indikator, prosečnu neto zaradu. Taj indikator se zove tačno __Prosečna neto zarada za mesec, prema opštini prebivališta zaposlenih__."
   ]
  },
  {
   "cell_type": "code",
   "execution_count": 14,
   "id": "c48444c8",
   "metadata": {},
   "outputs": [],
   "source": [
    "neto_zarada=opps[opps['Indikator']=='Просечна нето зарада за месец, према општини пребивалишта запослених']"
   ]
  },
  {
   "cell_type": "markdown",
   "id": "fc84f117",
   "metadata": {},
   "source": [
    "S obzirom da nam za numeričku analizu tabele __neto_zarada__ nisu potrebne sve kolone, zadržaćemo samo tri. Matični broj zadržavamo samo zbog kontrole."
   ]
  },
  {
   "cell_type": "code",
   "execution_count": 15,
   "id": "3309b124",
   "metadata": {},
   "outputs": [],
   "source": [
    "neto_zarada=neto_zarada[['idter','nter','vrednost']]"
   ]
  },
  {
   "cell_type": "code",
   "execution_count": 16,
   "id": "ee70d122",
   "metadata": {},
   "outputs": [],
   "source": [
    "neto_zarada = neto_zarada.astype({'vrednost':float})"
   ]
  },
  {
   "cell_type": "markdown",
   "id": "7c65014c",
   "metadata": {},
   "source": [
    "Ako želimo da vidimo gde su u Srbiji prosečne zarade najveće, potrebno je da sortiramo tabelu prema vrednosti. Sortiranje ne menja vrednosti u tabeli već nam prikazuje podatke na način koji nama odgovara."
   ]
  },
  {
   "cell_type": "code",
   "execution_count": 17,
   "id": "e5e867c1",
   "metadata": {},
   "outputs": [
    {
     "data": {
      "text/html": [
       "<div>\n",
       "<style scoped>\n",
       "    .dataframe tbody tr th:only-of-type {\n",
       "        vertical-align: middle;\n",
       "    }\n",
       "\n",
       "    .dataframe tbody tr th {\n",
       "        vertical-align: top;\n",
       "    }\n",
       "\n",
       "    .dataframe thead th {\n",
       "        text-align: right;\n",
       "    }\n",
       "</style>\n",
       "<table border=\"1\" class=\"dataframe\">\n",
       "  <thead>\n",
       "    <tr style=\"text-align: right;\">\n",
       "      <th></th>\n",
       "      <th>idter</th>\n",
       "      <th>nter</th>\n",
       "      <th>vrednost</th>\n",
       "    </tr>\n",
       "  </thead>\n",
       "  <tbody>\n",
       "    <tr>\n",
       "      <th>832</th>\n",
       "      <td>70114</td>\n",
       "      <td>Врачар</td>\n",
       "      <td>99052.0</td>\n",
       "    </tr>\n",
       "    <tr>\n",
       "      <th>1282</th>\n",
       "      <td>70181</td>\n",
       "      <td>Нови Београд</td>\n",
       "      <td>96326.0</td>\n",
       "    </tr>\n",
       "    <tr>\n",
       "      <th>1730</th>\n",
       "      <td>70246</td>\n",
       "      <td>Стари град</td>\n",
       "      <td>96010.0</td>\n",
       "    </tr>\n",
       "    <tr>\n",
       "      <th>1580</th>\n",
       "      <td>70220</td>\n",
       "      <td>Савски венац</td>\n",
       "      <td>88020.0</td>\n",
       "    </tr>\n",
       "    <tr>\n",
       "      <th>756</th>\n",
       "      <td>70106</td>\n",
       "      <td>Вождовац</td>\n",
       "      <td>79008.0</td>\n",
       "    </tr>\n",
       "    <tr>\n",
       "      <th>982</th>\n",
       "      <td>70149</td>\n",
       "      <td>Звездара</td>\n",
       "      <td>78229.0</td>\n",
       "    </tr>\n",
       "    <tr>\n",
       "      <th>9384</th>\n",
       "      <td>79014</td>\n",
       "      <td>Град Београд</td>\n",
       "      <td>75649.0</td>\n",
       "    </tr>\n",
       "    <tr>\n",
       "      <th>1132</th>\n",
       "      <td>70165</td>\n",
       "      <td>Лазаревац</td>\n",
       "      <td>72684.0</td>\n",
       "    </tr>\n",
       "    <tr>\n",
       "      <th>1804</th>\n",
       "      <td>70254</td>\n",
       "      <td>Чукарица</td>\n",
       "      <td>72669.0</td>\n",
       "    </tr>\n",
       "    <tr>\n",
       "      <th>9161</th>\n",
       "      <td>71340</td>\n",
       "      <td>Костолац</td>\n",
       "      <td>70934.0</td>\n",
       "    </tr>\n",
       "  </tbody>\n",
       "</table>\n",
       "</div>"
      ],
      "text/plain": [
       "      idter          nter  vrednost\n",
       "832   70114        Врачар   99052.0\n",
       "1282  70181  Нови Београд   96326.0\n",
       "1730  70246    Стари град   96010.0\n",
       "1580  70220  Савски венац   88020.0\n",
       "756   70106      Вождовац   79008.0\n",
       "982   70149      Звездара   78229.0\n",
       "9384  79014  Град Београд   75649.0\n",
       "1132  70165     Лазаревац   72684.0\n",
       "1804  70254      Чукарица   72669.0\n",
       "9161  71340      Костолац   70934.0"
      ]
     },
     "execution_count": 17,
     "metadata": {},
     "output_type": "execute_result"
    }
   ],
   "source": [
    "neto_zarada.sort_values('vrednost',ascending=False).head(10)"
   ]
  },
  {
   "cell_type": "markdown",
   "id": "b570e91f",
   "metadata": {},
   "source": [
    "Najveće zarade su, očigledno, u Beogradu. Prva opština na ovoj listi koja nije beogradska je Kostolac."
   ]
  },
  {
   "cell_type": "markdown",
   "id": "7d3ec6a3",
   "metadata": {},
   "source": [
    "Kada bismo pomoću funkcije `max()` tražili opštinu sa najvećim zaradama, to bi izgledalo ovako:"
   ]
  },
  {
   "cell_type": "code",
   "execution_count": 18,
   "id": "fb40dcc5",
   "metadata": {},
   "outputs": [
    {
     "data": {
      "text/html": [
       "<div>\n",
       "<style scoped>\n",
       "    .dataframe tbody tr th:only-of-type {\n",
       "        vertical-align: middle;\n",
       "    }\n",
       "\n",
       "    .dataframe tbody tr th {\n",
       "        vertical-align: top;\n",
       "    }\n",
       "\n",
       "    .dataframe thead th {\n",
       "        text-align: right;\n",
       "    }\n",
       "</style>\n",
       "<table border=\"1\" class=\"dataframe\">\n",
       "  <thead>\n",
       "    <tr style=\"text-align: right;\">\n",
       "      <th></th>\n",
       "      <th>idter</th>\n",
       "      <th>nter</th>\n",
       "      <th>vrednost</th>\n",
       "    </tr>\n",
       "  </thead>\n",
       "  <tbody>\n",
       "    <tr>\n",
       "      <th>832</th>\n",
       "      <td>70114</td>\n",
       "      <td>Врачар</td>\n",
       "      <td>99052.0</td>\n",
       "    </tr>\n",
       "  </tbody>\n",
       "</table>\n",
       "</div>"
      ],
      "text/plain": [
       "     idter    nter  vrednost\n",
       "832  70114  Врачар   99052.0"
      ]
     },
     "execution_count": 18,
     "metadata": {},
     "output_type": "execute_result"
    }
   ],
   "source": [
    "neto_zarada[neto_zarada.vrednost==neto_zarada.vrednost.max()]"
   ]
  },
  {
   "cell_type": "markdown",
   "id": "220cceec",
   "metadata": {},
   "source": [
    "Funkciju `max()` možemo da primenimo i na celu tabelu, ali će nam tad izlaz biti niz maksimalnih vrednosti po kolonama. To nam sad nije posebno korisno. Primetite da maksimum za numeričke i tekstualne vrednosti radi drugačije. U prvom slučaju traži najveću vrednost, a u drugom podatke poređa leksikografski pa prikaže poslednji u nizu."
   ]
  },
  {
   "cell_type": "code",
   "execution_count": 19,
   "id": "dd9bb3fe",
   "metadata": {
    "scrolled": true
   },
   "outputs": [
    {
     "data": {
      "text/plain": [
       "idter         89010\n",
       "nter            Шид\n",
       "vrednost    99052.0\n",
       "dtype: object"
      ]
     },
     "execution_count": 19,
     "metadata": {},
     "output_type": "execute_result"
    }
   ],
   "source": [
    "neto_zarada.max()"
   ]
  },
  {
   "cell_type": "markdown",
   "id": "890a86da",
   "metadata": {},
   "source": [
    "Ako ceo niz brojeva zbog skraćenog prikaza ili komunikacije moramo da svedemo na jedan broj, onda je najbolje uzeti jednu od mera proseka: srednju vrednost ili medijanu. Maksimalna ili minimalna vrednost zarada su kurioziteti i ne govore nam mnogo o celom skupu. Srednja vrednost nam više govori o tome kolike su zarade u Srbiji dajući nam aritmetičku sredinu. Medijana nam daje prosek na malo drugačiji podatak, ona nam daje tipičnu vrednost zarade, odnosno koliku zaradu imaju oni koji su na sredini liste o visini zarade. Kod simetričnih raspodela podataka, srednja vrednost i medijana se poklapaju, ali raspodela zarada nije takva. Uvek ima više onih sa malim zaradama i nekoliko onih sa veoma velikim. To se vrlo često zloupotrebljava. Većina ljudi ima manje zarade od srednje vrednosti. Kad god je novac u pitanju, srednja vrednost bude veća od medijane. "
   ]
  },
  {
   "cell_type": "markdown",
   "id": "c0657975",
   "metadata": {},
   "source": [
    "Pajton nema funkciju za srednju vrednost u osnovnom okruženju pa je potrebno učitati biblioteku __statistics__ da bismo imali funkciju `mean()`. Srećom, srednja vrednost se lako računa -- samo treba podeliti zbir svih elemenata sa njihovim brojem. (Ako vam je lakše učitajte biblioteku pa koristite _mean_.)"
   ]
  },
  {
   "cell_type": "code",
   "execution_count": 20,
   "id": "58c1b818",
   "metadata": {},
   "outputs": [
    {
     "data": {
      "text/plain": [
       "52942.137142857144"
      ]
     },
     "execution_count": 20,
     "metadata": {},
     "output_type": "execute_result"
    }
   ],
   "source": [
    "neto_zarada['vrednost'].sum()/neto_zarada['vrednost'].size"
   ]
  },
  {
   "cell_type": "code",
   "execution_count": 21,
   "id": "1947422f",
   "metadata": {},
   "outputs": [
    {
     "data": {
      "text/plain": [
       "50655.0"
      ]
     },
     "execution_count": 21,
     "metadata": {},
     "output_type": "execute_result"
    }
   ],
   "source": [
    "neto_zarada.vrednost.median()"
   ]
  },
  {
   "cell_type": "markdown",
   "id": "93d5d6cd",
   "metadata": {},
   "source": [
    "Vidimo da srednja vrednost prosečne neto zarade po opštinama za više od dve hiljade dinara veća nego medijana."
   ]
  },
  {
   "cell_type": "markdown",
   "id": "30c92a73",
   "metadata": {},
   "source": [
    "### Deskriptivna analiza"
   ]
  },
  {
   "cell_type": "markdown",
   "id": "58970ad9",
   "metadata": {},
   "source": [
    "Rekli smo ranije da se u ovom kursu nećemo baviti (ozbiljnom) analizom podataka jer ona podrazumeva stručno, domensko znanje. Deskriptivna analiza je više deskripcija nego analiza. Nju računar radi po algoritmu i prikazuje nam mere centralne tendencije i mere rastura za određeni skup podataka. Taj deo posla ne zahteva bilo kakvo domensko znanje. Tumačenje mera koje nam daje deskriptivna analiza je već nešto drugo.\n",
    "\n",
    "Deskriptivna analiza daje glavne mere jednog skupa brojčanih podataka kao što su broj elemenata (__count__), srednja vrednost (__mean__), standardna devijacija (__std__), minimum (__min__) itd. Iako sve ove mere možemo da dobijemo i direktno, zgodno je da ih jednom funkcijom dobijemo sve. Funkcija `describe()` to omogućava. "
   ]
  },
  {
   "cell_type": "markdown",
   "id": "cbe327cb",
   "metadata": {},
   "source": [
    "![](.\\data\\deskriptivna2.png \"decribe\")"
   ]
  },
  {
   "cell_type": "code",
   "execution_count": 22,
   "id": "b6d6d60e",
   "metadata": {},
   "outputs": [
    {
     "data": {
      "text/plain": [
       "count      175.000000\n",
       "mean     52942.137143\n",
       "std       9576.694515\n",
       "min      41851.000000\n",
       "25%      47292.000000\n",
       "50%      50655.000000\n",
       "75%      54687.000000\n",
       "max      99052.000000\n",
       "Name: vrednost, dtype: float64"
      ]
     },
     "execution_count": 22,
     "metadata": {},
     "output_type": "execute_result"
    }
   ],
   "source": [
    "neto_zarada.vrednost.describe()"
   ]
  },
  {
   "cell_type": "markdown",
   "id": "37875cf6",
   "metadata": {},
   "source": [
    "Po svemu sudeći, raspodela vrednosti iz ove kolone nije baš simetrična pa bi bilo dobro da je vizuelizujemo, tj. da prikažemo grafički. Zbog toga smo na početku učitavali biblioteku za crtanje. Analizu podataka je, po pravilu, lakše uraditi ako \"vidimo\" podatke. Zato se numerička analiza i vizuelizacija podataka obično rade istovremeno."
   ]
  },
  {
   "cell_type": "markdown",
   "id": "b3a75124",
   "metadata": {},
   "source": [
    "Za vizuelizaciju jednodimenzionalnog skupa podataka (niza, liste ili kolone u tabeli) najčešće se koristi histogram koji nam prikazuje broj elemenata u određenim intervalima, odnosno raspodelu podataka. Histograme crtamo pomoću funkcije `hist()`. Argument ove funkcije, sem niza čije brojeve hoćemo da prikažemo, jeste i opseg brojeva u kom posmatramo histogram sa korakom (veličinom intervala). Pomoću funkcije `axvline()` iz biblioteke __matplotlib.pyplot__ crtamo vertikalne linije određene boje, debljine i stila. Ovde ćemo nacrtati dve vertikalne linije: narandžastu za medijanu niza i crvenu za srednju vrednost.\n",
    "\n",
    "Primetite da smo funkcije `median()` i `mean()` preuzeli iz __numpy__ biblioteke."
   ]
  },
  {
   "cell_type": "code",
   "execution_count": 23,
   "id": "62b97b35",
   "metadata": {},
   "outputs": [
    {
     "data": {
      "text/plain": [
       "<matplotlib.lines.Line2D at 0x121e5aaf0>"
      ]
     },
     "execution_count": 23,
     "metadata": {},
     "output_type": "execute_result"
    },
    {
     "data": {
      "image/png": "[encoded data removed]",
      "text/plain": [
       "<Figure size 432x288 with 1 Axes>"
      ]
     },
     "metadata": {
      "filenames": {
       "image/png": "/Users/srdanverbic/OneDrive - fefa.edu.rs/praktikum/_build/jupyter_execute/4 Priprema i deskriptivna analiza numeričkih podataka_50_1.png"
      },
      "needs_background": "light"
     },
     "output_type": "display_data"
    }
   ],
   "source": [
    "y=neto_zarada.vrednost\n",
    "y.hist(bins=range(35000,105000,4000))\n",
    "plt.axvline(x=np.median(y), color='orange', linewidth=2, linestyle=\":\")\n",
    "plt.axvline(x=np.mean(y), color='white', linewidth=2, linestyle=\"--\")"
   ]
  },
  {
   "cell_type": "markdown",
   "id": "497b059b",
   "metadata": {},
   "source": [
    "Slično, možemo da koristimo funkciju `hist()` i iz biblioteke za crtanje. Razlike u načinu prikazivanja nisu velike."
   ]
  },
  {
   "cell_type": "code",
   "execution_count": 24,
   "id": "733ecb2f",
   "metadata": {},
   "outputs": [
    {
     "data": {
      "text/plain": [
       "<matplotlib.lines.Line2D at 0x121da30d0>"
      ]
     },
     "execution_count": 24,
     "metadata": {},
     "output_type": "execute_result"
    },
    {
     "data": {
      "image/png": "[encoded data removed]",
      "text/plain": [
       "<Figure size 432x288 with 1 Axes>"
      ]
     },
     "metadata": {
      "filenames": {
       "image/png": "/Users/srdanverbic/OneDrive - fefa.edu.rs/praktikum/_build/jupyter_execute/4 Priprema i deskriptivna analiza numeričkih podataka_52_1.png"
      },
      "needs_background": "light"
     },
     "output_type": "display_data"
    }
   ],
   "source": [
    "plt.hist(y,bins=20)\n",
    "plt.axvline(x=np.median(y), color='orange', linewidth=3, linestyle=\":\")\n",
    "plt.axvline(x=np.mean(y), color='white', linewidth=2, linestyle=\"--\")"
   ]
  },
  {
   "cell_type": "markdown",
   "id": "5801efb4",
   "metadata": {},
   "source": [
    "Grafičko prikazivanje raspodele podataka je, verovatno, najbolji način da razumemo šta se u tom skupu nalazi, da li je raspodela uniformna ili ima \"repove\", gde su tačke nagomilavanja, da li ima \"nemogućih vrednosti\" itd. Vrlo često je vizuelizacija podatka deo procesa čišćenja podataka. Mnogo je lakše uočiti nelogičnosti u velikom skupu podataka ako uspemo da ga dobro prikažemo grafički."
   ]
  },
  {
   "cell_type": "markdown",
   "id": "b2c061a9",
   "metadata": {},
   "source": [
    "## Pivotiranje tabele"
   ]
  },
  {
   "cell_type": "markdown",
   "id": "78aea5eb",
   "metadata": {},
   "source": [
    "Tabela koju smo na početku učitali ima 175 redova koji se odnose na bilo koji indikator. Ako isecamo samo one redove koje nas u tom trenutku interesuju, izgubićemo sve ostale. Možda bi bilo bolje da transformišemo tabelu __opps__ tako da po redovima budu opštine, a po kolonama indikatori. To se zove pivotiranje tabele.\n",
    "\n",
    "Zapravo, uzećemo i matični broj i naziv opštine po redovima zbog kontrole. Nikad ne znate da li će se u listi pojaviti dve opštine sa istim imenom, npr. Palilula. Zato je dobro da uvek imamo i jedinstveni matični broj. Ta dva naziva kolona ćemo staviti u listu i pridružiti argumentu __index__. Argumentu __columns__ ćemo pridružiti sve različite vrednosti koje postoje u koloni __vrednost__, a argumentu __values__ ćemo pridružiti vrednosti iz kolone koja se baš tako zove, __vrednost__. Pivotiranje tabele sada radimo pomoću funkcije `pivot()`."
   ]
  },
  {
   "cell_type": "code",
   "execution_count": 25,
   "id": "ccf0061d",
   "metadata": {},
   "outputs": [],
   "source": [
    "pivopps=opps.pivot(index=['idter','nter'], columns='Indikator', values='vrednost')"
   ]
  },
  {
   "cell_type": "code",
   "execution_count": 26,
   "id": "b4f21117",
   "metadata": {},
   "outputs": [
    {
     "data": {
      "text/html": [
       "<div>\n",
       "<style scoped>\n",
       "    .dataframe tbody tr th:only-of-type {\n",
       "        vertical-align: middle;\n",
       "    }\n",
       "\n",
       "    .dataframe tbody tr th {\n",
       "        vertical-align: top;\n",
       "    }\n",
       "\n",
       "    .dataframe thead th {\n",
       "        text-align: right;\n",
       "    }\n",
       "</style>\n",
       "<table border=\"1\" class=\"dataframe\">\n",
       "  <thead>\n",
       "    <tr style=\"text-align: right;\">\n",
       "      <th></th>\n",
       "      <th>Indikator</th>\n",
       "      <th>Број активних предузетника</th>\n",
       "      <th>Број активних предузетника по NACE Rev.2  (сектор A)</th>\n",
       "      <th>Број активних предузетника по NACE Rev.2  (сектор B)</th>\n",
       "      <th>Број активних предузетника по NACE Rev.2  (сектор C)</th>\n",
       "      <th>Број активних предузетника по NACE Rev.2  (сектор D)</th>\n",
       "      <th>Број активних предузетника по NACE Rev.2  (сектор E)</th>\n",
       "      <th>Број активних предузетника по NACE Rev.2  (сектор F)</th>\n",
       "      <th>Број активних предузетника по NACE Rev.2  (сектор G)</th>\n",
       "      <th>Број активних предузетника по NACE Rev.2  (сектор H)</th>\n",
       "      <th>Број активних предузетника по NACE Rev.2  (сектор I)</th>\n",
       "      <th>...</th>\n",
       "      <th>Вредност извоза у УСД</th>\n",
       "      <th>Градоначелник/председник општине</th>\n",
       "      <th>Густина насељености (број становника / км2)</th>\n",
       "      <th>Површина (у км²)</th>\n",
       "      <th>Просечна нето зарада за месец, према општини пребивалишта запослених</th>\n",
       "      <th>Просечна нето зарада за период јануар-текући месец, према општини пребивалишта запослених</th>\n",
       "      <th>Степен развијености ЈЛС према Закону о регионалном развоју</th>\n",
       "      <th>Степен развијености е-управе</th>\n",
       "      <th>Укупна дужина водоводне мреже</th>\n",
       "      <th>Укупна дужина канализационе мреже</th>\n",
       "    </tr>\n",
       "    <tr>\n",
       "      <th>idter</th>\n",
       "      <th>nter</th>\n",
       "      <th></th>\n",
       "      <th></th>\n",
       "      <th></th>\n",
       "      <th></th>\n",
       "      <th></th>\n",
       "      <th></th>\n",
       "      <th></th>\n",
       "      <th></th>\n",
       "      <th></th>\n",
       "      <th></th>\n",
       "      <th></th>\n",
       "      <th></th>\n",
       "      <th></th>\n",
       "      <th></th>\n",
       "      <th></th>\n",
       "      <th></th>\n",
       "      <th></th>\n",
       "      <th></th>\n",
       "      <th></th>\n",
       "      <th></th>\n",
       "      <th></th>\n",
       "    </tr>\n",
       "  </thead>\n",
       "  <tbody>\n",
       "    <tr>\n",
       "      <th>70017</th>\n",
       "      <th>Александровац</th>\n",
       "      <td>1021</td>\n",
       "      <td>22</td>\n",
       "      <td>1</td>\n",
       "      <td>325</td>\n",
       "      <td>0</td>\n",
       "      <td>0</td>\n",
       "      <td>118</td>\n",
       "      <td>225</td>\n",
       "      <td>45</td>\n",
       "      <td>79</td>\n",
       "      <td>...</td>\n",
       "      <td>1893655.65059975</td>\n",
       "      <td>МИРКО МИХАЈЛОВИЋ</td>\n",
       "      <td>62</td>\n",
       "      <td>387</td>\n",
       "      <td>44615</td>\n",
       "      <td>45383</td>\n",
       "      <td>II група</td>\n",
       "      <td>0.309491409041355</td>\n",
       "      <td>199</td>\n",
       "      <td>51</td>\n",
       "    </tr>\n",
       "    <tr>\n",
       "      <th>70025</th>\n",
       "      <th>Алексинац</th>\n",
       "      <td>1320</td>\n",
       "      <td>22</td>\n",
       "      <td>4</td>\n",
       "      <td>232</td>\n",
       "      <td>1</td>\n",
       "      <td>8</td>\n",
       "      <td>126</td>\n",
       "      <td>354</td>\n",
       "      <td>156</td>\n",
       "      <td>102</td>\n",
       "      <td>...</td>\n",
       "      <td>9850106.09590895</td>\n",
       "      <td>ДАЛИБОР РАДИЧЕВИЋ</td>\n",
       "      <td>67</td>\n",
       "      <td>707</td>\n",
       "      <td>49394</td>\n",
       "      <td>47896</td>\n",
       "      <td>IV група</td>\n",
       "      <td>0.313142788382875</td>\n",
       "      <td>205</td>\n",
       "      <td>43</td>\n",
       "    </tr>\n",
       "    <tr>\n",
       "      <th>70033</th>\n",
       "      <th>Аранђеловац</th>\n",
       "      <td>1828</td>\n",
       "      <td>12</td>\n",
       "      <td>1</td>\n",
       "      <td>336</td>\n",
       "      <td>1</td>\n",
       "      <td>4</td>\n",
       "      <td>240</td>\n",
       "      <td>361</td>\n",
       "      <td>165</td>\n",
       "      <td>181</td>\n",
       "      <td>...</td>\n",
       "      <td>9682257.53441178</td>\n",
       "      <td>БОЈАН РАДОВИЋ</td>\n",
       "      <td>115</td>\n",
       "      <td>376</td>\n",
       "      <td>53319</td>\n",
       "      <td>52354</td>\n",
       "      <td>II група</td>\n",
       "      <td>0.424362734010375</td>\n",
       "      <td>464</td>\n",
       "      <td>182</td>\n",
       "    </tr>\n",
       "    <tr>\n",
       "      <th>70041</th>\n",
       "      <th>Ариље</th>\n",
       "      <td>898</td>\n",
       "      <td>7</td>\n",
       "      <td>0</td>\n",
       "      <td>315</td>\n",
       "      <td>0</td>\n",
       "      <td>3</td>\n",
       "      <td>71</td>\n",
       "      <td>150</td>\n",
       "      <td>79</td>\n",
       "      <td>85</td>\n",
       "      <td>...</td>\n",
       "      <td>6754621.8552789</td>\n",
       "      <td>ПРЕДРАГ МАСЛАР</td>\n",
       "      <td>51</td>\n",
       "      <td>349</td>\n",
       "      <td>44510</td>\n",
       "      <td>43791</td>\n",
       "      <td>II група</td>\n",
       "      <td>0.355725723285914</td>\n",
       "      <td>459</td>\n",
       "      <td>68</td>\n",
       "    </tr>\n",
       "    <tr>\n",
       "      <th>70050</th>\n",
       "      <th>Бабушница</th>\n",
       "      <td>287</td>\n",
       "      <td>5</td>\n",
       "      <td>0</td>\n",
       "      <td>46</td>\n",
       "      <td>0</td>\n",
       "      <td>0</td>\n",
       "      <td>50</td>\n",
       "      <td>78</td>\n",
       "      <td>25</td>\n",
       "      <td>24</td>\n",
       "      <td>...</td>\n",
       "      <td>915210.700355534</td>\n",
       "      <td>ИВАНА СТОЈИЧИЋ</td>\n",
       "      <td>19</td>\n",
       "      <td>529</td>\n",
       "      <td>47249</td>\n",
       "      <td>46951</td>\n",
       "      <td>IV група - девастирано подручје</td>\n",
       "      <td>0.24716560533865</td>\n",
       "      <td>112</td>\n",
       "      <td>30</td>\n",
       "    </tr>\n",
       "    <tr>\n",
       "      <th>...</th>\n",
       "      <th>...</th>\n",
       "      <td>...</td>\n",
       "      <td>...</td>\n",
       "      <td>...</td>\n",
       "      <td>...</td>\n",
       "      <td>...</td>\n",
       "      <td>...</td>\n",
       "      <td>...</td>\n",
       "      <td>...</td>\n",
       "      <td>...</td>\n",
       "      <td>...</td>\n",
       "      <td>...</td>\n",
       "      <td>...</td>\n",
       "      <td>...</td>\n",
       "      <td>...</td>\n",
       "      <td>...</td>\n",
       "      <td>...</td>\n",
       "      <td>...</td>\n",
       "      <td>...</td>\n",
       "      <td>...</td>\n",
       "      <td>...</td>\n",
       "      <td>...</td>\n",
       "    </tr>\n",
       "    <tr>\n",
       "      <th>80462</th>\n",
       "      <th>Врбас</th>\n",
       "      <td>1206</td>\n",
       "      <td>12</td>\n",
       "      <td>0</td>\n",
       "      <td>185</td>\n",
       "      <td>0</td>\n",
       "      <td>5</td>\n",
       "      <td>138</td>\n",
       "      <td>221</td>\n",
       "      <td>188</td>\n",
       "      <td>131</td>\n",
       "      <td>...</td>\n",
       "      <td>4534537.72750178</td>\n",
       "      <td>ПРЕДРАГ РОЈЕВИЋ</td>\n",
       "      <td>104</td>\n",
       "      <td>376</td>\n",
       "      <td>52544</td>\n",
       "      <td>50305</td>\n",
       "      <td>I група</td>\n",
       "      <td>0.462009050383169</td>\n",
       "      <td>232</td>\n",
       "      <td>84</td>\n",
       "    </tr>\n",
       "    <tr>\n",
       "      <th>80489</th>\n",
       "      <th>Чока</th>\n",
       "      <td>167</td>\n",
       "      <td>0</td>\n",
       "      <td>0</td>\n",
       "      <td>28</td>\n",
       "      <td>0</td>\n",
       "      <td>0</td>\n",
       "      <td>16</td>\n",
       "      <td>45</td>\n",
       "      <td>12</td>\n",
       "      <td>16</td>\n",
       "      <td>...</td>\n",
       "      <td>629137.305081099</td>\n",
       "      <td>СТАНА ЂЕМБЕР</td>\n",
       "      <td>32</td>\n",
       "      <td>321</td>\n",
       "      <td>49356</td>\n",
       "      <td>48447</td>\n",
       "      <td>III група</td>\n",
       "      <td>0.380526017239722</td>\n",
       "      <td>186</td>\n",
       "      <td>29</td>\n",
       "    </tr>\n",
       "    <tr>\n",
       "      <th>80497</th>\n",
       "      <th>Шид</th>\n",
       "      <td>795</td>\n",
       "      <td>18</td>\n",
       "      <td>0</td>\n",
       "      <td>117</td>\n",
       "      <td>0</td>\n",
       "      <td>3</td>\n",
       "      <td>55</td>\n",
       "      <td>199</td>\n",
       "      <td>92</td>\n",
       "      <td>87</td>\n",
       "      <td>...</td>\n",
       "      <td>5150027.81529499</td>\n",
       "      <td>ЗОРАН СЕМЕНОВИЋ</td>\n",
       "      <td>45</td>\n",
       "      <td>687</td>\n",
       "      <td>49784</td>\n",
       "      <td>48868</td>\n",
       "      <td>III група</td>\n",
       "      <td>0.451184243662082</td>\n",
       "      <td>209</td>\n",
       "      <td>67</td>\n",
       "    </tr>\n",
       "    <tr>\n",
       "      <th>80519</th>\n",
       "      <th>Петроварадин</th>\n",
       "      <td>NaN</td>\n",
       "      <td>NaN</td>\n",
       "      <td>NaN</td>\n",
       "      <td>NaN</td>\n",
       "      <td>NaN</td>\n",
       "      <td>NaN</td>\n",
       "      <td>NaN</td>\n",
       "      <td>NaN</td>\n",
       "      <td>NaN</td>\n",
       "      <td>NaN</td>\n",
       "      <td>...</td>\n",
       "      <td>8228530.02773421</td>\n",
       "      <td></td>\n",
       "      <td>NaN</td>\n",
       "      <td>89</td>\n",
       "      <td>48700</td>\n",
       "      <td>48202</td>\n",
       "      <td>I група</td>\n",
       "      <td>NaN</td>\n",
       "      <td>NaN</td>\n",
       "      <td>NaN</td>\n",
       "    </tr>\n",
       "    <tr>\n",
       "      <th>89010</th>\n",
       "      <th>Град Нови Сад</th>\n",
       "      <td>19805</td>\n",
       "      <td>89</td>\n",
       "      <td>0</td>\n",
       "      <td>2214</td>\n",
       "      <td>3</td>\n",
       "      <td>26</td>\n",
       "      <td>1676</td>\n",
       "      <td>2719</td>\n",
       "      <td>1994</td>\n",
       "      <td>1640</td>\n",
       "      <td>...</td>\n",
       "      <td>163079592.279077</td>\n",
       "      <td>МИЛОШ ВУЧЕВИЋ</td>\n",
       "      <td>516</td>\n",
       "      <td>699</td>\n",
       "      <td>69238</td>\n",
       "      <td>67104</td>\n",
       "      <td>I група</td>\n",
       "      <td>0.633145156491082</td>\n",
       "      <td>NaN</td>\n",
       "      <td>NaN</td>\n",
       "    </tr>\n",
       "  </tbody>\n",
       "</table>\n",
       "<p>175 rows × 76 columns</p>\n",
       "</div>"
      ],
      "text/plain": [
       "Indikator           Број активних предузетника  \\\n",
       "idter nter                                       \n",
       "70017 Александровац                       1021   \n",
       "70025 Алексинац                           1320   \n",
       "70033 Аранђеловац                         1828   \n",
       "70041 Ариље                                898   \n",
       "70050 Бабушница                            287   \n",
       "...                                        ...   \n",
       "80462 Врбас                               1206   \n",
       "80489 Чока                                 167   \n",
       "80497 Шид                                  795   \n",
       "80519 Петроварадин                         NaN   \n",
       "89010 Град Нови Сад                      19805   \n",
       "\n",
       "Indikator           Број активних предузетника по NACE Rev.2  (сектор A)  \\\n",
       "idter nter                                                                 \n",
       "70017 Александровац                                                 22     \n",
       "70025 Алексинац                                                     22     \n",
       "70033 Аранђеловац                                                   12     \n",
       "70041 Ариље                                                          7     \n",
       "70050 Бабушница                                                      5     \n",
       "...                                                                ...     \n",
       "80462 Врбас                                                         12     \n",
       "80489 Чока                                                           0     \n",
       "80497 Шид                                                           18     \n",
       "80519 Петроварадин                                                 NaN     \n",
       "89010 Град Нови Сад                                                 89     \n",
       "\n",
       "Indikator           Број активних предузетника по NACE Rev.2  (сектор B)  \\\n",
       "idter nter                                                                 \n",
       "70017 Александровац                                                  1     \n",
       "70025 Алексинац                                                      4     \n",
       "70033 Аранђеловац                                                    1     \n",
       "70041 Ариље                                                          0     \n",
       "70050 Бабушница                                                      0     \n",
       "...                                                                ...     \n",
       "80462 Врбас                                                          0     \n",
       "80489 Чока                                                           0     \n",
       "80497 Шид                                                            0     \n",
       "80519 Петроварадин                                                 NaN     \n",
       "89010 Град Нови Сад                                                  0     \n",
       "\n",
       "Indikator           Број активних предузетника по NACE Rev.2  (сектор C)  \\\n",
       "idter nter                                                                 \n",
       "70017 Александровац                                                325     \n",
       "70025 Алексинац                                                    232     \n",
       "70033 Аранђеловац                                                  336     \n",
       "70041 Ариље                                                        315     \n",
       "70050 Бабушница                                                     46     \n",
       "...                                                                ...     \n",
       "80462 Врбас                                                        185     \n",
       "80489 Чока                                                          28     \n",
       "80497 Шид                                                          117     \n",
       "80519 Петроварадин                                                 NaN     \n",
       "89010 Град Нови Сад                                               2214     \n",
       "\n",
       "Indikator           Број активних предузетника по NACE Rev.2  (сектор D)  \\\n",
       "idter nter                                                                 \n",
       "70017 Александровац                                                  0     \n",
       "70025 Алексинац                                                      1     \n",
       "70033 Аранђеловац                                                    1     \n",
       "70041 Ариље                                                          0     \n",
       "70050 Бабушница                                                      0     \n",
       "...                                                                ...     \n",
       "80462 Врбас                                                          0     \n",
       "80489 Чока                                                           0     \n",
       "80497 Шид                                                            0     \n",
       "80519 Петроварадин                                                 NaN     \n",
       "89010 Град Нови Сад                                                  3     \n",
       "\n",
       "Indikator           Број активних предузетника по NACE Rev.2  (сектор E)  \\\n",
       "idter nter                                                                 \n",
       "70017 Александровац                                                  0     \n",
       "70025 Алексинац                                                      8     \n",
       "70033 Аранђеловац                                                    4     \n",
       "70041 Ариље                                                          3     \n",
       "70050 Бабушница                                                      0     \n",
       "...                                                                ...     \n",
       "80462 Врбас                                                          5     \n",
       "80489 Чока                                                           0     \n",
       "80497 Шид                                                            3     \n",
       "80519 Петроварадин                                                 NaN     \n",
       "89010 Град Нови Сад                                                 26     \n",
       "\n",
       "Indikator           Број активних предузетника по NACE Rev.2  (сектор F)  \\\n",
       "idter nter                                                                 \n",
       "70017 Александровац                                                118     \n",
       "70025 Алексинац                                                    126     \n",
       "70033 Аранђеловац                                                  240     \n",
       "70041 Ариље                                                         71     \n",
       "70050 Бабушница                                                     50     \n",
       "...                                                                ...     \n",
       "80462 Врбас                                                        138     \n",
       "80489 Чока                                                          16     \n",
       "80497 Шид                                                           55     \n",
       "80519 Петроварадин                                                 NaN     \n",
       "89010 Град Нови Сад                                               1676     \n",
       "\n",
       "Indikator           Број активних предузетника по NACE Rev.2  (сектор G)  \\\n",
       "idter nter                                                                 \n",
       "70017 Александровац                                                225     \n",
       "70025 Алексинац                                                    354     \n",
       "70033 Аранђеловац                                                  361     \n",
       "70041 Ариље                                                        150     \n",
       "70050 Бабушница                                                     78     \n",
       "...                                                                ...     \n",
       "80462 Врбас                                                        221     \n",
       "80489 Чока                                                          45     \n",
       "80497 Шид                                                          199     \n",
       "80519 Петроварадин                                                 NaN     \n",
       "89010 Град Нови Сад                                               2719     \n",
       "\n",
       "Indikator           Број активних предузетника по NACE Rev.2  (сектор H)  \\\n",
       "idter nter                                                                 \n",
       "70017 Александровац                                                 45     \n",
       "70025 Алексинац                                                    156     \n",
       "70033 Аранђеловац                                                  165     \n",
       "70041 Ариље                                                         79     \n",
       "70050 Бабушница                                                     25     \n",
       "...                                                                ...     \n",
       "80462 Врбас                                                        188     \n",
       "80489 Чока                                                          12     \n",
       "80497 Шид                                                           92     \n",
       "80519 Петроварадин                                                 NaN     \n",
       "89010 Град Нови Сад                                               1994     \n",
       "\n",
       "Indikator           Број активних предузетника по NACE Rev.2  (сектор I)  ...  \\\n",
       "idter nter                                                                ...   \n",
       "70017 Александровац                                                 79    ...   \n",
       "70025 Алексинац                                                    102    ...   \n",
       "70033 Аранђеловац                                                  181    ...   \n",
       "70041 Ариље                                                         85    ...   \n",
       "70050 Бабушница                                                     24    ...   \n",
       "...                                                                ...    ...   \n",
       "80462 Врбас                                                        131    ...   \n",
       "80489 Чока                                                          16    ...   \n",
       "80497 Шид                                                           87    ...   \n",
       "80519 Петроварадин                                                 NaN    ...   \n",
       "89010 Град Нови Сад                                               1640    ...   \n",
       "\n",
       "Indikator           Вредност извоза у УСД Градоначелник/председник општине  \\\n",
       "idter nter                                                                   \n",
       "70017 Александровац      1893655.65059975                 МИРКО МИХАЈЛОВИЋ   \n",
       "70025 Алексинац          9850106.09590895                ДАЛИБОР РАДИЧЕВИЋ   \n",
       "70033 Аранђеловац        9682257.53441178                    БОЈАН РАДОВИЋ   \n",
       "70041 Ариље               6754621.8552789                   ПРЕДРАГ МАСЛАР   \n",
       "70050 Бабушница          915210.700355534                   ИВАНА СТОЈИЧИЋ   \n",
       "...                                   ...                              ...   \n",
       "80462 Врбас              4534537.72750178                  ПРЕДРАГ РОЈЕВИЋ   \n",
       "80489 Чока               629137.305081099                     СТАНА ЂЕМБЕР   \n",
       "80497 Шид                5150027.81529499                  ЗОРАН СЕМЕНОВИЋ   \n",
       "80519 Петроварадин       8228530.02773421                                    \n",
       "89010 Град Нови Сад      163079592.279077                    МИЛОШ ВУЧЕВИЋ   \n",
       "\n",
       "Indikator           Густина насељености (број становника / км2)  \\\n",
       "idter nter                                                        \n",
       "70017 Александровац                                          62   \n",
       "70025 Алексинац                                              67   \n",
       "70033 Аранђеловац                                           115   \n",
       "70041 Ариље                                                  51   \n",
       "70050 Бабушница                                              19   \n",
       "...                                                         ...   \n",
       "80462 Врбас                                                 104   \n",
       "80489 Чока                                                   32   \n",
       "80497 Шид                                                    45   \n",
       "80519 Петроварадин                                          NaN   \n",
       "89010 Град Нови Сад                                         516   \n",
       "\n",
       "Indikator           Површина (у км²)  \\\n",
       "idter nter                             \n",
       "70017 Александровац              387   \n",
       "70025 Алексинац                  707   \n",
       "70033 Аранђеловац                376   \n",
       "70041 Ариље                      349   \n",
       "70050 Бабушница                  529   \n",
       "...                              ...   \n",
       "80462 Врбас                      376   \n",
       "80489 Чока                       321   \n",
       "80497 Шид                        687   \n",
       "80519 Петроварадин                89   \n",
       "89010 Град Нови Сад              699   \n",
       "\n",
       "Indikator           Просечна нето зарада за месец, према општини пребивалишта запослених  \\\n",
       "idter nter                                                                                 \n",
       "70017 Александровац                                              44615                     \n",
       "70025 Алексинац                                                  49394                     \n",
       "70033 Аранђеловац                                                53319                     \n",
       "70041 Ариље                                                      44510                     \n",
       "70050 Бабушница                                                  47249                     \n",
       "...                                                                ...                     \n",
       "80462 Врбас                                                      52544                     \n",
       "80489 Чока                                                       49356                     \n",
       "80497 Шид                                                        49784                     \n",
       "80519 Петроварадин                                               48700                     \n",
       "89010 Град Нови Сад                                              69238                     \n",
       "\n",
       "Indikator           Просечна нето зарада за период јануар-текући месец, према општини пребивалишта запослених  \\\n",
       "idter nter                                                                                                      \n",
       "70017 Александровац                                              45383                                          \n",
       "70025 Алексинац                                                  47896                                          \n",
       "70033 Аранђеловац                                                52354                                          \n",
       "70041 Ариље                                                      43791                                          \n",
       "70050 Бабушница                                                  46951                                          \n",
       "...                                                                ...                                          \n",
       "80462 Врбас                                                      50305                                          \n",
       "80489 Чока                                                       48447                                          \n",
       "80497 Шид                                                        48868                                          \n",
       "80519 Петроварадин                                               48202                                          \n",
       "89010 Град Нови Сад                                              67104                                          \n",
       "\n",
       "Indikator           Степен развијености ЈЛС према Закону о регионалном развоју  \\\n",
       "idter nter                                                                       \n",
       "70017 Александровац                                           II група           \n",
       "70025 Алексинац                                               IV група           \n",
       "70033 Аранђеловац                                             II група           \n",
       "70041 Ариље                                                   II група           \n",
       "70050 Бабушница                        IV група - девастирано подручје           \n",
       "...                                                                ...           \n",
       "80462 Врбас                                                    I група           \n",
       "80489 Чока                                                   III група           \n",
       "80497 Шид                                                    III група           \n",
       "80519 Петроварадин                                             I група           \n",
       "89010 Град Нови Сад                                            I група           \n",
       "\n",
       "Indikator           Степен развијености е-управе  \\\n",
       "idter nter                                         \n",
       "70017 Александровац            0.309491409041355   \n",
       "70025 Алексинац                0.313142788382875   \n",
       "70033 Аранђеловац              0.424362734010375   \n",
       "70041 Ариље                    0.355725723285914   \n",
       "70050 Бабушница                 0.24716560533865   \n",
       "...                                          ...   \n",
       "80462 Врбас                    0.462009050383169   \n",
       "80489 Чока                     0.380526017239722   \n",
       "80497 Шид                      0.451184243662082   \n",
       "80519 Петроварадин                           NaN   \n",
       "89010 Град Нови Сад            0.633145156491082   \n",
       "\n",
       "Indikator           Укупна дужина водоводне мреже  \\\n",
       "idter nter                                          \n",
       "70017 Александровац                           199   \n",
       "70025 Алексинац                               205   \n",
       "70033 Аранђеловац                             464   \n",
       "70041 Ариље                                   459   \n",
       "70050 Бабушница                               112   \n",
       "...                                           ...   \n",
       "80462 Врбас                                   232   \n",
       "80489 Чока                                    186   \n",
       "80497 Шид                                     209   \n",
       "80519 Петроварадин                            NaN   \n",
       "89010 Град Нови Сад                           NaN   \n",
       "\n",
       "Indikator           Укупна дужина канализационе мреже  \n",
       "idter nter                                             \n",
       "70017 Александровац                                51  \n",
       "70025 Алексинац                                    43  \n",
       "70033 Аранђеловац                                 182  \n",
       "70041 Ариље                                        68  \n",
       "70050 Бабушница                                    30  \n",
       "...                                               ...  \n",
       "80462 Врбас                                        84  \n",
       "80489 Чока                                         29  \n",
       "80497 Шид                                          67  \n",
       "80519 Петроварадин                                NaN  \n",
       "89010 Град Нови Сад                               NaN  \n",
       "\n",
       "[175 rows x 76 columns]"
      ]
     },
     "execution_count": 26,
     "metadata": {},
     "output_type": "execute_result"
    }
   ],
   "source": [
    "pivopps"
   ]
  },
  {
   "cell_type": "markdown",
   "id": "08520d3e",
   "metadata": {},
   "source": [
    "Primetite kako u tabeli nema onih kolona __IDIndikator__, __mes__, __god__ itd. Kada smo \"razapinjali\" pivot-tabelu rekli smo šta hoćemo po redovima, a šta po kolonama. Te zaboravljene kolone nismo pominjali. Nisu nam sad ni potrebne."
   ]
  },
  {
   "cell_type": "code",
   "execution_count": 27,
   "id": "7f5a7738",
   "metadata": {
    "scrolled": true
   },
   "outputs": [
    {
     "data": {
      "text/plain": [
       "Index(['Број активних предузетника',\n",
       "       'Број активних предузетника по NACE Rev.2  (сектор A)',\n",
       "       'Број активних предузетника по NACE Rev.2  (сектор B)',\n",
       "       'Број активних предузетника по NACE Rev.2  (сектор C)',\n",
       "       'Број активних предузетника по NACE Rev.2  (сектор D)',\n",
       "       'Број активних предузетника по NACE Rev.2  (сектор E)',\n",
       "       'Број активних предузетника по NACE Rev.2  (сектор F)',\n",
       "       'Број активних предузетника по NACE Rev.2  (сектор G)',\n",
       "       'Број активних предузетника по NACE Rev.2  (сектор H)',\n",
       "       'Број активних предузетника по NACE Rev.2  (сектор I)',\n",
       "       'Број активних предузетника по NACE Rev.2  (сектор J)',\n",
       "       'Број активних предузетника по NACE Rev.2  (сектор K)',\n",
       "       'Број активних предузетника по NACE Rev.2  (сектор L)',\n",
       "       'Број активних предузетника по NACE Rev.2  (сектор M)',\n",
       "       'Број активних предузетника по NACE Rev.2  (сектор N)',\n",
       "       'Број активних предузетника по NACE Rev.2  (сектор O)',\n",
       "       'Број активних предузетника по NACE Rev.2  (сектор P)',\n",
       "       'Број активних предузетника по NACE Rev.2  (сектор Q)',\n",
       "       'Број активних предузетника по NACE Rev.2  (сектор R)',\n",
       "       'Број активних предузетника по NACE Rev.2  (сектор S)',\n",
       "       'Број активних предузетника по NACE Rev.2  (сектор T)',\n",
       "       'Број активних предузетника по NACE Rev.2  (сектор U)',\n",
       "       'Број активних предузетника у ликвидацији',\n",
       "       'Број активних предузетника у стечају',\n",
       "       'Број активних привредних друштава',\n",
       "       'Број активних привредних друштава по NACE Rev.2  (сектор A)',\n",
       "       'Број активних привредних друштава по NACE Rev.2  (сектор B)',\n",
       "       'Број активних привредних друштава по NACE Rev.2  (сектор C)',\n",
       "       'Број активних привредних друштава по NACE Rev.2  (сектор D)',\n",
       "       'Број активних привредних друштава по NACE Rev.2  (сектор E)',\n",
       "       'Број активних привредних друштава по NACE Rev.2  (сектор F)',\n",
       "       'Број активних привредних друштава по NACE Rev.2  (сектор G)',\n",
       "       'Број активних привредних друштава по NACE Rev.2  (сектор H)',\n",
       "       'Број активних привредних друштава по NACE Rev.2  (сектор I)',\n",
       "       'Број активних привредних друштава по NACE Rev.2  (сектор J)',\n",
       "       'Број активних привредних друштава по NACE Rev.2  (сектор K)',\n",
       "       'Број активних привредних друштава по NACE Rev.2  (сектор L)',\n",
       "       'Број активних привредних друштава по NACE Rev.2  (сектор M)',\n",
       "       'Број активних привредних друштава по NACE Rev.2  (сектор N)',\n",
       "       'Број активних привредних друштава по NACE Rev.2  (сектор O)',\n",
       "       'Број активних привредних друштава по NACE Rev.2  (сектор P)',\n",
       "       'Број активних привредних друштава по NACE Rev.2  (сектор Q)',\n",
       "       'Број активних привредних друштава по NACE Rev.2  (сектор R)',\n",
       "       'Број активних привредних друштава по NACE Rev.2  (сектор S)',\n",
       "       'Број активних привредних друштава по NACE Rev.2  (сектор T)',\n",
       "       'Број активних привредних друштава по NACE Rev.2  (сектор U)',\n",
       "       'Број активних привредних друштава у ликвидацији',\n",
       "       'Број активних привредних друштава у стечају',\n",
       "       'Број без ознаке за величину', 'Број брисаних предузетника',\n",
       "       'Број брисаних привредних друштава ', 'Број великих предузећа ',\n",
       "       'Број домаћинстава према Попису 2011', 'Број живорођених',\n",
       "       'Број извозника ', 'Број малих предузећа ', 'Број микро предузећа',\n",
       "       'Број насеља', 'Број основаних предузетника',\n",
       "       'Број основаних привредних друштава ',\n",
       "       'Број регистрованих незапослених ', 'Број средњих предузећа ',\n",
       "       'Број становника - процена (последњи расположив податак за годину)',\n",
       "       'Број становника према Попису 2011', 'Вредност извоза у ЕУР',\n",
       "       'Вредност извоза у РСД', 'Вредност извоза у УСД',\n",
       "       'Градоначелник/председник општине',\n",
       "       'Густина насељености (број становника / км2)', 'Површина (у км²)',\n",
       "       'Просечна нето зарада за месец, према општини пребивалишта запослених',\n",
       "       'Просечна нето зарада за период јануар-текући месец, према општини пребивалишта запослених',\n",
       "       'Степен развијености ЈЛС према Закону о регионалном развоју',\n",
       "       'Степен развијености е-управе', 'Укупна дужина водоводне мреже',\n",
       "       'Укупна дужина канализационе мреже'],\n",
       "      dtype='object', name='Indikator')"
      ]
     },
     "execution_count": 27,
     "metadata": {},
     "output_type": "execute_result"
    }
   ],
   "source": [
    "pivopps.columns"
   ]
  },
  {
   "cell_type": "markdown",
   "id": "21866b77",
   "metadata": {},
   "source": [
    "Sada možemo da promenimo tip promenljivih u tabeli. Jedan od načina da to uradimo je da navedemo tačno kojim kolonama hoćemo da promenimo tip podataka i da navedemo koji to tip treba da bude. Ovde ćemo izabrati tri kolone koje ćemo ubuduće tretirati kao numeričke."
   ]
  },
  {
   "cell_type": "code",
   "execution_count": 28,
   "id": "94820125",
   "metadata": {},
   "outputs": [],
   "source": [
    "pivopps=pivopps.astype({'Број регистрованих незапослених ': 'float',\n",
    "                        'Број становника - процена (последњи расположив податак за годину)': 'float',\n",
    "                        'Просечна нето зарада за месец, према општини пребивалишта запослених': 'float'})"
   ]
  },
  {
   "cell_type": "markdown",
   "id": "20d084ab",
   "metadata": {},
   "source": [
    "Pivot-tabela nam daje višedimenzionalni skup podataka gde analiza može da bude proizvoljno složena. Mi se nećemo upuštati u analizu već ćemo samo dati primere dva tipa grafičkog prikaza ovih podataka. U jednom primeru ćemo videti kako izgleda zavisnost numeričke vrednosti od kategorijalne, a u drugom numeričke od numeričke."
   ]
  },
  {
   "cell_type": "code",
   "execution_count": 29,
   "id": "4b6f9962",
   "metadata": {},
   "outputs": [],
   "source": [
    "df=pivopps[['Степен развијености ЈЛС према Закону о регионалном развоју',\n",
    "         'Просечна нето зарада за месец, према општини пребивалишта запослених']]"
   ]
  },
  {
   "cell_type": "markdown",
   "id": "d48bd9d0",
   "metadata": {},
   "source": [
    "Koristeći biblioteku __seaborn__ i funkciju `displot()` probaćemo da prikažemo malo složeniji, semitransparentni histogram gde svaka boja označava jedan od pet stepeni razvijenosti jedinice lokalne samouprave. Ovde nećemo ulaziti u detalje funkcije i njene argumente."
   ]
  },
  {
   "cell_type": "code",
   "execution_count": 30,
   "id": "a29535ce",
   "metadata": {},
   "outputs": [
    {
     "data": {
      "text/plain": [
       "<seaborn.axisgrid.FacetGrid at 0x121ddee20>"
      ]
     },
     "execution_count": 30,
     "metadata": {},
     "output_type": "execute_result"
    },
    {
     "data": {
      "image/png": "[encoded data removed]",
      "text/plain": [
       "<Figure size 985.5x360 with 1 Axes>"
      ]
     },
     "metadata": {
      "filenames": {
       "image/png": "/Users/srdanverbic/OneDrive - fefa.edu.rs/praktikum/_build/jupyter_execute/4 Priprema i deskriptivna analiza numeričkih podataka_65_1.png"
      },
      "needs_background": "light"
     },
     "output_type": "display_data"
    }
   ],
   "source": [
    "sns.displot(\n",
    "  data=df,\n",
    "  x=\"Просечна нето зарада за месец, према општини пребивалишта запослених\",\n",
    "  hue=\"Степен развијености ЈЛС према Закону о регионалном развоју\",\n",
    "  kind=\"hist\",\n",
    "  aspect=1.8,\n",
    "  bins=15\n",
    ")"
   ]
  },
  {
   "cell_type": "markdown",
   "id": "3400d585",
   "metadata": {},
   "source": [
    "Ono što vidimo sa histograma je da su opštine sa najvećim prihodom upravo one najrazvijenije, a da u donjem delu rang-liste ima najviše opština iz treće grupe. Takođe, vidimo i da redosled grupa u legendi nije baš smislen. Probajte to da sredite samostalno, npr. koristeći parametar `hue_order`."
   ]
  },
  {
   "cell_type": "markdown",
   "id": "7c20f6b1",
   "metadata": {},
   "source": [
    "Koristeći istu funkciju, umesto pet histograma koji se preklapaju možemo da nacrtamo pet histograma jedan pored drugog. To će možda biti preglednije."
   ]
  },
  {
   "cell_type": "code",
   "execution_count": 31,
   "id": "89d000d3",
   "metadata": {},
   "outputs": [
    {
     "data": {
      "image/png": "[encoded data removed]",
      "text/plain": [
       "<Figure size 2520x360 with 5 Axes>"
      ]
     },
     "metadata": {
      "filenames": {
       "image/png": "/Users/srdanverbic/OneDrive - fefa.edu.rs/praktikum/_build/jupyter_execute/4 Priprema i deskriptivna analiza numeričkih podataka_68_0.png"
      },
      "needs_background": "light"
     },
     "output_type": "display_data"
    }
   ],
   "source": [
    "sns.displot(\n",
    "  data=df,\n",
    "  x=\"Просечна нето зарада за месец, према општини пребивалишта запослених\",\n",
    "  col=\"Степен развијености ЈЛС према Закону о регионалном развоју\",\n",
    "  kind=\"hist\",\n",
    "  aspect=1.4,\n",
    "  bins=20\n",
    ");"
   ]
  },
  {
   "cell_type": "markdown",
   "id": "330aaa30",
   "metadata": {},
   "source": [
    "Nema sumnje da su slova na ovom grafikonu previše mala, ali to nije naročit problem. Ovi grafikoni su slika na html strani. Možemo tu sliku da otvorimo u novom tabu brauzera (desni klik na sliku pa _Open Image in New Tab_) da bismo je posle uvećali i pažljivo proučili. Dalje sređivanje i analizu ovih slika prepuštamo vama. "
   ]
  },
  {
   "cell_type": "markdown",
   "id": "29fa0d6f",
   "metadata": {},
   "source": [
    "Drugi način prikaza koji smo ovde hteli da demonstriramo je običan _scatter plot_. Primera radi, prikazaćemo pomoću funkcije `replot()` u kakvoj su vezi prosečna zarada i procenat nezaposlenih u opštini. Podatak o procentu nezaposlenih nemamo. Moraćemo prvo da ga izračunamo."
   ]
  },
  {
   "cell_type": "code",
   "execution_count": 32,
   "id": "a5712dc4",
   "metadata": {},
   "outputs": [],
   "source": [
    "pivopps['Проценат незапослених']=pivopps['Број регистрованих незапослених ']/pivopps['Број становника - процена (последњи расположив податак за годину)']"
   ]
  },
  {
   "cell_type": "code",
   "execution_count": 33,
   "id": "5b18e356",
   "metadata": {},
   "outputs": [
    {
     "data": {
      "image/png": "[encoded data removed]",
      "text/plain": [
       "<Figure size 697.5x360 with 1 Axes>"
      ]
     },
     "metadata": {
      "filenames": {
       "image/png": "/Users/srdanverbic/OneDrive - fefa.edu.rs/praktikum/_build/jupyter_execute/4 Priprema i deskriptivna analiza numeričkih podataka_72_0.png"
      },
      "needs_background": "light"
     },
     "output_type": "display_data"
    }
   ],
   "source": [
    "sns.relplot(x=\"Просечна нето зарада за месец, према општини пребивалишта запослених\", \n",
    "            y=\"Проценат незапослених\", \n",
    "            hue=\"Степен развијености ЈЛС према Закону о регионалном развоју\",\n",
    "            data=pivopps);"
   ]
  },
  {
   "cell_type": "markdown",
   "id": "0327b0b5",
   "metadata": {},
   "source": [
    "Ovaj grafikon izgleda prilično ubedljivo. Jasno vidimo kakva je veza između zarada i broja nezaposlenih i kako ona izgleda po stepenu razvijenosti opština. Dalju analizu prepuštamo vama."
   ]
  }
 ],
 "metadata": {
  "kernelspec": {
   "display_name": "Python 3",
   "language": "python",
   "name": "python3"
  },
  "language_info": {
   "codemirror_mode": {
    "name": "ipython",
    "version": 3
   },
   "file_extension": ".py",
   "mimetype": "text/x-python",
   "name": "python",
   "nbconvert_exporter": "python",
   "pygments_lexer": "ipython3",
   "version": "3.9.7"
  }
 },
 "nbformat": 4,
 "nbformat_minor": 5
}